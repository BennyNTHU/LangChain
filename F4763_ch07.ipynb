{
  "nbformat": 4,
  "nbformat_minor": 0,
  "metadata": {
    "colab": {
      "provenance": []
    },
    "kernelspec": {
      "name": "python3",
      "display_name": "Python 3"
    },
    "language_info": {
      "name": "python"
    }
  },
  "cells": [
    {
      "cell_type": "markdown",
      "source": [
        "# 第 7 章 用 RAG 讓模型增加額外知識"
      ],
      "metadata": {
        "id": "iBmU7eRchZhd"
      }
    },
    {
      "cell_type": "code",
      "execution_count": null,
      "metadata": {
        "colab": {
          "base_uri": "https://localhost:8080/"
        },
        "id": "F3bvO3XEx738",
        "outputId": "004430ac-fed0-44b4-da34-5c0b6f277515"
      },
      "outputs": [
        {
          "output_type": "stream",
          "name": "stdout",
          "text": [
            "Collecting langchain\n",
            "  Downloading langchain-0.1.17-py3-none-any.whl (867 kB)\n",
            "\u001b[2K     \u001b[90m━━━━━━━━━━━━━━━━━━━━━━━━━━━━━━━━━━━━━━━━\u001b[0m \u001b[32m867.6/867.6 kB\u001b[0m \u001b[31m5.9 MB/s\u001b[0m eta \u001b[36m0:00:00\u001b[0m\n",
            "\u001b[?25hCollecting langchain_openai\n",
            "  Downloading langchain_openai-0.1.5-py3-none-any.whl (34 kB)\n",
            "Requirement already satisfied: rich in /usr/local/lib/python3.10/dist-packages (13.7.1)\n",
            "Requirement already satisfied: PyYAML>=5.3 in /usr/local/lib/python3.10/dist-packages (from langchain) (6.0.1)\n",
            "Requirement already satisfied: SQLAlchemy<3,>=1.4 in /usr/local/lib/python3.10/dist-packages (from langchain) (2.0.29)\n",
            "Requirement already satisfied: aiohttp<4.0.0,>=3.8.3 in /usr/local/lib/python3.10/dist-packages (from langchain) (3.9.5)\n",
            "Requirement already satisfied: async-timeout<5.0.0,>=4.0.0 in /usr/local/lib/python3.10/dist-packages (from langchain) (4.0.3)\n",
            "Collecting dataclasses-json<0.7,>=0.5.7 (from langchain)\n",
            "  Downloading dataclasses_json-0.6.5-py3-none-any.whl (28 kB)\n",
            "Collecting jsonpatch<2.0,>=1.33 (from langchain)\n",
            "  Downloading jsonpatch-1.33-py2.py3-none-any.whl (12 kB)\n",
            "Collecting langchain-community<0.1,>=0.0.36 (from langchain)\n",
            "  Downloading langchain_community-0.0.36-py3-none-any.whl (2.0 MB)\n",
            "\u001b[2K     \u001b[90m━━━━━━━━━━━━━━━━━━━━━━━━━━━━━━━━━━━━━━━━\u001b[0m \u001b[32m2.0/2.0 MB\u001b[0m \u001b[31m11.9 MB/s\u001b[0m eta \u001b[36m0:00:00\u001b[0m\n",
            "\u001b[?25hCollecting langchain-core<0.2.0,>=0.1.48 (from langchain)\n",
            "  Downloading langchain_core-0.1.48-py3-none-any.whl (302 kB)\n",
            "\u001b[2K     \u001b[90m━━━━━━━━━━━━━━━━━━━━━━━━━━━━━━━━━━━━━━━━\u001b[0m \u001b[32m302.9/302.9 kB\u001b[0m \u001b[31m16.4 MB/s\u001b[0m eta \u001b[36m0:00:00\u001b[0m\n",
            "\u001b[?25hCollecting langchain-text-splitters<0.1,>=0.0.1 (from langchain)\n",
            "  Downloading langchain_text_splitters-0.0.1-py3-none-any.whl (21 kB)\n",
            "Collecting langsmith<0.2.0,>=0.1.17 (from langchain)\n",
            "  Downloading langsmith-0.1.52-py3-none-any.whl (116 kB)\n",
            "\u001b[2K     \u001b[90m━━━━━━━━━━━━━━━━━━━━━━━━━━━━━━━━━━━━━━━━\u001b[0m \u001b[32m116.4/116.4 kB\u001b[0m \u001b[31m9.1 MB/s\u001b[0m eta \u001b[36m0:00:00\u001b[0m\n",
            "\u001b[?25hRequirement already satisfied: numpy<2,>=1 in /usr/local/lib/python3.10/dist-packages (from langchain) (1.25.2)\n",
            "Requirement already satisfied: pydantic<3,>=1 in /usr/local/lib/python3.10/dist-packages (from langchain) (2.7.1)\n",
            "Requirement already satisfied: requests<3,>=2 in /usr/local/lib/python3.10/dist-packages (from langchain) (2.31.0)\n",
            "Requirement already satisfied: tenacity<9.0.0,>=8.1.0 in /usr/local/lib/python3.10/dist-packages (from langchain) (8.2.3)\n",
            "Collecting openai<2.0.0,>=1.10.0 (from langchain_openai)\n",
            "  Downloading openai-1.25.0-py3-none-any.whl (312 kB)\n",
            "\u001b[2K     \u001b[90m━━━━━━━━━━━━━━━━━━━━━━━━━━━━━━━━━━━━━━━━\u001b[0m \u001b[32m312.9/312.9 kB\u001b[0m \u001b[31m14.3 MB/s\u001b[0m eta \u001b[36m0:00:00\u001b[0m\n",
            "\u001b[?25hCollecting tiktoken<1,>=0.5.2 (from langchain_openai)\n",
            "  Downloading tiktoken-0.6.0-cp310-cp310-manylinux_2_17_x86_64.manylinux2014_x86_64.whl (1.8 MB)\n",
            "\u001b[2K     \u001b[90m━━━━━━━━━━━━━━━━━━━━━━━━━━━━━━━━━━━━━━━━\u001b[0m \u001b[32m1.8/1.8 MB\u001b[0m \u001b[31m18.5 MB/s\u001b[0m eta \u001b[36m0:00:00\u001b[0m\n",
            "\u001b[?25hRequirement already satisfied: markdown-it-py>=2.2.0 in /usr/local/lib/python3.10/dist-packages (from rich) (3.0.0)\n",
            "Requirement already satisfied: pygments<3.0.0,>=2.13.0 in /usr/local/lib/python3.10/dist-packages (from rich) (2.16.1)\n",
            "Requirement already satisfied: aiosignal>=1.1.2 in /usr/local/lib/python3.10/dist-packages (from aiohttp<4.0.0,>=3.8.3->langchain) (1.3.1)\n",
            "Requirement already satisfied: attrs>=17.3.0 in /usr/local/lib/python3.10/dist-packages (from aiohttp<4.0.0,>=3.8.3->langchain) (23.2.0)\n",
            "Requirement already satisfied: frozenlist>=1.1.1 in /usr/local/lib/python3.10/dist-packages (from aiohttp<4.0.0,>=3.8.3->langchain) (1.4.1)\n",
            "Requirement already satisfied: multidict<7.0,>=4.5 in /usr/local/lib/python3.10/dist-packages (from aiohttp<4.0.0,>=3.8.3->langchain) (6.0.5)\n",
            "Requirement already satisfied: yarl<2.0,>=1.0 in /usr/local/lib/python3.10/dist-packages (from aiohttp<4.0.0,>=3.8.3->langchain) (1.9.4)\n",
            "Collecting marshmallow<4.0.0,>=3.18.0 (from dataclasses-json<0.7,>=0.5.7->langchain)\n",
            "  Downloading marshmallow-3.21.2-py3-none-any.whl (49 kB)\n",
            "\u001b[2K     \u001b[90m━━━━━━━━━━━━━━━━━━━━━━━━━━━━━━━━━━━━━━━━\u001b[0m \u001b[32m49.3/49.3 kB\u001b[0m \u001b[31m3.2 MB/s\u001b[0m eta \u001b[36m0:00:00\u001b[0m\n",
            "\u001b[?25hCollecting typing-inspect<1,>=0.4.0 (from dataclasses-json<0.7,>=0.5.7->langchain)\n",
            "  Downloading typing_inspect-0.9.0-py3-none-any.whl (8.8 kB)\n",
            "Collecting jsonpointer>=1.9 (from jsonpatch<2.0,>=1.33->langchain)\n",
            "  Downloading jsonpointer-2.4-py2.py3-none-any.whl (7.8 kB)\n",
            "Collecting packaging<24.0,>=23.2 (from langchain-core<0.2.0,>=0.1.48->langchain)\n",
            "  Downloading packaging-23.2-py3-none-any.whl (53 kB)\n",
            "\u001b[2K     \u001b[90m━━━━━━━━━━━━━━━━━━━━━━━━━━━━━━━━━━━━━━━━\u001b[0m \u001b[32m53.0/53.0 kB\u001b[0m \u001b[31m4.4 MB/s\u001b[0m eta \u001b[36m0:00:00\u001b[0m\n",
            "\u001b[?25hCollecting orjson<4.0.0,>=3.9.14 (from langsmith<0.2.0,>=0.1.17->langchain)\n",
            "  Downloading orjson-3.10.2-cp310-cp310-manylinux_2_17_x86_64.manylinux2014_x86_64.whl (142 kB)\n",
            "\u001b[2K     \u001b[90m━━━━━━━━━━━━━━━━━━━━━━━━━━━━━━━━━━━━━━━━\u001b[0m \u001b[32m142.7/142.7 kB\u001b[0m \u001b[31m2.4 MB/s\u001b[0m eta \u001b[36m0:00:00\u001b[0m\n",
            "\u001b[?25hRequirement already satisfied: mdurl~=0.1 in /usr/local/lib/python3.10/dist-packages (from markdown-it-py>=2.2.0->rich) (0.1.2)\n",
            "Requirement already satisfied: anyio<5,>=3.5.0 in /usr/local/lib/python3.10/dist-packages (from openai<2.0.0,>=1.10.0->langchain_openai) (3.7.1)\n",
            "Requirement already satisfied: distro<2,>=1.7.0 in /usr/lib/python3/dist-packages (from openai<2.0.0,>=1.10.0->langchain_openai) (1.7.0)\n",
            "Collecting httpx<1,>=0.23.0 (from openai<2.0.0,>=1.10.0->langchain_openai)\n",
            "  Downloading httpx-0.27.0-py3-none-any.whl (75 kB)\n",
            "\u001b[2K     \u001b[90m━━━━━━━━━━━━━━━━━━━━━━━━━━━━━━━━━━━━━━━━\u001b[0m \u001b[32m75.6/75.6 kB\u001b[0m \u001b[31m6.8 MB/s\u001b[0m eta \u001b[36m0:00:00\u001b[0m\n",
            "\u001b[?25hRequirement already satisfied: sniffio in /usr/local/lib/python3.10/dist-packages (from openai<2.0.0,>=1.10.0->langchain_openai) (1.3.1)\n",
            "Requirement already satisfied: tqdm>4 in /usr/local/lib/python3.10/dist-packages (from openai<2.0.0,>=1.10.0->langchain_openai) (4.66.2)\n",
            "Requirement already satisfied: typing-extensions<5,>=4.7 in /usr/local/lib/python3.10/dist-packages (from openai<2.0.0,>=1.10.0->langchain_openai) (4.11.0)\n",
            "Requirement already satisfied: annotated-types>=0.4.0 in /usr/local/lib/python3.10/dist-packages (from pydantic<3,>=1->langchain) (0.6.0)\n",
            "Requirement already satisfied: pydantic-core==2.18.2 in /usr/local/lib/python3.10/dist-packages (from pydantic<3,>=1->langchain) (2.18.2)\n",
            "Requirement already satisfied: charset-normalizer<4,>=2 in /usr/local/lib/python3.10/dist-packages (from requests<3,>=2->langchain) (3.3.2)\n",
            "Requirement already satisfied: idna<4,>=2.5 in /usr/local/lib/python3.10/dist-packages (from requests<3,>=2->langchain) (3.7)\n",
            "Requirement already satisfied: urllib3<3,>=1.21.1 in /usr/local/lib/python3.10/dist-packages (from requests<3,>=2->langchain) (2.0.7)\n",
            "Requirement already satisfied: certifi>=2017.4.17 in /usr/local/lib/python3.10/dist-packages (from requests<3,>=2->langchain) (2024.2.2)\n",
            "Requirement already satisfied: greenlet!=0.4.17 in /usr/local/lib/python3.10/dist-packages (from SQLAlchemy<3,>=1.4->langchain) (3.0.3)\n",
            "Requirement already satisfied: regex>=2022.1.18 in /usr/local/lib/python3.10/dist-packages (from tiktoken<1,>=0.5.2->langchain_openai) (2023.12.25)\n",
            "Requirement already satisfied: exceptiongroup in /usr/local/lib/python3.10/dist-packages (from anyio<5,>=3.5.0->openai<2.0.0,>=1.10.0->langchain_openai) (1.2.1)\n",
            "Collecting httpcore==1.* (from httpx<1,>=0.23.0->openai<2.0.0,>=1.10.0->langchain_openai)\n",
            "  Downloading httpcore-1.0.5-py3-none-any.whl (77 kB)\n",
            "\u001b[2K     \u001b[90m━━━━━━━━━━━━━━━━━━━━━━━━━━━━━━━━━━━━━━━━\u001b[0m \u001b[32m77.9/77.9 kB\u001b[0m \u001b[31m7.3 MB/s\u001b[0m eta \u001b[36m0:00:00\u001b[0m\n",
            "\u001b[?25hCollecting h11<0.15,>=0.13 (from httpcore==1.*->httpx<1,>=0.23.0->openai<2.0.0,>=1.10.0->langchain_openai)\n",
            "  Downloading h11-0.14.0-py3-none-any.whl (58 kB)\n",
            "\u001b[2K     \u001b[90m━━━━━━━━━━━━━━━━━━━━━━━━━━━━━━━━━━━━━━━━\u001b[0m \u001b[32m58.3/58.3 kB\u001b[0m \u001b[31m6.1 MB/s\u001b[0m eta \u001b[36m0:00:00\u001b[0m\n",
            "\u001b[?25hCollecting mypy-extensions>=0.3.0 (from typing-inspect<1,>=0.4.0->dataclasses-json<0.7,>=0.5.7->langchain)\n",
            "  Downloading mypy_extensions-1.0.0-py3-none-any.whl (4.7 kB)\n",
            "Installing collected packages: packaging, orjson, mypy-extensions, jsonpointer, h11, typing-inspect, tiktoken, marshmallow, jsonpatch, httpcore, langsmith, httpx, dataclasses-json, openai, langchain-core, langchain-text-splitters, langchain_openai, langchain-community, langchain\n",
            "  Attempting uninstall: packaging\n",
            "    Found existing installation: packaging 24.0\n",
            "    Uninstalling packaging-24.0:\n",
            "      Successfully uninstalled packaging-24.0\n",
            "Successfully installed dataclasses-json-0.6.5 h11-0.14.0 httpcore-1.0.5 httpx-0.27.0 jsonpatch-1.33 jsonpointer-2.4 langchain-0.1.17 langchain-community-0.0.36 langchain-core-0.1.48 langchain-text-splitters-0.0.1 langchain_openai-0.1.5 langsmith-0.1.52 marshmallow-3.21.2 mypy-extensions-1.0.0 openai-1.25.0 orjson-3.10.2 packaging-23.2 tiktoken-0.6.0 typing-inspect-0.9.0\n"
          ]
        }
      ],
      "source": [
        "!pip install langchain langchain_openai rich"
      ]
    },
    {
      "cell_type": "code",
      "source": [
        "# 匯入套件和金鑰\n",
        "from google.colab import userdata\n",
        "from rich import print as pprint\n",
        "import os\n",
        "os.environ['OPENAI_API_KEY'] = userdata.get('OPENAI_API_KEY')\n",
        "from langchain_openai import ChatOpenAI\n",
        "chat_model = ChatOpenAI()"
      ],
      "metadata": {
        "id": "vIDYqD-uyVQ0"
      },
      "execution_count": null,
      "outputs": []
    },
    {
      "cell_type": "markdown",
      "source": [
        "## 7-1 什麼是 RAG?"
      ],
      "metadata": {
        "id": "7dTi9s3W05DY"
      }
    },
    {
      "cell_type": "markdown",
      "source": [
        "### RAG 第一步：資料匯入"
      ],
      "metadata": {
        "id": "0HvxQPGphScx"
      }
    },
    {
      "cell_type": "code",
      "source": [
        "!pip install pypdf chromadb rapidocr-onnxruntime"
      ],
      "metadata": {
        "id": "1pF9saNdS7kQ",
        "colab": {
          "base_uri": "https://localhost:8080/"
        },
        "outputId": "87f97d04-5631-41ab-9e39-a8415453b164"
      },
      "execution_count": null,
      "outputs": [
        {
          "output_type": "stream",
          "name": "stdout",
          "text": [
            "Collecting pypdf\n",
            "  Downloading pypdf-4.2.0-py3-none-any.whl (290 kB)\n",
            "\u001b[2K     \u001b[90m━━━━━━━━━━━━━━━━━━━━━━━━━━━━━━━━━━━━━━━━\u001b[0m \u001b[32m290.4/290.4 kB\u001b[0m \u001b[31m4.8 MB/s\u001b[0m eta \u001b[36m0:00:00\u001b[0m\n",
            "\u001b[?25hCollecting chromadb\n",
            "  Downloading chromadb-0.5.0-py3-none-any.whl (526 kB)\n",
            "\u001b[2K     \u001b[90m━━━━━━━━━━━━━━━━━━━━━━━━━━━━━━━━━━━━━━━━\u001b[0m \u001b[32m526.8/526.8 kB\u001b[0m \u001b[31m10.2 MB/s\u001b[0m eta \u001b[36m0:00:00\u001b[0m\n",
            "\u001b[?25hCollecting rapidocr-onnxruntime\n",
            "  Downloading rapidocr_onnxruntime-1.3.17-py3-none-any.whl (14.9 MB)\n",
            "\u001b[2K     \u001b[90m━━━━━━━━━━━━━━━━━━━━━━━━━━━━━━━━━━━━━━━━\u001b[0m \u001b[32m14.9/14.9 MB\u001b[0m \u001b[31m31.0 MB/s\u001b[0m eta \u001b[36m0:00:00\u001b[0m\n",
            "\u001b[?25hRequirement already satisfied: typing_extensions>=4.0 in /usr/local/lib/python3.10/dist-packages (from pypdf) (4.11.0)\n",
            "Requirement already satisfied: build>=1.0.3 in /usr/local/lib/python3.10/dist-packages (from chromadb) (1.2.1)\n",
            "Requirement already satisfied: requests>=2.28 in /usr/local/lib/python3.10/dist-packages (from chromadb) (2.31.0)\n",
            "Requirement already satisfied: pydantic>=1.9 in /usr/local/lib/python3.10/dist-packages (from chromadb) (2.7.1)\n",
            "Collecting chroma-hnswlib==0.7.3 (from chromadb)\n",
            "  Downloading chroma_hnswlib-0.7.3-cp310-cp310-manylinux_2_17_x86_64.manylinux2014_x86_64.whl (2.4 MB)\n",
            "\u001b[2K     \u001b[90m━━━━━━━━━━━━━━━━━━━━━━━━━━━━━━━━━━━━━━━━\u001b[0m \u001b[32m2.4/2.4 MB\u001b[0m \u001b[31m47.4 MB/s\u001b[0m eta \u001b[36m0:00:00\u001b[0m\n",
            "\u001b[?25hCollecting fastapi>=0.95.2 (from chromadb)\n",
            "  Downloading fastapi-0.110.3-py3-none-any.whl (91 kB)\n",
            "\u001b[2K     \u001b[90m━━━━━━━━━━━━━━━━━━━━━━━━━━━━━━━━━━━━━━━━\u001b[0m \u001b[32m91.8/91.8 kB\u001b[0m \u001b[31m10.7 MB/s\u001b[0m eta \u001b[36m0:00:00\u001b[0m\n",
            "\u001b[?25hCollecting uvicorn[standard]>=0.18.3 (from chromadb)\n",
            "  Downloading uvicorn-0.29.0-py3-none-any.whl (60 kB)\n",
            "\u001b[2K     \u001b[90m━━━━━━━━━━━━━━━━━━━━━━━━━━━━━━━━━━━━━━━━\u001b[0m \u001b[32m60.8/60.8 kB\u001b[0m \u001b[31m5.4 MB/s\u001b[0m eta \u001b[36m0:00:00\u001b[0m\n",
            "\u001b[?25hRequirement already satisfied: numpy>=1.22.5 in /usr/local/lib/python3.10/dist-packages (from chromadb) (1.25.2)\n",
            "Collecting posthog>=2.4.0 (from chromadb)\n",
            "  Downloading posthog-3.5.0-py2.py3-none-any.whl (41 kB)\n",
            "\u001b[2K     \u001b[90m━━━━━━━━━━━━━━━━━━━━━━━━━━━━━━━━━━━━━━━━\u001b[0m \u001b[32m41.3/41.3 kB\u001b[0m \u001b[31m4.4 MB/s\u001b[0m eta \u001b[36m0:00:00\u001b[0m\n",
            "\u001b[?25hCollecting onnxruntime>=1.14.1 (from chromadb)\n",
            "  Downloading onnxruntime-1.17.3-cp310-cp310-manylinux_2_27_x86_64.manylinux_2_28_x86_64.whl (6.8 MB)\n",
            "\u001b[2K     \u001b[90m━━━━━━━━━━━━━━━━━━━━━━━━━━━━━━━━━━━━━━━━\u001b[0m \u001b[32m6.8/6.8 MB\u001b[0m \u001b[31m59.8 MB/s\u001b[0m eta \u001b[36m0:00:00\u001b[0m\n",
            "\u001b[?25hCollecting opentelemetry-api>=1.2.0 (from chromadb)\n",
            "  Downloading opentelemetry_api-1.24.0-py3-none-any.whl (60 kB)\n",
            "\u001b[2K     \u001b[90m━━━━━━━━━━━━━━━━━━━━━━━━━━━━━━━━━━━━━━━━\u001b[0m \u001b[32m60.1/60.1 kB\u001b[0m \u001b[31m6.4 MB/s\u001b[0m eta \u001b[36m0:00:00\u001b[0m\n",
            "\u001b[?25hCollecting opentelemetry-exporter-otlp-proto-grpc>=1.2.0 (from chromadb)\n",
            "  Downloading opentelemetry_exporter_otlp_proto_grpc-1.24.0-py3-none-any.whl (18 kB)\n",
            "Collecting opentelemetry-instrumentation-fastapi>=0.41b0 (from chromadb)\n",
            "  Downloading opentelemetry_instrumentation_fastapi-0.45b0-py3-none-any.whl (11 kB)\n",
            "Collecting opentelemetry-sdk>=1.2.0 (from chromadb)\n",
            "  Downloading opentelemetry_sdk-1.24.0-py3-none-any.whl (106 kB)\n",
            "\u001b[2K     \u001b[90m━━━━━━━━━━━━━━━━━━━━━━━━━━━━━━━━━━━━━━━━\u001b[0m \u001b[32m106.1/106.1 kB\u001b[0m \u001b[31m11.8 MB/s\u001b[0m eta \u001b[36m0:00:00\u001b[0m\n",
            "\u001b[?25hRequirement already satisfied: tokenizers>=0.13.2 in /usr/local/lib/python3.10/dist-packages (from chromadb) (0.19.1)\n",
            "Collecting pypika>=0.48.9 (from chromadb)\n",
            "  Downloading PyPika-0.48.9.tar.gz (67 kB)\n",
            "\u001b[2K     \u001b[90m━━━━━━━━━━━━━━━━━━━━━━━━━━━━━━━━━━━━━━━━\u001b[0m \u001b[32m67.3/67.3 kB\u001b[0m \u001b[31m8.2 MB/s\u001b[0m eta \u001b[36m0:00:00\u001b[0m\n",
            "\u001b[?25h  Installing build dependencies ... \u001b[?25l\u001b[?25hdone\n",
            "  Getting requirements to build wheel ... \u001b[?25l\u001b[?25hdone\n",
            "  Preparing metadata (pyproject.toml) ... \u001b[?25l\u001b[?25hdone\n",
            "Requirement already satisfied: tqdm>=4.65.0 in /usr/local/lib/python3.10/dist-packages (from chromadb) (4.66.2)\n",
            "Collecting overrides>=7.3.1 (from chromadb)\n",
            "  Downloading overrides-7.7.0-py3-none-any.whl (17 kB)\n",
            "Requirement already satisfied: importlib-resources in /usr/local/lib/python3.10/dist-packages (from chromadb) (6.4.0)\n",
            "Requirement already satisfied: grpcio>=1.58.0 in /usr/local/lib/python3.10/dist-packages (from chromadb) (1.62.2)\n",
            "Collecting bcrypt>=4.0.1 (from chromadb)\n",
            "  Downloading bcrypt-4.1.2-cp39-abi3-manylinux_2_28_x86_64.whl (698 kB)\n",
            "\u001b[2K     \u001b[90m━━━━━━━━━━━━━━━━━━━━━━━━━━━━━━━━━━━━━━━━\u001b[0m \u001b[32m698.9/698.9 kB\u001b[0m \u001b[31m52.8 MB/s\u001b[0m eta \u001b[36m0:00:00\u001b[0m\n",
            "\u001b[?25hRequirement already satisfied: typer>=0.9.0 in /usr/local/lib/python3.10/dist-packages (from chromadb) (0.9.4)\n",
            "Collecting kubernetes>=28.1.0 (from chromadb)\n",
            "  Downloading kubernetes-29.0.0-py2.py3-none-any.whl (1.6 MB)\n",
            "\u001b[2K     \u001b[90m━━━━━━━━━━━━━━━━━━━━━━━━━━━━━━━━━━━━━━━━\u001b[0m \u001b[32m1.6/1.6 MB\u001b[0m \u001b[31m59.9 MB/s\u001b[0m eta \u001b[36m0:00:00\u001b[0m\n",
            "\u001b[?25hRequirement already satisfied: tenacity>=8.2.3 in /usr/local/lib/python3.10/dist-packages (from chromadb) (8.2.3)\n",
            "Requirement already satisfied: PyYAML>=6.0.0 in /usr/local/lib/python3.10/dist-packages (from chromadb) (6.0.1)\n",
            "Collecting mmh3>=4.0.1 (from chromadb)\n",
            "  Downloading mmh3-4.1.0-cp310-cp310-manylinux_2_5_x86_64.manylinux1_x86_64.manylinux_2_17_x86_64.manylinux2014_x86_64.whl (67 kB)\n",
            "\u001b[2K     \u001b[90m━━━━━━━━━━━━━━━━━━━━━━━━━━━━━━━━━━━━━━━━\u001b[0m \u001b[32m67.6/67.6 kB\u001b[0m \u001b[31m8.0 MB/s\u001b[0m eta \u001b[36m0:00:00\u001b[0m\n",
            "\u001b[?25hRequirement already satisfied: orjson>=3.9.12 in /usr/local/lib/python3.10/dist-packages (from chromadb) (3.10.2)\n",
            "Collecting pyclipper>=1.2.0 (from rapidocr-onnxruntime)\n",
            "  Downloading pyclipper-1.3.0.post5-cp310-cp310-manylinux_2_12_x86_64.manylinux2010_x86_64.whl (908 kB)\n",
            "\u001b[2K     \u001b[90m━━━━━━━━━━━━━━━━━━━━━━━━━━━━━━━━━━━━━━━━\u001b[0m \u001b[32m908.3/908.3 kB\u001b[0m \u001b[31m53.3 MB/s\u001b[0m eta \u001b[36m0:00:00\u001b[0m\n",
            "\u001b[?25hRequirement already satisfied: opencv-python>=4.5.1.48 in /usr/local/lib/python3.10/dist-packages (from rapidocr-onnxruntime) (4.8.0.76)\n",
            "Requirement already satisfied: six>=1.15.0 in /usr/local/lib/python3.10/dist-packages (from rapidocr-onnxruntime) (1.16.0)\n",
            "Requirement already satisfied: Shapely>=1.7.1 in /usr/local/lib/python3.10/dist-packages (from rapidocr-onnxruntime) (2.0.4)\n",
            "Requirement already satisfied: Pillow in /usr/local/lib/python3.10/dist-packages (from rapidocr-onnxruntime) (9.4.0)\n",
            "Requirement already satisfied: packaging>=19.1 in /usr/local/lib/python3.10/dist-packages (from build>=1.0.3->chromadb) (23.2)\n",
            "Requirement already satisfied: pyproject_hooks in /usr/local/lib/python3.10/dist-packages (from build>=1.0.3->chromadb) (1.1.0)\n",
            "Requirement already satisfied: tomli>=1.1.0 in /usr/local/lib/python3.10/dist-packages (from build>=1.0.3->chromadb) (2.0.1)\n",
            "Collecting starlette<0.38.0,>=0.37.2 (from fastapi>=0.95.2->chromadb)\n",
            "  Downloading starlette-0.37.2-py3-none-any.whl (71 kB)\n",
            "\u001b[2K     \u001b[90m━━━━━━━━━━━━━━━━━━━━━━━━━━━━━━━━━━━━━━━━\u001b[0m \u001b[32m71.9/71.9 kB\u001b[0m \u001b[31m8.5 MB/s\u001b[0m eta \u001b[36m0:00:00\u001b[0m\n",
            "\u001b[?25hRequirement already satisfied: certifi>=14.05.14 in /usr/local/lib/python3.10/dist-packages (from kubernetes>=28.1.0->chromadb) (2024.2.2)\n",
            "Requirement already satisfied: python-dateutil>=2.5.3 in /usr/local/lib/python3.10/dist-packages (from kubernetes>=28.1.0->chromadb) (2.8.2)\n",
            "Requirement already satisfied: google-auth>=1.0.1 in /usr/local/lib/python3.10/dist-packages (from kubernetes>=28.1.0->chromadb) (2.27.0)\n",
            "Requirement already satisfied: websocket-client!=0.40.0,!=0.41.*,!=0.42.*,>=0.32.0 in /usr/local/lib/python3.10/dist-packages (from kubernetes>=28.1.0->chromadb) (1.8.0)\n",
            "Requirement already satisfied: requests-oauthlib in /usr/local/lib/python3.10/dist-packages (from kubernetes>=28.1.0->chromadb) (1.3.1)\n",
            "Requirement already satisfied: oauthlib>=3.2.2 in /usr/local/lib/python3.10/dist-packages (from kubernetes>=28.1.0->chromadb) (3.2.2)\n",
            "Requirement already satisfied: urllib3>=1.24.2 in /usr/local/lib/python3.10/dist-packages (from kubernetes>=28.1.0->chromadb) (2.0.7)\n",
            "Collecting coloredlogs (from onnxruntime>=1.14.1->chromadb)\n",
            "  Downloading coloredlogs-15.0.1-py2.py3-none-any.whl (46 kB)\n",
            "\u001b[2K     \u001b[90m━━━━━━━━━━━━━━━━━━━━━━━━━━━━━━━━━━━━━━━━\u001b[0m \u001b[32m46.0/46.0 kB\u001b[0m \u001b[31m4.4 MB/s\u001b[0m eta \u001b[36m0:00:00\u001b[0m\n",
            "\u001b[?25hRequirement already satisfied: flatbuffers in /usr/local/lib/python3.10/dist-packages (from onnxruntime>=1.14.1->chromadb) (24.3.25)\n",
            "Requirement already satisfied: protobuf in /usr/local/lib/python3.10/dist-packages (from onnxruntime>=1.14.1->chromadb) (3.20.3)\n",
            "Requirement already satisfied: sympy in /usr/local/lib/python3.10/dist-packages (from onnxruntime>=1.14.1->chromadb) (1.12)\n",
            "Collecting deprecated>=1.2.6 (from opentelemetry-api>=1.2.0->chromadb)\n",
            "  Downloading Deprecated-1.2.14-py2.py3-none-any.whl (9.6 kB)\n",
            "Collecting importlib-metadata<=7.0,>=6.0 (from opentelemetry-api>=1.2.0->chromadb)\n",
            "  Downloading importlib_metadata-7.0.0-py3-none-any.whl (23 kB)\n",
            "Requirement already satisfied: googleapis-common-protos~=1.52 in /usr/local/lib/python3.10/dist-packages (from opentelemetry-exporter-otlp-proto-grpc>=1.2.0->chromadb) (1.63.0)\n",
            "Collecting opentelemetry-exporter-otlp-proto-common==1.24.0 (from opentelemetry-exporter-otlp-proto-grpc>=1.2.0->chromadb)\n",
            "  Downloading opentelemetry_exporter_otlp_proto_common-1.24.0-py3-none-any.whl (17 kB)\n",
            "Collecting opentelemetry-proto==1.24.0 (from opentelemetry-exporter-otlp-proto-grpc>=1.2.0->chromadb)\n",
            "  Downloading opentelemetry_proto-1.24.0-py3-none-any.whl (50 kB)\n",
            "\u001b[2K     \u001b[90m━━━━━━━━━━━━━━━━━━━━━━━━━━━━━━━━━━━━━━━━\u001b[0m \u001b[32m50.8/50.8 kB\u001b[0m \u001b[31m6.1 MB/s\u001b[0m eta \u001b[36m0:00:00\u001b[0m\n",
            "\u001b[?25hCollecting opentelemetry-instrumentation-asgi==0.45b0 (from opentelemetry-instrumentation-fastapi>=0.41b0->chromadb)\n",
            "  Downloading opentelemetry_instrumentation_asgi-0.45b0-py3-none-any.whl (14 kB)\n",
            "Collecting opentelemetry-instrumentation==0.45b0 (from opentelemetry-instrumentation-fastapi>=0.41b0->chromadb)\n",
            "  Downloading opentelemetry_instrumentation-0.45b0-py3-none-any.whl (28 kB)\n",
            "Collecting opentelemetry-semantic-conventions==0.45b0 (from opentelemetry-instrumentation-fastapi>=0.41b0->chromadb)\n",
            "  Downloading opentelemetry_semantic_conventions-0.45b0-py3-none-any.whl (36 kB)\n",
            "Collecting opentelemetry-util-http==0.45b0 (from opentelemetry-instrumentation-fastapi>=0.41b0->chromadb)\n",
            "  Downloading opentelemetry_util_http-0.45b0-py3-none-any.whl (6.9 kB)\n",
            "Requirement already satisfied: setuptools>=16.0 in /usr/local/lib/python3.10/dist-packages (from opentelemetry-instrumentation==0.45b0->opentelemetry-instrumentation-fastapi>=0.41b0->chromadb) (67.7.2)\n",
            "Requirement already satisfied: wrapt<2.0.0,>=1.0.0 in /usr/local/lib/python3.10/dist-packages (from opentelemetry-instrumentation==0.45b0->opentelemetry-instrumentation-fastapi>=0.41b0->chromadb) (1.14.1)\n",
            "Collecting asgiref~=3.0 (from opentelemetry-instrumentation-asgi==0.45b0->opentelemetry-instrumentation-fastapi>=0.41b0->chromadb)\n",
            "  Downloading asgiref-3.8.1-py3-none-any.whl (23 kB)\n",
            "Collecting monotonic>=1.5 (from posthog>=2.4.0->chromadb)\n",
            "  Downloading monotonic-1.6-py2.py3-none-any.whl (8.2 kB)\n",
            "Collecting backoff>=1.10.0 (from posthog>=2.4.0->chromadb)\n",
            "  Downloading backoff-2.2.1-py3-none-any.whl (15 kB)\n",
            "Requirement already satisfied: annotated-types>=0.4.0 in /usr/local/lib/python3.10/dist-packages (from pydantic>=1.9->chromadb) (0.6.0)\n",
            "Requirement already satisfied: pydantic-core==2.18.2 in /usr/local/lib/python3.10/dist-packages (from pydantic>=1.9->chromadb) (2.18.2)\n",
            "Requirement already satisfied: charset-normalizer<4,>=2 in /usr/local/lib/python3.10/dist-packages (from requests>=2.28->chromadb) (3.3.2)\n",
            "Requirement already satisfied: idna<4,>=2.5 in /usr/local/lib/python3.10/dist-packages (from requests>=2.28->chromadb) (3.7)\n",
            "Requirement already satisfied: huggingface-hub<1.0,>=0.16.4 in /usr/local/lib/python3.10/dist-packages (from tokenizers>=0.13.2->chromadb) (0.20.3)\n",
            "Requirement already satisfied: click<9.0.0,>=7.1.1 in /usr/local/lib/python3.10/dist-packages (from typer>=0.9.0->chromadb) (8.1.7)\n",
            "Requirement already satisfied: h11>=0.8 in /usr/local/lib/python3.10/dist-packages (from uvicorn[standard]>=0.18.3->chromadb) (0.14.0)\n",
            "Collecting httptools>=0.5.0 (from uvicorn[standard]>=0.18.3->chromadb)\n",
            "  Downloading httptools-0.6.1-cp310-cp310-manylinux_2_5_x86_64.manylinux1_x86_64.manylinux_2_17_x86_64.manylinux2014_x86_64.whl (341 kB)\n",
            "\u001b[2K     \u001b[90m━━━━━━━━━━━━━━━━━━━━━━━━━━━━━━━━━━━━━━━━\u001b[0m \u001b[32m341.4/341.4 kB\u001b[0m \u001b[31m26.1 MB/s\u001b[0m eta \u001b[36m0:00:00\u001b[0m\n",
            "\u001b[?25hCollecting python-dotenv>=0.13 (from uvicorn[standard]>=0.18.3->chromadb)\n",
            "  Downloading python_dotenv-1.0.1-py3-none-any.whl (19 kB)\n",
            "Collecting uvloop!=0.15.0,!=0.15.1,>=0.14.0 (from uvicorn[standard]>=0.18.3->chromadb)\n",
            "  Downloading uvloop-0.19.0-cp310-cp310-manylinux_2_17_x86_64.manylinux2014_x86_64.whl (3.4 MB)\n",
            "\u001b[2K     \u001b[90m━━━━━━━━━━━━━━━━━━━━━━━━━━━━━━━━━━━━━━━━\u001b[0m \u001b[32m3.4/3.4 MB\u001b[0m \u001b[31m55.5 MB/s\u001b[0m eta \u001b[36m0:00:00\u001b[0m\n",
            "\u001b[?25hCollecting watchfiles>=0.13 (from uvicorn[standard]>=0.18.3->chromadb)\n",
            "  Downloading watchfiles-0.21.0-cp310-cp310-manylinux_2_17_x86_64.manylinux2014_x86_64.whl (1.3 MB)\n",
            "\u001b[2K     \u001b[90m━━━━━━━━━━━━━━━━━━━━━━━━━━━━━━━━━━━━━━━━\u001b[0m \u001b[32m1.3/1.3 MB\u001b[0m \u001b[31m66.8 MB/s\u001b[0m eta \u001b[36m0:00:00\u001b[0m\n",
            "\u001b[?25hCollecting websockets>=10.4 (from uvicorn[standard]>=0.18.3->chromadb)\n",
            "  Downloading websockets-12.0-cp310-cp310-manylinux_2_5_x86_64.manylinux1_x86_64.manylinux_2_17_x86_64.manylinux2014_x86_64.whl (130 kB)\n",
            "\u001b[2K     \u001b[90m━━━━━━━━━━━━━━━━━━━━━━━━━━━━━━━━━━━━━━━━\u001b[0m \u001b[32m130.2/130.2 kB\u001b[0m \u001b[31m2.4 MB/s\u001b[0m eta \u001b[36m0:00:00\u001b[0m\n",
            "\u001b[?25hRequirement already satisfied: cachetools<6.0,>=2.0.0 in /usr/local/lib/python3.10/dist-packages (from google-auth>=1.0.1->kubernetes>=28.1.0->chromadb) (5.3.3)\n",
            "Requirement already satisfied: pyasn1-modules>=0.2.1 in /usr/local/lib/python3.10/dist-packages (from google-auth>=1.0.1->kubernetes>=28.1.0->chromadb) (0.4.0)\n",
            "Requirement already satisfied: rsa<5,>=3.1.4 in /usr/local/lib/python3.10/dist-packages (from google-auth>=1.0.1->kubernetes>=28.1.0->chromadb) (4.9)\n",
            "Requirement already satisfied: filelock in /usr/local/lib/python3.10/dist-packages (from huggingface-hub<1.0,>=0.16.4->tokenizers>=0.13.2->chromadb) (3.13.4)\n",
            "Requirement already satisfied: fsspec>=2023.5.0 in /usr/local/lib/python3.10/dist-packages (from huggingface-hub<1.0,>=0.16.4->tokenizers>=0.13.2->chromadb) (2023.6.0)\n",
            "Requirement already satisfied: zipp>=0.5 in /usr/local/lib/python3.10/dist-packages (from importlib-metadata<=7.0,>=6.0->opentelemetry-api>=1.2.0->chromadb) (3.18.1)\n",
            "Requirement already satisfied: anyio<5,>=3.4.0 in /usr/local/lib/python3.10/dist-packages (from starlette<0.38.0,>=0.37.2->fastapi>=0.95.2->chromadb) (3.7.1)\n",
            "Collecting humanfriendly>=9.1 (from coloredlogs->onnxruntime>=1.14.1->chromadb)\n",
            "  Downloading humanfriendly-10.0-py2.py3-none-any.whl (86 kB)\n",
            "\u001b[2K     \u001b[90m━━━━━━━━━━━━━━━━━━━━━━━━━━━━━━━━━━━━━━━━\u001b[0m \u001b[32m86.8/86.8 kB\u001b[0m \u001b[31m10.8 MB/s\u001b[0m eta \u001b[36m0:00:00\u001b[0m\n",
            "\u001b[?25hRequirement already satisfied: mpmath>=0.19 in /usr/local/lib/python3.10/dist-packages (from sympy->onnxruntime>=1.14.1->chromadb) (1.3.0)\n",
            "Requirement already satisfied: sniffio>=1.1 in /usr/local/lib/python3.10/dist-packages (from anyio<5,>=3.4.0->starlette<0.38.0,>=0.37.2->fastapi>=0.95.2->chromadb) (1.3.1)\n",
            "Requirement already satisfied: exceptiongroup in /usr/local/lib/python3.10/dist-packages (from anyio<5,>=3.4.0->starlette<0.38.0,>=0.37.2->fastapi>=0.95.2->chromadb) (1.2.1)\n",
            "Requirement already satisfied: pyasn1<0.7.0,>=0.4.6 in /usr/local/lib/python3.10/dist-packages (from pyasn1-modules>=0.2.1->google-auth>=1.0.1->kubernetes>=28.1.0->chromadb) (0.6.0)\n",
            "Building wheels for collected packages: pypika\n",
            "  Building wheel for pypika (pyproject.toml) ... \u001b[?25l\u001b[?25hdone\n",
            "  Created wheel for pypika: filename=PyPika-0.48.9-py2.py3-none-any.whl size=53724 sha256=fe7e4c57f19b55a3c02d53fd5e0b21064630661f8207ca9739362809feebb0aa\n",
            "  Stored in directory: /root/.cache/pip/wheels/e1/26/51/d0bffb3d2fd82256676d7ad3003faea3bd6dddc9577af665f4\n",
            "Successfully built pypika\n",
            "Installing collected packages: pypika, pyclipper, monotonic, mmh3, websockets, uvloop, uvicorn, python-dotenv, pypdf, overrides, opentelemetry-util-http, opentelemetry-semantic-conventions, opentelemetry-proto, importlib-metadata, humanfriendly, httptools, deprecated, chroma-hnswlib, bcrypt, backoff, asgiref, watchfiles, starlette, posthog, opentelemetry-exporter-otlp-proto-common, opentelemetry-api, coloredlogs, opentelemetry-sdk, opentelemetry-instrumentation, onnxruntime, kubernetes, fastapi, rapidocr-onnxruntime, opentelemetry-instrumentation-asgi, opentelemetry-exporter-otlp-proto-grpc, opentelemetry-instrumentation-fastapi, chromadb\n",
            "  Attempting uninstall: importlib-metadata\n",
            "    Found existing installation: importlib_metadata 7.1.0\n",
            "    Uninstalling importlib_metadata-7.1.0:\n",
            "      Successfully uninstalled importlib_metadata-7.1.0\n",
            "Successfully installed asgiref-3.8.1 backoff-2.2.1 bcrypt-4.1.2 chroma-hnswlib-0.7.3 chromadb-0.5.0 coloredlogs-15.0.1 deprecated-1.2.14 fastapi-0.110.3 httptools-0.6.1 humanfriendly-10.0 importlib-metadata-7.0.0 kubernetes-29.0.0 mmh3-4.1.0 monotonic-1.6 onnxruntime-1.17.3 opentelemetry-api-1.24.0 opentelemetry-exporter-otlp-proto-common-1.24.0 opentelemetry-exporter-otlp-proto-grpc-1.24.0 opentelemetry-instrumentation-0.45b0 opentelemetry-instrumentation-asgi-0.45b0 opentelemetry-instrumentation-fastapi-0.45b0 opentelemetry-proto-1.24.0 opentelemetry-sdk-1.24.0 opentelemetry-semantic-conventions-0.45b0 opentelemetry-util-http-0.45b0 overrides-7.7.0 posthog-3.5.0 pyclipper-1.3.0.post5 pypdf-4.2.0 pypika-0.48.9 python-dotenv-1.0.1 rapidocr-onnxruntime-1.3.17 starlette-0.37.2 uvicorn-0.29.0 uvloop-0.19.0 watchfiles-0.21.0 websockets-12.0\n"
          ]
        }
      ]
    },
    {
      "cell_type": "markdown",
      "source": [
        "extract_images 設定 True 可以解析帶有圖片的 PDF"
      ],
      "metadata": {
        "id": "KryjETI5d5CB"
      }
    },
    {
      "cell_type": "code",
      "source": [
        "from langchain_community.document_loaders import PyPDFLoader\n",
        "loader = PyPDFLoader(file_path='https://ppt.cc/f9nc5x')"
      ],
      "metadata": {
        "id": "T6A17PCqybAg"
      },
      "execution_count": null,
      "outputs": []
    },
    {
      "cell_type": "code",
      "source": [
        "docs = loader.load()\n",
        "pprint(docs[0])"
      ],
      "metadata": {
        "colab": {
          "base_uri": "https://localhost:8080/",
          "height": 175
        },
        "id": "Hl0gpTzchxkh",
        "outputId": "c2bbe775-626b-472b-e6cc-6aee33f2d750"
      },
      "execution_count": null,
      "outputs": [
        {
          "output_type": "display_data",
          "data": {
            "text/plain": [
              "\u001b[1;35mDocument\u001b[0m\u001b[1m(\u001b[0m\n",
              "    \u001b[33mpage_content\u001b[0m=\u001b[32m'汽車法規是非題   \\n第1頁/共36頁                        分類編號欄位說明   \\n分類編\\n號  \u001b[0m\n",
              "\u001b[32m分類項目內容   \\n01  路口安全 \u001b[0m\u001b[32m(\u001b[0m\u001b[32m有號誌路口、無號誌路口、停讓行人 \u001b[0m\u001b[32m)\u001b[0m\u001b[32m  \\n02  轉彎\u001b[0m\u001b[32m(\u001b[0m\u001b[32m左右轉、迴轉 \u001b[0m\u001b[32m)\u001b[0m\u001b[32m \\n03  行駛中應注意事項\u001b[0m\n",
              "\u001b[32m(\u001b[0m\u001b[32m保持安全車距、注意前車狀況 \u001b[0m\u001b[32m)\u001b[0m\u001b[32m \\n04  正確使用燈光 \u001b[0m\u001b[32m(\u001b[0m\u001b[32m頭燈、霧燈、方向燈 \u001b[0m\u001b[32m)\u001b[0m\u001b[32m \\n05  注意大型車行駛及轉彎 \u001b[0m\n",
              "\u001b[32m(\u001b[0m\u001b[32m內輪差、視野死角、不並行 \u001b[0m\u001b[32m)\u001b[0m\u001b[32m \\n06  貨物裝載 \u001b[0m\u001b[32m(\u001b[0m\u001b[32m防止掉落或滲漏 \u001b[0m\u001b[32m)\u001b[0m\u001b[32m \\n07 事故預防及處理 \u001b[0m\u001b[32m(\u001b[0m\u001b[32m預防國道二次事故、急救常識 \u001b[0m\u001b[32m)\u001b[0m\u001b[32m \\n08\u001b[0m\n",
              "\u001b[32m禁止不當行為 \u001b[0m\u001b[32m(\u001b[0m\u001b[32m酒駕、不使用手機、危險駕駛 \u001b[0m\u001b[32m)\u001b[0m\u001b[32m \\n09 行車檢查 \u001b[0m\u001b[32m(\u001b[0m\u001b[32m設備、燈光 \u001b[0m\u001b[32m)\u001b[0m\u001b[32m \\n10 \u001b[0m\n",
              "\u001b[32m其他\u001b[0m\u001b[32m(\u001b[0m\u001b[32m平交道、強制險、環保駕駛、特殊天候、駕駛道德 \u001b[0m\u001b[32m)\u001b[0m\u001b[32m \\n  '\u001b[0m,\n",
              "    \u001b[33mmetadata\u001b[0m=\u001b[1m{\u001b[0m\u001b[32m'source'\u001b[0m: \u001b[32m'https://ppt.cc/f9nc5x'\u001b[0m, \u001b[32m'page'\u001b[0m: \u001b[1;36m0\u001b[0m\u001b[1m}\u001b[0m\n",
              "\u001b[1m)\u001b[0m\n"
            ],
            "text/html": [
              "<pre style=\"white-space:pre;overflow-x:auto;line-height:normal;font-family:Menlo,'DejaVu Sans Mono',consolas,'Courier New',monospace\"><span style=\"color: #800080; text-decoration-color: #800080; font-weight: bold\">Document</span><span style=\"font-weight: bold\">(</span>\n",
              "    <span style=\"color: #808000; text-decoration-color: #808000\">page_content</span>=<span style=\"color: #008000; text-decoration-color: #008000\">'汽車法規是非題   \\n第1頁/共36頁                        分類編號欄位說明   \\n分類編\\n號  </span>\n",
              "<span style=\"color: #008000; text-decoration-color: #008000\">分類項目內容   \\n01  路口安全 (有號誌路口、無號誌路口、停讓行人 )  \\n02  轉彎(左右轉、迴轉 ) \\n03  行駛中應注意事項</span>\n",
              "<span style=\"color: #008000; text-decoration-color: #008000\">(保持安全車距、注意前車狀況 ) \\n04  正確使用燈光 (頭燈、霧燈、方向燈 ) \\n05  注意大型車行駛及轉彎 </span>\n",
              "<span style=\"color: #008000; text-decoration-color: #008000\">(內輪差、視野死角、不並行 ) \\n06  貨物裝載 (防止掉落或滲漏 ) \\n07 事故預防及處理 (預防國道二次事故、急救常識 ) \\n08</span>\n",
              "<span style=\"color: #008000; text-decoration-color: #008000\">禁止不當行為 (酒駕、不使用手機、危險駕駛 ) \\n09 行車檢查 (設備、燈光 ) \\n10 </span>\n",
              "<span style=\"color: #008000; text-decoration-color: #008000\">其他(平交道、強制險、環保駕駛、特殊天候、駕駛道德 ) \\n  '</span>,\n",
              "    <span style=\"color: #808000; text-decoration-color: #808000\">metadata</span>=<span style=\"font-weight: bold\">{</span><span style=\"color: #008000; text-decoration-color: #008000\">'source'</span>: <span style=\"color: #008000; text-decoration-color: #008000\">'https://ppt.cc/f9nc5x'</span>, <span style=\"color: #008000; text-decoration-color: #008000\">'page'</span>: <span style=\"color: #008080; text-decoration-color: #008080; font-weight: bold\">0</span><span style=\"font-weight: bold\">}</span>\n",
              "<span style=\"font-weight: bold\">)</span>\n",
              "</pre>\n"
            ]
          },
          "metadata": {}
        }
      ]
    },
    {
      "cell_type": "code",
      "source": [
        "from langchain.indexes import VectorstoreIndexCreator\n",
        "from langchain_openai import OpenAIEmbeddings\n",
        "embeddings_model=OpenAIEmbeddings(model='text-embedding-3-large')\n",
        "index = VectorstoreIndexCreator(\n",
        "    embedding=embeddings_model).from_loaders([loader])"
      ],
      "metadata": {
        "id": "AWrnoIU-NOP4"
      },
      "execution_count": null,
      "outputs": []
    },
    {
      "cell_type": "code",
      "source": [
        "query = \"酒後開車且酒精濃度超過規定標準應罰款多少?\"\n",
        "response = index.query(llm=chat_model, question=query)\n",
        "print(response)"
      ],
      "metadata": {
        "colab": {
          "base_uri": "https://localhost:8080/"
        },
        "id": "sTIUnXstOxJF",
        "outputId": "ad373828-ef57-493d-8d7b-4d0d3f889d20"
      },
      "execution_count": null,
      "outputs": [
        {
          "output_type": "stream",
          "name": "stdout",
          "text": [
            "如果酒後開車且酒精濃度超過規定標準，根據提供的汽車法規資訊，應處以新臺幣30,000至120,000元的罰鍰。\n"
          ]
        }
      ]
    },
    {
      "cell_type": "markdown",
      "source": [
        "### RAG 第二步：資料分割"
      ],
      "metadata": {
        "id": "FK8E0mN0fLZq"
      }
    },
    {
      "cell_type": "code",
      "source": [
        "test_doc = docs[1].page_content[:200]\n",
        "test_doc"
      ],
      "metadata": {
        "id": "-P7qzZDq91EZ",
        "colab": {
          "base_uri": "https://localhost:8080/",
          "height": 55
        },
        "outputId": "6bf83028-07bb-4aa5-fff3-840293da577a"
      },
      "execution_count": null,
      "outputs": [
        {
          "output_type": "execute_result",
          "data": {
            "text/plain": [
              "'汽車法規是非題   \\n第2頁/共36頁    \\n題號 答案 題   目  分類\\n編號  \\n001  ○  尊重生命是駕駛道德最重要的一點，我們開車時要處處顧 及行人，尤\\n其應該注意讓老弱婦孺身心障礙者優先通行。   10 \\n002  X  遵守交通法規與秩序，只算是優良駕駛人，與駕駛道德無關。   10 \\n003  ○  汽油著火時，應用滅火器、泥沙或用水浸濕棉被、衣服覆蓋撲滅。   07 \\n00'"
            ],
            "application/vnd.google.colaboratory.intrinsic+json": {
              "type": "string"
            }
          },
          "metadata": {},
          "execution_count": 12
        }
      ]
    },
    {
      "cell_type": "code",
      "source": [
        "from langchain_text_splitters import (\n",
        "    CharacterTextSplitter, RecursiveCharacterTextSplitter)"
      ],
      "metadata": {
        "id": "ikiYJ0KYiHsO"
      },
      "execution_count": null,
      "outputs": []
    },
    {
      "cell_type": "code",
      "source": [
        "text_splitter = CharacterTextSplitter(separator='',\n",
        "                                      chunk_size=10,\n",
        "                                      chunk_overlap=2)\n",
        "chunks = text_splitter.split_text(test_doc)\n",
        "pprint(chunks)"
      ],
      "metadata": {
        "colab": {
          "base_uri": "https://localhost:8080/",
          "height": 504
        },
        "id": "NRTXw7gbBO3j",
        "outputId": "9e129795-16df-402c-dd5c-fe7d8087af17"
      },
      "execution_count": null,
      "outputs": [
        {
          "output_type": "display_data",
          "data": {
            "text/plain": [
              "\u001b[1m[\u001b[0m\n",
              "    \u001b[32m'汽車法規是非題'\u001b[0m,\n",
              "    \u001b[32m'第2頁/共36'\u001b[0m,\n",
              "    \u001b[32m'36頁    \\n題號'\u001b[0m,\n",
              "    \u001b[32m'題號 答案 題'\u001b[0m,\n",
              "    \u001b[32m'目  分類\\n編號'\u001b[0m,\n",
              "    \u001b[32m'編號  \\n001'\u001b[0m,\n",
              "    \u001b[32m'○  尊重生命是'\u001b[0m,\n",
              "    \u001b[32m'命是駕駛道德最重要的'\u001b[0m,\n",
              "    \u001b[32m'要的一點，我們開車時'\u001b[0m,\n",
              "    \u001b[32m'車時要處處顧 及行人'\u001b[0m,\n",
              "    \u001b[32m'行人，尤\\n其應該注意'\u001b[0m,\n",
              "    \u001b[32m'注意讓老弱婦孺身心障'\u001b[0m,\n",
              "    \u001b[32m'心障礙者優先通行。'\u001b[0m,\n",
              "    \u001b[32m'。   10 \\n00'\u001b[0m,\n",
              "    \u001b[32m'002  X  遵守'\u001b[0m,\n",
              "    \u001b[32m'遵守交通法規與秩序，'\u001b[0m,\n",
              "    \u001b[32m'序，只算是優良駕駛人'\u001b[0m,\n",
              "    \u001b[32m'駛人，與駕駛道德無關'\u001b[0m,\n",
              "    \u001b[32m'無關。   10'\u001b[0m,\n",
              "    \u001b[32m'003  ○'\u001b[0m,\n",
              "    \u001b[32m'汽油著火時，應用'\u001b[0m,\n",
              "    \u001b[32m'應用滅火器、泥沙或用'\u001b[0m,\n",
              "    \u001b[32m'或用水浸濕棉被、衣服'\u001b[0m,\n",
              "    \u001b[32m'衣服覆蓋撲滅。'\u001b[0m,\n",
              "    \u001b[32m'07 \\n00'\u001b[0m\n",
              "\u001b[1m]\u001b[0m\n"
            ],
            "text/html": [
              "<pre style=\"white-space:pre;overflow-x:auto;line-height:normal;font-family:Menlo,'DejaVu Sans Mono',consolas,'Courier New',monospace\"><span style=\"font-weight: bold\">[</span>\n",
              "    <span style=\"color: #008000; text-decoration-color: #008000\">'汽車法規是非題'</span>,\n",
              "    <span style=\"color: #008000; text-decoration-color: #008000\">'第2頁/共36'</span>,\n",
              "    <span style=\"color: #008000; text-decoration-color: #008000\">'36頁    \\n題號'</span>,\n",
              "    <span style=\"color: #008000; text-decoration-color: #008000\">'題號 答案 題'</span>,\n",
              "    <span style=\"color: #008000; text-decoration-color: #008000\">'目  分類\\n編號'</span>,\n",
              "    <span style=\"color: #008000; text-decoration-color: #008000\">'編號  \\n001'</span>,\n",
              "    <span style=\"color: #008000; text-decoration-color: #008000\">'○  尊重生命是'</span>,\n",
              "    <span style=\"color: #008000; text-decoration-color: #008000\">'命是駕駛道德最重要的'</span>,\n",
              "    <span style=\"color: #008000; text-decoration-color: #008000\">'要的一點，我們開車時'</span>,\n",
              "    <span style=\"color: #008000; text-decoration-color: #008000\">'車時要處處顧 及行人'</span>,\n",
              "    <span style=\"color: #008000; text-decoration-color: #008000\">'行人，尤\\n其應該注意'</span>,\n",
              "    <span style=\"color: #008000; text-decoration-color: #008000\">'注意讓老弱婦孺身心障'</span>,\n",
              "    <span style=\"color: #008000; text-decoration-color: #008000\">'心障礙者優先通行。'</span>,\n",
              "    <span style=\"color: #008000; text-decoration-color: #008000\">'。   10 \\n00'</span>,\n",
              "    <span style=\"color: #008000; text-decoration-color: #008000\">'002  X  遵守'</span>,\n",
              "    <span style=\"color: #008000; text-decoration-color: #008000\">'遵守交通法規與秩序，'</span>,\n",
              "    <span style=\"color: #008000; text-decoration-color: #008000\">'序，只算是優良駕駛人'</span>,\n",
              "    <span style=\"color: #008000; text-decoration-color: #008000\">'駛人，與駕駛道德無關'</span>,\n",
              "    <span style=\"color: #008000; text-decoration-color: #008000\">'無關。   10'</span>,\n",
              "    <span style=\"color: #008000; text-decoration-color: #008000\">'003  ○'</span>,\n",
              "    <span style=\"color: #008000; text-decoration-color: #008000\">'汽油著火時，應用'</span>,\n",
              "    <span style=\"color: #008000; text-decoration-color: #008000\">'應用滅火器、泥沙或用'</span>,\n",
              "    <span style=\"color: #008000; text-decoration-color: #008000\">'或用水浸濕棉被、衣服'</span>,\n",
              "    <span style=\"color: #008000; text-decoration-color: #008000\">'衣服覆蓋撲滅。'</span>,\n",
              "    <span style=\"color: #008000; text-decoration-color: #008000\">'07 \\n00'</span>\n",
              "<span style=\"font-weight: bold\">]</span>\n",
              "</pre>\n"
            ]
          },
          "metadata": {}
        }
      ]
    },
    {
      "cell_type": "code",
      "source": [
        "text_splitter = RecursiveCharacterTextSplitter(separators=['○','X'],\n",
        "                                               chunk_size=10,\n",
        "                                               chunk_overlap=3)\n",
        "chunks = text_splitter.split_text(test_doc)\n",
        "pprint(chunks)"
      ],
      "metadata": {
        "colab": {
          "base_uri": "https://localhost:8080/",
          "height": 139
        },
        "id": "4oMlHYV59v6f",
        "outputId": "f7d98142-a03c-4fc5-84c2-2b62e81e2d39"
      },
      "execution_count": null,
      "outputs": [
        {
          "output_type": "display_data",
          "data": {
            "text/plain": [
              "\u001b[1m[\u001b[0m\n",
              "    \u001b[32m'汽車法規是非題   \\n第2頁/共36頁    \\n題號 答案 題   目  分類\\n編號  \\n001  '\u001b[0m,\n",
              "    \u001b[32m'○  尊重生命是駕駛道德最重要的一點，我們開車時要處處顧 及行人，尤\\n其應該注意讓老弱婦孺身心障礙者優先通行。   \u001b[0m\n",
              "\u001b[32m10 \\n002  '\u001b[0m,\n",
              "    \u001b[32m'X  遵守交通法規與秩序，只算是優良駕駛人，與駕駛道德無關。   10 \\n003  '\u001b[0m,\n",
              "    \u001b[32m'○  汽油著火時，應用滅火器、泥沙或用水浸濕棉被、衣服覆蓋撲滅。   07 \\n00'\u001b[0m\n",
              "\u001b[1m]\u001b[0m\n"
            ],
            "text/html": [
              "<pre style=\"white-space:pre;overflow-x:auto;line-height:normal;font-family:Menlo,'DejaVu Sans Mono',consolas,'Courier New',monospace\"><span style=\"font-weight: bold\">[</span>\n",
              "    <span style=\"color: #008000; text-decoration-color: #008000\">'汽車法規是非題   \\n第2頁/共36頁    \\n題號 答案 題   目  分類\\n編號  \\n001  '</span>,\n",
              "    <span style=\"color: #008000; text-decoration-color: #008000\">'○  尊重生命是駕駛道德最重要的一點，我們開車時要處處顧 及行人，尤\\n其應該注意讓老弱婦孺身心障礙者優先通行。   </span>\n",
              "<span style=\"color: #008000; text-decoration-color: #008000\">10 \\n002  '</span>,\n",
              "    <span style=\"color: #008000; text-decoration-color: #008000\">'X  遵守交通法規與秩序，只算是優良駕駛人，與駕駛道德無關。   10 \\n003  '</span>,\n",
              "    <span style=\"color: #008000; text-decoration-color: #008000\">'○  汽油著火時，應用滅火器、泥沙或用水浸濕棉被、衣服覆蓋撲滅。   07 \\n00'</span>\n",
              "<span style=\"font-weight: bold\">]</span>\n",
              "</pre>\n"
            ]
          },
          "metadata": {}
        }
      ]
    },
    {
      "cell_type": "code",
      "source": [
        "from langchain_text_splitters import TokenTextSplitter\n",
        "text_splitter = TokenTextSplitter(chunk_size=10,\n",
        "                                  chunk_overlap=2)\n",
        "chunks = text_splitter.split_text(test_doc)\n",
        "pprint(chunks)"
      ],
      "metadata": {
        "colab": {
          "base_uri": "https://localhost:8080/",
          "height": 864
        },
        "id": "Bq3iVaqn8GCM",
        "outputId": "3317f885-f527-429c-9767-4829fb588091"
      },
      "execution_count": null,
      "outputs": [
        {
          "output_type": "display_data",
          "data": {
            "text/plain": [
              "\u001b[1m[\u001b[0m\n",
              "    \u001b[32m'汽車法規是'\u001b[0m,\n",
              "    \u001b[32m'�是非題  '\u001b[0m,\n",
              "    \u001b[32m'   \\n第2�'\u001b[0m,\n",
              "    \u001b[32m'頁/共36頁'\u001b[0m,\n",
              "    \u001b[32m'��    \\n題'\u001b[0m,\n",
              "    \u001b[32m'��號 答案'\u001b[0m,\n",
              "    \u001b[32m'�� 題   目'\u001b[0m,\n",
              "    \u001b[32m'��  分類\\n'\u001b[0m,\n",
              "    \u001b[32m'�\\n編號  \\n'\u001b[0m,\n",
              "    \u001b[32m' \\n001  ○  尊'\u001b[0m,\n",
              "    \u001b[32m'��重生命是�'\u001b[0m,\n",
              "    \u001b[32m'駕駛道德'\u001b[0m,\n",
              "    \u001b[32m'德最重要的一'\u001b[0m,\n",
              "    \u001b[32m'的一點，我'\u001b[0m,\n",
              "    \u001b[32m'我們開車�'\u001b[0m,\n",
              "    \u001b[32m'�時要處�'\u001b[0m,\n",
              "    \u001b[32m'處顧 及�'\u001b[0m,\n",
              "    \u001b[32m'�行人，尤\\n'\u001b[0m,\n",
              "    \u001b[32m'�\\n其應該�'\u001b[0m,\n",
              "    \u001b[32m'�注意讓老'\u001b[0m,\n",
              "    \u001b[32m'老弱婦孺�'\u001b[0m,\n",
              "    \u001b[32m'�身心障�'\u001b[0m,\n",
              "    \u001b[32m'礙者優先�'\u001b[0m,\n",
              "    \u001b[32m'�通行。   10 '\u001b[0m,\n",
              "    \u001b[32m' 10 \\n002  X  遵'\u001b[0m,\n",
              "    \u001b[32m'��守交通法'\u001b[0m,\n",
              "    \u001b[32m'法規與秩�'\u001b[0m,\n",
              "    \u001b[32m'�序，只�'\u001b[0m,\n",
              "    \u001b[32m'算是優良'\u001b[0m,\n",
              "    \u001b[32m'��駕駛人�'\u001b[0m,\n",
              "    \u001b[32m'人，與駕�'\u001b[0m,\n",
              "    \u001b[32m'�駛道德無'\u001b[0m,\n",
              "    \u001b[32m'無關。   10 \\n'\u001b[0m,\n",
              "    \u001b[32m' \\n003  ○  汽'\u001b[0m,\n",
              "    \u001b[32m'��油著火'\u001b[0m,\n",
              "    \u001b[32m'火時，應'\u001b[0m,\n",
              "    \u001b[32m'��用滅火�'\u001b[0m,\n",
              "    \u001b[32m'��器、泥沙'\u001b[0m,\n",
              "    \u001b[32m'��或用水浸'\u001b[0m,\n",
              "    \u001b[32m'浸濕棉�'\u001b[0m,\n",
              "    \u001b[32m'被、衣服覆'\u001b[0m,\n",
              "    \u001b[32m'覆蓋撲�'\u001b[0m,\n",
              "    \u001b[32m'滅。   07 \\n00'\u001b[0m\n",
              "\u001b[1m]\u001b[0m\n"
            ],
            "text/html": [
              "<pre style=\"white-space:pre;overflow-x:auto;line-height:normal;font-family:Menlo,'DejaVu Sans Mono',consolas,'Courier New',monospace\"><span style=\"font-weight: bold\">[</span>\n",
              "    <span style=\"color: #008000; text-decoration-color: #008000\">'汽車法規是'</span>,\n",
              "    <span style=\"color: #008000; text-decoration-color: #008000\">'�是非題  '</span>,\n",
              "    <span style=\"color: #008000; text-decoration-color: #008000\">'   \\n第2�'</span>,\n",
              "    <span style=\"color: #008000; text-decoration-color: #008000\">'頁/共36頁'</span>,\n",
              "    <span style=\"color: #008000; text-decoration-color: #008000\">'��    \\n題'</span>,\n",
              "    <span style=\"color: #008000; text-decoration-color: #008000\">'��號 答案'</span>,\n",
              "    <span style=\"color: #008000; text-decoration-color: #008000\">'�� 題   目'</span>,\n",
              "    <span style=\"color: #008000; text-decoration-color: #008000\">'��  分類\\n'</span>,\n",
              "    <span style=\"color: #008000; text-decoration-color: #008000\">'�\\n編號  \\n'</span>,\n",
              "    <span style=\"color: #008000; text-decoration-color: #008000\">' \\n001  ○  尊'</span>,\n",
              "    <span style=\"color: #008000; text-decoration-color: #008000\">'��重生命是�'</span>,\n",
              "    <span style=\"color: #008000; text-decoration-color: #008000\">'駕駛道德'</span>,\n",
              "    <span style=\"color: #008000; text-decoration-color: #008000\">'德最重要的一'</span>,\n",
              "    <span style=\"color: #008000; text-decoration-color: #008000\">'的一點，我'</span>,\n",
              "    <span style=\"color: #008000; text-decoration-color: #008000\">'我們開車�'</span>,\n",
              "    <span style=\"color: #008000; text-decoration-color: #008000\">'�時要處�'</span>,\n",
              "    <span style=\"color: #008000; text-decoration-color: #008000\">'處顧 及�'</span>,\n",
              "    <span style=\"color: #008000; text-decoration-color: #008000\">'�行人，尤\\n'</span>,\n",
              "    <span style=\"color: #008000; text-decoration-color: #008000\">'�\\n其應該�'</span>,\n",
              "    <span style=\"color: #008000; text-decoration-color: #008000\">'�注意讓老'</span>,\n",
              "    <span style=\"color: #008000; text-decoration-color: #008000\">'老弱婦孺�'</span>,\n",
              "    <span style=\"color: #008000; text-decoration-color: #008000\">'�身心障�'</span>,\n",
              "    <span style=\"color: #008000; text-decoration-color: #008000\">'礙者優先�'</span>,\n",
              "    <span style=\"color: #008000; text-decoration-color: #008000\">'�通行。   10 '</span>,\n",
              "    <span style=\"color: #008000; text-decoration-color: #008000\">' 10 \\n002  X  遵'</span>,\n",
              "    <span style=\"color: #008000; text-decoration-color: #008000\">'��守交通法'</span>,\n",
              "    <span style=\"color: #008000; text-decoration-color: #008000\">'法規與秩�'</span>,\n",
              "    <span style=\"color: #008000; text-decoration-color: #008000\">'�序，只�'</span>,\n",
              "    <span style=\"color: #008000; text-decoration-color: #008000\">'算是優良'</span>,\n",
              "    <span style=\"color: #008000; text-decoration-color: #008000\">'��駕駛人�'</span>,\n",
              "    <span style=\"color: #008000; text-decoration-color: #008000\">'人，與駕�'</span>,\n",
              "    <span style=\"color: #008000; text-decoration-color: #008000\">'�駛道德無'</span>,\n",
              "    <span style=\"color: #008000; text-decoration-color: #008000\">'無關。   10 \\n'</span>,\n",
              "    <span style=\"color: #008000; text-decoration-color: #008000\">' \\n003  ○  汽'</span>,\n",
              "    <span style=\"color: #008000; text-decoration-color: #008000\">'��油著火'</span>,\n",
              "    <span style=\"color: #008000; text-decoration-color: #008000\">'火時，應'</span>,\n",
              "    <span style=\"color: #008000; text-decoration-color: #008000\">'��用滅火�'</span>,\n",
              "    <span style=\"color: #008000; text-decoration-color: #008000\">'��器、泥沙'</span>,\n",
              "    <span style=\"color: #008000; text-decoration-color: #008000\">'��或用水浸'</span>,\n",
              "    <span style=\"color: #008000; text-decoration-color: #008000\">'浸濕棉�'</span>,\n",
              "    <span style=\"color: #008000; text-decoration-color: #008000\">'被、衣服覆'</span>,\n",
              "    <span style=\"color: #008000; text-decoration-color: #008000\">'覆蓋撲�'</span>,\n",
              "    <span style=\"color: #008000; text-decoration-color: #008000\">'滅。   07 \\n00'</span>\n",
              "<span style=\"font-weight: bold\">]</span>\n",
              "</pre>\n"
            ]
          },
          "metadata": {}
        }
      ]
    },
    {
      "cell_type": "code",
      "source": [
        "from langchain_text_splitters import TokenTextSplitter\n",
        "text_splitter = TokenTextSplitter(model_name='gpt-4-turbo',\n",
        "                                  chunk_size=10,\n",
        "                                  chunk_overlap=2)\n",
        "chunks = text_splitter.split_text(test_doc)\n",
        "pprint(chunks)"
      ],
      "metadata": {
        "colab": {
          "base_uri": "https://localhost:8080/",
          "height": 630
        },
        "id": "eBkfmmDzCZgC",
        "outputId": "4aa64511-a3e2-422e-bd8e-c94ed5bf0c14"
      },
      "execution_count": null,
      "outputs": [
        {
          "output_type": "display_data",
          "data": {
            "text/plain": [
              "\u001b[1m[\u001b[0m\n",
              "    \u001b[32m'汽車法規是非�'\u001b[0m,\n",
              "    \u001b[32m'非題   \\n第2頁/共'\u001b[0m,\n",
              "    \u001b[32m'/共36頁    \\n題號'\u001b[0m,\n",
              "    \u001b[32m'號 答案 題  '\u001b[0m,\n",
              "    \u001b[32m'�   目  分類\\n�'\u001b[0m,\n",
              "    \u001b[32m'\\n編號  \\n001  ○'\u001b[0m,\n",
              "    \u001b[32m' ○  尊重生命是�'\u001b[0m,\n",
              "    \u001b[32m'是駕駛道德'\u001b[0m,\n",
              "    \u001b[32m'德最重要的一點，'\u001b[0m,\n",
              "    \u001b[32m'�，我們開車時'\u001b[0m,\n",
              "    \u001b[32m'�時要處處顧 �'\u001b[0m,\n",
              "    \u001b[32m'� 及行人，尤\\n其'\u001b[0m,\n",
              "    \u001b[32m'\\n其應該注意讓'\u001b[0m,\n",
              "    \u001b[32m'讓老弱婦孺'\u001b[0m,\n",
              "    \u001b[32m'孺身心障礙者�'\u001b[0m,\n",
              "    \u001b[32m'者優先通行。   '\u001b[0m,\n",
              "    \u001b[32m'   10 \\n002  X  �'\u001b[0m,\n",
              "    \u001b[32m' 遵守交通法規'\u001b[0m,\n",
              "    \u001b[32m'規與秩序，只算'\u001b[0m,\n",
              "    \u001b[32m'只算是優良�'\u001b[0m,\n",
              "    \u001b[32m'駕駛人，與'\u001b[0m,\n",
              "    \u001b[32m'與駕駛道�'\u001b[0m,\n",
              "    \u001b[32m'道德無關。   10'\u001b[0m,\n",
              "    \u001b[32m' 10 \\n003  ○  �'\u001b[0m,\n",
              "    \u001b[32m' 汽油著火時'\u001b[0m,\n",
              "    \u001b[32m'火時，應用滅火'\u001b[0m,\n",
              "    \u001b[32m'�火器、泥沙或用'\u001b[0m,\n",
              "    \u001b[32m'或用水浸濕棉'\u001b[0m,\n",
              "    \u001b[32m'棉被、衣服覆'\u001b[0m,\n",
              "    \u001b[32m'覆蓋撲滅。'\u001b[0m,\n",
              "    \u001b[32m'�。   07 \\n00'\u001b[0m\n",
              "\u001b[1m]\u001b[0m\n"
            ],
            "text/html": [
              "<pre style=\"white-space:pre;overflow-x:auto;line-height:normal;font-family:Menlo,'DejaVu Sans Mono',consolas,'Courier New',monospace\"><span style=\"font-weight: bold\">[</span>\n",
              "    <span style=\"color: #008000; text-decoration-color: #008000\">'汽車法規是非�'</span>,\n",
              "    <span style=\"color: #008000; text-decoration-color: #008000\">'非題   \\n第2頁/共'</span>,\n",
              "    <span style=\"color: #008000; text-decoration-color: #008000\">'/共36頁    \\n題號'</span>,\n",
              "    <span style=\"color: #008000; text-decoration-color: #008000\">'號 答案 題  '</span>,\n",
              "    <span style=\"color: #008000; text-decoration-color: #008000\">'�   目  分類\\n�'</span>,\n",
              "    <span style=\"color: #008000; text-decoration-color: #008000\">'\\n編號  \\n001  ○'</span>,\n",
              "    <span style=\"color: #008000; text-decoration-color: #008000\">' ○  尊重生命是�'</span>,\n",
              "    <span style=\"color: #008000; text-decoration-color: #008000\">'是駕駛道德'</span>,\n",
              "    <span style=\"color: #008000; text-decoration-color: #008000\">'德最重要的一點，'</span>,\n",
              "    <span style=\"color: #008000; text-decoration-color: #008000\">'�，我們開車時'</span>,\n",
              "    <span style=\"color: #008000; text-decoration-color: #008000\">'�時要處處顧 �'</span>,\n",
              "    <span style=\"color: #008000; text-decoration-color: #008000\">'� 及行人，尤\\n其'</span>,\n",
              "    <span style=\"color: #008000; text-decoration-color: #008000\">'\\n其應該注意讓'</span>,\n",
              "    <span style=\"color: #008000; text-decoration-color: #008000\">'讓老弱婦孺'</span>,\n",
              "    <span style=\"color: #008000; text-decoration-color: #008000\">'孺身心障礙者�'</span>,\n",
              "    <span style=\"color: #008000; text-decoration-color: #008000\">'者優先通行。   '</span>,\n",
              "    <span style=\"color: #008000; text-decoration-color: #008000\">'   10 \\n002  X  �'</span>,\n",
              "    <span style=\"color: #008000; text-decoration-color: #008000\">' 遵守交通法規'</span>,\n",
              "    <span style=\"color: #008000; text-decoration-color: #008000\">'規與秩序，只算'</span>,\n",
              "    <span style=\"color: #008000; text-decoration-color: #008000\">'只算是優良�'</span>,\n",
              "    <span style=\"color: #008000; text-decoration-color: #008000\">'駕駛人，與'</span>,\n",
              "    <span style=\"color: #008000; text-decoration-color: #008000\">'與駕駛道�'</span>,\n",
              "    <span style=\"color: #008000; text-decoration-color: #008000\">'道德無關。   10'</span>,\n",
              "    <span style=\"color: #008000; text-decoration-color: #008000\">' 10 \\n003  ○  �'</span>,\n",
              "    <span style=\"color: #008000; text-decoration-color: #008000\">' 汽油著火時'</span>,\n",
              "    <span style=\"color: #008000; text-decoration-color: #008000\">'火時，應用滅火'</span>,\n",
              "    <span style=\"color: #008000; text-decoration-color: #008000\">'�火器、泥沙或用'</span>,\n",
              "    <span style=\"color: #008000; text-decoration-color: #008000\">'或用水浸濕棉'</span>,\n",
              "    <span style=\"color: #008000; text-decoration-color: #008000\">'棉被、衣服覆'</span>,\n",
              "    <span style=\"color: #008000; text-decoration-color: #008000\">'覆蓋撲滅。'</span>,\n",
              "    <span style=\"color: #008000; text-decoration-color: #008000\">'�。   07 \\n00'</span>\n",
              "<span style=\"font-weight: bold\">]</span>\n",
              "</pre>\n"
            ]
          },
          "metadata": {}
        }
      ]
    },
    {
      "cell_type": "code",
      "source": [
        "text_splitter = RecursiveCharacterTextSplitter(separators=[' \\n'],\n",
        "                                               chunk_size=10,\n",
        "                                               chunk_overlap=2)\n",
        "chunks = text_splitter.split_documents(docs)\n",
        "pprint(chunks[15:20])"
      ],
      "metadata": {
        "colab": {
          "base_uri": "https://localhost:8080/",
          "height": 399
        },
        "id": "zo9kH5p7Cylc",
        "outputId": "ef7132bd-f629-44be-eff4-8747407188df"
      },
      "execution_count": null,
      "outputs": [
        {
          "output_type": "display_data",
          "data": {
            "text/plain": [
              "\u001b[1m[\u001b[0m\n",
              "    \u001b[1;35mDocument\u001b[0m\u001b[1m(\u001b[0m\n",
              "        \u001b[33mpage_content\u001b[0m=\u001b[32m' \\n題號 答案 題   目  分類\\n編號 '\u001b[0m,\n",
              "        \u001b[33mmetadata\u001b[0m=\u001b[1m{\u001b[0m\u001b[32m'source'\u001b[0m: \u001b[32m'https://ppt.cc/f9nc5x'\u001b[0m, \u001b[32m'page'\u001b[0m: \u001b[1;36m1\u001b[0m\u001b[1m}\u001b[0m\n",
              "    \u001b[1m)\u001b[0m,\n",
              "    \u001b[1;35mDocument\u001b[0m\u001b[1m(\u001b[0m\n",
              "        \u001b[33mpage_content\u001b[0m=\u001b[32m' \\n001  ○  尊重生命是駕駛道德最重要的一點，我們開車時要處處顧 \u001b[0m\n",
              "\u001b[32m及行人，尤\\n其應該注意讓老弱婦孺身心障礙者優先通行。   10'\u001b[0m,\n",
              "        \u001b[33mmetadata\u001b[0m=\u001b[1m{\u001b[0m\u001b[32m'source'\u001b[0m: \u001b[32m'https://ppt.cc/f9nc5x'\u001b[0m, \u001b[32m'page'\u001b[0m: \u001b[1;36m1\u001b[0m\u001b[1m}\u001b[0m\n",
              "    \u001b[1m)\u001b[0m,\n",
              "    \u001b[1;35mDocument\u001b[0m\u001b[1m(\u001b[0m\n",
              "        \u001b[33mpage_content\u001b[0m=\u001b[32m' \\n002  X  遵守交通法規與秩序，只算是優良駕駛人，與駕駛道德無關。   10'\u001b[0m,\n",
              "        \u001b[33mmetadata\u001b[0m=\u001b[1m{\u001b[0m\u001b[32m'source'\u001b[0m: \u001b[32m'https://ppt.cc/f9nc5x'\u001b[0m, \u001b[32m'page'\u001b[0m: \u001b[1;36m1\u001b[0m\u001b[1m}\u001b[0m\n",
              "    \u001b[1m)\u001b[0m,\n",
              "    \u001b[1;35mDocument\u001b[0m\u001b[1m(\u001b[0m\n",
              "        \u001b[33mpage_content\u001b[0m=\u001b[32m' \\n003  ○  汽油著火時，應用滅火器、泥沙或用水浸濕棉被、衣服覆蓋撲滅。   07'\u001b[0m,\n",
              "        \u001b[33mmetadata\u001b[0m=\u001b[1m{\u001b[0m\u001b[32m'source'\u001b[0m: \u001b[32m'https://ppt.cc/f9nc5x'\u001b[0m, \u001b[32m'page'\u001b[0m: \u001b[1;36m1\u001b[0m\u001b[1m}\u001b[0m\n",
              "    \u001b[1m)\u001b[0m,\n",
              "    \u001b[1;35mDocument\u001b[0m\u001b[1m(\u001b[0m\n",
              "        \u001b[33mpage_content\u001b[0m=\u001b[32m' \\n004  ○  禮讓與寬容是駕駛道德的最好表現。   10'\u001b[0m,\n",
              "        \u001b[33mmetadata\u001b[0m=\u001b[1m{\u001b[0m\u001b[32m'source'\u001b[0m: \u001b[32m'https://ppt.cc/f9nc5x'\u001b[0m, \u001b[32m'page'\u001b[0m: \u001b[1;36m1\u001b[0m\u001b[1m}\u001b[0m\n",
              "    \u001b[1m)\u001b[0m\n",
              "\u001b[1m]\u001b[0m\n"
            ],
            "text/html": [
              "<pre style=\"white-space:pre;overflow-x:auto;line-height:normal;font-family:Menlo,'DejaVu Sans Mono',consolas,'Courier New',monospace\"><span style=\"font-weight: bold\">[</span>\n",
              "    <span style=\"color: #800080; text-decoration-color: #800080; font-weight: bold\">Document</span><span style=\"font-weight: bold\">(</span>\n",
              "        <span style=\"color: #808000; text-decoration-color: #808000\">page_content</span>=<span style=\"color: #008000; text-decoration-color: #008000\">' \\n題號 答案 題   目  分類\\n編號 '</span>,\n",
              "        <span style=\"color: #808000; text-decoration-color: #808000\">metadata</span>=<span style=\"font-weight: bold\">{</span><span style=\"color: #008000; text-decoration-color: #008000\">'source'</span>: <span style=\"color: #008000; text-decoration-color: #008000\">'https://ppt.cc/f9nc5x'</span>, <span style=\"color: #008000; text-decoration-color: #008000\">'page'</span>: <span style=\"color: #008080; text-decoration-color: #008080; font-weight: bold\">1</span><span style=\"font-weight: bold\">}</span>\n",
              "    <span style=\"font-weight: bold\">)</span>,\n",
              "    <span style=\"color: #800080; text-decoration-color: #800080; font-weight: bold\">Document</span><span style=\"font-weight: bold\">(</span>\n",
              "        <span style=\"color: #808000; text-decoration-color: #808000\">page_content</span>=<span style=\"color: #008000; text-decoration-color: #008000\">' \\n001  ○  尊重生命是駕駛道德最重要的一點，我們開車時要處處顧 </span>\n",
              "<span style=\"color: #008000; text-decoration-color: #008000\">及行人，尤\\n其應該注意讓老弱婦孺身心障礙者優先通行。   10'</span>,\n",
              "        <span style=\"color: #808000; text-decoration-color: #808000\">metadata</span>=<span style=\"font-weight: bold\">{</span><span style=\"color: #008000; text-decoration-color: #008000\">'source'</span>: <span style=\"color: #008000; text-decoration-color: #008000\">'https://ppt.cc/f9nc5x'</span>, <span style=\"color: #008000; text-decoration-color: #008000\">'page'</span>: <span style=\"color: #008080; text-decoration-color: #008080; font-weight: bold\">1</span><span style=\"font-weight: bold\">}</span>\n",
              "    <span style=\"font-weight: bold\">)</span>,\n",
              "    <span style=\"color: #800080; text-decoration-color: #800080; font-weight: bold\">Document</span><span style=\"font-weight: bold\">(</span>\n",
              "        <span style=\"color: #808000; text-decoration-color: #808000\">page_content</span>=<span style=\"color: #008000; text-decoration-color: #008000\">' \\n002  X  遵守交通法規與秩序，只算是優良駕駛人，與駕駛道德無關。   10'</span>,\n",
              "        <span style=\"color: #808000; text-decoration-color: #808000\">metadata</span>=<span style=\"font-weight: bold\">{</span><span style=\"color: #008000; text-decoration-color: #008000\">'source'</span>: <span style=\"color: #008000; text-decoration-color: #008000\">'https://ppt.cc/f9nc5x'</span>, <span style=\"color: #008000; text-decoration-color: #008000\">'page'</span>: <span style=\"color: #008080; text-decoration-color: #008080; font-weight: bold\">1</span><span style=\"font-weight: bold\">}</span>\n",
              "    <span style=\"font-weight: bold\">)</span>,\n",
              "    <span style=\"color: #800080; text-decoration-color: #800080; font-weight: bold\">Document</span><span style=\"font-weight: bold\">(</span>\n",
              "        <span style=\"color: #808000; text-decoration-color: #808000\">page_content</span>=<span style=\"color: #008000; text-decoration-color: #008000\">' \\n003  ○  汽油著火時，應用滅火器、泥沙或用水浸濕棉被、衣服覆蓋撲滅。   07'</span>,\n",
              "        <span style=\"color: #808000; text-decoration-color: #808000\">metadata</span>=<span style=\"font-weight: bold\">{</span><span style=\"color: #008000; text-decoration-color: #008000\">'source'</span>: <span style=\"color: #008000; text-decoration-color: #008000\">'https://ppt.cc/f9nc5x'</span>, <span style=\"color: #008000; text-decoration-color: #008000\">'page'</span>: <span style=\"color: #008080; text-decoration-color: #008080; font-weight: bold\">1</span><span style=\"font-weight: bold\">}</span>\n",
              "    <span style=\"font-weight: bold\">)</span>,\n",
              "    <span style=\"color: #800080; text-decoration-color: #800080; font-weight: bold\">Document</span><span style=\"font-weight: bold\">(</span>\n",
              "        <span style=\"color: #808000; text-decoration-color: #808000\">page_content</span>=<span style=\"color: #008000; text-decoration-color: #008000\">' \\n004  ○  禮讓與寬容是駕駛道德的最好表現。   10'</span>,\n",
              "        <span style=\"color: #808000; text-decoration-color: #808000\">metadata</span>=<span style=\"font-weight: bold\">{</span><span style=\"color: #008000; text-decoration-color: #008000\">'source'</span>: <span style=\"color: #008000; text-decoration-color: #008000\">'https://ppt.cc/f9nc5x'</span>, <span style=\"color: #008000; text-decoration-color: #008000\">'page'</span>: <span style=\"color: #008080; text-decoration-color: #008080; font-weight: bold\">1</span><span style=\"font-weight: bold\">}</span>\n",
              "    <span style=\"font-weight: bold\">)</span>\n",
              "<span style=\"font-weight: bold\">]</span>\n",
              "</pre>\n"
            ]
          },
          "metadata": {}
        }
      ]
    },
    {
      "cell_type": "markdown",
      "source": [
        "## 7-2 Embedding 向量化"
      ],
      "metadata": {
        "id": "lzcWd_kF1KBW"
      }
    },
    {
      "cell_type": "markdown",
      "source": [
        "### RAG 第三步：文字轉向量"
      ],
      "metadata": {
        "id": "5Kc7JVYk-yJY"
      }
    },
    {
      "cell_type": "code",
      "source": [
        "embeddings_doc = [\n",
        "    \"天空是藍色的\",\n",
        "    \"天空不是紅色的\",\n",
        "    \"sky is blue\",\n",
        "    \"莓果是藍色的\",\n",
        "    \"我今天吃了漢堡\"\n",
        "]\n",
        "embeddings = embeddings_model.embed_documents(embeddings_doc)\n",
        "len(embeddings[0])"
      ],
      "metadata": {
        "colab": {
          "base_uri": "https://localhost:8080/"
        },
        "id": "5fkh_i6Uql2q",
        "outputId": "534caa7c-2201-4754-956d-04cf05936603"
      },
      "execution_count": null,
      "outputs": [
        {
          "output_type": "execute_result",
          "data": {
            "text/plain": [
              "3072"
            ]
          },
          "metadata": {},
          "execution_count": 19
        }
      ]
    },
    {
      "cell_type": "code",
      "source": [
        "query = \"天空的顏色是？\"\n",
        "embedded_query = embeddings_model.embed_query(query)"
      ],
      "metadata": {
        "id": "clkhjXcir5sS"
      },
      "execution_count": null,
      "outputs": []
    },
    {
      "cell_type": "markdown",
      "source": [
        "餘弦相似度"
      ],
      "metadata": {
        "id": "8hQ9UIXHCYPW"
      }
    },
    {
      "cell_type": "code",
      "source": [
        "import numpy as np\n",
        "def cosine_similarity(a, b):\n",
        "    return np.dot(a, b)"
      ],
      "metadata": {
        "id": "2SLR8F6usBqn"
      },
      "execution_count": null,
      "outputs": []
    },
    {
      "cell_type": "code",
      "source": [
        "for doc_res, doc in zip(embeddings, embeddings_doc):\n",
        "    similarity = cosine_similarity(embedded_query,doc_res)\n",
        "    print(f'\"{doc}\" 與問題的相似度：{similarity}')"
      ],
      "metadata": {
        "colab": {
          "base_uri": "https://localhost:8080/"
        },
        "id": "NP7l3XNAzNHO",
        "outputId": "7bca60df-b0da-4d8e-fe97-c5e90dec4e88"
      },
      "execution_count": null,
      "outputs": [
        {
          "output_type": "stream",
          "name": "stdout",
          "text": [
            "\"天空是藍色的\" 與問題的相似度：0.7518601571046652\n",
            "\"天空不是紅色的\" 與問題的相似度：0.6953254880809308\n",
            "\"sky is blue\" 與問題的相似度：0.5886082651020517\n",
            "\"莓果是藍色的\" 與問題的相似度：0.36777005752314007\n",
            "\"我今天吃了漢堡\" 與問題的相似度：0.08466408965632069\n"
          ]
        }
      ]
    },
    {
      "cell_type": "markdown",
      "source": [
        "### RAG 第四步：儲存到向量資料庫 Chroma"
      ],
      "metadata": {
        "id": "E3k7_z5R-5Yu"
      }
    },
    {
      "cell_type": "code",
      "source": [
        "from google.colab import drive\n",
        "drive.mount('/content/drive')"
      ],
      "metadata": {
        "colab": {
          "base_uri": "https://localhost:8080/"
        },
        "id": "W1ewfrqpxHlr",
        "outputId": "715eba0a-bfc1-49b7-dfce-ce7fee9464c7"
      },
      "execution_count": null,
      "outputs": [
        {
          "output_type": "stream",
          "name": "stdout",
          "text": [
            "Mounted at /content/drive\n"
          ]
        }
      ]
    },
    {
      "cell_type": "code",
      "source": [
        "from langchain_community.vectorstores import Chroma\n",
        "Chroma.from_documents(documents=chunks,\n",
        "                      embedding=embeddings_model,\n",
        "                      persist_directory='/content/drive/MyDrive/db',\n",
        "                      collection_metadata={\"hnsw:space\": \"cosine\"})"
      ],
      "metadata": {
        "id": "zm97vHL9ywbP",
        "colab": {
          "base_uri": "https://localhost:8080/"
        },
        "outputId": "03f646f1-2e6d-421b-c922-d53817b8ef82"
      },
      "execution_count": null,
      "outputs": [
        {
          "output_type": "execute_result",
          "data": {
            "text/plain": [
              "<langchain_community.vectorstores.chroma.Chroma at 0x79a9d6cb2230>"
            ]
          },
          "metadata": {},
          "execution_count": 24
        }
      ]
    },
    {
      "cell_type": "markdown",
      "source": [
        "hnsw:space 有 l2、ip、cosine"
      ],
      "metadata": {
        "id": "OhGPDqKnb3gH"
      }
    },
    {
      "cell_type": "code",
      "source": [
        "db = Chroma(persist_directory='/content/drive/MyDrive/db',\n",
        "            embedding_function=embeddings_model)"
      ],
      "metadata": {
        "id": "4fqm2f9V5nSi"
      },
      "execution_count": null,
      "outputs": []
    },
    {
      "cell_type": "code",
      "source": [
        "pprint(db.search('紅燈右轉', k=2, search_type='similarity'))"
      ],
      "metadata": {
        "colab": {
          "base_uri": "https://localhost:8080/",
          "height": 200
        },
        "id": "sCK5k0DkwwZP",
        "outputId": "771ba3d1-78f2-46a3-a60c-467bdf90151b"
      },
      "execution_count": null,
      "outputs": [
        {
          "output_type": "display_data",
          "data": {
            "text/plain": [
              "\u001b[1m[\u001b[0m\n",
              "    \u001b[1;35mDocument\u001b[0m\u001b[1m(\u001b[0m\n",
              "        \u001b[33mpage_content\u001b[0m=\u001b[32m' \\n235  ○  汽車行駛至交岔路口，欲右轉彎時，應距交岔路口 \u001b[0m\n",
              "\u001b[32m30公尺前，顯示\\n方向燈或手勢，換入外側車道、右轉車道或慢車道，行至路口後再行\\n右轉。  02 '\u001b[0m,\n",
              "        \u001b[33mmetadata\u001b[0m=\u001b[1m{\u001b[0m\u001b[32m'page'\u001b[0m: \u001b[1;36m12\u001b[0m, \u001b[32m'source'\u001b[0m: \u001b[32m'https://ppt.cc/f9nc5x'\u001b[0m\u001b[1m}\u001b[0m\n",
              "    \u001b[1m)\u001b[0m,\n",
              "    \u001b[1;35mDocument\u001b[0m\u001b[1m(\u001b[0m\n",
              "        \u001b[33mpage_content\u001b[0m=\u001b[32m' \\n447  X  在交岔路口等候左轉之車輛，綠燈亮時即可搶先左轉。   02'\u001b[0m,\n",
              "        \u001b[33mmetadata\u001b[0m=\u001b[1m{\u001b[0m\u001b[32m'page'\u001b[0m: \u001b[1;36m24\u001b[0m, \u001b[32m'source'\u001b[0m: \u001b[32m'https://ppt.cc/f9nc5x'\u001b[0m\u001b[1m}\u001b[0m\n",
              "    \u001b[1m)\u001b[0m\n",
              "\u001b[1m]\u001b[0m\n"
            ],
            "text/html": [
              "<pre style=\"white-space:pre;overflow-x:auto;line-height:normal;font-family:Menlo,'DejaVu Sans Mono',consolas,'Courier New',monospace\"><span style=\"font-weight: bold\">[</span>\n",
              "    <span style=\"color: #800080; text-decoration-color: #800080; font-weight: bold\">Document</span><span style=\"font-weight: bold\">(</span>\n",
              "        <span style=\"color: #808000; text-decoration-color: #808000\">page_content</span>=<span style=\"color: #008000; text-decoration-color: #008000\">' \\n235  ○  汽車行駛至交岔路口，欲右轉彎時，應距交岔路口 </span>\n",
              "<span style=\"color: #008000; text-decoration-color: #008000\">30公尺前，顯示\\n方向燈或手勢，換入外側車道、右轉車道或慢車道，行至路口後再行\\n右轉。  02 '</span>,\n",
              "        <span style=\"color: #808000; text-decoration-color: #808000\">metadata</span>=<span style=\"font-weight: bold\">{</span><span style=\"color: #008000; text-decoration-color: #008000\">'page'</span>: <span style=\"color: #008080; text-decoration-color: #008080; font-weight: bold\">12</span>, <span style=\"color: #008000; text-decoration-color: #008000\">'source'</span>: <span style=\"color: #008000; text-decoration-color: #008000\">'https://ppt.cc/f9nc5x'</span><span style=\"font-weight: bold\">}</span>\n",
              "    <span style=\"font-weight: bold\">)</span>,\n",
              "    <span style=\"color: #800080; text-decoration-color: #800080; font-weight: bold\">Document</span><span style=\"font-weight: bold\">(</span>\n",
              "        <span style=\"color: #808000; text-decoration-color: #808000\">page_content</span>=<span style=\"color: #008000; text-decoration-color: #008000\">' \\n447  X  在交岔路口等候左轉之車輛，綠燈亮時即可搶先左轉。   02'</span>,\n",
              "        <span style=\"color: #808000; text-decoration-color: #808000\">metadata</span>=<span style=\"font-weight: bold\">{</span><span style=\"color: #008000; text-decoration-color: #008000\">'page'</span>: <span style=\"color: #008080; text-decoration-color: #008080; font-weight: bold\">24</span>, <span style=\"color: #008000; text-decoration-color: #008000\">'source'</span>: <span style=\"color: #008000; text-decoration-color: #008000\">'https://ppt.cc/f9nc5x'</span><span style=\"font-weight: bold\">}</span>\n",
              "    <span style=\"font-weight: bold\">)</span>\n",
              "<span style=\"font-weight: bold\">]</span>\n",
              "</pre>\n"
            ]
          },
          "metadata": {}
        }
      ]
    },
    {
      "cell_type": "code",
      "source": [
        "pprint(db.max_marginal_relevance_search(\"紅燈右轉\",k=2))"
      ],
      "metadata": {
        "id": "5Ui44Xegw7cR",
        "colab": {
          "base_uri": "https://localhost:8080/",
          "height": 200
        },
        "outputId": "b1398c8e-51b5-4c54-ed36-e926e18fde3a"
      },
      "execution_count": null,
      "outputs": [
        {
          "output_type": "display_data",
          "data": {
            "text/plain": [
              "\u001b[1m[\u001b[0m\n",
              "    \u001b[1;35mDocument\u001b[0m\u001b[1m(\u001b[0m\n",
              "        \u001b[33mpage_content\u001b[0m=\u001b[32m' \\n235  ○  汽車行駛至交岔路口，欲右轉彎時，應距交岔路口 \u001b[0m\n",
              "\u001b[32m30公尺前，顯示\\n方向燈或手勢，換入外側車道、右轉車道或慢車道，行至路口後再行\\n右轉。  02 '\u001b[0m,\n",
              "        \u001b[33mmetadata\u001b[0m=\u001b[1m{\u001b[0m\u001b[32m'page'\u001b[0m: \u001b[1;36m12\u001b[0m, \u001b[32m'source'\u001b[0m: \u001b[32m'https://ppt.cc/f9nc5x'\u001b[0m\u001b[1m}\u001b[0m\n",
              "    \u001b[1m)\u001b[0m,\n",
              "    \u001b[1;35mDocument\u001b[0m\u001b[1m(\u001b[0m\n",
              "        \u001b[33mpage_content\u001b[0m=\u001b[32m' \\n006  ○  綠燈允許你依序通過，但駕駛人仍應注意違規闖紅燈的人和車。   01'\u001b[0m,\n",
              "        \u001b[33mmetadata\u001b[0m=\u001b[1m{\u001b[0m\u001b[32m'page'\u001b[0m: \u001b[1;36m1\u001b[0m, \u001b[32m'source'\u001b[0m: \u001b[32m'https://ppt.cc/f9nc5x'\u001b[0m\u001b[1m}\u001b[0m\n",
              "    \u001b[1m)\u001b[0m\n",
              "\u001b[1m]\u001b[0m\n"
            ],
            "text/html": [
              "<pre style=\"white-space:pre;overflow-x:auto;line-height:normal;font-family:Menlo,'DejaVu Sans Mono',consolas,'Courier New',monospace\"><span style=\"font-weight: bold\">[</span>\n",
              "    <span style=\"color: #800080; text-decoration-color: #800080; font-weight: bold\">Document</span><span style=\"font-weight: bold\">(</span>\n",
              "        <span style=\"color: #808000; text-decoration-color: #808000\">page_content</span>=<span style=\"color: #008000; text-decoration-color: #008000\">' \\n235  ○  汽車行駛至交岔路口，欲右轉彎時，應距交岔路口 </span>\n",
              "<span style=\"color: #008000; text-decoration-color: #008000\">30公尺前，顯示\\n方向燈或手勢，換入外側車道、右轉車道或慢車道，行至路口後再行\\n右轉。  02 '</span>,\n",
              "        <span style=\"color: #808000; text-decoration-color: #808000\">metadata</span>=<span style=\"font-weight: bold\">{</span><span style=\"color: #008000; text-decoration-color: #008000\">'page'</span>: <span style=\"color: #008080; text-decoration-color: #008080; font-weight: bold\">12</span>, <span style=\"color: #008000; text-decoration-color: #008000\">'source'</span>: <span style=\"color: #008000; text-decoration-color: #008000\">'https://ppt.cc/f9nc5x'</span><span style=\"font-weight: bold\">}</span>\n",
              "    <span style=\"font-weight: bold\">)</span>,\n",
              "    <span style=\"color: #800080; text-decoration-color: #800080; font-weight: bold\">Document</span><span style=\"font-weight: bold\">(</span>\n",
              "        <span style=\"color: #808000; text-decoration-color: #808000\">page_content</span>=<span style=\"color: #008000; text-decoration-color: #008000\">' \\n006  ○  綠燈允許你依序通過，但駕駛人仍應注意違規闖紅燈的人和車。   01'</span>,\n",
              "        <span style=\"color: #808000; text-decoration-color: #808000\">metadata</span>=<span style=\"font-weight: bold\">{</span><span style=\"color: #008000; text-decoration-color: #008000\">'page'</span>: <span style=\"color: #008080; text-decoration-color: #008080; font-weight: bold\">1</span>, <span style=\"color: #008000; text-decoration-color: #008000\">'source'</span>: <span style=\"color: #008000; text-decoration-color: #008000\">'https://ppt.cc/f9nc5x'</span><span style=\"font-weight: bold\">}</span>\n",
              "    <span style=\"font-weight: bold\">)</span>\n",
              "<span style=\"font-weight: bold\">]</span>\n",
              "</pre>\n"
            ]
          },
          "metadata": {}
        }
      ]
    },
    {
      "cell_type": "code",
      "source": [
        "pprint(db.similarity_search_with_relevance_scores('紅燈右轉',k=2))"
      ],
      "metadata": {
        "colab": {
          "base_uri": "https://localhost:8080/",
          "height": 296
        },
        "id": "_ye-yx0Dv5iX",
        "outputId": "9fa4e6b7-48fd-4f05-f8c8-47a122768620"
      },
      "execution_count": null,
      "outputs": [
        {
          "output_type": "display_data",
          "data": {
            "text/plain": [
              "\u001b[1m[\u001b[0m\n",
              "    \u001b[1m(\u001b[0m\n",
              "        \u001b[1;35mDocument\u001b[0m\u001b[1m(\u001b[0m\n",
              "            \u001b[33mpage_content\u001b[0m=\u001b[32m' \\n235  ○  汽車行駛至交岔路口，欲右轉彎時，應距交岔路口 \u001b[0m\n",
              "\u001b[32m30公尺前，顯示\\n方向燈或手勢，換入外側車道、右轉車道或慢車道，行至路口後再行\\n右轉。  02 '\u001b[0m,\n",
              "            \u001b[33mmetadata\u001b[0m=\u001b[1m{\u001b[0m\u001b[32m'page'\u001b[0m: \u001b[1;36m12\u001b[0m, \u001b[32m'source'\u001b[0m: \u001b[32m'https://ppt.cc/f9nc5x'\u001b[0m\u001b[1m}\u001b[0m\n",
              "        \u001b[1m)\u001b[0m,\n",
              "        \u001b[1;36m0.6097202301025391\u001b[0m\n",
              "    \u001b[1m)\u001b[0m,\n",
              "    \u001b[1m(\u001b[0m\n",
              "        \u001b[1;35mDocument\u001b[0m\u001b[1m(\u001b[0m\n",
              "            \u001b[33mpage_content\u001b[0m=\u001b[32m' \\n447  X  在交岔路口等候左轉之車輛，綠燈亮時即可搶先左轉。   02'\u001b[0m,\n",
              "            \u001b[33mmetadata\u001b[0m=\u001b[1m{\u001b[0m\u001b[32m'page'\u001b[0m: \u001b[1;36m24\u001b[0m, \u001b[32m'source'\u001b[0m: \u001b[32m'https://ppt.cc/f9nc5x'\u001b[0m\u001b[1m}\u001b[0m\n",
              "        \u001b[1m)\u001b[0m,\n",
              "        \u001b[1;36m0.5948590040206909\u001b[0m\n",
              "    \u001b[1m)\u001b[0m\n",
              "\u001b[1m]\u001b[0m\n"
            ],
            "text/html": [
              "<pre style=\"white-space:pre;overflow-x:auto;line-height:normal;font-family:Menlo,'DejaVu Sans Mono',consolas,'Courier New',monospace\"><span style=\"font-weight: bold\">[</span>\n",
              "    <span style=\"font-weight: bold\">(</span>\n",
              "        <span style=\"color: #800080; text-decoration-color: #800080; font-weight: bold\">Document</span><span style=\"font-weight: bold\">(</span>\n",
              "            <span style=\"color: #808000; text-decoration-color: #808000\">page_content</span>=<span style=\"color: #008000; text-decoration-color: #008000\">' \\n235  ○  汽車行駛至交岔路口，欲右轉彎時，應距交岔路口 </span>\n",
              "<span style=\"color: #008000; text-decoration-color: #008000\">30公尺前，顯示\\n方向燈或手勢，換入外側車道、右轉車道或慢車道，行至路口後再行\\n右轉。  02 '</span>,\n",
              "            <span style=\"color: #808000; text-decoration-color: #808000\">metadata</span>=<span style=\"font-weight: bold\">{</span><span style=\"color: #008000; text-decoration-color: #008000\">'page'</span>: <span style=\"color: #008080; text-decoration-color: #008080; font-weight: bold\">12</span>, <span style=\"color: #008000; text-decoration-color: #008000\">'source'</span>: <span style=\"color: #008000; text-decoration-color: #008000\">'https://ppt.cc/f9nc5x'</span><span style=\"font-weight: bold\">}</span>\n",
              "        <span style=\"font-weight: bold\">)</span>,\n",
              "        <span style=\"color: #008080; text-decoration-color: #008080; font-weight: bold\">0.6097202301025391</span>\n",
              "    <span style=\"font-weight: bold\">)</span>,\n",
              "    <span style=\"font-weight: bold\">(</span>\n",
              "        <span style=\"color: #800080; text-decoration-color: #800080; font-weight: bold\">Document</span><span style=\"font-weight: bold\">(</span>\n",
              "            <span style=\"color: #808000; text-decoration-color: #808000\">page_content</span>=<span style=\"color: #008000; text-decoration-color: #008000\">' \\n447  X  在交岔路口等候左轉之車輛，綠燈亮時即可搶先左轉。   02'</span>,\n",
              "            <span style=\"color: #808000; text-decoration-color: #808000\">metadata</span>=<span style=\"font-weight: bold\">{</span><span style=\"color: #008000; text-decoration-color: #008000\">'page'</span>: <span style=\"color: #008080; text-decoration-color: #008080; font-weight: bold\">24</span>, <span style=\"color: #008000; text-decoration-color: #008000\">'source'</span>: <span style=\"color: #008000; text-decoration-color: #008000\">'https://ppt.cc/f9nc5x'</span><span style=\"font-weight: bold\">}</span>\n",
              "        <span style=\"font-weight: bold\">)</span>,\n",
              "        <span style=\"color: #008080; text-decoration-color: #008080; font-weight: bold\">0.5948590040206909</span>\n",
              "    <span style=\"font-weight: bold\">)</span>\n",
              "<span style=\"font-weight: bold\">]</span>\n",
              "</pre>\n"
            ]
          },
          "metadata": {}
        }
      ]
    },
    {
      "cell_type": "code",
      "source": [
        "embedded_query = embeddings_model.embed_query(\"紅燈右轉\")\n",
        "pprint(db.similarity_search_by_vector(embedded_query ,k=2))"
      ],
      "metadata": {
        "colab": {
          "base_uri": "https://localhost:8080/",
          "height": 200
        },
        "id": "Z5CrfzG7wbPF",
        "outputId": "fa74afbe-d873-481a-d51d-56669a23a68f"
      },
      "execution_count": null,
      "outputs": [
        {
          "output_type": "display_data",
          "data": {
            "text/plain": [
              "\u001b[1m[\u001b[0m\n",
              "    \u001b[1;35mDocument\u001b[0m\u001b[1m(\u001b[0m\n",
              "        \u001b[33mpage_content\u001b[0m=\u001b[32m' \\n235  ○  汽車行駛至交岔路口，欲右轉彎時，應距交岔路口 \u001b[0m\n",
              "\u001b[32m30公尺前，顯示\\n方向燈或手勢，換入外側車道、右轉車道或慢車道，行至路口後再行\\n右轉。  02 '\u001b[0m,\n",
              "        \u001b[33mmetadata\u001b[0m=\u001b[1m{\u001b[0m\u001b[32m'page'\u001b[0m: \u001b[1;36m12\u001b[0m, \u001b[32m'source'\u001b[0m: \u001b[32m'https://ppt.cc/f9nc5x'\u001b[0m\u001b[1m}\u001b[0m\n",
              "    \u001b[1m)\u001b[0m,\n",
              "    \u001b[1;35mDocument\u001b[0m\u001b[1m(\u001b[0m\n",
              "        \u001b[33mpage_content\u001b[0m=\u001b[32m' \\n447  X  在交岔路口等候左轉之車輛，綠燈亮時即可搶先左轉。   02'\u001b[0m,\n",
              "        \u001b[33mmetadata\u001b[0m=\u001b[1m{\u001b[0m\u001b[32m'page'\u001b[0m: \u001b[1;36m24\u001b[0m, \u001b[32m'source'\u001b[0m: \u001b[32m'https://ppt.cc/f9nc5x'\u001b[0m\u001b[1m}\u001b[0m\n",
              "    \u001b[1m)\u001b[0m\n",
              "\u001b[1m]\u001b[0m\n"
            ],
            "text/html": [
              "<pre style=\"white-space:pre;overflow-x:auto;line-height:normal;font-family:Menlo,'DejaVu Sans Mono',consolas,'Courier New',monospace\"><span style=\"font-weight: bold\">[</span>\n",
              "    <span style=\"color: #800080; text-decoration-color: #800080; font-weight: bold\">Document</span><span style=\"font-weight: bold\">(</span>\n",
              "        <span style=\"color: #808000; text-decoration-color: #808000\">page_content</span>=<span style=\"color: #008000; text-decoration-color: #008000\">' \\n235  ○  汽車行駛至交岔路口，欲右轉彎時，應距交岔路口 </span>\n",
              "<span style=\"color: #008000; text-decoration-color: #008000\">30公尺前，顯示\\n方向燈或手勢，換入外側車道、右轉車道或慢車道，行至路口後再行\\n右轉。  02 '</span>,\n",
              "        <span style=\"color: #808000; text-decoration-color: #808000\">metadata</span>=<span style=\"font-weight: bold\">{</span><span style=\"color: #008000; text-decoration-color: #008000\">'page'</span>: <span style=\"color: #008080; text-decoration-color: #008080; font-weight: bold\">12</span>, <span style=\"color: #008000; text-decoration-color: #008000\">'source'</span>: <span style=\"color: #008000; text-decoration-color: #008000\">'https://ppt.cc/f9nc5x'</span><span style=\"font-weight: bold\">}</span>\n",
              "    <span style=\"font-weight: bold\">)</span>,\n",
              "    <span style=\"color: #800080; text-decoration-color: #800080; font-weight: bold\">Document</span><span style=\"font-weight: bold\">(</span>\n",
              "        <span style=\"color: #808000; text-decoration-color: #808000\">page_content</span>=<span style=\"color: #008000; text-decoration-color: #008000\">' \\n447  X  在交岔路口等候左轉之車輛，綠燈亮時即可搶先左轉。   02'</span>,\n",
              "        <span style=\"color: #808000; text-decoration-color: #808000\">metadata</span>=<span style=\"font-weight: bold\">{</span><span style=\"color: #008000; text-decoration-color: #008000\">'page'</span>: <span style=\"color: #008080; text-decoration-color: #008080; font-weight: bold\">24</span>, <span style=\"color: #008000; text-decoration-color: #008000\">'source'</span>: <span style=\"color: #008000; text-decoration-color: #008000\">'https://ppt.cc/f9nc5x'</span><span style=\"font-weight: bold\">}</span>\n",
              "    <span style=\"font-weight: bold\">)</span>\n",
              "<span style=\"font-weight: bold\">]</span>\n",
              "</pre>\n"
            ]
          },
          "metadata": {}
        }
      ]
    },
    {
      "cell_type": "markdown",
      "source": [
        "## 7-3 檢索對話流程鏈"
      ],
      "metadata": {
        "id": "Ax3fufIYfqL9"
      }
    },
    {
      "cell_type": "markdown",
      "source": [
        "檢索器的search_type可以設定 similarity、mmr、similarity_score_threshold"
      ],
      "metadata": {
        "id": "Ml0dfA52tXnm"
      }
    },
    {
      "cell_type": "code",
      "source": [
        "retriever = db.as_retriever(search_type=\"similarity\",\n",
        "                            search_kwargs={\"k\": 6})"
      ],
      "metadata": {
        "id": "U5pqWEQYvzzt"
      },
      "execution_count": null,
      "outputs": []
    },
    {
      "cell_type": "code",
      "source": [
        "retrieved_docs = retriever.invoke(\"紅燈右轉\")\n",
        "print(f'傳回 {len(retrieved_docs)} 筆資料')"
      ],
      "metadata": {
        "colab": {
          "base_uri": "https://localhost:8080/"
        },
        "id": "-aXFlUtqyXQ5",
        "outputId": "c497d0d3-7d1b-400c-aa9e-2376a6ee85c3"
      },
      "execution_count": null,
      "outputs": [
        {
          "output_type": "stream",
          "name": "stdout",
          "text": [
            "傳回 6 筆資料\n"
          ]
        }
      ]
    },
    {
      "cell_type": "code",
      "source": [
        "from langchain_core.output_parsers import StrOutputParser\n",
        "from langchain_core.prompts import ChatPromptTemplate\n",
        "from langchain_core.runnables import RunnablePassthrough"
      ],
      "metadata": {
        "id": "H_es23mdZY8A"
      },
      "execution_count": null,
      "outputs": []
    },
    {
      "cell_type": "code",
      "source": [
        "str_parser = StrOutputParser()\n",
        "template = (\n",
        "    \"請根據以下內容加上自身判斷回答問題:\\n\"\n",
        "    \"{context}\\n\"\n",
        "    \"問題: {question}\"\n",
        "    )\n",
        "prompt = ChatPromptTemplate.from_template(template)"
      ],
      "metadata": {
        "id": "mjp2ZfNIZaZ7"
      },
      "execution_count": null,
      "outputs": []
    },
    {
      "cell_type": "code",
      "source": [
        "chain = (\n",
        "    {\"context\": retriever, \"question\": RunnablePassthrough()}\n",
        "    | prompt\n",
        "    | chat_model\n",
        "    | str_parser\n",
        ")"
      ],
      "metadata": {
        "id": "5bzSqScIZbo6"
      },
      "execution_count": null,
      "outputs": []
    },
    {
      "cell_type": "code",
      "source": [
        "print(chain.invoke(\"汽車駕駛人若喝酒後，會使反應遲延，視力變差。請問是否正確\"))"
      ],
      "metadata": {
        "colab": {
          "base_uri": "https://localhost:8080/"
        },
        "id": "Yk0RtFhuZce8",
        "outputId": "a5411638-8f70-45c7-834e-ef8f210b3a5d"
      },
      "execution_count": null,
      "outputs": [
        {
          "output_type": "stream",
          "name": "stdout",
          "text": [
            "根據提供的資訊，有兩個文件表示飲酒後會使視力能力變差和運動反射神經遲鈍，另一個文件則表示喝酒會使反應遲延和視力增加。根據多數文件的內容來看，汽車駕駛人若喝酒後，會使反應遲延，視力變差的說法是正確的。\n"
          ]
        }
      ]
    },
    {
      "cell_type": "code",
      "source": [
        "for chunk in chain.stream(\"汽車駕駛人若喝酒後，會使反應遲延，視力增加。請問是否正確\"):\n",
        "    print(chunk, end=\"\", flush=True)"
      ],
      "metadata": {
        "colab": {
          "base_uri": "https://localhost:8080/"
        },
        "id": "cIr8mnjJ089q",
        "outputId": "8ec9d887-89db-40ae-ba93-82ef5812b2da"
      },
      "execution_count": null,
      "outputs": [
        {
          "output_type": "stream",
          "name": "stdout",
          "text": [
            "根據以上提供的內容，其中有一個文件指出飲酒後會使視覺能力變差，運動反射神經遲鈍，肇事率增加，而另一個文件則指出飲酒後會使反應遲延，視力增加。基於這兩個文件的內容，可以得知汽車駕駛人若喝酒後，會使反應遲延，視力增加這個說法是不正確的。因此，這個說法並不正確。"
          ]
        }
      ]
    },
    {
      "cell_type": "markdown",
      "source": [
        "### 傳回關聯資料"
      ],
      "metadata": {
        "id": "o4PZ8sdTdEVB"
      }
    },
    {
      "cell_type": "code",
      "source": [
        "rag_chain_from_docs = (\n",
        "    prompt\n",
        "    | chat_model\n",
        "    | StrOutputParser()\n",
        ")"
      ],
      "metadata": {
        "id": "H9tQaybkeliU"
      },
      "execution_count": null,
      "outputs": []
    },
    {
      "cell_type": "code",
      "source": [
        "from langchain_core.runnables import RunnableParallel\n",
        "\n",
        "rag_chain_with_source = RunnableParallel(\n",
        "    {\"context\": retriever, \"question\": RunnablePassthrough()}\n",
        ").assign(answer=rag_chain_from_docs)"
      ],
      "metadata": {
        "id": "xtCO_YE4dh_T"
      },
      "execution_count": null,
      "outputs": []
    },
    {
      "cell_type": "code",
      "source": [
        "def chat(query):\n",
        "    output = {}\n",
        "    curr_key = None\n",
        "    for chunk in rag_chain_with_source.stream(query):\n",
        "        for key in chunk:\n",
        "            if key not in output:\n",
        "                output[key] = chunk[key]\n",
        "            else:\n",
        "                output[key] += chunk[key]\n",
        "            if key != curr_key:\n",
        "                print(f\"\\n\\n{key}: {chunk[key]}\", end=\"\", flush=True)\n",
        "            else:\n",
        "                print(chunk[key], end=\"\", flush=True)\n",
        "            curr_key = key\n",
        "chat(\"汽車駕駛人若喝酒後，會使反應遲延，視力變差。是否正確\")"
      ],
      "metadata": {
        "colab": {
          "base_uri": "https://localhost:8080/"
        },
        "id": "kZX37Xu8Q65i",
        "outputId": "02ca2c42-13b1-4d53-996f-758c5e14cb96"
      },
      "execution_count": null,
      "outputs": [
        {
          "output_type": "stream",
          "name": "stdout",
          "text": [
            "\n",
            "\n",
            "question: 汽車駕駛人若喝酒後，會使反應遲延，視力變差。是否正確\n",
            "\n",
            "context: [Document(page_content=' \\n410  X  汽車駕駛人若喝酒後，會使反應遲延，視力增加。   08', metadata={'page': 22, 'source': 'https://ppt.cc/f9nc5x'}), Document(page_content=' \\n409  ○  飲酒後，會使視覺能力變差，運動反射神經遲鈍，肇事率增加。   08', metadata={'page': 22, 'source': 'https://ppt.cc/f9nc5x'}), Document(page_content=' \\n013  X  一個人飲酒後，雖然視力、聽覺以及判斷能力，都會變為遲鈍，但在\\n其本人的感覺來說，卻很舒暢，所以酒後可以駕駛汽車。   08', metadata={'page': 1, 'source': 'https://ppt.cc/f9nc5x'}), Document(page_content=' \\n398  ○  汽車行駛速度愈快，駕駛人的視野變窄、視力變差。   10', metadata={'page': 21, 'source': 'https://ppt.cc/f9nc5x'}), Document(page_content=' \\n302  X  在高速行車狀況下，駕駛人視覺與平時一樣，沒有一點影響。   03', metadata={'page': 16, 'source': 'https://ppt.cc/f9nc5x'}), Document(page_content=' \\n238  ○  駕駛人酒精濃度超過規定標準，駕車肇事致人重傷或死亡者，除處罰\\n鍰外，吊銷其駕照，並不得再考領。但符合特定條件，且所受吊銷駕\\n駛執照處分，執行已逾相關規定期間，並依規定完成酒駕防制教育或\\n酒癮治療者，不在此限。   08', metadata={'page': 13, 'source': 'https://ppt.cc/f9nc5x'})]\n",
            "\n",
            "answer: 是正確的。根據提供的文獻內容，喝酒後會使汽車駕駛人的反應遲延，視力變差，這些因素都會增加肇事的風險。因此，駕駛人喝酒後應該避免駕駛汽車，以確保自己和他人的安全。"
          ]
        }
      ]
    },
    {
      "cell_type": "code",
      "source": [
        "chat(\"紅燈可以右轉。是否正確\")"
      ],
      "metadata": {
        "colab": {
          "base_uri": "https://localhost:8080/"
        },
        "id": "teQTpJsoZRNC",
        "outputId": "890713d8-2e2f-42ca-d6f4-998119cf0593"
      },
      "execution_count": null,
      "outputs": [
        {
          "output_type": "stream",
          "name": "stdout",
          "text": [
            "\n",
            "\n",
            "question: 紅燈可以右轉。是否正確\n",
            "\n",
            "context: [Document(page_content=' \\n447  X  在交岔路口等候左轉之車輛，綠燈亮時即可搶先左轉。   02', metadata={'page': 24, 'source': 'https://ppt.cc/f9nc5x'}), Document(page_content=' \\n200  ○  汽車在迴車前，應暫停並顯示左轉燈光或手勢，看清確無來往車輛，\\n並注意行人通過，始得迴轉。   02', metadata={'page': 11, 'source': 'https://ppt.cc/f9nc5x'}), Document(page_content=' \\n137  ○  汽車右轉彎時，應先顯示前後右邊方向燈，或由駕駛人作左臂向上手\\n掌向右微曲之手勢。   02', metadata={'page': 7, 'source': 'https://ppt.cc/f9nc5x'}), Document(page_content=' \\n235  ○  汽車行駛至交岔路口，欲右轉彎時，應距交岔路口 30公尺前，顯示\\n方向燈或手勢，換入外側車道、右轉車道或慢車道，行至路口後再行\\n右轉。  02 ', metadata={'page': 12, 'source': 'https://ppt.cc/f9nc5x'}), Document(page_content=' \\n375  ○  汽車駕駛人行經有燈光號誌管制之交岔路口，紅燈右轉者，處新臺幣\\n600～1,800元罰鍰。   02', metadata={'page': 20, 'source': 'https://ppt.cc/f9nc5x'}), Document(page_content=' \\n452  X  行車欲超越前方車輛，應先打右方向燈。   04', metadata={'page': 24, 'source': 'https://ppt.cc/f9nc5x'})]\n",
            "\n",
            "answer: 根據提供的資料，紅燈右轉者將會被處以罰鍰，因此紅燈時不可以右轉，這是不正確的。"
          ]
        }
      ]
    },
    {
      "cell_type": "markdown",
      "source": [
        "### RAG 集大成：建立檢索對話代理"
      ],
      "metadata": {
        "id": "DhzAf70VW-Il"
      }
    },
    {
      "cell_type": "code",
      "source": [
        "from langchain.tools.retriever import create_retriever_tool\n",
        "\n",
        "tool = create_retriever_tool(\n",
        "    retriever=retriever,\n",
        "    name=\"retriever_by_car_regulations\",\n",
        "    description=\"搜尋並返回汽車法規是非題內容\",\n",
        ")\n",
        "tools = [tool]"
      ],
      "metadata": {
        "id": "gMLbLe05ft1t"
      },
      "execution_count": null,
      "outputs": []
    },
    {
      "cell_type": "code",
      "source": [
        "from langchain_core.prompts import MessagesPlaceholder\n",
        "prompt = ChatPromptTemplate.from_messages([\n",
        "    ('system','你是一位善用工具的好助理, '\n",
        "              '請自己判斷上下文來回答問題, 不要盲目地使用工具'),\n",
        "    MessagesPlaceholder(variable_name=\"chat_history\"),\n",
        "    ('human','{input}'),\n",
        "    MessagesPlaceholder(variable_name=\"agent_scratchpad\")\n",
        "])"
      ],
      "metadata": {
        "id": "wV9BolNFVqXv"
      },
      "execution_count": null,
      "outputs": []
    },
    {
      "cell_type": "code",
      "source": [
        "from langchain.agents import (\n",
        "    AgentExecutor, create_openai_tools_agent)\n",
        "\n",
        "agent = create_openai_tools_agent(chat_model, tools, prompt)\n",
        "agent_executor = AgentExecutor(agent=agent, tools=tools)"
      ],
      "metadata": {
        "id": "NOXMgIXbfx8Z"
      },
      "execution_count": null,
      "outputs": []
    },
    {
      "cell_type": "code",
      "source": [
        "from langchain_community.chat_message_histories import (\n",
        "    SQLChatMessageHistory)\n",
        "from langchain_core.runnables.history import (\n",
        "    RunnableWithMessageHistory)\n",
        "\n",
        "memory = SQLChatMessageHistory(\n",
        "        session_id=\"test_id\",\n",
        "        connection_string='sqlite:////content/drive/MyDrive/retriever.db'\n",
        "    )\n",
        "\n",
        "def window_messages(chain_input):\n",
        "    if len(memory.messages) > 6:\n",
        "        cur_messages = memory.messages\n",
        "        memory.clear()\n",
        "        for message in cur_messages[-6:]:\n",
        "            memory.add_message(message)\n",
        "    return\n",
        "\n",
        "def add_history(agent_executor):\n",
        "    agent_with_chat_history = RunnableWithMessageHistory(\n",
        "        agent_executor,\n",
        "        lambda session_id: memory,\n",
        "        input_messages_key=\"input\",\n",
        "        history_messages_key=\"chat_history\",\n",
        "    )\n",
        "    memory_chain = (\n",
        "        RunnablePassthrough.assign(messages=window_messages)\n",
        "        | agent_with_chat_history\n",
        "    )\n",
        "    return memory_chain"
      ],
      "metadata": {
        "id": "vYqB0eENV9w-"
      },
      "execution_count": null,
      "outputs": []
    },
    {
      "cell_type": "code",
      "source": [
        "memory_chain = add_history(agent_executor)"
      ],
      "metadata": {
        "id": "vf4S76J1XQM7"
      },
      "execution_count": null,
      "outputs": []
    },
    {
      "cell_type": "code",
      "source": [
        "while True:\n",
        "    msg = input(\"我說：\")\n",
        "    if not msg.strip():\n",
        "        break\n",
        "    for chunk in memory_chain.stream(\n",
        "        {\"input\": msg},\n",
        "        config={\"configurable\": {\"session_id\": \"test_id\"}}):\n",
        "        if 'output' in chunk:\n",
        "            print(f\"AI 回覆：{chunk['output']}\", end=\"\", flush=True)\n",
        "    print('\\n')"
      ],
      "metadata": {
        "id": "2JTDwyPAfzs0",
        "colab": {
          "base_uri": "https://localhost:8080/"
        },
        "outputId": "9e8769e8-1af9-476c-9a6b-574ebfad7561"
      },
      "execution_count": null,
      "outputs": [
        {
          "name": "stdout",
          "output_type": "stream",
          "text": [
            "我說：汽車駕駛人若喝酒後，會使反應遲延，視力變差。是否正確\n",
            "AI 回覆：根據汽車法規，飲酒後會使視覺能力變差，運動反射神經遲鈍，肇事率增加。因此，汽車駕駛人喝酒後的反應確實會變慢，視力也會變差，這是正確的說法。\n",
            "\n",
            "我說：紅燈可以右轉嗎?\n",
            "AI 回覆：根據汽車法規，紅燈時不可以右轉，違反紅燈右轉者將會面臨罰款。因此，紅燈時不可以進行右轉。\n",
            "\n",
            "我說：左轉不應該禮讓直行車\n",
            "AI 回覆：根據汽車法規，左轉車應該要遵守交通號誌，並且在有交通號誌規定的情況下，要給予直行車輛優先通行權。因此，左轉車應該要禮讓直行車輛。\n",
            "\n",
            "我說：\n"
          ]
        }
      ]
    },
    {
      "cell_type": "markdown",
      "source": [
        "## 7-4 總結文件的流程鏈"
      ],
      "metadata": {
        "id": "EuVr2Ncuf0wd"
      }
    },
    {
      "cell_type": "code",
      "source": [
        "from langchain_community.document_loaders import WebBaseLoader\n",
        "\n",
        "loader = WebBaseLoader(\"https://blog.langchain.dev/nvidia-nim/\")\n",
        "langchain_docs = loader.load()"
      ],
      "metadata": {
        "id": "wzoA9OIqgFwK"
      },
      "execution_count": null,
      "outputs": []
    },
    {
      "cell_type": "code",
      "source": [
        "text_splitter = RecursiveCharacterTextSplitter(chunk_size=200,\n",
        "                                               chunk_overlap=10)\n",
        "langchain_splits = text_splitter.split_documents(langchain_docs)"
      ],
      "metadata": {
        "id": "gUpooolesTb1"
      },
      "execution_count": null,
      "outputs": []
    },
    {
      "cell_type": "markdown",
      "source": [
        "### 不同的總結方式"
      ],
      "metadata": {
        "id": "_CPsTgXF-ZZ3"
      }
    },
    {
      "cell_type": "markdown",
      "source": [
        "stuff"
      ],
      "metadata": {
        "id": "WrCa0pz0GxRb"
      }
    },
    {
      "cell_type": "code",
      "source": [
        "language_prompt = '使用繁體中文和台灣用詞'\n",
        "prompt = ChatPromptTemplate.from_messages(\n",
        "    [(\"system\", \"{language}總結以下內容：\\n\\n{text}\")]\n",
        ").partial(language=language_prompt)"
      ],
      "metadata": {
        "id": "npv5GkdnJzkK"
      },
      "execution_count": null,
      "outputs": []
    },
    {
      "cell_type": "code",
      "source": [
        "from langchain.chains.summarize import load_summarize_chain\n",
        "chain = load_summarize_chain(llm=chat_model,\n",
        "                             prompt=prompt,\n",
        "                             chain_type=\"stuff\")\n",
        "print(chain.invoke(langchain_splits)['output_text'])"
      ],
      "metadata": {
        "colab": {
          "base_uri": "https://localhost:8080/"
        },
        "id": "2AlSuZxDSBh9",
        "outputId": "c6c69880-1b1d-49d2-de67-6eacbcf6c85a"
      },
      "execution_count": null,
      "outputs": [
        {
          "output_type": "stream",
          "name": "stdout",
          "text": [
            "LangChain整合NVIDIA NIM，以優化GPU的LLM推論於RAG中。\n",
            "\n",
            "NVIDIA NIM是一組易於使用的微服務，旨在加速企業中生成式人工智慧的部署。這個多功能運行時支援廣泛的AI模型，從開源社區模型到NVIDIA AI基礎模型，以及自定義AI模型。開發者可以利用行業標準的API快速建立企業級AI應用，只需幾行程式碼。NIM建立在堅固的基礎上，包括像NVIDIA Triton推理伺服器、NVIDIA TensorRT、NVIDIA TensorRT-LLM和PyTorch等推理引擎，旨在促進規模化無縫AI推論，確保您能夠信心滿滿地在任何地方部署AI應用。對於那些轉向將LLM應用從原型化轉為生產環境的企業，LangChain對整合NVIDIA NIM感到非常興奮。\n",
            "\n",
            "LangChain新增了支援NIM的整合套件，以開始整合，您需要安裝我們專用的整合套件：pip install langchain_nvidia_ai_endpoints。接著，您可以匯入模型，例如：from langchain_nvidia_ai_endpoints import NVIDIAEmbeddings, ChatNVIDIA。\n",
            "\n",
            "LangChain整合了NVIDIA NIM，以支援GPU優化的LLM推論於RAG中，進一步提升企業AI應用的效率和性能。\n"
          ]
        }
      ]
    },
    {
      "cell_type": "markdown",
      "source": [
        "MapReduce"
      ],
      "metadata": {
        "id": "g5iNm4zeGzjn"
      }
    },
    {
      "cell_type": "code",
      "source": [
        "reduce_prompt = ChatPromptTemplate.from_messages(\n",
        "    [(\"system\", \"{language}, 以下是文件內容：\\n\"\n",
        "                \"{text}\\n\"\n",
        "                \"將這些內容進行總結且保持核心內容\")]\n",
        ").partial(language=language_prompt)\n",
        "\n",
        "map_prompt = ChatPromptTemplate.from_messages(\n",
        "    [(\"system\", \"{language}, 以下是一組文件串列：\\n\"\n",
        "                \"{text}\\n\"\n",
        "                \"根據此文件串列, 請作摘要並確保核心內容\")]\n",
        ").partial(language=language_prompt)"
      ],
      "metadata": {
        "id": "19lFZ1vjATvL"
      },
      "execution_count": null,
      "outputs": []
    },
    {
      "cell_type": "code",
      "source": [
        "chain = load_summarize_chain(llm=chat_model,\n",
        "                             combine_prompt=reduce_prompt,\n",
        "                             map_prompt=map_prompt,\n",
        "                             chain_type=\"map_reduce\")\n",
        "print(chain.invoke(langchain_splits)['output_text'])"
      ],
      "metadata": {
        "colab": {
          "base_uri": "https://localhost:8080/"
        },
        "id": "k_581eLnSLAW",
        "outputId": "f118bfe6-7ec1-4498-f0fb-e59266b9ff1f"
      },
      "execution_count": null,
      "outputs": [
        {
          "output_type": "stream",
          "name": "stdout",
          "text": [
            "，這份文件串列主要介紹了LangChain如何整合NVIDIA NIM進行GPU優化的LLM推論，以提高推論效率和速度。同時也包含了LangSmith文件的應用和高級檢索方法HyDE，以及相關的套件安裝和模組功能。此外，文件還涵蓋了環境永續發展、農村發展計畫、合作消息等主題，強調永續發展的重要性並提出解決方案和合作計畫。整體而言，這份文件串列提供了豐富的資訊，幫助讀者了解如何應用NVIDIA NIM和LangChain進行GPU優化的LLM推論，並探索相關的應用和技術挑戰，同時也呼應了環境永續發展的重要性和合作共識。\n"
          ]
        }
      ]
    },
    {
      "cell_type": "code",
      "source": [
        "prompt = ChatPromptTemplate.from_messages(\n",
        "    [(\"system\", \"{language}, 以下是文件的開頭內容：\\n\"\n",
        "                \"{text}\\n\"\n",
        "                \"將這些內容進行總結且保持核心內容\")]\n",
        ").partial(language=language_prompt)\n",
        "\n",
        "refine_prompt = ChatPromptTemplate.from_messages(\n",
        "    [(\"system\", \"{language}, 你的工作是撰寫綜合摘要\\n\"\n",
        "                \"這是目前的摘要成果：{existing_answer}\\n\"\n",
        "                \"藉由底下的額外內容\"\n",
        "                \"（若需要的話）請再補強摘要內容：\\n\"\n",
        "                \"------------\\n\"\n",
        "                \"{text}\\n\"\n",
        "                \"------------\\n\"\n",
        "                \"如果這些額外內容沒有用，請返回原始摘要。\")\n",
        "    ]\n",
        ").partial(language=language_prompt)"
      ],
      "metadata": {
        "id": "j4TwGLiEAxJ_"
      },
      "execution_count": null,
      "outputs": []
    },
    {
      "cell_type": "code",
      "source": [
        "chain = load_summarize_chain(chat_model,\n",
        "                             question_prompt=prompt,\n",
        "                             refine_prompt=refine_prompt,\n",
        "                             chain_type=\"refine\")\n",
        "print(chain.invoke(langchain_splits)['output_text'])"
      ],
      "metadata": {
        "colab": {
          "base_uri": "https://localhost:8080/"
        },
        "id": "p34CcoNwTq20",
        "outputId": "f2bdbfa0-d15c-4c31-c5f4-db1cef24e798"
      },
      "execution_count": null,
      "outputs": [
        {
          "output_type": "stream",
          "name": "stdout",
          "text": [
            "在這段程式碼示範中，我們展示了如何使用 prompt、model 和 StrOutputParser 來建立一個最終的鏈結，並結合假設的文件檢索器來回答問題。透過這個最終鏈結，我們可以更有效地處理問題並提供答案。此外，Rakuten Group 利用 LangChain 和 LangSmith 打造出優質產品，為其商業客戶和員工提供服務。程式碼包括了對於問題的文件檢索以及對回答鏈結的串流處理，進一步強化了程式的功能和應用價值。在程式中，我們使用 yield 回傳 tokens 以便串流最終鏈結，讓我們一起來試試看：for s in final_chain.stream(\"how can langsmith help with testing\"): print(s, end=\"\")。這段程式碼充分展示了如何透過串流處理來處理最終鏈結，提升了程式的效率和實用性。進一步，這個程式也提供了Tags By LangChain，並鼓勵用戶訂閱通訊以獲取LangChain團隊和社群的更新。在訂閱過程中，系統會處理您的申請，若成功您將收到確認訂閱的連結，若有任何錯誤發生，請再試一次。這些額外內容進一步強化了程式的全面性和用途，讓整體功能更加完善。此外，還有有關Reflection Agents、Plan-and-Execute Agents和LangChain釋出註記的內容，這些內容也補充了程式的資訊，讓使用者更深入了解LangChain的相關內容。LangChain 在 2/5 週釋出了新版本，並與 CommandBar 合作推出 Copilot 使用者助手，這些新訊息進一步擴展了 LangChain 的應用範疇。\n"
          ]
        }
      ]
    },
    {
      "cell_type": "markdown",
      "source": [
        "## 7-5 其他的分割器"
      ],
      "metadata": {
        "id": "bywjZt09ax6y"
      }
    },
    {
      "cell_type": "code",
      "source": [
        "json_example={\n",
        "    \"school\": {\n",
        "        \"name\": \"精英中學\",\n",
        "        \"address\": {\n",
        "            \"street\": \"高科技大道200號\",\n",
        "            \"city\": \"台北\",\n",
        "            \"zip_code\": \"100\"\n",
        "        },\n",
        "        \"departments\": [\n",
        "            {\n",
        "                \"name\": \"數學系\",\n",
        "                \"courses\": [\n",
        "                    {\n",
        "                        \"course_name\": \"高等數學\",\n",
        "                        \"teacher\": \"李老師\",\n",
        "                        \"students\": [\"張三\", \"李四\", \"王五\"]\n",
        "                    },\n",
        "                    {\n",
        "                        \"course_name\": \"線性代數\",\n",
        "                        \"teacher\": \"周老師\",\n",
        "                        \"students\": [\"趙六\", \"孫七\", \"周八\"]\n",
        "                    }\n",
        "                ]\n",
        "            },\n",
        "            {\n",
        "                \"name\": \"物理系\",\n",
        "                \"courses\": [\n",
        "                    {\n",
        "                        \"course_name\": \"量子物理\",\n",
        "                        \"teacher\": \"張老師\",\n",
        "                        \"students\": [\"陳九\", \"鄭十\"]\n",
        "                    }\n",
        "                ]\n",
        "            }\n",
        "        ]\n",
        "    }\n",
        "}"
      ],
      "metadata": {
        "id": "0fWJwdbYLBQN"
      },
      "execution_count": null,
      "outputs": []
    },
    {
      "cell_type": "code",
      "source": [
        "from langchain.text_splitter import RecursiveJsonSplitter\n",
        "splitter = RecursiveJsonSplitter(max_chunk_size=30)\n",
        "docs = splitter.create_documents(texts=[json_example],\n",
        "                                 convert_lists=True)\n",
        "pprint(docs[:5])"
      ],
      "metadata": {
        "id": "tqQFZZeqebr7",
        "colab": {
          "base_uri": "https://localhost:8080/",
          "height": 257
        },
        "outputId": "b532f732-7994-4cf0-e0a1-9d354918e21e"
      },
      "execution_count": null,
      "outputs": [
        {
          "output_type": "display_data",
          "data": {
            "text/plain": [
              "\u001b[1m[\u001b[0m\n",
              "    \u001b[1;35mDocument\u001b[0m\u001b[1m(\u001b[0m\n",
              "        \u001b[33mpage_content\u001b[0m=\u001b[32m'\u001b[0m\u001b[32m{\u001b[0m\u001b[32m\"school\": \u001b[0m\u001b[32m{\u001b[0m\u001b[32m\"name\": \"\\\\u7cbe\\\\u82f1\\\\u4e2d\\\\u5b78\", \"address\": \u001b[0m\u001b[32m{\u001b[0m\u001b[32m\"street\": \u001b[0m\n",
              "\u001b[32m\"\\\\u9ad8\\\\u79d1\\\\u6280\\\\u5927\\\\u9053200\\\\u865f\"\u001b[0m\u001b[32m}\u001b[0m\u001b[32m}\u001b[0m\u001b[32m}\u001b[0m\u001b[32m'\u001b[0m\n",
              "    \u001b[1m)\u001b[0m,\n",
              "    \u001b[1;35mDocument\u001b[0m\u001b[1m(\u001b[0m\u001b[33mpage_content\u001b[0m=\u001b[32m'\u001b[0m\u001b[32m{\u001b[0m\u001b[32m\"school\": \u001b[0m\u001b[32m{\u001b[0m\u001b[32m\"address\": \u001b[0m\u001b[32m{\u001b[0m\u001b[32m\"city\": \"\\\\u53f0\\\\u5317\", \"zip_code\": \"100\"\u001b[0m\u001b[32m}\u001b[0m\u001b[32m}\u001b[0m\u001b[32m}\u001b[0m\u001b[32m'\u001b[0m\u001b[1m)\u001b[0m,\n",
              "    \u001b[1;35mDocument\u001b[0m\u001b[1m(\u001b[0m\u001b[33mpage_content\u001b[0m=\u001b[32m'\u001b[0m\u001b[32m{\u001b[0m\u001b[32m\"school\": \u001b[0m\u001b[32m{\u001b[0m\u001b[32m\"departments\": \u001b[0m\u001b[32m{\u001b[0m\u001b[32m\"0\": \u001b[0m\u001b[32m{\u001b[0m\u001b[32m\"name\": \"\\\\u6578\\\\u5b78\\\\u7cfb\"\u001b[0m\u001b[32m}\u001b[0m\u001b[32m}\u001b[0m\u001b[32m}\u001b[0m\u001b[32m}\u001b[0m\u001b[32m'\u001b[0m\u001b[1m)\u001b[0m,\n",
              "    \u001b[1;35mDocument\u001b[0m\u001b[1m(\u001b[0m\n",
              "        \u001b[33mpage_content\u001b[0m=\u001b[32m'\u001b[0m\u001b[32m{\u001b[0m\u001b[32m\"school\": \u001b[0m\u001b[32m{\u001b[0m\u001b[32m\"departments\": \u001b[0m\u001b[32m{\u001b[0m\u001b[32m\"0\": \u001b[0m\u001b[32m{\u001b[0m\u001b[32m\"courses\": \u001b[0m\u001b[32m{\u001b[0m\u001b[32m\"0\": \u001b[0m\u001b[32m{\u001b[0m\u001b[32m\"course_name\": \u001b[0m\n",
              "\u001b[32m\"\\\\u9ad8\\\\u7b49\\\\u6578\\\\u5b78\"\u001b[0m\u001b[32m}\u001b[0m\u001b[32m}\u001b[0m\u001b[32m}\u001b[0m\u001b[32m}\u001b[0m\u001b[32m}\u001b[0m\u001b[32m}\u001b[0m\u001b[32m'\u001b[0m\n",
              "    \u001b[1m)\u001b[0m,\n",
              "    \u001b[1;35mDocument\u001b[0m\u001b[1m(\u001b[0m\n",
              "        \u001b[33mpage_content\u001b[0m=\u001b[32m'\u001b[0m\u001b[32m{\u001b[0m\u001b[32m\"school\": \u001b[0m\u001b[32m{\u001b[0m\u001b[32m\"departments\": \u001b[0m\u001b[32m{\u001b[0m\u001b[32m\"0\": \u001b[0m\u001b[32m{\u001b[0m\u001b[32m\"courses\": \u001b[0m\u001b[32m{\u001b[0m\u001b[32m\"0\": \u001b[0m\u001b[32m{\u001b[0m\u001b[32m\"teacher\": \"\\\\u674e\\\\u8001\\\\u5e2b\"\u001b[0m\u001b[32m}\u001b[0m\u001b[32m}\u001b[0m\u001b[32m}\u001b[0m\u001b[32m}\u001b[0m\u001b[32m}\u001b[0m\u001b[32m}\u001b[0m\u001b[32m'\u001b[0m\n",
              "    \u001b[1m)\u001b[0m\n",
              "\u001b[1m]\u001b[0m\n"
            ],
            "text/html": [
              "<pre style=\"white-space:pre;overflow-x:auto;line-height:normal;font-family:Menlo,'DejaVu Sans Mono',consolas,'Courier New',monospace\"><span style=\"font-weight: bold\">[</span>\n",
              "    <span style=\"color: #800080; text-decoration-color: #800080; font-weight: bold\">Document</span><span style=\"font-weight: bold\">(</span>\n",
              "        <span style=\"color: #808000; text-decoration-color: #808000\">page_content</span>=<span style=\"color: #008000; text-decoration-color: #008000\">'{\"school\": {\"name\": \"\\\\u7cbe\\\\u82f1\\\\u4e2d\\\\u5b78\", \"address\": {\"street\": </span>\n",
              "<span style=\"color: #008000; text-decoration-color: #008000\">\"\\\\u9ad8\\\\u79d1\\\\u6280\\\\u5927\\\\u9053200\\\\u865f\"}}}'</span>\n",
              "    <span style=\"font-weight: bold\">)</span>,\n",
              "    <span style=\"color: #800080; text-decoration-color: #800080; font-weight: bold\">Document</span><span style=\"font-weight: bold\">(</span><span style=\"color: #808000; text-decoration-color: #808000\">page_content</span>=<span style=\"color: #008000; text-decoration-color: #008000\">'{\"school\": {\"address\": {\"city\": \"\\\\u53f0\\\\u5317\", \"zip_code\": \"100\"}}}'</span><span style=\"font-weight: bold\">)</span>,\n",
              "    <span style=\"color: #800080; text-decoration-color: #800080; font-weight: bold\">Document</span><span style=\"font-weight: bold\">(</span><span style=\"color: #808000; text-decoration-color: #808000\">page_content</span>=<span style=\"color: #008000; text-decoration-color: #008000\">'{\"school\": {\"departments\": {\"0\": {\"name\": \"\\\\u6578\\\\u5b78\\\\u7cfb\"}}}}'</span><span style=\"font-weight: bold\">)</span>,\n",
              "    <span style=\"color: #800080; text-decoration-color: #800080; font-weight: bold\">Document</span><span style=\"font-weight: bold\">(</span>\n",
              "        <span style=\"color: #808000; text-decoration-color: #808000\">page_content</span>=<span style=\"color: #008000; text-decoration-color: #008000\">'{\"school\": {\"departments\": {\"0\": {\"courses\": {\"0\": {\"course_name\": </span>\n",
              "<span style=\"color: #008000; text-decoration-color: #008000\">\"\\\\u9ad8\\\\u7b49\\\\u6578\\\\u5b78\"}}}}}}'</span>\n",
              "    <span style=\"font-weight: bold\">)</span>,\n",
              "    <span style=\"color: #800080; text-decoration-color: #800080; font-weight: bold\">Document</span><span style=\"font-weight: bold\">(</span>\n",
              "        <span style=\"color: #808000; text-decoration-color: #808000\">page_content</span>=<span style=\"color: #008000; text-decoration-color: #008000\">'{\"school\": {\"departments\": {\"0\": {\"courses\": {\"0\": {\"teacher\": \"\\\\u674e\\\\u8001\\\\u5e2b\"}}}}}}'</span>\n",
              "    <span style=\"font-weight: bold\">)</span>\n",
              "<span style=\"font-weight: bold\">]</span>\n",
              "</pre>\n"
            ]
          },
          "metadata": {}
        }
      ]
    },
    {
      "cell_type": "markdown",
      "source": [
        "### markdown"
      ],
      "metadata": {
        "id": "MkUuWW3Ga6Xh"
      }
    },
    {
      "cell_type": "code",
      "source": [
        "md = '''\n",
        "# 時間管理的藝術\n",
        "\n",
        "時間管理是一項關鍵技能，可以幫助個人有效地利用時間，提高生產力和效率。\n",
        "本文件旨在提供一些基本的時間管理技巧，幫助讀者更好地規劃和利用自己的時間。\n",
        "\n",
        "## 為什麼時間管理如此重要？\n",
        "\n",
        "在快節奏的現代生活中，時間成為了一種寶貴的資源。\n",
        "良好的時間管理不僅可以幫助我們完成更多的工作，還可以提高生活質量，\n",
        "給予我們更多時間去追求個人興趣和與家人、朋友相處的時光。\n",
        "\n",
        "## 基本時間管理技巧\n",
        "\n",
        "### 設定目標\n",
        "\n",
        "- **確定優先順序**：了解哪些任務最重要，哪些可以稍後處理。\n",
        "- **SMART目標**：設定具體（Specific）、可衡量（Measurable）、\n",
        "可達成（Achievable）、相關（Relevant）、時間限定（Time-bound）的目標。\n",
        "\n",
        "### 規劃你的時間\n",
        "\n",
        "- **每日計劃**：每天制定一個實際可行的待辦事項清單。\n",
        "- **時間塊劃分**：將一天分成幾個時間塊，每個時間塊分配特定的任務。\n",
        "\n",
        "### 避免拖延\n",
        "\n",
        "- **使用番茄工作法**：專注工作25分鐘，然後休息5分鐘。\n",
        "- **設定獎勵**：完成任務後給自己一些小獎勵。\n",
        "\n",
        "## 工具和應用\n",
        "\n",
        "- **Google Calendar**：用於時間規劃和會議安排。\n",
        "- **Trello**：一個項目管理工具，有助於跟蹤任務和進度。\n",
        "- **Pomodoro Timer**：一個簡單的線上番茄鐘工具。\n",
        "\n",
        "## 結語\n",
        "\n",
        "有效的時間管理要求持之以恆的努力和自我反思。透過實踐上述技巧，\n",
        "您將能夠更有效地利用您的時間，達成個人和專業目標，同時享有更豐富的個人生活。\n",
        "'''"
      ],
      "metadata": {
        "id": "GmYdKwVAgz2o"
      },
      "execution_count": null,
      "outputs": []
    },
    {
      "cell_type": "code",
      "source": [
        "from langchain_text_splitters import MarkdownHeaderTextSplitter"
      ],
      "metadata": {
        "id": "ACjPPrQFhBAz"
      },
      "execution_count": null,
      "outputs": []
    },
    {
      "cell_type": "code",
      "source": [
        "headers_to_split_on = [\n",
        "    (\"#\", \"Header 1\"),\n",
        "    (\"##\", \"Header 2\"),\n",
        "    (\"###\", \"Header 3\"),\n",
        "]\n",
        "\n",
        "markdown_splitter = MarkdownHeaderTextSplitter(\n",
        "    headers_to_split_on=headers_to_split_on, strip_headers=True)\n",
        "\n",
        "md_header_splits = markdown_splitter.split_text(md)\n",
        "pprint(md_header_splits)"
      ],
      "metadata": {
        "colab": {
          "base_uri": "https://localhost:8080/",
          "height": 678
        },
        "id": "62FlBQ0mhCRt",
        "outputId": "cfbc8982-48f4-4bf3-f857-59256c28529e"
      },
      "execution_count": null,
      "outputs": [
        {
          "output_type": "display_data",
          "data": {
            "text/plain": [
              "\u001b[1m[\u001b[0m\n",
              "    \u001b[1;35mDocument\u001b[0m\u001b[1m(\u001b[0m\n",
              "        \u001b[33mpage_content\u001b[0m=\u001b[32m'時間管理是一項關鍵技能，可以幫助個人有效地利用時間，提高生產力和效率。\\n本文件旨在提供一些基\u001b[0m\n",
              "\u001b[32m本的時間管理技巧，幫助讀者更好地規劃和利用自己的時間。'\u001b[0m,\n",
              "        \u001b[33mmetadata\u001b[0m=\u001b[1m{\u001b[0m\u001b[32m'Header 1'\u001b[0m: \u001b[32m'時間管理的藝術'\u001b[0m\u001b[1m}\u001b[0m\n",
              "    \u001b[1m)\u001b[0m,\n",
              "    \u001b[1;35mDocument\u001b[0m\u001b[1m(\u001b[0m\n",
              "        \u001b[33mpage_content\u001b[0m=\u001b[32m'在快節奏的現代生活中，時間成為了一種寶貴的資源。\\n良好的時間管理不僅可以幫助我們完成更多的工\u001b[0m\n",
              "\u001b[32m作，還可以提高生活質量，\\n給予我們更多時間去追求個人興趣和與家人、朋友相處的時光。'\u001b[0m,\n",
              "        \u001b[33mmetadata\u001b[0m=\u001b[1m{\u001b[0m\u001b[32m'Header 1'\u001b[0m: \u001b[32m'時間管理的藝術'\u001b[0m, \u001b[32m'Header 2'\u001b[0m: \u001b[32m'為什麼時間管理如此重要？'\u001b[0m\u001b[1m}\u001b[0m\n",
              "    \u001b[1m)\u001b[0m,\n",
              "    \u001b[1;35mDocument\u001b[0m\u001b[1m(\u001b[0m\n",
              "        \u001b[33mpage_content\u001b[0m=\u001b[32m'- **確定優先順序**：了解哪些任務最重要，哪些可以稍後處理。\\n- \u001b[0m\n",
              "\u001b[32m**SMART目標**：設定具體（Specific）、可衡量（Measurable）、\\n可達成（Achievable）、相關（Relevant）、時間限定（Time\u001b[0m\n",
              "\u001b[32m-bound）的目標。'\u001b[0m,\n",
              "        \u001b[33mmetadata\u001b[0m=\u001b[1m{\u001b[0m\u001b[32m'Header 1'\u001b[0m: \u001b[32m'時間管理的藝術'\u001b[0m, \u001b[32m'Header 2'\u001b[0m: \u001b[32m'基本時間管理技巧'\u001b[0m, \u001b[32m'Header 3'\u001b[0m: \u001b[32m'設定目標'\u001b[0m\u001b[1m}\u001b[0m\n",
              "    \u001b[1m)\u001b[0m,\n",
              "    \u001b[1;35mDocument\u001b[0m\u001b[1m(\u001b[0m\n",
              "        \u001b[33mpage_content\u001b[0m=\u001b[32m'- **每日計劃**：每天制定一個實際可行的待辦事項清單。\\n- \u001b[0m\n",
              "\u001b[32m**時間塊劃分**：將一天分成幾個時間塊，每個時間塊分配特定的任務。'\u001b[0m,\n",
              "        \u001b[33mmetadata\u001b[0m=\u001b[1m{\u001b[0m\u001b[32m'Header 1'\u001b[0m: \u001b[32m'時間管理的藝術'\u001b[0m, \u001b[32m'Header 2'\u001b[0m: \u001b[32m'基本時間管理技巧'\u001b[0m, \u001b[32m'Header 3'\u001b[0m: \u001b[32m'規劃你的時間'\u001b[0m\u001b[1m}\u001b[0m\n",
              "    \u001b[1m)\u001b[0m,\n",
              "    \u001b[1;35mDocument\u001b[0m\u001b[1m(\u001b[0m\n",
              "        \u001b[33mpage_content\u001b[0m=\u001b[32m'- **使用番茄工作法**：專注工作25分鐘，然後休息5分鐘。\\n- \u001b[0m\n",
              "\u001b[32m**設定獎勵**：完成任務後給自己一些小獎勵。'\u001b[0m,\n",
              "        \u001b[33mmetadata\u001b[0m=\u001b[1m{\u001b[0m\u001b[32m'Header 1'\u001b[0m: \u001b[32m'時間管理的藝術'\u001b[0m, \u001b[32m'Header 2'\u001b[0m: \u001b[32m'基本時間管理技巧'\u001b[0m, \u001b[32m'Header 3'\u001b[0m: \u001b[32m'避免拖延'\u001b[0m\u001b[1m}\u001b[0m\n",
              "    \u001b[1m)\u001b[0m,\n",
              "    \u001b[1;35mDocument\u001b[0m\u001b[1m(\u001b[0m\n",
              "        \u001b[33mpage_content\u001b[0m=\u001b[32m'- **Google Calendar**：用於時間規劃和會議安排。\\n- \u001b[0m\n",
              "\u001b[32m**Trello**：一個項目管理工具，有助於跟蹤任務和進度。\\n- **Pomodoro Timer**：一個簡單的線上番茄鐘工具。'\u001b[0m,\n",
              "        \u001b[33mmetadata\u001b[0m=\u001b[1m{\u001b[0m\u001b[32m'Header 1'\u001b[0m: \u001b[32m'時間管理的藝術'\u001b[0m, \u001b[32m'Header 2'\u001b[0m: \u001b[32m'工具和應用'\u001b[0m\u001b[1m}\u001b[0m\n",
              "    \u001b[1m)\u001b[0m,\n",
              "    \u001b[1;35mDocument\u001b[0m\u001b[1m(\u001b[0m\n",
              "        \u001b[33mpage_content\u001b[0m=\u001b[32m'有效的時間管理要求持之以恆的努力和自我反思。透過實踐上述技巧，\\n您將能夠更有效地利用您的時間\u001b[0m\n",
              "\u001b[32m，達成個人和專業目標，同時享有更豐富的個人生活。'\u001b[0m,\n",
              "        \u001b[33mmetadata\u001b[0m=\u001b[1m{\u001b[0m\u001b[32m'Header 1'\u001b[0m: \u001b[32m'時間管理的藝術'\u001b[0m, \u001b[32m'Header 2'\u001b[0m: \u001b[32m'結語'\u001b[0m\u001b[1m}\u001b[0m\n",
              "    \u001b[1m)\u001b[0m\n",
              "\u001b[1m]\u001b[0m\n"
            ],
            "text/html": [
              "<pre style=\"white-space:pre;overflow-x:auto;line-height:normal;font-family:Menlo,'DejaVu Sans Mono',consolas,'Courier New',monospace\"><span style=\"font-weight: bold\">[</span>\n",
              "    <span style=\"color: #800080; text-decoration-color: #800080; font-weight: bold\">Document</span><span style=\"font-weight: bold\">(</span>\n",
              "        <span style=\"color: #808000; text-decoration-color: #808000\">page_content</span>=<span style=\"color: #008000; text-decoration-color: #008000\">'時間管理是一項關鍵技能，可以幫助個人有效地利用時間，提高生產力和效率。\\n本文件旨在提供一些基</span>\n",
              "<span style=\"color: #008000; text-decoration-color: #008000\">本的時間管理技巧，幫助讀者更好地規劃和利用自己的時間。'</span>,\n",
              "        <span style=\"color: #808000; text-decoration-color: #808000\">metadata</span>=<span style=\"font-weight: bold\">{</span><span style=\"color: #008000; text-decoration-color: #008000\">'Header 1'</span>: <span style=\"color: #008000; text-decoration-color: #008000\">'時間管理的藝術'</span><span style=\"font-weight: bold\">}</span>\n",
              "    <span style=\"font-weight: bold\">)</span>,\n",
              "    <span style=\"color: #800080; text-decoration-color: #800080; font-weight: bold\">Document</span><span style=\"font-weight: bold\">(</span>\n",
              "        <span style=\"color: #808000; text-decoration-color: #808000\">page_content</span>=<span style=\"color: #008000; text-decoration-color: #008000\">'在快節奏的現代生活中，時間成為了一種寶貴的資源。\\n良好的時間管理不僅可以幫助我們完成更多的工</span>\n",
              "<span style=\"color: #008000; text-decoration-color: #008000\">作，還可以提高生活質量，\\n給予我們更多時間去追求個人興趣和與家人、朋友相處的時光。'</span>,\n",
              "        <span style=\"color: #808000; text-decoration-color: #808000\">metadata</span>=<span style=\"font-weight: bold\">{</span><span style=\"color: #008000; text-decoration-color: #008000\">'Header 1'</span>: <span style=\"color: #008000; text-decoration-color: #008000\">'時間管理的藝術'</span>, <span style=\"color: #008000; text-decoration-color: #008000\">'Header 2'</span>: <span style=\"color: #008000; text-decoration-color: #008000\">'為什麼時間管理如此重要？'</span><span style=\"font-weight: bold\">}</span>\n",
              "    <span style=\"font-weight: bold\">)</span>,\n",
              "    <span style=\"color: #800080; text-decoration-color: #800080; font-weight: bold\">Document</span><span style=\"font-weight: bold\">(</span>\n",
              "        <span style=\"color: #808000; text-decoration-color: #808000\">page_content</span>=<span style=\"color: #008000; text-decoration-color: #008000\">'- **確定優先順序**：了解哪些任務最重要，哪些可以稍後處理。\\n- </span>\n",
              "<span style=\"color: #008000; text-decoration-color: #008000\">**SMART目標**：設定具體（Specific）、可衡量（Measurable）、\\n可達成（Achievable）、相關（Relevant）、時間限定（Time</span>\n",
              "<span style=\"color: #008000; text-decoration-color: #008000\">-bound）的目標。'</span>,\n",
              "        <span style=\"color: #808000; text-decoration-color: #808000\">metadata</span>=<span style=\"font-weight: bold\">{</span><span style=\"color: #008000; text-decoration-color: #008000\">'Header 1'</span>: <span style=\"color: #008000; text-decoration-color: #008000\">'時間管理的藝術'</span>, <span style=\"color: #008000; text-decoration-color: #008000\">'Header 2'</span>: <span style=\"color: #008000; text-decoration-color: #008000\">'基本時間管理技巧'</span>, <span style=\"color: #008000; text-decoration-color: #008000\">'Header 3'</span>: <span style=\"color: #008000; text-decoration-color: #008000\">'設定目標'</span><span style=\"font-weight: bold\">}</span>\n",
              "    <span style=\"font-weight: bold\">)</span>,\n",
              "    <span style=\"color: #800080; text-decoration-color: #800080; font-weight: bold\">Document</span><span style=\"font-weight: bold\">(</span>\n",
              "        <span style=\"color: #808000; text-decoration-color: #808000\">page_content</span>=<span style=\"color: #008000; text-decoration-color: #008000\">'- **每日計劃**：每天制定一個實際可行的待辦事項清單。\\n- </span>\n",
              "<span style=\"color: #008000; text-decoration-color: #008000\">**時間塊劃分**：將一天分成幾個時間塊，每個時間塊分配特定的任務。'</span>,\n",
              "        <span style=\"color: #808000; text-decoration-color: #808000\">metadata</span>=<span style=\"font-weight: bold\">{</span><span style=\"color: #008000; text-decoration-color: #008000\">'Header 1'</span>: <span style=\"color: #008000; text-decoration-color: #008000\">'時間管理的藝術'</span>, <span style=\"color: #008000; text-decoration-color: #008000\">'Header 2'</span>: <span style=\"color: #008000; text-decoration-color: #008000\">'基本時間管理技巧'</span>, <span style=\"color: #008000; text-decoration-color: #008000\">'Header 3'</span>: <span style=\"color: #008000; text-decoration-color: #008000\">'規劃你的時間'</span><span style=\"font-weight: bold\">}</span>\n",
              "    <span style=\"font-weight: bold\">)</span>,\n",
              "    <span style=\"color: #800080; text-decoration-color: #800080; font-weight: bold\">Document</span><span style=\"font-weight: bold\">(</span>\n",
              "        <span style=\"color: #808000; text-decoration-color: #808000\">page_content</span>=<span style=\"color: #008000; text-decoration-color: #008000\">'- **使用番茄工作法**：專注工作25分鐘，然後休息5分鐘。\\n- </span>\n",
              "<span style=\"color: #008000; text-decoration-color: #008000\">**設定獎勵**：完成任務後給自己一些小獎勵。'</span>,\n",
              "        <span style=\"color: #808000; text-decoration-color: #808000\">metadata</span>=<span style=\"font-weight: bold\">{</span><span style=\"color: #008000; text-decoration-color: #008000\">'Header 1'</span>: <span style=\"color: #008000; text-decoration-color: #008000\">'時間管理的藝術'</span>, <span style=\"color: #008000; text-decoration-color: #008000\">'Header 2'</span>: <span style=\"color: #008000; text-decoration-color: #008000\">'基本時間管理技巧'</span>, <span style=\"color: #008000; text-decoration-color: #008000\">'Header 3'</span>: <span style=\"color: #008000; text-decoration-color: #008000\">'避免拖延'</span><span style=\"font-weight: bold\">}</span>\n",
              "    <span style=\"font-weight: bold\">)</span>,\n",
              "    <span style=\"color: #800080; text-decoration-color: #800080; font-weight: bold\">Document</span><span style=\"font-weight: bold\">(</span>\n",
              "        <span style=\"color: #808000; text-decoration-color: #808000\">page_content</span>=<span style=\"color: #008000; text-decoration-color: #008000\">'- **Google Calendar**：用於時間規劃和會議安排。\\n- </span>\n",
              "<span style=\"color: #008000; text-decoration-color: #008000\">**Trello**：一個項目管理工具，有助於跟蹤任務和進度。\\n- **Pomodoro Timer**：一個簡單的線上番茄鐘工具。'</span>,\n",
              "        <span style=\"color: #808000; text-decoration-color: #808000\">metadata</span>=<span style=\"font-weight: bold\">{</span><span style=\"color: #008000; text-decoration-color: #008000\">'Header 1'</span>: <span style=\"color: #008000; text-decoration-color: #008000\">'時間管理的藝術'</span>, <span style=\"color: #008000; text-decoration-color: #008000\">'Header 2'</span>: <span style=\"color: #008000; text-decoration-color: #008000\">'工具和應用'</span><span style=\"font-weight: bold\">}</span>\n",
              "    <span style=\"font-weight: bold\">)</span>,\n",
              "    <span style=\"color: #800080; text-decoration-color: #800080; font-weight: bold\">Document</span><span style=\"font-weight: bold\">(</span>\n",
              "        <span style=\"color: #808000; text-decoration-color: #808000\">page_content</span>=<span style=\"color: #008000; text-decoration-color: #008000\">'有效的時間管理要求持之以恆的努力和自我反思。透過實踐上述技巧，\\n您將能夠更有效地利用您的時間</span>\n",
              "<span style=\"color: #008000; text-decoration-color: #008000\">，達成個人和專業目標，同時享有更豐富的個人生活。'</span>,\n",
              "        <span style=\"color: #808000; text-decoration-color: #808000\">metadata</span>=<span style=\"font-weight: bold\">{</span><span style=\"color: #008000; text-decoration-color: #008000\">'Header 1'</span>: <span style=\"color: #008000; text-decoration-color: #008000\">'時間管理的藝術'</span>, <span style=\"color: #008000; text-decoration-color: #008000\">'Header 2'</span>: <span style=\"color: #008000; text-decoration-color: #008000\">'結語'</span><span style=\"font-weight: bold\">}</span>\n",
              "    <span style=\"font-weight: bold\">)</span>\n",
              "<span style=\"font-weight: bold\">]</span>\n",
              "</pre>\n"
            ]
          },
          "metadata": {}
        }
      ]
    },
    {
      "cell_type": "code",
      "source": [
        "chunk_size = 50\n",
        "chunk_overlap = 10\n",
        "\n",
        "text_splitter = RecursiveCharacterTextSplitter(\n",
        "    chunk_size=chunk_size, chunk_overlap=chunk_overlap\n",
        ")\n",
        "\n",
        "splits = text_splitter.split_documents(md_header_splits)\n",
        "pprint(splits[:2])"
      ],
      "metadata": {
        "colab": {
          "base_uri": "https://localhost:8080/",
          "height": 187
        },
        "id": "E2qz7GxRhRnI",
        "outputId": "d3c23a7d-b864-4a42-c128-8c50efcfcb13"
      },
      "execution_count": null,
      "outputs": [
        {
          "output_type": "display_data",
          "data": {
            "text/plain": [
              "\u001b[1m[\u001b[0m\n",
              "    \u001b[1;35mDocument\u001b[0m\u001b[1m(\u001b[0m\n",
              "        \u001b[33mpage_content\u001b[0m=\u001b[32m'時間管理是一項關鍵技能，可以幫助個人有效地利用時間，提高生產力和效率。'\u001b[0m,\n",
              "        \u001b[33mmetadata\u001b[0m=\u001b[1m{\u001b[0m\u001b[32m'Header 1'\u001b[0m: \u001b[32m'時間管理的藝術'\u001b[0m\u001b[1m}\u001b[0m\n",
              "    \u001b[1m)\u001b[0m,\n",
              "    \u001b[1;35mDocument\u001b[0m\u001b[1m(\u001b[0m\n",
              "        \u001b[33mpage_content\u001b[0m=\u001b[32m'本文件旨在提供一些基本的時間管理技巧，幫助讀者更好地規劃和利用自己的時間。'\u001b[0m,\n",
              "        \u001b[33mmetadata\u001b[0m=\u001b[1m{\u001b[0m\u001b[32m'Header 1'\u001b[0m: \u001b[32m'時間管理的藝術'\u001b[0m\u001b[1m}\u001b[0m\n",
              "    \u001b[1m)\u001b[0m\n",
              "\u001b[1m]\u001b[0m\n"
            ],
            "text/html": [
              "<pre style=\"white-space:pre;overflow-x:auto;line-height:normal;font-family:Menlo,'DejaVu Sans Mono',consolas,'Courier New',monospace\"><span style=\"font-weight: bold\">[</span>\n",
              "    <span style=\"color: #800080; text-decoration-color: #800080; font-weight: bold\">Document</span><span style=\"font-weight: bold\">(</span>\n",
              "        <span style=\"color: #808000; text-decoration-color: #808000\">page_content</span>=<span style=\"color: #008000; text-decoration-color: #008000\">'時間管理是一項關鍵技能，可以幫助個人有效地利用時間，提高生產力和效率。'</span>,\n",
              "        <span style=\"color: #808000; text-decoration-color: #808000\">metadata</span>=<span style=\"font-weight: bold\">{</span><span style=\"color: #008000; text-decoration-color: #008000\">'Header 1'</span>: <span style=\"color: #008000; text-decoration-color: #008000\">'時間管理的藝術'</span><span style=\"font-weight: bold\">}</span>\n",
              "    <span style=\"font-weight: bold\">)</span>,\n",
              "    <span style=\"color: #800080; text-decoration-color: #800080; font-weight: bold\">Document</span><span style=\"font-weight: bold\">(</span>\n",
              "        <span style=\"color: #808000; text-decoration-color: #808000\">page_content</span>=<span style=\"color: #008000; text-decoration-color: #008000\">'本文件旨在提供一些基本的時間管理技巧，幫助讀者更好地規劃和利用自己的時間。'</span>,\n",
              "        <span style=\"color: #808000; text-decoration-color: #808000\">metadata</span>=<span style=\"font-weight: bold\">{</span><span style=\"color: #008000; text-decoration-color: #008000\">'Header 1'</span>: <span style=\"color: #008000; text-decoration-color: #008000\">'時間管理的藝術'</span><span style=\"font-weight: bold\">}</span>\n",
              "    <span style=\"font-weight: bold\">)</span>\n",
              "<span style=\"font-weight: bold\">]</span>\n",
              "</pre>\n"
            ]
          },
          "metadata": {}
        }
      ]
    },
    {
      "cell_type": "markdown",
      "source": [
        "### html"
      ],
      "metadata": {
        "id": "RjTaFBbLa3dC"
      }
    },
    {
      "cell_type": "code",
      "source": [
        "from langchain_text_splitters import HTMLHeaderTextSplitter"
      ],
      "metadata": {
        "id": "yoDc-453hVU9"
      },
      "execution_count": null,
      "outputs": []
    },
    {
      "cell_type": "code",
      "source": [
        "url = \"https://zh.wikipedia.org/zh-tw/%E8%94%A1%E8%8B%B1%E6%96%87\"\n",
        "\n",
        "headers_to_split_on = [\n",
        "    (\"h1\", \"Header 1\"),\n",
        "    (\"h2\", \"Header 2\"),\n",
        "    (\"h3\", \"Header 3\"),\n",
        "    (\"h4\", \"Header 4\"),\n",
        "]\n",
        "\n",
        "html_splitter = HTMLHeaderTextSplitter(\n",
        "    headers_to_split_on=headers_to_split_on\n",
        ")\n",
        "\n",
        "html_header_splits = html_splitter.split_text_from_url(url)\n",
        "pprint(html_header_splits[5:8])"
      ],
      "metadata": {
        "colab": {
          "base_uri": "https://localhost:8080/",
          "height": 879
        },
        "id": "dxc83EOGhXt9",
        "outputId": "7f37144f-0a9e-4f0f-c3c8-edcfc4624090"
      },
      "execution_count": null,
      "outputs": [
        {
          "output_type": "display_data",
          "data": {
            "text/plain": [
              "\u001b[1m[\u001b[0m\n",
              "    \u001b[1;35mDocument\u001b[0m\u001b[1m(\u001b[0m\n",
              "        \u001b[33mpage_content\u001b[0m=\u001b[32m'1986年，由於自身的國際貿易專業知識，蔡英文首次加入中華民國政府擔任相關官員\u001b[0m\u001b[32m[\u001b[0m\u001b[32m40\u001b[0m\u001b[32m]\u001b[0m\u001b[32m，在1980年代後\u001b[0m\n",
              "\u001b[32m期開始參與臺灣對外的經濟貿易談判\u001b[0m\u001b[32m[\u001b[0m\u001b[32m38\u001b[0m\u001b[32m]\u001b[0m\u001b[32m。她後來成為首席談判代表，在第一線參與關鍵談判\u001b[0m\u001b[32m[\u001b[0m\u001b[32m38\u001b[0m\u001b[32m]\u001b[0m\u001b[32m[\u001b[0m\u001b[32m40\u001b[0m\u001b[32m]\u001b[0m\u001b[32m。同時還加入政府，開始出\u001b[0m\n",
              "\u001b[32m任一系列重要、且政策導向的職務\u001b[0m\u001b[32m[\u001b[0m\u001b[32m71\u001b[0m\u001b[32m]\u001b[0m\u001b[32m。在1993年至2000年，她擔任經濟部貿易調查委員會委員\u001b[0m\u001b[32m[\u001b[0m\u001b[32m82\u001b[0m\u001b[32m]\u001b[0m\u001b[32m。在1995年至1998年，她獲委\u001b[0m\n",
              "\u001b[32m任行政院公平交易委員會委員\u001b[0m\u001b[32m[\u001b[0m\u001b[32m61\u001b[0m\u001b[32m]\u001b[0m\u001b[32m、及內政部著作權委員會委員\u001b[0m\u001b[32m[\u001b[0m\u001b[32m69\u001b[0m\u001b[32m]\u001b[0m\u001b[32m[\u001b[0m\u001b[32m84\u001b[0m\u001b[32m]\u001b[0m\u001b[32m。  \u001b[0m\n",
              "\u001b[32m\\n在1990年到2002年期間，臺灣的經濟體系試圖加入關稅暨貿易總協定、世界貿易組織\u001b[0m\u001b[32m[\u001b[0m\u001b[32m38\u001b[0m\u001b[32m]\u001b[0m\u001b[32m。從1992年至2000年，她加入中華民國\u001b[0m\n",
              "\u001b[32m經濟部，擔任國際經濟組織的首席法律顧問\u001b[0m\u001b[32m[\u001b[0m\u001b[32m43\u001b[0m\u001b[32m]\u001b[0m\u001b[32m[\u001b[0m\u001b[32m61\u001b[0m\u001b[32m]\u001b[0m\u001b[32m，協助臺灣申請加入世界貿易組織\u001b[0m\u001b[32m[\u001b[0m\u001b[32m69\u001b[0m\u001b[32m]\u001b[0m\u001b[32m[\u001b[0m\u001b[32m85\u001b[0m\u001b[32m]\u001b[0m\u001b[32m。從1998年起，她更直接參與臺灣\u001b[0m\n",
              "\u001b[32m與世界貿易組織的談判，並向政府提出建議\u001b[0m\u001b[32m[\u001b[0m\u001b[32m86\u001b[0m\u001b[32m]\u001b[0m\u001b[32m，從而發揮重要作用\u001b[0m\u001b[32m[\u001b[0m\u001b[32m87\u001b[0m\u001b[32m]\u001b[0m\u001b[32m[\u001b[0m\u001b[32m88\u001b[0m\u001b[32m]\u001b[0m\u001b[32m[\u001b[0m\u001b[32m89\u001b[0m\u001b[32m]\u001b[0m\u001b[32m。  \u001b[0m\n",
              "\u001b[32m\\n另外在1990年代，她還經常性參與亞太經濟合作會議的會議，曾擔任貿易及投資委員會服務業小組主席\u001b[0m\u001b[32m[\u001b[0m\u001b[32m38\u001b[0m\u001b[32m]\u001b[0m\u001b[32m。2000年，在給民主\u001b[0m\n",
              "\u001b[32m進步黨政黨領袖陳水扁上過「世界貿易組織專案課程」後，讓陳水扁對她讚賞不已，後來因看重其主導「特殊的國與國關係」、多\u001b[0m\n",
              "\u001b[32m次參與國際談判、及參與海峽兩岸「辜汪會談」等，決定延攬當時尚不知名的她進入執政團隊\u001b[0m\u001b[32m[\u001b[0m\u001b[32m33\u001b[0m\u001b[32m]\u001b[0m\u001b[32m[\u001b[0m\u001b[32m78\u001b[0m\u001b[32m]\u001b[0m\u001b[32m。'\u001b[0m,\n",
              "        \u001b[33mmetadata\u001b[0m=\u001b[1m{\u001b[0m\u001b[32m'Header 1'\u001b[0m: \u001b[32m'蔡英文'\u001b[0m, \u001b[32m'Header 2'\u001b[0m: \u001b[32m'早期工作'\u001b[0m, \u001b[32m'Header 3'\u001b[0m: \u001b[32m'貿易談判代表'\u001b[0m\u001b[1m}\u001b[0m\n",
              "    \u001b[1m)\u001b[0m,\n",
              "    \u001b[1;35mDocument\u001b[0m\u001b[1m(\u001b[0m\n",
              "        \u001b[33mpage_content\u001b[0m=\u001b[32m'1994年，在經過長期的國際事務歷練後，蔡英文深深獲得時任中華民國總統李登輝等政府高級官員的賞識\u001b[0m\u001b[32m[\u001b[0m\n",
              "\u001b[32m72\u001b[0m\u001b[32m]\u001b[0m\u001b[32m，並欽點她擔任李登輝政府的兩岸問題專家\u001b[0m\u001b[32m[\u001b[0m\u001b[32m50\u001b[0m\u001b[32m]\u001b[0m\u001b[32m[\u001b[0m\u001b[32m69\u001b[0m\u001b[32m]\u001b[0m\u001b[32m[\u001b[0m\u001b[32m86\u001b[0m\u001b[32m]\u001b[0m\u001b[32m。從1994年至1998年，蔡英文擔任行政院大陸委員會諮詢委員會委員\u001b[0m\u001b[32m[\u001b[0m\u001b[32m6\u001b[0m\n",
              "\u001b[32m1\u001b[0m\u001b[32m]\u001b[0m\u001b[32m[\u001b[0m\u001b[32m69\u001b[0m\u001b[32m]\u001b[0m\u001b[32m，協助統籌處理海峽兩岸關係事務\u001b[0m\u001b[32m[\u001b[0m\u001b[32m90\u001b[0m\u001b[32m]\u001b[0m\u001b[32m[\u001b[0m\u001b[32m84\u001b[0m\u001b[32m]\u001b[0m\u001b[32m。其政治生涯因這次機緣，長期與兩岸問題有密切關係\u001b[0m\u001b[32m[\u001b[0m\u001b[32m90\u001b[0m\u001b[32m]\u001b[0m\u001b[32m。在1994年至1995年\u001b[0m\n",
              "\u001b[32m，她擔任《香港澳門關係條例》起草研究小組召集人，負責起草管理臺灣、香港與澳門間經濟關係的法案\u001b[0m\u001b[32m[\u001b[0m\u001b[32m69\u001b[0m\u001b[32m]\u001b[0m\u001b[32m[\u001b[0m\u001b[32m91\u001b[0m\u001b[32m]\u001b[0m\u001b[32m。  \u001b[0m\n",
              "\u001b[32m\\n從1990年代後期起，海峽兩岸關係歷經數次波動\u001b[0m\u001b[32m[\u001b[0m\u001b[32m38\u001b[0m\u001b[32m]\u001b[0m\u001b[32m。1998年，她以行政院大陸委員會諮詢委員身分，出席第二次辜汪會談，擔\u001b[0m\n",
              "\u001b[32m任隨團發言人\u001b[0m\u001b[32m[\u001b[0m\u001b[32m80\u001b[0m\u001b[32m]\u001b[0m\u001b[32m。1999年至2000年，李登輝聘請她兼任中華民國總統府國家安全會議諮詢委員\u001b[0m\u001b[32m[\u001b[0m\u001b[32m61\u001b[0m\u001b[32m]\u001b[0m\u001b[32m，及出任第六屆國家統一委員\u001b[0m\n",
              "\u001b[32m會研究委員，成為身邊的重要幕僚之一\u001b[0m\u001b[32m[\u001b[0m\u001b[32m33\u001b[0m\u001b[32m]\u001b[0m\u001b[32m[\u001b[0m\u001b[32m84\u001b[0m\u001b[32m]\u001b[0m\u001b[32m。1999年，在國家安全會議的專案委託下\u001b[0m\u001b[32m[\u001b[0m\u001b[32m92\u001b[0m\u001b[32m]\u001b[0m\u001b[32m，擔任李登輝執政最著名的「特殊的\u001b[0m\n",
              "\u001b[32m國與國關係」研究小組召集人\u001b[0m\u001b[32m[\u001b[0m\u001b[32m43\u001b[0m\u001b[32m]\u001b[0m\u001b[32m[\u001b[0m\u001b[32m77\u001b[0m\u001b[32m]\u001b[0m\u001b[32m[\u001b[0m\u001b[32m84\u001b[0m\u001b[32m]\u001b[0m\u001b[32m。  \u001b[0m\n",
              "\u001b[32m\\n在這期間，她由中華民國國家安全局丁渝洲提撥研究經費\u001b[0m\u001b[32m[\u001b[0m\u001b[32m93\u001b[0m\u001b[32m]\u001b[0m\u001b[32m[\u001b[0m\u001b[32m94\u001b[0m\u001b[32m]\u001b[0m\u001b[32m，參與「特殊的國與國關係」解決方案的起草\u001b[0m\u001b[32m[\u001b[0m\u001b[32m77\u001b[0m\u001b[32m]\u001b[0m\u001b[32m[\u001b[0m\u001b[32m95\u001b[0m\u001b[32m]\u001b[0m\u001b[32m，是研\u001b[0m\n",
              "\u001b[32m究報告的主筆人\u001b[0m\u001b[32m[\u001b[0m\u001b[32m90\u001b[0m\u001b[32m]\u001b[0m\u001b[32m[\u001b[0m\u001b[32m72\u001b[0m\u001b[32m]\u001b[0m\u001b[32m[\u001b[0m\u001b[32m92\u001b[0m\u001b[32m]\u001b[0m\u001b[32m，此後李登輝採用該研究成果，公開提出「特殊的國與國關係」理論\u001b[0m\u001b[32m[\u001b[0m\u001b[32m92\u001b[0m\u001b[32m]\u001b[0m\u001b[32m，導致1999年海峽兩岸關係\u001b[0m\n",
              "\u001b[32m陷入緊張\u001b[0m\u001b[32m[\u001b[0m\u001b[32m50\u001b[0m\u001b[32m]\u001b[0m\u001b[32m。這段歷史曾讓馬英九在出席競選活動時要求說明\u001b[0m\u001b[32m[\u001b[0m\u001b[32m90\u001b[0m\u001b[32m]\u001b[0m\u001b[32m，中國共產黨也藉此指控她是「分裂中國的始作俑者」\u001b[0m\u001b[32m[\u001b[0m\u001b[32m92\u001b[0m\u001b[32m]\u001b[0m\u001b[32m。'\u001b[0m\n",
              ",\n",
              "        \u001b[33mmetadata\u001b[0m=\u001b[1m{\u001b[0m\u001b[32m'Header 1'\u001b[0m: \u001b[32m'蔡英文'\u001b[0m, \u001b[32m'Header 2'\u001b[0m: \u001b[32m'早期工作'\u001b[0m, \u001b[32m'Header 3'\u001b[0m: \u001b[32m'兩岸關係幕僚'\u001b[0m\u001b[1m}\u001b[0m\n",
              "    \u001b[1m)\u001b[0m,\n",
              "    \u001b[1;35mDocument\u001b[0m\u001b[1m(\u001b[0m\n",
              "        \u001b[33mpage_content\u001b[0m=\u001b[32m'2000年，民主進步黨候選人陳水扁當選總統，並在5月20日執政\u001b[0m\u001b[32m[\u001b[0m\u001b[32m96\u001b[0m\u001b[32m]\u001b[0m\u001b[32m。這是該黨首次執政\u001b[0m\u001b[32m[\u001b[0m\u001b[32m78\u001b[0m\u001b[32m]\u001b[0m\u001b[32m，對內需要擴\u001b[0m\n",
              "\u001b[32m展民意支持、鞏固政權基礎，對外則要穩定海峽兩岸關係、安撫美國\u001b[0m\u001b[32m[\u001b[0m\u001b[32m33\u001b[0m\u001b[32m]\u001b[0m\u001b[32m。經過邀請，陳水扁任命蔡英文擔任行政院大陸委員會主\u001b[0m\n",
              "\u001b[32m任委員\u001b[0m\u001b[32m[\u001b[0m\u001b[32m43\u001b[0m\u001b[32m]\u001b[0m\u001b[32m[\u001b[0m\u001b[32m61\u001b[0m\u001b[32m]\u001b[0m\u001b[32m[\u001b[0m\u001b[32m96\u001b[0m\u001b[32m]\u001b[0m\u001b[32m，並參加國家安全會議，開始其高層政治生涯\u001b[0m\u001b[32m[\u001b[0m\u001b[32m30\u001b[0m\u001b[32m]\u001b[0m\u001b[32m。這是她第一次真正步入政壇\u001b[0m\u001b[32m[\u001b[0m\u001b[32m72\u001b[0m\u001b[32m]\u001b[0m\u001b[32m，也正式與中華人民共和\u001b[0m\n",
              "\u001b[32m國交手\u001b[0m\u001b[32m[\u001b[0m\u001b[32m92\u001b[0m\u001b[32m]\u001b[0m\u001b[32m[\u001b[0m\u001b[32m97\u001b[0m\u001b[32m]\u001b[0m\u001b[32m[\u001b[0m\u001b[32m98\u001b[0m\u001b[32m]\u001b[0m\u001b[32m。作為陳水扁任內首位行政院大陸委員會主任委員，她還是行政院大陸委員會首位女性主任委員\u001b[0m\u001b[32m[\u001b[0m\u001b[32m72\u001b[0m\u001b[32m]\u001b[0m\u001b[32m、及首位\u001b[0m\n",
              "\u001b[32m完成4年任期的主任委員\u001b[0m\u001b[32m[\u001b[0m\u001b[32m92\u001b[0m\u001b[32m]\u001b[0m\u001b[32m。  \u001b[0m\n",
              "\u001b[32m\\n在這期間，她認為「特殊的國與國關係」是開創海峽兩岸關係新架構的提議\u001b[0m\u001b[32m[\u001b[0m\u001b[32m35\u001b[0m\u001b[32m]\u001b[0m\u001b[32m，並緊急阻止陳水扁為了改善兩岸關係而接受「\u001b[0m\n",
              "\u001b[32m九二共識」的做法\u001b[0m\u001b[32m[\u001b[0m\u001b[32m92\u001b[0m\u001b[32m]\u001b[0m\u001b[32m。在這期間，蔡英文最重要的海峽兩岸政策，是在第一線與中國大陸協商，最後促成「小三通」模式自2001\u001b[0m\n",
              "\u001b[32m年1月1日起開放，實現小規模的通商、通航和通郵\u001b[0m\u001b[32m[\u001b[0m\u001b[32m90\u001b[0m\u001b[32m]\u001b[0m\u001b[32m[\u001b[0m\u001b[32m99\u001b[0m\u001b[32m]\u001b[0m\u001b[32m。她還曾自稱是臺灣人，也是文化和血緣上的中國人\u001b[0m\u001b[32m[\u001b[0m\u001b[32m100\u001b[0m\u001b[32m]\u001b[0m\u001b[32m。2001年，陳\u001b[0m\n",
              "\u001b[32m水扁對中國大陸釋出善意，又提出「統合論」，蔡英文則避開新聞媒體不斷追問的實質內涵，只以「善意」和「彈性」解釋\u001b[0m\u001b[32m[\u001b[0m\u001b[32m33\u001b[0m\u001b[32m]\u001b[0m\u001b[32m。\u001b[0m\n",
              "\u001b[32m蔡英文也以其英語口才和精確表達聞名，在2002年擔任調解人員，前往美國解釋陳水扁提出的臺灣和中國是「一邊一國」的說法\u001b[0m\u001b[32m[\u001b[0m\u001b[32m77\u001b[0m\n",
              "\u001b[32m]\u001b[0m\u001b[32m。2004年，她還參與公民投票辯論，不過認為這具有表演性質\u001b[0m\u001b[32m[\u001b[0m\u001b[32m33\u001b[0m\u001b[32m]\u001b[0m\u001b[32m。  \u001b[0m\n",
              "\u001b[32m\\n在缺乏和中華人民共和國交流和合作的管道下\u001b[0m\u001b[32m[\u001b[0m\u001b[32m101\u001b[0m\u001b[32m]\u001b[0m\u001b[32m，行政院大陸委員會還協調立法院通過《臺灣地區與大陸地區人民關係條例》\u001b[0m\n",
              "\u001b[32m修法\u001b[0m\u001b[32m[\u001b[0m\u001b[32m102\u001b[0m\u001b[32m]\u001b[0m\u001b[32m、兩岸春節包機直航\u001b[0m\u001b[32m[\u001b[0m\u001b[32m103\u001b[0m\u001b[32m]\u001b[0m\u001b[32m、完成臺灣和香港航權談判等\u001b[0m\u001b[32m[\u001b[0m\u001b[32m104\u001b[0m\u001b[32m]\u001b[0m\u001b[32m。蔡英文致力處理、主持海峽兩岸政策的發展\u001b[0m\u001b[32m[\u001b[0m\u001b[32m51\u001b[0m\u001b[32m]\u001b[0m\u001b[32m[\u001b[0m\u001b[32m38\u001b[0m\u001b[32m]\u001b[0m\u001b[32m[\u001b[0m\u001b[32m98\u001b[0m\u001b[32m]\u001b[0m\n",
              "\u001b[32m，也因為這是一份備受矚目的困難任務，讓她在臺灣很快受到注意\u001b[0m\u001b[32m[\u001b[0m\u001b[32m46\u001b[0m\u001b[32m]\u001b[0m\u001b[32m。她在連續4年的內閣閣員滿意度輿論調查都是第一名\u001b[0m\u001b[32m[\u001b[0m\u001b[32m92\u001b[0m\u001b[32m]\u001b[0m\u001b[32m。\u001b[0m\n",
              "\u001b[32m相對地，中華人民共和國政府則是把其視為「鬥爭與談判的對手」，並運用「文攻武嚇」的策略\u001b[0m\u001b[32m[\u001b[0m\u001b[32m92\u001b[0m\u001b[32m]\u001b[0m\u001b[32m。'\u001b[0m,\n",
              "        \u001b[33mmetadata\u001b[0m=\u001b[1m{\u001b[0m\u001b[32m'Header 1'\u001b[0m: \u001b[32m'蔡英文'\u001b[0m, \u001b[32m'Header 2'\u001b[0m: \u001b[32m'步入政壇'\u001b[0m, \u001b[32m'Header 3'\u001b[0m: \u001b[32m'陸委會主委'\u001b[0m\u001b[1m}\u001b[0m\n",
              "    \u001b[1m)\u001b[0m\n",
              "\u001b[1m]\u001b[0m\n"
            ],
            "text/html": [
              "<pre style=\"white-space:pre;overflow-x:auto;line-height:normal;font-family:Menlo,'DejaVu Sans Mono',consolas,'Courier New',monospace\"><span style=\"font-weight: bold\">[</span>\n",
              "    <span style=\"color: #800080; text-decoration-color: #800080; font-weight: bold\">Document</span><span style=\"font-weight: bold\">(</span>\n",
              "        <span style=\"color: #808000; text-decoration-color: #808000\">page_content</span>=<span style=\"color: #008000; text-decoration-color: #008000\">'1986年，由於自身的國際貿易專業知識，蔡英文首次加入中華民國政府擔任相關官員[40]，在1980年代後</span>\n",
              "<span style=\"color: #008000; text-decoration-color: #008000\">期開始參與臺灣對外的經濟貿易談判[38]。她後來成為首席談判代表，在第一線參與關鍵談判[38][40]。同時還加入政府，開始出</span>\n",
              "<span style=\"color: #008000; text-decoration-color: #008000\">任一系列重要、且政策導向的職務[71]。在1993年至2000年，她擔任經濟部貿易調查委員會委員[82]。在1995年至1998年，她獲委</span>\n",
              "<span style=\"color: #008000; text-decoration-color: #008000\">任行政院公平交易委員會委員[61]、及內政部著作權委員會委員[69][84]。  </span>\n",
              "<span style=\"color: #008000; text-decoration-color: #008000\">\\n在1990年到2002年期間，臺灣的經濟體系試圖加入關稅暨貿易總協定、世界貿易組織[38]。從1992年至2000年，她加入中華民國</span>\n",
              "<span style=\"color: #008000; text-decoration-color: #008000\">經濟部，擔任國際經濟組織的首席法律顧問[43][61]，協助臺灣申請加入世界貿易組織[69][85]。從1998年起，她更直接參與臺灣</span>\n",
              "<span style=\"color: #008000; text-decoration-color: #008000\">與世界貿易組織的談判，並向政府提出建議[86]，從而發揮重要作用[87][88][89]。  </span>\n",
              "<span style=\"color: #008000; text-decoration-color: #008000\">\\n另外在1990年代，她還經常性參與亞太經濟合作會議的會議，曾擔任貿易及投資委員會服務業小組主席[38]。2000年，在給民主</span>\n",
              "<span style=\"color: #008000; text-decoration-color: #008000\">進步黨政黨領袖陳水扁上過「世界貿易組織專案課程」後，讓陳水扁對她讚賞不已，後來因看重其主導「特殊的國與國關係」、多</span>\n",
              "<span style=\"color: #008000; text-decoration-color: #008000\">次參與國際談判、及參與海峽兩岸「辜汪會談」等，決定延攬當時尚不知名的她進入執政團隊[33][78]。'</span>,\n",
              "        <span style=\"color: #808000; text-decoration-color: #808000\">metadata</span>=<span style=\"font-weight: bold\">{</span><span style=\"color: #008000; text-decoration-color: #008000\">'Header 1'</span>: <span style=\"color: #008000; text-decoration-color: #008000\">'蔡英文'</span>, <span style=\"color: #008000; text-decoration-color: #008000\">'Header 2'</span>: <span style=\"color: #008000; text-decoration-color: #008000\">'早期工作'</span>, <span style=\"color: #008000; text-decoration-color: #008000\">'Header 3'</span>: <span style=\"color: #008000; text-decoration-color: #008000\">'貿易談判代表'</span><span style=\"font-weight: bold\">}</span>\n",
              "    <span style=\"font-weight: bold\">)</span>,\n",
              "    <span style=\"color: #800080; text-decoration-color: #800080; font-weight: bold\">Document</span><span style=\"font-weight: bold\">(</span>\n",
              "        <span style=\"color: #808000; text-decoration-color: #808000\">page_content</span>=<span style=\"color: #008000; text-decoration-color: #008000\">'1994年，在經過長期的國際事務歷練後，蔡英文深深獲得時任中華民國總統李登輝等政府高級官員的賞識[</span>\n",
              "<span style=\"color: #008000; text-decoration-color: #008000\">72]，並欽點她擔任李登輝政府的兩岸問題專家[50][69][86]。從1994年至1998年，蔡英文擔任行政院大陸委員會諮詢委員會委員[6</span>\n",
              "<span style=\"color: #008000; text-decoration-color: #008000\">1][69]，協助統籌處理海峽兩岸關係事務[90][84]。其政治生涯因這次機緣，長期與兩岸問題有密切關係[90]。在1994年至1995年</span>\n",
              "<span style=\"color: #008000; text-decoration-color: #008000\">，她擔任《香港澳門關係條例》起草研究小組召集人，負責起草管理臺灣、香港與澳門間經濟關係的法案[69][91]。  </span>\n",
              "<span style=\"color: #008000; text-decoration-color: #008000\">\\n從1990年代後期起，海峽兩岸關係歷經數次波動[38]。1998年，她以行政院大陸委員會諮詢委員身分，出席第二次辜汪會談，擔</span>\n",
              "<span style=\"color: #008000; text-decoration-color: #008000\">任隨團發言人[80]。1999年至2000年，李登輝聘請她兼任中華民國總統府國家安全會議諮詢委員[61]，及出任第六屆國家統一委員</span>\n",
              "<span style=\"color: #008000; text-decoration-color: #008000\">會研究委員，成為身邊的重要幕僚之一[33][84]。1999年，在國家安全會議的專案委託下[92]，擔任李登輝執政最著名的「特殊的</span>\n",
              "<span style=\"color: #008000; text-decoration-color: #008000\">國與國關係」研究小組召集人[43][77][84]。  </span>\n",
              "<span style=\"color: #008000; text-decoration-color: #008000\">\\n在這期間，她由中華民國國家安全局丁渝洲提撥研究經費[93][94]，參與「特殊的國與國關係」解決方案的起草[77][95]，是研</span>\n",
              "<span style=\"color: #008000; text-decoration-color: #008000\">究報告的主筆人[90][72][92]，此後李登輝採用該研究成果，公開提出「特殊的國與國關係」理論[92]，導致1999年海峽兩岸關係</span>\n",
              "<span style=\"color: #008000; text-decoration-color: #008000\">陷入緊張[50]。這段歷史曾讓馬英九在出席競選活動時要求說明[90]，中國共產黨也藉此指控她是「分裂中國的始作俑者」[92]。'</span>\n",
              ",\n",
              "        <span style=\"color: #808000; text-decoration-color: #808000\">metadata</span>=<span style=\"font-weight: bold\">{</span><span style=\"color: #008000; text-decoration-color: #008000\">'Header 1'</span>: <span style=\"color: #008000; text-decoration-color: #008000\">'蔡英文'</span>, <span style=\"color: #008000; text-decoration-color: #008000\">'Header 2'</span>: <span style=\"color: #008000; text-decoration-color: #008000\">'早期工作'</span>, <span style=\"color: #008000; text-decoration-color: #008000\">'Header 3'</span>: <span style=\"color: #008000; text-decoration-color: #008000\">'兩岸關係幕僚'</span><span style=\"font-weight: bold\">}</span>\n",
              "    <span style=\"font-weight: bold\">)</span>,\n",
              "    <span style=\"color: #800080; text-decoration-color: #800080; font-weight: bold\">Document</span><span style=\"font-weight: bold\">(</span>\n",
              "        <span style=\"color: #808000; text-decoration-color: #808000\">page_content</span>=<span style=\"color: #008000; text-decoration-color: #008000\">'2000年，民主進步黨候選人陳水扁當選總統，並在5月20日執政[96]。這是該黨首次執政[78]，對內需要擴</span>\n",
              "<span style=\"color: #008000; text-decoration-color: #008000\">展民意支持、鞏固政權基礎，對外則要穩定海峽兩岸關係、安撫美國[33]。經過邀請，陳水扁任命蔡英文擔任行政院大陸委員會主</span>\n",
              "<span style=\"color: #008000; text-decoration-color: #008000\">任委員[43][61][96]，並參加國家安全會議，開始其高層政治生涯[30]。這是她第一次真正步入政壇[72]，也正式與中華人民共和</span>\n",
              "<span style=\"color: #008000; text-decoration-color: #008000\">國交手[92][97][98]。作為陳水扁任內首位行政院大陸委員會主任委員，她還是行政院大陸委員會首位女性主任委員[72]、及首位</span>\n",
              "<span style=\"color: #008000; text-decoration-color: #008000\">完成4年任期的主任委員[92]。  </span>\n",
              "<span style=\"color: #008000; text-decoration-color: #008000\">\\n在這期間，她認為「特殊的國與國關係」是開創海峽兩岸關係新架構的提議[35]，並緊急阻止陳水扁為了改善兩岸關係而接受「</span>\n",
              "<span style=\"color: #008000; text-decoration-color: #008000\">九二共識」的做法[92]。在這期間，蔡英文最重要的海峽兩岸政策，是在第一線與中國大陸協商，最後促成「小三通」模式自2001</span>\n",
              "<span style=\"color: #008000; text-decoration-color: #008000\">年1月1日起開放，實現小規模的通商、通航和通郵[90][99]。她還曾自稱是臺灣人，也是文化和血緣上的中國人[100]。2001年，陳</span>\n",
              "<span style=\"color: #008000; text-decoration-color: #008000\">水扁對中國大陸釋出善意，又提出「統合論」，蔡英文則避開新聞媒體不斷追問的實質內涵，只以「善意」和「彈性」解釋[33]。</span>\n",
              "<span style=\"color: #008000; text-decoration-color: #008000\">蔡英文也以其英語口才和精確表達聞名，在2002年擔任調解人員，前往美國解釋陳水扁提出的臺灣和中國是「一邊一國」的說法[77</span>\n",
              "<span style=\"color: #008000; text-decoration-color: #008000\">]。2004年，她還參與公民投票辯論，不過認為這具有表演性質[33]。  </span>\n",
              "<span style=\"color: #008000; text-decoration-color: #008000\">\\n在缺乏和中華人民共和國交流和合作的管道下[101]，行政院大陸委員會還協調立法院通過《臺灣地區與大陸地區人民關係條例》</span>\n",
              "<span style=\"color: #008000; text-decoration-color: #008000\">修法[102]、兩岸春節包機直航[103]、完成臺灣和香港航權談判等[104]。蔡英文致力處理、主持海峽兩岸政策的發展[51][38][98]</span>\n",
              "<span style=\"color: #008000; text-decoration-color: #008000\">，也因為這是一份備受矚目的困難任務，讓她在臺灣很快受到注意[46]。她在連續4年的內閣閣員滿意度輿論調查都是第一名[92]。</span>\n",
              "<span style=\"color: #008000; text-decoration-color: #008000\">相對地，中華人民共和國政府則是把其視為「鬥爭與談判的對手」，並運用「文攻武嚇」的策略[92]。'</span>,\n",
              "        <span style=\"color: #808000; text-decoration-color: #808000\">metadata</span>=<span style=\"font-weight: bold\">{</span><span style=\"color: #008000; text-decoration-color: #008000\">'Header 1'</span>: <span style=\"color: #008000; text-decoration-color: #008000\">'蔡英文'</span>, <span style=\"color: #008000; text-decoration-color: #008000\">'Header 2'</span>: <span style=\"color: #008000; text-decoration-color: #008000\">'步入政壇'</span>, <span style=\"color: #008000; text-decoration-color: #008000\">'Header 3'</span>: <span style=\"color: #008000; text-decoration-color: #008000\">'陸委會主委'</span><span style=\"font-weight: bold\">}</span>\n",
              "    <span style=\"font-weight: bold\">)</span>\n",
              "<span style=\"font-weight: bold\">]</span>\n",
              "</pre>\n"
            ]
          },
          "metadata": {}
        }
      ]
    },
    {
      "cell_type": "code",
      "source": [
        "chunk_size = 500\n",
        "chunk_overlap = 30\n",
        "text_splitter = RecursiveCharacterTextSplitter(\n",
        "    chunk_size=chunk_size, chunk_overlap=chunk_overlap\n",
        ")\n",
        "\n",
        "splits = text_splitter.split_documents(html_header_splits)\n",
        "pprint(splits[5:8])"
      ],
      "metadata": {
        "colab": {
          "base_uri": "https://localhost:8080/",
          "height": 495
        },
        "id": "_PjgeFB_vOmm",
        "outputId": "404b1454-6105-4961-d2dd-d7eec33992bf"
      },
      "execution_count": null,
      "outputs": [
        {
          "output_type": "display_data",
          "data": {
            "text/plain": [
              "\u001b[1m[\u001b[0m\n",
              "    \u001b[1;35mDocument\u001b[0m\u001b[1m(\u001b[0m\n",
              "        \u001b[33mpage_content\u001b[0m=\u001b[32m'編輯連結  \\n條目討論  \\n臺灣正體  \u001b[0m\n",
              "\u001b[32m\\n不转换简体繁體大陆简体香港繁體澳門繁體大马简体新加坡简体臺灣正體  \\n閱讀檢視原始碼檢視歷史  \\n工具  \\n移至側邊欄 \u001b[0m\n",
              "\u001b[32m隱藏  \\n工具  \\n操作  \\n閱讀檢視原始碼檢視歷史  \\n一般  \u001b[0m\n",
              "\u001b[32m\\n連結至此的頁面相關變更上傳檔案特殊頁面固定連結頁面資訊引用此頁面取得短網址下載QR碼維基數據項目  \\n列印/匯出  \u001b[0m\n",
              "\u001b[32m\\n下載為PDF可列印版  \\n其他專案  \\n維基共享資源維基新聞維基語錄維基文庫  \\n維基百科，自由的百科全書'\u001b[0m,\n",
              "        \u001b[33mmetadata\u001b[0m=\u001b[1m{\u001b[0m\u001b[32m'Header 1'\u001b[0m: \u001b[32m'蔡英文'\u001b[0m\u001b[1m}\u001b[0m\n",
              "    \u001b[1m)\u001b[0m,\n",
              "    \u001b[1;35mDocument\u001b[0m\u001b[1m(\u001b[0m\n",
              "        \u001b[33mpage_content\u001b[0m=\u001b[32m'蔡英文\\xa0中華民國第14－15任總統選舉：2016、2020就任日期2016年5月20日行政院院長林全（2016－20\u001b[0m\n",
              "\u001b[32m17）賴清德（2017－2019）蘇貞昌（2019－2023）陳建仁（2023－2024）副總統陳建仁（第14任）賴清德（第15任）秘書長前任馬\u001b[0m\n",
              "\u001b[32m英九繼任賴清德（候任）多數票'\u001b[0m,\n",
              "        \u001b[33mmetadata\u001b[0m=\u001b[1m{\u001b[0m\u001b[32m'Header 1'\u001b[0m: \u001b[32m'蔡英文'\u001b[0m\u001b[1m}\u001b[0m\n",
              "    \u001b[1m)\u001b[0m,\n",
              "    \u001b[1;35mDocument\u001b[0m\u001b[1m(\u001b[0m\n",
              "        \u001b[33mpage_content\u001b[0m=\u001b[32m'第7任國家安全會議主席就任日期2016年5月20日副職陳建仁（2016－2020）賴清德（2020－2024）秘書長\u001b[0m\n",
              "\u001b[32m吳釗燮（2016－2017）嚴德發（2017－2018）李大維（2018－2020）顧立雄（2020－2024）前任馬英九繼任賴清德\\xa0民主進步黨\u001b[0m\n",
              "\u001b[32m第13、15、17任主席任期2020年5月20日—2022年11月30日辭職秘書長林錫耀前任卓榮泰繼任陳其邁（代理）賴清德（正任）任期201\u001b[0m\n",
              "\u001b[32m4年5月28日—2018年11月28日辭職秘書長吳釗燮洪耀福前任蘇貞昌繼任林右昌（代理）卓榮泰（正任）任期2008年5月20日—2012年1\u001b[0m\n",
              "\u001b[32m月14日辭職秘書長王拓吳乃仁蘇嘉全前任謝長廷（代理）陳水扁（正任）繼任陳菊（代理）蘇貞昌（正任）\\xa0中華民國第26任行\u001b[0m\n",
              "\u001b[32m政院副院長任期2006年1月25日—2007年5月21日總統陳水扁行政院院長蘇貞昌前任吳榮義繼任邱義仁\\xa0中華民國第10任行政院消費\u001b[0m\n",
              "\u001b[32m者保護會主任委員任期2006年1月25日—2007年5月21日行政院院長蘇貞昌前任吳榮義繼任邱義仁\\xa0中華民國第6屆立法委員任期200\u001b[0m\n",
              "\u001b[32m5年2月1日—2006年1月23日繼任吳明敏選區全國不分區\\xa0中華民國第6任行政院'\u001b[0m,\n",
              "        \u001b[33mmetadata\u001b[0m=\u001b[1m{\u001b[0m\u001b[32m'Header 1'\u001b[0m: \u001b[32m'蔡英文'\u001b[0m\u001b[1m}\u001b[0m\n",
              "    \u001b[1m)\u001b[0m\n",
              "\u001b[1m]\u001b[0m\n"
            ],
            "text/html": [
              "<pre style=\"white-space:pre;overflow-x:auto;line-height:normal;font-family:Menlo,'DejaVu Sans Mono',consolas,'Courier New',monospace\"><span style=\"font-weight: bold\">[</span>\n",
              "    <span style=\"color: #800080; text-decoration-color: #800080; font-weight: bold\">Document</span><span style=\"font-weight: bold\">(</span>\n",
              "        <span style=\"color: #808000; text-decoration-color: #808000\">page_content</span>=<span style=\"color: #008000; text-decoration-color: #008000\">'編輯連結  \\n條目討論  \\n臺灣正體  </span>\n",
              "<span style=\"color: #008000; text-decoration-color: #008000\">\\n不转换简体繁體大陆简体香港繁體澳門繁體大马简体新加坡简体臺灣正體  \\n閱讀檢視原始碼檢視歷史  \\n工具  \\n移至側邊欄 </span>\n",
              "<span style=\"color: #008000; text-decoration-color: #008000\">隱藏  \\n工具  \\n操作  \\n閱讀檢視原始碼檢視歷史  \\n一般  </span>\n",
              "<span style=\"color: #008000; text-decoration-color: #008000\">\\n連結至此的頁面相關變更上傳檔案特殊頁面固定連結頁面資訊引用此頁面取得短網址下載QR碼維基數據項目  \\n列印/匯出  </span>\n",
              "<span style=\"color: #008000; text-decoration-color: #008000\">\\n下載為PDF可列印版  \\n其他專案  \\n維基共享資源維基新聞維基語錄維基文庫  \\n維基百科，自由的百科全書'</span>,\n",
              "        <span style=\"color: #808000; text-decoration-color: #808000\">metadata</span>=<span style=\"font-weight: bold\">{</span><span style=\"color: #008000; text-decoration-color: #008000\">'Header 1'</span>: <span style=\"color: #008000; text-decoration-color: #008000\">'蔡英文'</span><span style=\"font-weight: bold\">}</span>\n",
              "    <span style=\"font-weight: bold\">)</span>,\n",
              "    <span style=\"color: #800080; text-decoration-color: #800080; font-weight: bold\">Document</span><span style=\"font-weight: bold\">(</span>\n",
              "        <span style=\"color: #808000; text-decoration-color: #808000\">page_content</span>=<span style=\"color: #008000; text-decoration-color: #008000\">'蔡英文\\xa0中華民國第14－15任總統選舉：2016、2020就任日期2016年5月20日行政院院長林全（2016－20</span>\n",
              "<span style=\"color: #008000; text-decoration-color: #008000\">17）賴清德（2017－2019）蘇貞昌（2019－2023）陳建仁（2023－2024）副總統陳建仁（第14任）賴清德（第15任）秘書長前任馬</span>\n",
              "<span style=\"color: #008000; text-decoration-color: #008000\">英九繼任賴清德（候任）多數票'</span>,\n",
              "        <span style=\"color: #808000; text-decoration-color: #808000\">metadata</span>=<span style=\"font-weight: bold\">{</span><span style=\"color: #008000; text-decoration-color: #008000\">'Header 1'</span>: <span style=\"color: #008000; text-decoration-color: #008000\">'蔡英文'</span><span style=\"font-weight: bold\">}</span>\n",
              "    <span style=\"font-weight: bold\">)</span>,\n",
              "    <span style=\"color: #800080; text-decoration-color: #800080; font-weight: bold\">Document</span><span style=\"font-weight: bold\">(</span>\n",
              "        <span style=\"color: #808000; text-decoration-color: #808000\">page_content</span>=<span style=\"color: #008000; text-decoration-color: #008000\">'第7任國家安全會議主席就任日期2016年5月20日副職陳建仁（2016－2020）賴清德（2020－2024）秘書長</span>\n",
              "<span style=\"color: #008000; text-decoration-color: #008000\">吳釗燮（2016－2017）嚴德發（2017－2018）李大維（2018－2020）顧立雄（2020－2024）前任馬英九繼任賴清德\\xa0民主進步黨</span>\n",
              "<span style=\"color: #008000; text-decoration-color: #008000\">第13、15、17任主席任期2020年5月20日—2022年11月30日辭職秘書長林錫耀前任卓榮泰繼任陳其邁（代理）賴清德（正任）任期201</span>\n",
              "<span style=\"color: #008000; text-decoration-color: #008000\">4年5月28日—2018年11月28日辭職秘書長吳釗燮洪耀福前任蘇貞昌繼任林右昌（代理）卓榮泰（正任）任期2008年5月20日—2012年1</span>\n",
              "<span style=\"color: #008000; text-decoration-color: #008000\">月14日辭職秘書長王拓吳乃仁蘇嘉全前任謝長廷（代理）陳水扁（正任）繼任陳菊（代理）蘇貞昌（正任）\\xa0中華民國第26任行</span>\n",
              "<span style=\"color: #008000; text-decoration-color: #008000\">政院副院長任期2006年1月25日—2007年5月21日總統陳水扁行政院院長蘇貞昌前任吳榮義繼任邱義仁\\xa0中華民國第10任行政院消費</span>\n",
              "<span style=\"color: #008000; text-decoration-color: #008000\">者保護會主任委員任期2006年1月25日—2007年5月21日行政院院長蘇貞昌前任吳榮義繼任邱義仁\\xa0中華民國第6屆立法委員任期200</span>\n",
              "<span style=\"color: #008000; text-decoration-color: #008000\">5年2月1日—2006年1月23日繼任吳明敏選區全國不分區\\xa0中華民國第6任行政院'</span>,\n",
              "        <span style=\"color: #808000; text-decoration-color: #808000\">metadata</span>=<span style=\"font-weight: bold\">{</span><span style=\"color: #008000; text-decoration-color: #008000\">'Header 1'</span>: <span style=\"color: #008000; text-decoration-color: #008000\">'蔡英文'</span><span style=\"font-weight: bold\">}</span>\n",
              "    <span style=\"font-weight: bold\">)</span>\n",
              "<span style=\"font-weight: bold\">]</span>\n",
              "</pre>\n"
            ]
          },
          "metadata": {}
        }
      ]
    },
    {
      "cell_type": "markdown",
      "source": [
        "### code"
      ],
      "metadata": {
        "id": "JOvNiyQdbHyy"
      }
    },
    {
      "cell_type": "code",
      "source": [
        "from langchain_text_splitters import Language"
      ],
      "metadata": {
        "id": "_UDjnkcYbOyT"
      },
      "execution_count": null,
      "outputs": []
    },
    {
      "cell_type": "code",
      "source": [
        "[e.value for e in Language]"
      ],
      "metadata": {
        "colab": {
          "base_uri": "https://localhost:8080/"
        },
        "id": "X1wP45XHcs3a",
        "outputId": "a0eba358-d093-4d42-9718-e509ffc83502"
      },
      "execution_count": null,
      "outputs": [
        {
          "output_type": "execute_result",
          "data": {
            "text/plain": [
              "['cpp',\n",
              " 'go',\n",
              " 'java',\n",
              " 'kotlin',\n",
              " 'js',\n",
              " 'ts',\n",
              " 'php',\n",
              " 'proto',\n",
              " 'python',\n",
              " 'rst',\n",
              " 'ruby',\n",
              " 'rust',\n",
              " 'scala',\n",
              " 'swift',\n",
              " 'markdown',\n",
              " 'latex',\n",
              " 'html',\n",
              " 'sol',\n",
              " 'csharp',\n",
              " 'cobol',\n",
              " 'c',\n",
              " 'lua',\n",
              " 'perl']"
            ]
          },
          "metadata": {},
          "execution_count": 65
        }
      ]
    },
    {
      "cell_type": "code",
      "source": [
        "RecursiveCharacterTextSplitter.get_separators_for_language(\n",
        "    Language.PYTHON)"
      ],
      "metadata": {
        "colab": {
          "base_uri": "https://localhost:8080/"
        },
        "id": "MWIJNZtDcuvo",
        "outputId": "eac0aee8-2ff1-4515-fe1e-166f74728303"
      },
      "execution_count": null,
      "outputs": [
        {
          "output_type": "execute_result",
          "data": {
            "text/plain": [
              "['\\nclass ', '\\ndef ', '\\n\\tdef ', '\\n\\n', '\\n', ' ', '']"
            ]
          },
          "metadata": {},
          "execution_count": 66
        }
      ]
    },
    {
      "cell_type": "code",
      "source": [
        "python_code = \"\"\"\n",
        "def hello_world():\n",
        "    print(\"Hello, World!\")\n",
        "\n",
        "# 呼叫函式\n",
        "hello_world()\n",
        "\"\"\"\n",
        "python_splitter = RecursiveCharacterTextSplitter.from_language(\n",
        "    language=Language.PYTHON, chunk_size=50, chunk_overlap=0\n",
        ")\n",
        "python_docs = python_splitter.create_documents([python_code])\n",
        "for doc in python_docs:\n",
        "    print(doc.page_content)\n",
        "    print('.'*10)"
      ],
      "metadata": {
        "colab": {
          "base_uri": "https://localhost:8080/"
        },
        "id": "9ZPIWQEccyy7",
        "outputId": "44648554-fe66-461c-b840-47be155d5b67"
      },
      "execution_count": null,
      "outputs": [
        {
          "output_type": "stream",
          "name": "stdout",
          "text": [
            "def hello_world():\n",
            "    print(\"Hello, World!\")\n",
            "..........\n",
            "# 呼叫函式\n",
            "hello_world()\n",
            "..........\n"
          ]
        }
      ]
    },
    {
      "cell_type": "code",
      "source": [
        "csharp_code = \"\"\"\n",
        "using System;\n",
        "class Program\n",
        "{\n",
        "    static void Main()\n",
        "    {\n",
        "        int age = 30; // 根據需要更改年齡值\n",
        "\n",
        "        // 根據年齡對人進行分類，並輸出到控制台\n",
        "        if (age < 18)\n",
        "        {\n",
        "            Console.WriteLine(\"年齡小於18：未成年\");\n",
        "        }\n",
        "        else if (age >= 18 && age < 65)\n",
        "        {\n",
        "            Console.WriteLine(\"年齡在18至64之間：成年人\");\n",
        "        }\n",
        "        else\n",
        "        {\n",
        "            Console.WriteLine(\"年齡65歲或以上：老年人\");\n",
        "        }\n",
        "    }\n",
        "}\n",
        "\n",
        "\"\"\""
      ],
      "metadata": {
        "id": "IC6gQDkie-th"
      },
      "execution_count": null,
      "outputs": []
    },
    {
      "cell_type": "code",
      "source": [
        "RecursiveCharacterTextSplitter.get_separators_for_language(\n",
        "    language=Language.CSHARP)"
      ],
      "metadata": {
        "colab": {
          "base_uri": "https://localhost:8080/"
        },
        "id": "3dR_iNy5blMb",
        "outputId": "a6858c90-0389-49c0-9d98-4d0b46a7337f"
      },
      "execution_count": null,
      "outputs": [
        {
          "output_type": "execute_result",
          "data": {
            "text/plain": [
              "['\\ninterface ',\n",
              " '\\nenum ',\n",
              " '\\nimplements ',\n",
              " '\\ndelegate ',\n",
              " '\\nevent ',\n",
              " '\\nclass ',\n",
              " '\\nabstract ',\n",
              " '\\npublic ',\n",
              " '\\nprotected ',\n",
              " '\\nprivate ',\n",
              " '\\nstatic ',\n",
              " '\\nreturn ',\n",
              " '\\nif ',\n",
              " '\\ncontinue ',\n",
              " '\\nfor ',\n",
              " '\\nforeach ',\n",
              " '\\nwhile ',\n",
              " '\\nswitch ',\n",
              " '\\nbreak ',\n",
              " '\\ncase ',\n",
              " '\\nelse ',\n",
              " '\\ntry ',\n",
              " '\\nthrow ',\n",
              " '\\nfinally ',\n",
              " '\\ncatch ',\n",
              " '\\n\\n',\n",
              " '\\n',\n",
              " ' ',\n",
              " '']"
            ]
          },
          "metadata": {},
          "execution_count": 69
        }
      ]
    },
    {
      "cell_type": "code",
      "source": [
        "csharp_splitter = RecursiveCharacterTextSplitter.from_language(\n",
        "    language=Language.CSHARP, chunk_size=50, chunk_overlap=0\n",
        ")\n",
        "csharp_docs = csharp_splitter.create_documents([csharp_code])\n",
        "for doc in csharp_docs:\n",
        "    print(doc.page_content)\n",
        "    print('.'*10)"
      ],
      "metadata": {
        "colab": {
          "base_uri": "https://localhost:8080/"
        },
        "id": "QZ6eezTnagBQ",
        "outputId": "dcc489fa-e385-434b-feb8-ab88e80309d7"
      },
      "execution_count": null,
      "outputs": [
        {
          "output_type": "stream",
          "name": "stdout",
          "text": [
            "using System;\n",
            "..........\n",
            "class Program\n",
            "{\n",
            "    static void Main()\n",
            "    {\n",
            "..........\n",
            "int age = 30; // 根據需要更改年齡值\n",
            "..........\n",
            "// 根據年齡對人進行分類，並輸出到控制台\n",
            "..........\n",
            "if (age < 18)\n",
            "        {\n",
            "..........\n",
            "Console.WriteLine(\"年齡小於18：未成年\");\n",
            "..........\n",
            "}\n",
            "        else if (age >= 18 && age < 65)\n",
            "..........\n",
            "{\n",
            "..........\n",
            "Console.WriteLine(\"年齡在18至64之間：成年人\");\n",
            "..........\n",
            "}\n",
            "        else\n",
            "        {\n",
            "..........\n",
            "Console.WriteLine(\"年齡65歲或以上：老年人\");\n",
            "..........\n",
            "}\n",
            "    }\n",
            "}\n",
            "..........\n"
          ]
        }
      ]
    }
  ]
}
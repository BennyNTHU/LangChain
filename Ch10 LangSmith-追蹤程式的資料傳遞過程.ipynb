{
 "cells": [
  {
   "cell_type": "markdown",
   "metadata": {
    "id": "LQM0LdtNd_oJ"
   },
   "source": [
    "# 第 10 章 LangSmith - 追蹤程式的資料傳遞過程\n",
    "在過去幾章，我們將各種函式和chain給串起來的時候，往往很難debug，這是因為這些資料在傳的時候，其資料結構並是我們方便讀取的東西。因此我們可以使用LangSmith來幫忙。LangSmith是一個平台，一旦程式中用了LangChain的東西，程式碼在把資料傳來傳去的時候上面就會記錄到底傳了哪些東西，方便我們debug。不過，LangSmith是要錢的。免費用戶每個月有5000條免費追蹤程式次數, 額外跟踪費用為0.005美元/次"
   ]
  },
  {
   "cell_type": "code",
   "execution_count": 1,
   "metadata": {
    "id": "lq-TCMe-eSwp"
   },
   "outputs": [],
   "source": [
    "import os\n",
    "\n",
    "from rich import print as pprint\n",
    "\n",
    "from langchain_community.vectorstores import Chroma\n",
    "from langchain_core.pydantic_v1 import BaseModel, Field\n",
    "from langchain_core.runnables import RunnablePassthrough\n",
    "from langchain_openai import ChatOpenAI, OpenAIEmbeddings\n",
    "from langchain_core.output_parsers import StrOutputParser\n",
    "from langchain_community.tools import DuckDuckGoSearchRun\n",
    "from langchain_core.tracers.context import tracing_v2_enabled\n",
    "from langchain.agents import AgentExecutor, create_openai_tools_agent\n",
    "from langchain_core.prompts import ChatPromptTemplate, MessagesPlaceholder"
   ]
  },
  {
   "cell_type": "code",
   "execution_count": 2,
   "metadata": {},
   "outputs": [],
   "source": [
    "os.environ['LANGCHAIN_TRACING_V2'] = \"true\"\n",
    "os.environ['LANGCHAIN_API_KEY'] = \"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\"\n",
    "os.environ['OPENAI_API_KEY'] = \"sk-None-vowLahS2p4mOq6FP56VCT3BlbkFJTY1umKuhsfu61iHTNVDc\""
   ]
  },
  {
   "cell_type": "markdown",
   "metadata": {},
   "source": [
    "## 10-1 如何使用LangSmith"
   ]
  },
  {
   "cell_type": "code",
   "execution_count": 3,
   "metadata": {
    "colab": {
     "base_uri": "https://localhost:8080/",
     "height": 195
    },
    "id": "rOBZBkiElaRC",
    "outputId": "9aac6afe-d9fc-47af-be66-db86235ac49b"
   },
   "outputs": [
    {
     "data": {
      "text/html": [
       "<pre style=\"white-space:pre;overflow-x:auto;line-height:normal;font-family:Menlo,'DejaVu Sans Mono',consolas,'Courier New',monospace\"><span style=\"color: #800080; text-decoration-color: #800080; font-weight: bold\">AIMessage</span><span style=\"font-weight: bold\">(</span>\n",
       "    <span style=\"color: #808000; text-decoration-color: #808000\">content</span>=<span style=\"color: #008000; text-decoration-color: #008000\">'你好，有什么可以帮助你的吗？'</span>,\n",
       "    <span style=\"color: #808000; text-decoration-color: #808000\">response_metadata</span>=<span style=\"font-weight: bold\">{</span>\n",
       "        <span style=\"color: #008000; text-decoration-color: #008000\">'token_usage'</span>: <span style=\"font-weight: bold\">{</span><span style=\"color: #008000; text-decoration-color: #008000\">'completion_tokens'</span>: <span style=\"color: #008080; text-decoration-color: #008080; font-weight: bold\">17</span>, <span style=\"color: #008000; text-decoration-color: #008000\">'prompt_tokens'</span>: <span style=\"color: #008080; text-decoration-color: #008080; font-weight: bold\">11</span>, <span style=\"color: #008000; text-decoration-color: #008000\">'total_tokens'</span>: <span style=\"color: #008080; text-decoration-color: #008080; font-weight: bold\">28</span><span style=\"font-weight: bold\">}</span>,\n",
       "        <span style=\"color: #008000; text-decoration-color: #008000\">'model_name'</span>: <span style=\"color: #008000; text-decoration-color: #008000\">'gpt-3.5-turbo-0125'</span>,\n",
       "        <span style=\"color: #008000; text-decoration-color: #008000\">'system_fingerprint'</span>: <span style=\"color: #800080; text-decoration-color: #800080; font-style: italic\">None</span>,\n",
       "        <span style=\"color: #008000; text-decoration-color: #008000\">'finish_reason'</span>: <span style=\"color: #008000; text-decoration-color: #008000\">'stop'</span>,\n",
       "        <span style=\"color: #008000; text-decoration-color: #008000\">'logprobs'</span>: <span style=\"color: #800080; text-decoration-color: #800080; font-style: italic\">None</span>\n",
       "    <span style=\"font-weight: bold\">}</span>,\n",
       "    <span style=\"color: #808000; text-decoration-color: #808000\">id</span>=<span style=\"color: #008000; text-decoration-color: #008000\">'run-cb9dc325-9de1-4f0d-9010-0fe63b702b6a-0'</span>,\n",
       "    <span style=\"color: #808000; text-decoration-color: #808000\">usage_metadata</span>=<span style=\"font-weight: bold\">{</span><span style=\"color: #008000; text-decoration-color: #008000\">'input_tokens'</span>: <span style=\"color: #008080; text-decoration-color: #008080; font-weight: bold\">11</span>, <span style=\"color: #008000; text-decoration-color: #008000\">'output_tokens'</span>: <span style=\"color: #008080; text-decoration-color: #008080; font-weight: bold\">17</span>, <span style=\"color: #008000; text-decoration-color: #008000\">'total_tokens'</span>: <span style=\"color: #008080; text-decoration-color: #008080; font-weight: bold\">28</span><span style=\"font-weight: bold\">}</span>\n",
       "<span style=\"font-weight: bold\">)</span>\n",
       "</pre>\n"
      ],
      "text/plain": [
       "\u001b[1;35mAIMessage\u001b[0m\u001b[1m(\u001b[0m\n",
       "    \u001b[33mcontent\u001b[0m=\u001b[32m'你好，有什么可以帮助你的吗？'\u001b[0m,\n",
       "    \u001b[33mresponse_metadata\u001b[0m=\u001b[1m{\u001b[0m\n",
       "        \u001b[32m'token_usage'\u001b[0m: \u001b[1m{\u001b[0m\u001b[32m'completion_tokens'\u001b[0m: \u001b[1;36m17\u001b[0m, \u001b[32m'prompt_tokens'\u001b[0m: \u001b[1;36m11\u001b[0m, \u001b[32m'total_tokens'\u001b[0m: \u001b[1;36m28\u001b[0m\u001b[1m}\u001b[0m,\n",
       "        \u001b[32m'model_name'\u001b[0m: \u001b[32m'gpt-3.5-turbo-0125'\u001b[0m,\n",
       "        \u001b[32m'system_fingerprint'\u001b[0m: \u001b[3;35mNone\u001b[0m,\n",
       "        \u001b[32m'finish_reason'\u001b[0m: \u001b[32m'stop'\u001b[0m,\n",
       "        \u001b[32m'logprobs'\u001b[0m: \u001b[3;35mNone\u001b[0m\n",
       "    \u001b[1m}\u001b[0m,\n",
       "    \u001b[33mid\u001b[0m=\u001b[32m'run-cb9dc325-9de1-4f0d-9010-0fe63b702b6a-0'\u001b[0m,\n",
       "    \u001b[33musage_metadata\u001b[0m=\u001b[1m{\u001b[0m\u001b[32m'input_tokens'\u001b[0m: \u001b[1;36m11\u001b[0m, \u001b[32m'output_tokens'\u001b[0m: \u001b[1;36m17\u001b[0m, \u001b[32m'total_tokens'\u001b[0m: \u001b[1;36m28\u001b[0m\u001b[1m}\u001b[0m\n",
       "\u001b[1m)\u001b[0m\n"
      ]
     },
     "metadata": {},
     "output_type": "display_data"
    }
   ],
   "source": [
    "chat_model = ChatOpenAI()\n",
    "pprint(chat_model.invoke('妳好'))"
   ]
  },
  {
   "cell_type": "markdown",
   "metadata": {
    "id": "SJBYQUNNL6Y5"
   },
   "source": [
    "接著到[LangSmith的工作站](https://smith.langchain.com/o/9445da78-d41c-50ad-bf39-69ffc50a5cf2/projects?paginationState=%7B%22pageIndex%22%3A0%2C%22pageSize%22%3A10%7D)查看dataflow。\n",
    "\n",
    "![diagram](./Ch10/1.png)"
   ]
  },
  {
   "cell_type": "markdown",
   "metadata": {
    "id": "2xbI2eMaji0y"
   },
   "source": [
    "### 10-2 流程鏈\n",
    "使用LangChain內建的`tracing_v2_enabled`方法建立專案名稱，並到工作站查看。會發現多了一個\"國家語言\"專案"
   ]
  },
  {
   "cell_type": "code",
   "execution_count": 4,
   "metadata": {
    "id": "VlDQWdidDskZ"
   },
   "outputs": [],
   "source": [
    "prompt = ChatPromptTemplate.from_template('在{city}講哪一種語言？')\n",
    "str_parser = StrOutputParser()\n",
    "chain = prompt | chat_model | str_parser"
   ]
  },
  {
   "cell_type": "code",
   "execution_count": 5,
   "metadata": {
    "colab": {
     "base_uri": "https://localhost:8080/"
    },
    "id": "nR5kXNEr6BZA",
    "outputId": "91ff18ce-225c-4f87-a81f-3748e5daf4d5"
   },
   "outputs": [
    {
     "name": "stdout",
     "output_type": "stream",
     "text": [
      "在东京，主要使用的语言是日语。但是由于东京是国际化大都市，许多人也会说英语。此外，还有许多外国人在东京居住和工作，他们可能会说其他语言，如中文、韩语、西班牙语等。因此，东京是一个多语言环境的城市。\n"
     ]
    }
   ],
   "source": [
    "with tracing_v2_enabled(project_name=\"國家語言\"):\n",
    "    print(chain.invoke({\"city\":\"東京\"}))"
   ]
  },
  {
   "cell_type": "markdown",
   "metadata": {},
   "source": [
    "![diagram](./Ch10/2.png)"
   ]
  },
  {
   "cell_type": "markdown",
   "metadata": {
    "id": "zUnYKMnWjltu"
   },
   "source": [
    "### 10-3 代理"
   ]
  },
  {
   "cell_type": "code",
   "execution_count": 6,
   "metadata": {
    "id": "JQxVDNEs6jlq"
   },
   "outputs": [],
   "source": [
    "class SearchRun(BaseModel):\n",
    "    query: str = Field(description=\"給搜尋引擎的搜尋關鍵字, \"\n",
    "                                   \"請使用繁體中文\")\n",
    "\n",
    "search_run = DuckDuckGoSearchRun(name=\"ddg-search\",\n",
    "                                 description=\"使用網路搜尋你不知道的事物\",\n",
    "                                 args_schema=SearchRun)"
   ]
  },
  {
   "cell_type": "code",
   "execution_count": 7,
   "metadata": {
    "id": "HrJcPaoW671s"
   },
   "outputs": [],
   "source": [
    "prompt = ChatPromptTemplate.from_messages([('system','你是一位好助理'),\n",
    "                                           ('human','{input}'),\n",
    "                                           MessagesPlaceholder(variable_name=\"agent_scratchpad\")])"
   ]
  },
  {
   "cell_type": "code",
   "execution_count": 8,
   "metadata": {
    "id": "9I3O0NxF69dS"
   },
   "outputs": [],
   "source": [
    "tools = [search_run]\n",
    "agent = create_openai_tools_agent(llm=chat_model, tools=tools, prompt=prompt)\n",
    "agent_executor = AgentExecutor(agent=agent, tools=tools)"
   ]
  },
  {
   "cell_type": "code",
   "execution_count": 9,
   "metadata": {
    "colab": {
     "base_uri": "https://localhost:8080/"
    },
    "id": "IRGD3Fro6L9U",
    "outputId": "f4e72211-4207-474d-f72e-36ab7aa04f92"
   },
   "outputs": [
    {
     "name": "stdout",
     "output_type": "stream",
     "text": [
      "2023金馬獎影帝是吳慷仁，他憑藉電影《富都青年》獲得了最佳男主角獎。\n"
     ]
    }
   ],
   "source": [
    "with tracing_v2_enabled(project_name=\"搜尋工具\"):\n",
    "    result = agent_executor.invoke(\n",
    "        {\"input\": \"2023金馬獎影帝是誰?\"})\n",
    "    print(result['output'])"
   ]
  },
  {
   "cell_type": "markdown",
   "metadata": {},
   "source": [
    "![diagram](./Ch10/3.png)"
   ]
  },
  {
   "cell_type": "markdown",
   "metadata": {
    "id": "NbJ1lZszjnPH"
   },
   "source": [
    "### 10-4 RAG\n",
    "使用第7章的資料庫"
   ]
  },
  {
   "cell_type": "code",
   "execution_count": 10,
   "metadata": {
    "id": "W-le5GjS7pzw"
   },
   "outputs": [
    {
     "name": "stderr",
     "output_type": "stream",
     "text": [
      "C:\\Users\\benny\\anaconda3\\envs\\openai\\Lib\\site-packages\\langchain_core\\_api\\deprecation.py:139: LangChainDeprecationWarning: The class `Chroma` was deprecated in LangChain 0.2.9 and will be removed in 0.4. An updated version of the class exists in the langchain-chroma package and should be used instead. To use it run `pip install -U langchain-chroma` and import as `from langchain_chroma import Chroma`.\n",
      "  warn_deprecated(\n"
     ]
    }
   ],
   "source": [
    "embeddings_model=OpenAIEmbeddings(model='text-embedding-3-large')\n",
    "db = Chroma(persist_directory='./Ch7/db', embedding_function=embeddings_model)\n",
    "retriever = db.as_retriever(search_type=\"similarity\", search_kwargs={\"k\": 6})"
   ]
  },
  {
   "cell_type": "code",
   "execution_count": 11,
   "metadata": {
    "id": "RAawmcUj8qjL"
   },
   "outputs": [],
   "source": [
    "str_parser = StrOutputParser()\n",
    "template = (\"\"\"\n",
    "    請根據以下內容加上自身判斷回答問題:\\n\n",
    "    {context}\\n\n",
    "    問題: {question}\n",
    "    \"\"\")\n",
    "prompt = ChatPromptTemplate.from_template(template)"
   ]
  },
  {
   "cell_type": "code",
   "execution_count": 12,
   "metadata": {},
   "outputs": [],
   "source": [
    "chain = {\"context\": retriever, \"question\": RunnablePassthrough()} | prompt | chat_model | str_parser"
   ]
  },
  {
   "cell_type": "code",
   "execution_count": 13,
   "metadata": {
    "colab": {
     "base_uri": "https://localhost:8080/"
    },
    "id": "r8E3XzDO6RRl",
    "outputId": "3947ebc0-e0ea-44f1-90a5-35abb62108e8"
   },
   "outputs": [
    {
     "name": "stdout",
     "output_type": "stream",
     "text": [
      "根據提供的文件內容，喝酒開車並且酒精濃度超過規定標準者，將會處以新臺幣30,000~120,000元罰鍰，並當場移置保管該汽車及吊扣其駕駛執照。\n"
     ]
    }
   ],
   "source": [
    "with tracing_v2_enabled(project_name=\"PDF 問答\"):\n",
    "    print(chain.invoke(\"喝酒開車會被罰多少?\"))"
   ]
  },
  {
   "cell_type": "markdown",
   "metadata": {},
   "source": [
    "![diagram](./Ch10/4.png)"
   ]
  }
 ],
 "metadata": {
  "colab": {
   "provenance": []
  },
  "kernelspec": {
   "display_name": "Python 3 (ipykernel)",
   "language": "python",
   "name": "python3"
  },
  "language_info": {
   "codemirror_mode": {
    "name": "ipython",
    "version": 3
   },
   "file_extension": ".py",
   "mimetype": "text/x-python",
   "name": "python",
   "nbconvert_exporter": "python",
   "pygments_lexer": "ipython3",
   "version": "3.12.3"
  }
 },
 "nbformat": 4,
 "nbformat_minor": 4
}

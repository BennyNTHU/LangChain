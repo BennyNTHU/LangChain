{
 "cells": [
  {
   "cell_type": "markdown",
   "metadata": {
    "id": "Hwj7Yf7vhQP9"
   },
   "source": [
    "# 第 9 章 實戰演練"
   ]
  },
  {
   "cell_type": "code",
   "execution_count": 1,
   "metadata": {
    "id": "9YFtjaYFiJ_k"
   },
   "outputs": [],
   "source": [
    "import os\n",
    "import pandas as pd\n",
    "\n",
    "from openai import OpenAI\n",
    "from pytube import YouTube\n",
    "from rich import print as pprint\n",
    "\n",
    "from langchain_community.vectorstores import FAISS\n",
    "from langchain_core.prompts import ChatPromptTemplate\n",
    "from langchain_community.tools import YouTubeSearchTool\n",
    "from langchain_core.runnables import RunnablePassthrough\n",
    "from langchain_core.output_parsers import StrOutputParser\n",
    "from langchain_openai import ChatOpenAI, OpenAIEmbeddings\n",
    "from langchain_text_splitters import RecursiveCharacterTextSplitter\n",
    "from langchain_community.document_loaders import UnstructuredFileLoader"
   ]
  },
  {
   "cell_type": "code",
   "execution_count": 2,
   "metadata": {},
   "outputs": [],
   "source": [
    "os.environ['OPENAI_API_KEY'] = \"sk-None-vowLahS2p4mOq6FP56VCT3BlbkFJTY1umKuhsfu61iHTNVDc\""
   ]
  },
  {
   "cell_type": "markdown",
   "metadata": {
    "id": "z9w5oy5cVaM1"
   },
   "source": [
    "## 9-1 Youtube 懶人包問答機器人\n",
    "本節中將建立一個將YouTube上的影評的文字轉為RAG的方式來建立問答機器人"
   ]
  },
  {
   "cell_type": "markdown",
   "metadata": {
    "id": "N27Y1QdPsRHZ"
   },
   "source": [
    "### 1. 建立 Youtube 查詢工具\n",
    "使用`YouTubeSearchTool`建立查詢工具並處理格式給`pytube`模組使用"
   ]
  },
  {
   "cell_type": "code",
   "execution_count": 3,
   "metadata": {},
   "outputs": [],
   "source": [
    "def YouTube_Search_Tool(keyword) -> str:\n",
    "    keyword: str\n",
    "    tool = YouTubeSearchTool()\n",
    "    result = tool.invoke(keyword)\n",
    "    urls = eval(result)\n",
    "    urls = [url.split('&')[0] for url in urls]\n",
    "    return urls"
   ]
  },
  {
   "cell_type": "code",
   "execution_count": 4,
   "metadata": {
    "colab": {
     "base_uri": "https://localhost:8080/"
    },
    "id": "fbPifO2Sse82",
    "outputId": "cad32a19-1476-4c22-c8c9-5e3ec34301a9"
   },
   "outputs": [
    {
     "name": "stdout",
     "output_type": "stream",
     "text": [
      "['https://www.youtube.com/watch?v=rsK89IZBdbs']\n"
     ]
    }
   ],
   "source": [
    "keyword = \"瓶子君 吐槽LoveLive星團第二季,1\"\n",
    "urls = YouTube_Search_Tool(keyword)\n",
    "print(urls)"
   ]
  },
  {
   "cell_type": "markdown",
   "metadata": {
    "id": "l_Wby2eEXalI"
   },
   "source": [
    "### 2. 資料前處理\n",
    "#### (1) 下載音檔\n",
    "請注意，自從2024/07起，`PyTube`就出現了`HTTPError: HTTP Error 400: Bad Request`的問題。因此這裡先手動下載影片"
   ]
  },
  {
   "cell_type": "code",
   "execution_count": 5,
   "metadata": {
    "colab": {
     "base_uri": "https://localhost:8080/"
    },
    "id": "_CG0Cm3nrwrA",
    "outputId": "0c667225-b494-4bb6-915e-149e57c529cd"
   },
   "outputs": [],
   "source": [
    "def url_download(urls):\n",
    "    yt = YouTube(urls[0])\n",
    "    print(yt.title,yt.watch_url)\n",
    "    stream = yt.streams.filter(only_audio=True).first()\n",
    "    stream.download(filename='./Ch9/Liella_comment.m4a')"
   ]
  },
  {
   "cell_type": "code",
   "execution_count": 6,
   "metadata": {},
   "outputs": [],
   "source": [
    "# url_download(urls)"
   ]
  },
  {
   "cell_type": "markdown",
   "metadata": {
    "id": "fxADuWtaXE_8"
   },
   "source": [
    "#### (2) 音檔轉文字\n",
    "利用我們的老朋友Whisper建立文字檔案"
   ]
  },
  {
   "cell_type": "code",
   "execution_count": 7,
   "metadata": {
    "id": "prQ6kSK0C-SN"
   },
   "outputs": [],
   "source": [
    "client = OpenAI()"
   ]
  },
  {
   "cell_type": "code",
   "execution_count": 8,
   "metadata": {
    "id": "6Ep6KiJLC0JN"
   },
   "outputs": [],
   "source": [
    "def audio_to_text(file_path):\n",
    "    audio_file = open(file_path, \"rb\")\n",
    "    transcript = client.audio.transcriptions.create(model=\"whisper-1\", file=audio_file)\n",
    "    return transcript.text"
   ]
  },
  {
   "cell_type": "code",
   "execution_count": 9,
   "metadata": {
    "colab": {
     "base_uri": "https://localhost:8080/"
    },
    "id": "TtjPvtgEDW_y",
    "outputId": "ee977f57-5cc9-4a97-e3a8-f8de372e45f3"
   },
   "outputs": [
    {
     "name": "stdout",
     "output_type": "stream",
     "text": [
      "是啊 我也没有想到在还有整整一个季度的新作没有播的时候 年度最逆天动画的比赛就已经被他杀死 而捧起冠军的就是这部 LOVE LIVE SUPERSTAR第二季 是的 连最终回头没播就已经失去悬念了 我知道很多人对于LOVE LIVE星团的理解还挺流哉 太好听了吧 简直就是天籁 诚然唐可可这个别具一格的社交恐怖分子确实给啦啦引了波大流 而我也恰好是其中的一员 星团前三季的水准确实堪称历代从未如此美妙的开局 确实够格成为年轻人第一部LOVE LIVE 只可惜在后半段就迅速滑落为一般偶像样板戏 音乐链的故事更可称烂俗无比 一整季忙活下来不仅角色没塑造明白 还只拿了个外卡冠军 纯纯的高开低走 但众所周知LOVE LIVE系列人均两季打底 所以不要紧 这一切的问题都会在第二季被解决的吧 被解决的吧 解决的吧 觉得吧 的吧 啊吧 并没有 策划家四人了 策划家四人这个消息一出很多人纷纷狂喜 啊死的干净吗 还有剩的吗 后得知不是 是真的加了四个人 听得骂声一片 日比骂推前 吃香太难看了 但是当时想到会中两集 没想到会中到这种程度 那简直是FE中的拉提菲 LPL中的潘大C 是游戏业界的孔纳米 假面骑士界的灵依 是立绘界的水晨 是动物界的丁真 大概就是这种程度 编剧不能说是开摆了 只能说是开席了 这剧情写的让程序员山库跑路 有一种蓄意报复的美 唯一纯路人拳头都摁了 不敢想粉丝看完的心理活动 那我就来实际掰扯掰扯 第二季都发生了什么 事先声明 如果你觉得完全无法相信以下内容 恭喜你 你是正常人 在第一季结尾的拉拉决赛 萨尼帕捧起冠军奖杯 却难掩颓势 星团虽刀零比三 仍尽显王者风范 只有星团的五个人升到了二年级 本来按照原计划 达到决赛的班底 氛围和化学反应都有 就缺一手魔盒 亚军班底再来一年呗 届时三年级的萨尼帕 也是年老色衰 拙日黄花 而一年级的小BK 肯定也是乳臭未干 不成气候 但是我们的大香老师 突然又开始想点子了 众所周知 星团第二季又名大香英雄传 又名色谷香音的忧郁 香音想要什么就得有什么 神说要有光 大香说不行 于是就不能有光 凡是大香老师对的 那他太英明了 如果他错了 参见上一天 而大香老师 疑似是被路上偶遇的 土妹子鹰小鹿 叫前辈叫嗨 突然提出 我们应该广招一年级新人 即使那样会削弱团队的集战力 没事 冠军不是唯一的目的 重要的是让大家明白 做school idol很快乐 懂了 就是玩happy game 完全对校园偶像没概念 没事 看个视频就行了 跟不上我们的训练强度 没事 开百就行了 调整公园老头老太太强度 看到录像里 去年我们输了决赛 如丧考笔的表情了吗 也太快乐了吧 快加入我们和我们一起坐牢吧 到最后还得是新人倡议 把训练强度加回来 实在是安崩了不 但是下一集里大翔老师又说 必须要获胜才能让大家开心 所以你也知道 你们本意要争取胜利 但就是不选能赢的玩法 偏选弹幕最多的玩法 疑似是怕你挨晚期了 于是加入新人的第一个考验 偶像纪 列拉一号种子参赛排面拉满 还有拉拉未免冠军 萨尼帕官方背书称之为头号劲敌 顶着最大的光环 和最高的流量进入比赛 那必然是轻轻松松的 被打成世界第一吹吉巴 蝉联安慰奖 被一个初三的小姚贝娜 直接畅攻硬实力打爆 连聋哑人都能感受到的视听差距 好吧这说法夸张了 其实感受不到那么大的差距 因为列拉的演出动画里直接跳过了 不播了 直接连对比都别比了 镜头直接切到5张 垮几个小猫劈脸的表情 大翔老师还被对面贴脸嘲讽 更是直接开启飞行模式 看不见听不见 嘻嘻哈哈爸爸开始自立 我让他隔天进来 第一句话翻一下就是 我们吹的响比赛拉 忙活一年多毛都没拿 就我们这样的说要夺冠真的配吗 啊牛逼 这是队长能说出来的话 本来指望他来一波拧绳 结果他就差直接给姐妹们吊上了 还好3D署姐妹及时的制止了他 说其实你们已经很强了 看看我们学校的奖杯贵吧 要不是千神和其他的天图 我们就只能摆个花盆上去了 那为了回应学校师生的厚爱 是时候痛定思痛努力 六人组合训练了吧 不我们应该招收更多新人 进一步稀释纯度吧 我们烂不要紧 反正这个学校有的是比我们更烂的 于是大乡老师又开始四处留情 坑蒙拐骗 终于勾到这么一对森林冰火人 一个节秋爱迪生 天天导致各种发明 要不是当学院偶像耽误了 他非得提前一博年给哆啦A梦整出来 一个是咧啦超话主持人 纯纯的追星小妹 天天拿个望远镜 一边留哈喇子 一边当侦察兵偷看咧啦训练 一边发微博 这俩人还能上演一波破产版的例子与青鸟 眼中点中点之 互相喜欢但互相不理解 我是万万没想到 因为这俩都是好朋友 小红喜欢学院偶像 但为了对方忍痛和他一起成立了科学部 而小蓝知道对方喜欢学院偶像 所以希望他去加入咧啦 因此不惜以身犯险 率先加入咧啦做激将法 小红一看 卧槽我这绑一大哥 当这么久都只敢say你 直接就加入你就打我的脸是吧 明明俩人都是互相在乎对方挺好的事 结果差点快进到扯头发 又是大乡老师的一顿神奇嘴炮 及时安抚住小红 哎呀他可太会嘴炮了 建议改名叫大炮老师吧 毕竟名字就叫canon嘛 说啊小蓝喜欢你 所以他肯定也喜欢学院偶像 什么爱屋及乌啊 照着逻辑那些喜欢西海岸匪帮说唱的人 还喜欢什么我都不敢想了 就这样森林兵伙双双加入 这下终于可以狠狠的开始特训了吧 哈哈当然不行 加四人一个都不能少 隔天这个叫CEO的夏美跑来掐痰业务 说我可以帮你们营销推广 所以统统要归他所有 还得是大乡老师 当场不看内容直接签合同 然后他们就开始拍生活区视频 开始不要笑挑战 开始蹭饭挑战 参加男生女生向前冲 开始对对子 开拍抖音热门 训练的时候都要被相机怼脸 终于回味未来的锦终于查出猫腻 你这家伙不会就是为了蹭我们一波赚米吧 谁知道旁边自己的老队友先出来怼自己 真的蹦不住了 这第二季唐可可和锦的关系 直接从欢喜冤家变成山中北斗 可可能半天不说话 一张嘴就是怼小锦 攻击性简直堪比日本天皇 我都怀疑花田实惠是不是受了什么刺激 写cpc的口味变重了 其实锦不是被动遭受霸凌 只是忘记了安全词 花田啊 不会写互动可以不写 别恶心人了 结果小蓝也得出同样的结论 截问CEO CEO说我确实赚大米了 但是你们签了合同的 众人大怒 啊哪个傻逼做主签的 哦哦哦签的好啊 拍视频好开心啊 哈哈哈哈 大乡老师先锋勇巧 授予天启 新的一集新的绝活 一年级三人组说 暑假要分开训练 说被咧了能在啦啦夺冠尽一份力 我们什么都会做的 我心说那太好了 你们马上退 严筹几个月就要地区预选 还不合連 到时候别人台上唱歌跳舞 你们演东白网似的 签人稍微要求提高强度 就开始愁眉苦脸 还得让CEO这个前沿里买房的谢BRO 给他们一通训话才好 啊有面 你们懂有面吗 有面 有面面 面面面面面 话说CEO也不是什么坏人 他只是没逼 他确实懂有面 而且还有过很多 以前的梦想当科学家 但学习堪比大雄 后来梦想拿奥运金牌 但运动堪比大雄 再后来想当模特 但身高堪比大雄 那啥 要不你去试试射击 后来终于明白梦想都是泡沫 一心搞钱了 拍摄期间全程跟队一起训练 天赋异禀 只需要个台阶下 自然就可以重新拥有有面 还是交给始终苦口婆心 试图劝下美从良的土妹子 英小露奈 现在九人里了 终于集结完毕 而其中的某些人 直到现在 我也不知道为啥要加入 用一段总结视频 总结这几个新人就是 我喜欢钱 我恨你们所有人 那边前方一年级吃紧 后面二年级紧持 练练这一季基本捧人 台词全是 恩啊这是 哎嘿 游河 去你的吧 序谋依旧也要搞个大伙 从某天起 练练的眼圈就黑的像L一样 不知道的还以为他和卡蜜搏斗了 结果只是单纯网瘾发作 干完手游玩主机 玩完主机电竞梦 荒野行动扛大狙 死不拉痛秀八五 瓦罗兰特奥丁狗 三枪拍案惊奇 满脑子划斩跳 别参加什么G8拉拉了 直接加入大发明 拯救日本电竞吧 直到终于瞒不住 不得不坦白的时候 大家哈哈大笑 就这啊 然后跟他一起玩 哇 太好玩了吧 这游戏好好玩啊 哈哈 哈哈 哈哈 我只能说这世界笑了 于是我合群的一起笑了 花田 你太发霉油麦了 而且能解释一下 为啥玩NS会谈steam的成就吗 下一集 里拉相对不乱不惊的拿下了地区预选 以他们的训练方式能跳这么起 只能说 小蓝终于发明出了 环太平洋中的生物同步技术 而且这舞台抽象的跟台观一样 不知道的还以为是给安倍复活赛的赛前电场演出呢 几家欢喜几家愁 里拉在庆祝进入了地区决赛 未免冠军撒尼帕居然抱了个大拢 输给了此前的初三小哥王 意思是新人拉满不坑当C 突发网瘾的晋级了 兢兢业业的未免冠军冤死于堂 拉不赖五 不愧是无法预测的命运之舞台啊 虽然赢了 但居安思危 千妈仔细研究demo后 发现一年级四个人 多少还是有点拉了 这地区决赛不包赢啊 一年级一看 没关系 我们什么都会做的 比如呢 把对手的疯狂星际四换成华莱士 在微博大字报带对手节奏 不是这真的是正面人物吗 听起来他们要对付的敌人叫白雪公主啊 还是紧惦念着可可不夺冠就要被迫回国 直接扮演白脸 下一场 亚军员班人马上 一年级一听肯定不服 我们会努力的 我们什么都会做的 我们有我们的觉悟啊 来大声说出你们的觉悟 啊 我 我X的 那你们前面八级班都在演牛魔大仇宾啊 真的纯纯的逆天 景也是心软了 再被赶来的可可一催 两人直接抱头痛哭 这俩的关系直接当场倒退一年 崩城西的人设也是重新被反向夺社会了 但就这么感人的环境下 大乡老师还惦记K头 还好前妈一个抢手猎卢给他屌了下来 不然封神榜要改叫耻辱路子 太棒了 现在终于三军用命一心向前了 再经历了何处的锤炼 地区决赛终于上演 而小歌神英雄池缺点暴露无遗 直接被列拉两季巅峰之作 力中暴力 时间来到了第11集 如果说前两集的剧情终于有所还扬 然而全是回光返 剧情刚挣扎着从三途川爬上岸 就被一脚踹了回去 本着人文主义关怀的角度 大乡老师狠狠的拷打了小歌神 终于得知他是维也纳音乐学院落榜生 但家里打点了点关系 如果他能赢love live就破格入学 我说拉拉好格局 不然波兰又要有难了 现在比赛打输成了小丑 只能口出狂言 疯狂嘴臭 简而言之就是点击笑崩马 五味俱全 而这还不是最屌的 刚赢了地区赛的大乡 直接收到了那所学校 双手奉上的录取通知书 我直接黑人问号 突然想到四个大字 幻想世界 一个本地高中音乐系的落榜的 直接破格登顶 该专业世界第一学府特招 我都怀疑是不是拼错了 不是维也纳 是他妈维也难吧 更抽象的是只要大乡老师入学 小歌神就能作为他的洗脚壁 一起混入其中陪读 我滴个鬼鬼 这星团第二季哪是大乡传 这简直就是乡音教派新编的圣经啊 队友挂箭罢了 对手小丑罢了 拉拉玩具罢了 花田奴隶罢了 打差评的观众游大罢了 乡门 哦对了 后来千妈了解到大乡为了团队不去留学后 直接拉着大乡老师说 你得去留学 这个列拉搞不搞都无所谓了 当场开始拆队 这一集一出 尼口直接狂砍28%的好评率 系列最低 这剧情你说花田百烂我真不信 怎么看都像是打击报复 整理方向简直是奔着寿娘2去了 都是纯纯的恶心粉丝 当然28%和2%还是有差距的 以至于在最终会播出前就可以盖棺定论 他最后拉拉拿不拿冠军还关键吗 不拿离谱 拿了更离谱 我真想象不到他们赢的画面 剧情离谱 角色塑造也帮离谱 小千是大乡全肯定爆的 唐可可爆点机器 仅唯一正常人 夜月恋更是三项之力 年轻人第一部完整追完的传统偶像版 就落得几个下场了 还是看看隔壁的闪吧 家人们 最后得对花田说 我老精密了 惊吹三写好了我们还能和解 不然我带头放飞你妈\n"
     ]
    }
   ],
   "source": [
    "text=audio_to_text('./Ch9/Liella_comment.m4a')\n",
    "print(text)"
   ]
  },
  {
   "cell_type": "markdown",
   "metadata": {
    "id": "WiBUBgFyXCo6"
   },
   "source": [
    "### 3. 使用 RAG 處理資料\n",
    "利用上一章的`RecursiveCharacterTextSplitter`做切割"
   ]
  },
  {
   "cell_type": "code",
   "execution_count": 10,
   "metadata": {
    "colab": {
     "base_uri": "https://localhost:8080/",
     "height": 1000
    },
    "id": "nLh2AyGpFr7F",
    "outputId": "09ca626c-4756-4340-a1c1-4e334b19efad"
   },
   "outputs": [],
   "source": [
    "text_splitter = RecursiveCharacterTextSplitter(separators=[' '], chunk_size=300, chunk_overlap=20)\n",
    "splits = text_splitter.split_text(text)"
   ]
  },
  {
   "cell_type": "code",
   "execution_count": 11,
   "metadata": {},
   "outputs": [
    {
     "data": {
      "text/html": [
       "<pre style=\"white-space:pre;overflow-x:auto;line-height:normal;font-family:Menlo,'DejaVu Sans Mono',consolas,'Courier New',monospace\"><span style=\"font-weight: bold\">[</span>\n",
       "    <span style=\"color: #008000; text-decoration-color: #008000\">'是啊 我也没有想到在还有整整一个季度的新作没有播的时候 年度最逆天动画的比赛就已经被他杀死 而捧起冠军的就是这部 </span>\n",
       "<span style=\"color: #008000; text-decoration-color: #008000\">LOVE LIVE SUPERSTAR第二季 是的 连最终回头没播就已经失去悬念了 我知道很多人对于LOVE LIVE星团的理解还挺流哉 </span>\n",
       "<span style=\"color: #008000; text-decoration-color: #008000\">太好听了吧 简直就是天籁 诚然唐可可这个别具一格的社交恐怖分子确实给啦啦引了波大流 而我也恰好是其中的一员 </span>\n",
       "<span style=\"color: #008000; text-decoration-color: #008000\">星团前三季的水准确实堪称历代从未如此美妙的开局 确实够格成为年轻人第一部LOVE LIVE </span>\n",
       "<span style=\"color: #008000; text-decoration-color: #008000\">只可惜在后半段就迅速滑落为一般偶像样板戏 音乐链的故事更可称烂俗无比 一整季忙活下来不仅角色没塑造明白 </span>\n",
       "<span style=\"color: #008000; text-decoration-color: #008000\">还只拿了个外卡冠军 纯纯的高开低走'</span>,\n",
       "    <span style=\"color: #008000; text-decoration-color: #008000\">'还只拿了个外卡冠军 纯纯的高开低走 但众所周知LOVE LIVE系列人均两季打底 所以不要紧 </span>\n",
       "<span style=\"color: #008000; text-decoration-color: #008000\">这一切的问题都会在第二季被解决的吧 被解决的吧 解决的吧 觉得吧 的吧 啊吧 并没有 策划家四人了 </span>\n",
       "<span style=\"color: #008000; text-decoration-color: #008000\">策划家四人这个消息一出很多人纷纷狂喜 啊死的干净吗 还有剩的吗 后得知不是 是真的加了四个人 听得骂声一片 日比骂推前 </span>\n",
       "<span style=\"color: #008000; text-decoration-color: #008000\">吃香太难看了 但是当时想到会中两集 没想到会中到这种程度 那简直是FE中的拉提菲 LPL中的潘大C 是游戏业界的孔纳米 </span>\n",
       "<span style=\"color: #008000; text-decoration-color: #008000\">假面骑士界的灵依 是立绘界的水晨 是动物界的丁真 大概就是这种程度 编剧不能说是开摆了 只能说是开席了 </span>\n",
       "<span style=\"color: #008000; text-decoration-color: #008000\">这剧情写的让程序员山库跑路 有一种蓄意报复的美'</span>,\n",
       "    <span style=\"color: #008000; text-decoration-color: #008000\">'有一种蓄意报复的美 唯一纯路人拳头都摁了 不敢想粉丝看完的心理活动 那我就来实际掰扯掰扯 第二季都发生了什么 </span>\n",
       "<span style=\"color: #008000; text-decoration-color: #008000\">事先声明 如果你觉得完全无法相信以下内容 恭喜你 你是正常人 在第一季结尾的拉拉决赛 萨尼帕捧起冠军奖杯 却难掩颓势 </span>\n",
       "<span style=\"color: #008000; text-decoration-color: #008000\">星团虽刀零比三 仍尽显王者风范 只有星团的五个人升到了二年级 本来按照原计划 达到决赛的班底 氛围和化学反应都有 </span>\n",
       "<span style=\"color: #008000; text-decoration-color: #008000\">就缺一手魔盒 亚军班底再来一年呗 届时三年级的萨尼帕 也是年老色衰 拙日黄花 而一年级的小BK 肯定也是乳臭未干 不成气候 </span>\n",
       "<span style=\"color: #008000; text-decoration-color: #008000\">但是我们的大香老师 突然又开始想点子了 众所周知 星团第二季又名大香英雄传 又名色谷香音的忧郁 香音想要什么就得有什么 </span>\n",
       "<span style=\"color: #008000; text-decoration-color: #008000\">神说要有光'</span>,\n",
       "    <span style=\"color: #008000; text-decoration-color: #008000\">'香音想要什么就得有什么 神说要有光 大香说不行 于是就不能有光 凡是大香老师对的 那他太英明了 如果他错了 </span>\n",
       "<span style=\"color: #008000; text-decoration-color: #008000\">参见上一天 而大香老师 疑似是被路上偶遇的 土妹子鹰小鹿 叫前辈叫嗨 突然提出 我们应该广招一年级新人 </span>\n",
       "<span style=\"color: #008000; text-decoration-color: #008000\">即使那样会削弱团队的集战力 没事 冠军不是唯一的目的 重要的是让大家明白 做school idol很快乐 懂了 就是玩happy game </span>\n",
       "<span style=\"color: #008000; text-decoration-color: #008000\">完全对校园偶像没概念 没事 看个视频就行了 跟不上我们的训练强度 没事 开百就行了 调整公园老头老太太强度 看到录像里 </span>\n",
       "<span style=\"color: #008000; text-decoration-color: #008000\">去年我们输了决赛 如丧考笔的表情了吗 也太快乐了吧 快加入我们和我们一起坐牢吧 到最后还得是新人倡议 把训练强度加回来'</span>,\n",
       "    <span style=\"color: #008000; text-decoration-color: #008000\">'到最后还得是新人倡议 把训练强度加回来 实在是安崩了不 但是下一集里大翔老师又说 必须要获胜才能让大家开心 </span>\n",
       "<span style=\"color: #008000; text-decoration-color: #008000\">所以你也知道 你们本意要争取胜利 但就是不选能赢的玩法 偏选弹幕最多的玩法 疑似是怕你挨晚期了 于是加入新人的第一个考验</span>\n",
       "<span style=\"color: #008000; text-decoration-color: #008000\">偶像纪 列拉一号种子参赛排面拉满 还有拉拉未免冠军 萨尼帕官方背书称之为头号劲敌 顶着最大的光环 和最高的流量进入比赛 </span>\n",
       "<span style=\"color: #008000; text-decoration-color: #008000\">那必然是轻轻松松的 被打成世界第一吹吉巴 蝉联安慰奖 被一个初三的小姚贝娜 直接畅攻硬实力打爆 </span>\n",
       "<span style=\"color: #008000; text-decoration-color: #008000\">连聋哑人都能感受到的视听差距 好吧这说法夸张了 其实感受不到那么大的差距 因为列拉的演出动画里直接跳过了 不播了 </span>\n",
       "<span style=\"color: #008000; text-decoration-color: #008000\">直接连对比都别比了 镜头直接切到5张'</span>,\n",
       "    <span style=\"color: #008000; text-decoration-color: #008000\">'直接连对比都别比了 镜头直接切到5张 垮几个小猫劈脸的表情 大翔老师还被对面贴脸嘲讽 更是直接开启飞行模式 </span>\n",
       "<span style=\"color: #008000; text-decoration-color: #008000\">看不见听不见 嘻嘻哈哈爸爸开始自立 我让他隔天进来 第一句话翻一下就是 我们吹的响比赛拉 忙活一年多毛都没拿 </span>\n",
       "<span style=\"color: #008000; text-decoration-color: #008000\">就我们这样的说要夺冠真的配吗 啊牛逼 这是队长能说出来的话 本来指望他来一波拧绳 结果他就差直接给姐妹们吊上了 </span>\n",
       "<span style=\"color: #008000; text-decoration-color: #008000\">还好3D署姐妹及时的制止了他 说其实你们已经很强了 看看我们学校的奖杯贵吧 要不是千神和其他的天图 </span>\n",
       "<span style=\"color: #008000; text-decoration-color: #008000\">我们就只能摆个花盆上去了 那为了回应学校师生的厚爱 是时候痛定思痛努力 六人组合训练了吧 不我们应该招收更多新人 </span>\n",
       "<span style=\"color: #008000; text-decoration-color: #008000\">进一步稀释纯度吧 我们烂不要紧'</span>,\n",
       "    <span style=\"color: #008000; text-decoration-color: #008000\">'进一步稀释纯度吧 我们烂不要紧 反正这个学校有的是比我们更烂的 于是大乡老师又开始四处留情 坑蒙拐骗 </span>\n",
       "<span style=\"color: #008000; text-decoration-color: #008000\">终于勾到这么一对森林冰火人 一个节秋爱迪生 天天导致各种发明 要不是当学院偶像耽误了 他非得提前一博年给哆啦A梦整出来 </span>\n",
       "<span style=\"color: #008000; text-decoration-color: #008000\">一个是咧啦超话主持人 纯纯的追星小妹 天天拿个望远镜 一边留哈喇子 一边当侦察兵偷看咧啦训练 一边发微博 </span>\n",
       "<span style=\"color: #008000; text-decoration-color: #008000\">这俩人还能上演一波破产版的例子与青鸟 眼中点中点之 互相喜欢但互相不理解 我是万万没想到 因为这俩都是好朋友 </span>\n",
       "<span style=\"color: #008000; text-decoration-color: #008000\">小红喜欢学院偶像 但为了对方忍痛和他一起成立了科学部 而小蓝知道对方喜欢学院偶像 所以希望他去加入咧啦 </span>\n",
       "<span style=\"color: #008000; text-decoration-color: #008000\">因此不惜以身犯险 率先加入咧啦做激将法 小红一看'</span>,\n",
       "    <span style=\"color: #008000; text-decoration-color: #008000\">'率先加入咧啦做激将法 小红一看 卧槽我这绑一大哥 当这么久都只敢say你 直接就加入你就打我的脸是吧 </span>\n",
       "<span style=\"color: #008000; text-decoration-color: #008000\">明明俩人都是互相在乎对方挺好的事 结果差点快进到扯头发 又是大乡老师的一顿神奇嘴炮 及时安抚住小红 哎呀他可太会嘴炮了 </span>\n",
       "<span style=\"color: #008000; text-decoration-color: #008000\">建议改名叫大炮老师吧 毕竟名字就叫canon嘛 说啊小蓝喜欢你 所以他肯定也喜欢学院偶像 什么爱屋及乌啊 </span>\n",
       "<span style=\"color: #008000; text-decoration-color: #008000\">照着逻辑那些喜欢西海岸匪帮说唱的人 还喜欢什么我都不敢想了 就这样森林兵伙双双加入 这下终于可以狠狠的开始特训了吧 </span>\n",
       "<span style=\"color: #008000; text-decoration-color: #008000\">哈哈当然不行 加四人一个都不能少 隔天这个叫CEO的夏美跑来掐痰业务 说我可以帮你们营销推广 所以统统要归他所有 </span>\n",
       "<span style=\"color: #008000; text-decoration-color: #008000\">还得是大乡老师 当场不看内容直接签合同'</span>,\n",
       "    <span style=\"color: #008000; text-decoration-color: #008000\">'还得是大乡老师 当场不看内容直接签合同 然后他们就开始拍生活区视频 开始不要笑挑战 开始蹭饭挑战 </span>\n",
       "<span style=\"color: #008000; text-decoration-color: #008000\">参加男生女生向前冲 开始对对子 开拍抖音热门 训练的时候都要被相机怼脸 终于回味未来的锦终于查出猫腻 </span>\n",
       "<span style=\"color: #008000; text-decoration-color: #008000\">你这家伙不会就是为了蹭我们一波赚米吧 谁知道旁边自己的老队友先出来怼自己 真的蹦不住了 这第二季唐可可和锦的关系 </span>\n",
       "<span style=\"color: #008000; text-decoration-color: #008000\">直接从欢喜冤家变成山中北斗 可可能半天不说话 一张嘴就是怼小锦 攻击性简直堪比日本天皇 </span>\n",
       "<span style=\"color: #008000; text-decoration-color: #008000\">我都怀疑花田实惠是不是受了什么刺激 写cpc的口味变重了 其实锦不是被动遭受霸凌 只是忘记了安全词 花田啊 </span>\n",
       "<span style=\"color: #008000; text-decoration-color: #008000\">不会写互动可以不写 别恶心人了 结果小蓝也得出同样的结论 截问CEO'</span>,\n",
       "    <span style=\"color: #008000; text-decoration-color: #008000\">'结果小蓝也得出同样的结论 截问CEO CEO说我确实赚大米了 但是你们签了合同的 众人大怒 啊哪个傻逼做主签的 </span>\n",
       "<span style=\"color: #008000; text-decoration-color: #008000\">哦哦哦签的好啊 拍视频好开心啊 哈哈哈哈 大乡老师先锋勇巧 授予天启 新的一集新的绝活 一年级三人组说 暑假要分开训练 </span>\n",
       "<span style=\"color: #008000; text-decoration-color: #008000\">说被咧了能在啦啦夺冠尽一份力 我们什么都会做的 我心说那太好了 你们马上退 严筹几个月就要地区预选 还不合連 </span>\n",
       "<span style=\"color: #008000; text-decoration-color: #008000\">到时候别人台上唱歌跳舞 你们演东白网似的 签人稍微要求提高强度 就开始愁眉苦脸 还得让CEO这个前沿里买房的谢BRO </span>\n",
       "<span style=\"color: #008000; text-decoration-color: #008000\">给他们一通训话才好 啊有面 你们懂有面吗 有面 有面面 面面面面面 话说CEO也不是什么坏人 他只是没逼 他确实懂有面 </span>\n",
       "<span style=\"color: #008000; text-decoration-color: #008000\">而且还有过很多'</span>,\n",
       "    <span style=\"color: #008000; text-decoration-color: #008000\">'他确实懂有面 而且还有过很多 以前的梦想当科学家 但学习堪比大雄 后来梦想拿奥运金牌 但运动堪比大雄 再后来想当模特</span>\n",
       "<span style=\"color: #008000; text-decoration-color: #008000\">但身高堪比大雄 那啥 要不你去试试射击 后来终于明白梦想都是泡沫 一心搞钱了 拍摄期间全程跟队一起训练 天赋异禀 </span>\n",
       "<span style=\"color: #008000; text-decoration-color: #008000\">只需要个台阶下 自然就可以重新拥有有面 还是交给始终苦口婆心 试图劝下美从良的土妹子 英小露奈 现在九人里了 </span>\n",
       "<span style=\"color: #008000; text-decoration-color: #008000\">终于集结完毕 而其中的某些人 直到现在 我也不知道为啥要加入 用一段总结视频 总结这几个新人就是 我喜欢钱 我恨你们所有人</span>\n",
       "<span style=\"color: #008000; text-decoration-color: #008000\">那边前方一年级吃紧 后面二年级紧持 练练这一季基本捧人 台词全是 恩啊这是 哎嘿 游河 去你的吧 序谋依旧也要搞个大伙 </span>\n",
       "<span style=\"color: #008000; text-decoration-color: #008000\">从某天起'</span>,\n",
       "    <span style=\"color: #008000; text-decoration-color: #008000\">'序谋依旧也要搞个大伙 从某天起 练练的眼圈就黑的像L一样 不知道的还以为他和卡蜜搏斗了 结果只是单纯网瘾发作 </span>\n",
       "<span style=\"color: #008000; text-decoration-color: #008000\">干完手游玩主机 玩完主机电竞梦 荒野行动扛大狙 死不拉痛秀八五 瓦罗兰特奥丁狗 三枪拍案惊奇 满脑子划斩跳 </span>\n",
       "<span style=\"color: #008000; text-decoration-color: #008000\">别参加什么G8拉拉了 直接加入大发明 拯救日本电竞吧 直到终于瞒不住 不得不坦白的时候 大家哈哈大笑 就这啊 然后跟他一起玩</span>\n",
       "<span style=\"color: #008000; text-decoration-color: #008000\">哇 太好玩了吧 这游戏好好玩啊 哈哈 哈哈 哈哈 我只能说这世界笑了 于是我合群的一起笑了 花田 你太发霉油麦了 </span>\n",
       "<span style=\"color: #008000; text-decoration-color: #008000\">而且能解释一下 为啥玩NS会谈steam的成就吗 下一集 里拉相对不乱不惊的拿下了地区预选 以他们的训练方式能跳这么起 </span>\n",
       "<span style=\"color: #008000; text-decoration-color: #008000\">只能说'</span>,\n",
       "    <span style=\"color: #008000; text-decoration-color: #008000\">'以他们的训练方式能跳这么起 只能说 小蓝终于发明出了 环太平洋中的生物同步技术 而且这舞台抽象的跟台观一样 </span>\n",
       "<span style=\"color: #008000; text-decoration-color: #008000\">不知道的还以为是给安倍复活赛的赛前电场演出呢 几家欢喜几家愁 里拉在庆祝进入了地区决赛 未免冠军撒尼帕居然抱了个大拢 </span>\n",
       "<span style=\"color: #008000; text-decoration-color: #008000\">输给了此前的初三小哥王 意思是新人拉满不坑当C 突发网瘾的晋级了 兢兢业业的未免冠军冤死于堂 拉不赖五 </span>\n",
       "<span style=\"color: #008000; text-decoration-color: #008000\">不愧是无法预测的命运之舞台啊 虽然赢了 但居安思危 千妈仔细研究demo后 发现一年级四个人 多少还是有点拉了 </span>\n",
       "<span style=\"color: #008000; text-decoration-color: #008000\">这地区决赛不包赢啊 一年级一看 没关系 我们什么都会做的 比如呢 把对手的疯狂星际四换成华莱士 在微博大字报带对手节奏 </span>\n",
       "<span style=\"color: #008000; text-decoration-color: #008000\">不是这真的是正面人物吗'</span>,\n",
       "    <span style=\"color: #008000; text-decoration-color: #008000\">'不是这真的是正面人物吗 听起来他们要对付的敌人叫白雪公主啊 还是紧惦念着可可不夺冠就要被迫回国 直接扮演白脸 </span>\n",
       "<span style=\"color: #008000; text-decoration-color: #008000\">下一场 亚军员班人马上 一年级一听肯定不服 我们会努力的 我们什么都会做的 我们有我们的觉悟啊 来大声说出你们的觉悟 啊 </span>\n",
       "<span style=\"color: #008000; text-decoration-color: #008000\">我 我X的 那你们前面八级班都在演牛魔大仇宾啊 真的纯纯的逆天 景也是心软了 再被赶来的可可一催 两人直接抱头痛哭 </span>\n",
       "<span style=\"color: #008000; text-decoration-color: #008000\">这俩的关系直接当场倒退一年 崩城西的人设也是重新被反向夺社会了 但就这么感人的环境下 大乡老师还惦记K头 </span>\n",
       "<span style=\"color: #008000; text-decoration-color: #008000\">还好前妈一个抢手猎卢给他屌了下来 不然封神榜要改叫耻辱路子 太棒了 现在终于三军用命一心向前了 再经历了何处的锤炼 </span>\n",
       "<span style=\"color: #008000; text-decoration-color: #008000\">地区决赛终于上演'</span>,\n",
       "    <span style=\"color: #008000; text-decoration-color: #008000\">'再经历了何处的锤炼 地区决赛终于上演 而小歌神英雄池缺点暴露无遗 直接被列拉两季巅峰之作 力中暴力 </span>\n",
       "<span style=\"color: #008000; text-decoration-color: #008000\">时间来到了第11集 如果说前两集的剧情终于有所还扬 然而全是回光返 剧情刚挣扎着从三途川爬上岸 就被一脚踹了回去 </span>\n",
       "<span style=\"color: #008000; text-decoration-color: #008000\">本着人文主义关怀的角度 大乡老师狠狠的拷打了小歌神 终于得知他是维也纳音乐学院落榜生 但家里打点了点关系 </span>\n",
       "<span style=\"color: #008000; text-decoration-color: #008000\">如果他能赢love live就破格入学 我说拉拉好格局 不然波兰又要有难了 现在比赛打输成了小丑 只能口出狂言 疯狂嘴臭 </span>\n",
       "<span style=\"color: #008000; text-decoration-color: #008000\">简而言之就是点击笑崩马 五味俱全 而这还不是最屌的 刚赢了地区赛的大乡 直接收到了那所学校 双手奉上的录取通知书 </span>\n",
       "<span style=\"color: #008000; text-decoration-color: #008000\">我直接黑人问号 突然想到四个大字 幻想世界'</span>,\n",
       "    <span style=\"color: #008000; text-decoration-color: #008000\">'突然想到四个大字 幻想世界 一个本地高中音乐系的落榜的 直接破格登顶 该专业世界第一学府特招 我都怀疑是不是拼错了 </span>\n",
       "<span style=\"color: #008000; text-decoration-color: #008000\">不是维也纳 是他妈维也难吧 更抽象的是只要大乡老师入学 小歌神就能作为他的洗脚壁 一起混入其中陪读 我滴个鬼鬼 </span>\n",
       "<span style=\"color: #008000; text-decoration-color: #008000\">这星团第二季哪是大乡传 这简直就是乡音教派新编的圣经啊 队友挂箭罢了 对手小丑罢了 拉拉玩具罢了 花田奴隶罢了 </span>\n",
       "<span style=\"color: #008000; text-decoration-color: #008000\">打差评的观众游大罢了 乡门 哦对了 后来千妈了解到大乡为了团队不去留学后 直接拉着大乡老师说 你得去留学 </span>\n",
       "<span style=\"color: #008000; text-decoration-color: #008000\">这个列拉搞不搞都无所谓了 当场开始拆队 这一集一出 尼口直接狂砍28%的好评率 系列最低 这剧情你说花田百烂我真不信 </span>\n",
       "<span style=\"color: #008000; text-decoration-color: #008000\">怎么看都像是打击报复'</span>,\n",
       "    <span style=\"color: #008000; text-decoration-color: #008000\">'怎么看都像是打击报复 整理方向简直是奔着寿娘2去了 都是纯纯的恶心粉丝 当然28%和2%还是有差距的 </span>\n",
       "<span style=\"color: #008000; text-decoration-color: #008000\">以至于在最终会播出前就可以盖棺定论 他最后拉拉拿不拿冠军还关键吗 不拿离谱 拿了更离谱 我真想象不到他们赢的画面 </span>\n",
       "<span style=\"color: #008000; text-decoration-color: #008000\">剧情离谱 角色塑造也帮离谱 小千是大乡全肯定爆的 唐可可爆点机器 仅唯一正常人 夜月恋更是三项之力 </span>\n",
       "<span style=\"color: #008000; text-decoration-color: #008000\">年轻人第一部完整追完的传统偶像版 就落得几个下场了 还是看看隔壁的闪吧 家人们 最后得对花田说 我老精密了 </span>\n",
       "<span style=\"color: #008000; text-decoration-color: #008000\">惊吹三写好了我们还能和解 不然我带头放飞你妈'</span>\n",
       "<span style=\"font-weight: bold\">]</span>\n",
       "</pre>\n"
      ],
      "text/plain": [
       "\u001b[1m[\u001b[0m\n",
       "    \u001b[32m'是啊 我也没有想到在还有整整一个季度的新作没有播的时候 年度最逆天动画的比赛就已经被他杀死 而捧起冠军的就是这部 \u001b[0m\n",
       "\u001b[32mLOVE LIVE SUPERSTAR第二季 是的 连最终回头没播就已经失去悬念了 我知道很多人对于LOVE LIVE星团的理解还挺流哉 \u001b[0m\n",
       "\u001b[32m太好听了吧 简直就是天籁 诚然唐可可这个别具一格的社交恐怖分子确实给啦啦引了波大流 而我也恰好是其中的一员 \u001b[0m\n",
       "\u001b[32m星团前三季的水准确实堪称历代从未如此美妙的开局 确实够格成为年轻人第一部LOVE LIVE \u001b[0m\n",
       "\u001b[32m只可惜在后半段就迅速滑落为一般偶像样板戏 音乐链的故事更可称烂俗无比 一整季忙活下来不仅角色没塑造明白 \u001b[0m\n",
       "\u001b[32m还只拿了个外卡冠军 纯纯的高开低走'\u001b[0m,\n",
       "    \u001b[32m'还只拿了个外卡冠军 纯纯的高开低走 但众所周知LOVE LIVE系列人均两季打底 所以不要紧 \u001b[0m\n",
       "\u001b[32m这一切的问题都会在第二季被解决的吧 被解决的吧 解决的吧 觉得吧 的吧 啊吧 并没有 策划家四人了 \u001b[0m\n",
       "\u001b[32m策划家四人这个消息一出很多人纷纷狂喜 啊死的干净吗 还有剩的吗 后得知不是 是真的加了四个人 听得骂声一片 日比骂推前 \u001b[0m\n",
       "\u001b[32m吃香太难看了 但是当时想到会中两集 没想到会中到这种程度 那简直是FE中的拉提菲 LPL中的潘大C 是游戏业界的孔纳米 \u001b[0m\n",
       "\u001b[32m假面骑士界的灵依 是立绘界的水晨 是动物界的丁真 大概就是这种程度 编剧不能说是开摆了 只能说是开席了 \u001b[0m\n",
       "\u001b[32m这剧情写的让程序员山库跑路 有一种蓄意报复的美'\u001b[0m,\n",
       "    \u001b[32m'有一种蓄意报复的美 唯一纯路人拳头都摁了 不敢想粉丝看完的心理活动 那我就来实际掰扯掰扯 第二季都发生了什么 \u001b[0m\n",
       "\u001b[32m事先声明 如果你觉得完全无法相信以下内容 恭喜你 你是正常人 在第一季结尾的拉拉决赛 萨尼帕捧起冠军奖杯 却难掩颓势 \u001b[0m\n",
       "\u001b[32m星团虽刀零比三 仍尽显王者风范 只有星团的五个人升到了二年级 本来按照原计划 达到决赛的班底 氛围和化学反应都有 \u001b[0m\n",
       "\u001b[32m就缺一手魔盒 亚军班底再来一年呗 届时三年级的萨尼帕 也是年老色衰 拙日黄花 而一年级的小BK 肯定也是乳臭未干 不成气候 \u001b[0m\n",
       "\u001b[32m但是我们的大香老师 突然又开始想点子了 众所周知 星团第二季又名大香英雄传 又名色谷香音的忧郁 香音想要什么就得有什么 \u001b[0m\n",
       "\u001b[32m神说要有光'\u001b[0m,\n",
       "    \u001b[32m'香音想要什么就得有什么 神说要有光 大香说不行 于是就不能有光 凡是大香老师对的 那他太英明了 如果他错了 \u001b[0m\n",
       "\u001b[32m参见上一天 而大香老师 疑似是被路上偶遇的 土妹子鹰小鹿 叫前辈叫嗨 突然提出 我们应该广招一年级新人 \u001b[0m\n",
       "\u001b[32m即使那样会削弱团队的集战力 没事 冠军不是唯一的目的 重要的是让大家明白 做school idol很快乐 懂了 就是玩happy game \u001b[0m\n",
       "\u001b[32m完全对校园偶像没概念 没事 看个视频就行了 跟不上我们的训练强度 没事 开百就行了 调整公园老头老太太强度 看到录像里 \u001b[0m\n",
       "\u001b[32m去年我们输了决赛 如丧考笔的表情了吗 也太快乐了吧 快加入我们和我们一起坐牢吧 到最后还得是新人倡议 把训练强度加回来'\u001b[0m,\n",
       "    \u001b[32m'到最后还得是新人倡议 把训练强度加回来 实在是安崩了不 但是下一集里大翔老师又说 必须要获胜才能让大家开心 \u001b[0m\n",
       "\u001b[32m所以你也知道 你们本意要争取胜利 但就是不选能赢的玩法 偏选弹幕最多的玩法 疑似是怕你挨晚期了 于是加入新人的第一个考验\u001b[0m\n",
       "\u001b[32m偶像纪 列拉一号种子参赛排面拉满 还有拉拉未免冠军 萨尼帕官方背书称之为头号劲敌 顶着最大的光环 和最高的流量进入比赛 \u001b[0m\n",
       "\u001b[32m那必然是轻轻松松的 被打成世界第一吹吉巴 蝉联安慰奖 被一个初三的小姚贝娜 直接畅攻硬实力打爆 \u001b[0m\n",
       "\u001b[32m连聋哑人都能感受到的视听差距 好吧这说法夸张了 其实感受不到那么大的差距 因为列拉的演出动画里直接跳过了 不播了 \u001b[0m\n",
       "\u001b[32m直接连对比都别比了 镜头直接切到5张'\u001b[0m,\n",
       "    \u001b[32m'直接连对比都别比了 镜头直接切到5张 垮几个小猫劈脸的表情 大翔老师还被对面贴脸嘲讽 更是直接开启飞行模式 \u001b[0m\n",
       "\u001b[32m看不见听不见 嘻嘻哈哈爸爸开始自立 我让他隔天进来 第一句话翻一下就是 我们吹的响比赛拉 忙活一年多毛都没拿 \u001b[0m\n",
       "\u001b[32m就我们这样的说要夺冠真的配吗 啊牛逼 这是队长能说出来的话 本来指望他来一波拧绳 结果他就差直接给姐妹们吊上了 \u001b[0m\n",
       "\u001b[32m还好3D署姐妹及时的制止了他 说其实你们已经很强了 看看我们学校的奖杯贵吧 要不是千神和其他的天图 \u001b[0m\n",
       "\u001b[32m我们就只能摆个花盆上去了 那为了回应学校师生的厚爱 是时候痛定思痛努力 六人组合训练了吧 不我们应该招收更多新人 \u001b[0m\n",
       "\u001b[32m进一步稀释纯度吧 我们烂不要紧'\u001b[0m,\n",
       "    \u001b[32m'进一步稀释纯度吧 我们烂不要紧 反正这个学校有的是比我们更烂的 于是大乡老师又开始四处留情 坑蒙拐骗 \u001b[0m\n",
       "\u001b[32m终于勾到这么一对森林冰火人 一个节秋爱迪生 天天导致各种发明 要不是当学院偶像耽误了 他非得提前一博年给哆啦A梦整出来 \u001b[0m\n",
       "\u001b[32m一个是咧啦超话主持人 纯纯的追星小妹 天天拿个望远镜 一边留哈喇子 一边当侦察兵偷看咧啦训练 一边发微博 \u001b[0m\n",
       "\u001b[32m这俩人还能上演一波破产版的例子与青鸟 眼中点中点之 互相喜欢但互相不理解 我是万万没想到 因为这俩都是好朋友 \u001b[0m\n",
       "\u001b[32m小红喜欢学院偶像 但为了对方忍痛和他一起成立了科学部 而小蓝知道对方喜欢学院偶像 所以希望他去加入咧啦 \u001b[0m\n",
       "\u001b[32m因此不惜以身犯险 率先加入咧啦做激将法 小红一看'\u001b[0m,\n",
       "    \u001b[32m'率先加入咧啦做激将法 小红一看 卧槽我这绑一大哥 当这么久都只敢say你 直接就加入你就打我的脸是吧 \u001b[0m\n",
       "\u001b[32m明明俩人都是互相在乎对方挺好的事 结果差点快进到扯头发 又是大乡老师的一顿神奇嘴炮 及时安抚住小红 哎呀他可太会嘴炮了 \u001b[0m\n",
       "\u001b[32m建议改名叫大炮老师吧 毕竟名字就叫canon嘛 说啊小蓝喜欢你 所以他肯定也喜欢学院偶像 什么爱屋及乌啊 \u001b[0m\n",
       "\u001b[32m照着逻辑那些喜欢西海岸匪帮说唱的人 还喜欢什么我都不敢想了 就这样森林兵伙双双加入 这下终于可以狠狠的开始特训了吧 \u001b[0m\n",
       "\u001b[32m哈哈当然不行 加四人一个都不能少 隔天这个叫CEO的夏美跑来掐痰业务 说我可以帮你们营销推广 所以统统要归他所有 \u001b[0m\n",
       "\u001b[32m还得是大乡老师 当场不看内容直接签合同'\u001b[0m,\n",
       "    \u001b[32m'还得是大乡老师 当场不看内容直接签合同 然后他们就开始拍生活区视频 开始不要笑挑战 开始蹭饭挑战 \u001b[0m\n",
       "\u001b[32m参加男生女生向前冲 开始对对子 开拍抖音热门 训练的时候都要被相机怼脸 终于回味未来的锦终于查出猫腻 \u001b[0m\n",
       "\u001b[32m你这家伙不会就是为了蹭我们一波赚米吧 谁知道旁边自己的老队友先出来怼自己 真的蹦不住了 这第二季唐可可和锦的关系 \u001b[0m\n",
       "\u001b[32m直接从欢喜冤家变成山中北斗 可可能半天不说话 一张嘴就是怼小锦 攻击性简直堪比日本天皇 \u001b[0m\n",
       "\u001b[32m我都怀疑花田实惠是不是受了什么刺激 写cpc的口味变重了 其实锦不是被动遭受霸凌 只是忘记了安全词 花田啊 \u001b[0m\n",
       "\u001b[32m不会写互动可以不写 别恶心人了 结果小蓝也得出同样的结论 截问CEO'\u001b[0m,\n",
       "    \u001b[32m'结果小蓝也得出同样的结论 截问CEO CEO说我确实赚大米了 但是你们签了合同的 众人大怒 啊哪个傻逼做主签的 \u001b[0m\n",
       "\u001b[32m哦哦哦签的好啊 拍视频好开心啊 哈哈哈哈 大乡老师先锋勇巧 授予天启 新的一集新的绝活 一年级三人组说 暑假要分开训练 \u001b[0m\n",
       "\u001b[32m说被咧了能在啦啦夺冠尽一份力 我们什么都会做的 我心说那太好了 你们马上退 严筹几个月就要地区预选 还不合連 \u001b[0m\n",
       "\u001b[32m到时候别人台上唱歌跳舞 你们演东白网似的 签人稍微要求提高强度 就开始愁眉苦脸 还得让CEO这个前沿里买房的谢BRO \u001b[0m\n",
       "\u001b[32m给他们一通训话才好 啊有面 你们懂有面吗 有面 有面面 面面面面面 话说CEO也不是什么坏人 他只是没逼 他确实懂有面 \u001b[0m\n",
       "\u001b[32m而且还有过很多'\u001b[0m,\n",
       "    \u001b[32m'他确实懂有面 而且还有过很多 以前的梦想当科学家 但学习堪比大雄 后来梦想拿奥运金牌 但运动堪比大雄 再后来想当模特\u001b[0m\n",
       "\u001b[32m但身高堪比大雄 那啥 要不你去试试射击 后来终于明白梦想都是泡沫 一心搞钱了 拍摄期间全程跟队一起训练 天赋异禀 \u001b[0m\n",
       "\u001b[32m只需要个台阶下 自然就可以重新拥有有面 还是交给始终苦口婆心 试图劝下美从良的土妹子 英小露奈 现在九人里了 \u001b[0m\n",
       "\u001b[32m终于集结完毕 而其中的某些人 直到现在 我也不知道为啥要加入 用一段总结视频 总结这几个新人就是 我喜欢钱 我恨你们所有人\u001b[0m\n",
       "\u001b[32m那边前方一年级吃紧 后面二年级紧持 练练这一季基本捧人 台词全是 恩啊这是 哎嘿 游河 去你的吧 序谋依旧也要搞个大伙 \u001b[0m\n",
       "\u001b[32m从某天起'\u001b[0m,\n",
       "    \u001b[32m'序谋依旧也要搞个大伙 从某天起 练练的眼圈就黑的像L一样 不知道的还以为他和卡蜜搏斗了 结果只是单纯网瘾发作 \u001b[0m\n",
       "\u001b[32m干完手游玩主机 玩完主机电竞梦 荒野行动扛大狙 死不拉痛秀八五 瓦罗兰特奥丁狗 三枪拍案惊奇 满脑子划斩跳 \u001b[0m\n",
       "\u001b[32m别参加什么G8拉拉了 直接加入大发明 拯救日本电竞吧 直到终于瞒不住 不得不坦白的时候 大家哈哈大笑 就这啊 然后跟他一起玩\u001b[0m\n",
       "\u001b[32m哇 太好玩了吧 这游戏好好玩啊 哈哈 哈哈 哈哈 我只能说这世界笑了 于是我合群的一起笑了 花田 你太发霉油麦了 \u001b[0m\n",
       "\u001b[32m而且能解释一下 为啥玩NS会谈steam的成就吗 下一集 里拉相对不乱不惊的拿下了地区预选 以他们的训练方式能跳这么起 \u001b[0m\n",
       "\u001b[32m只能说'\u001b[0m,\n",
       "    \u001b[32m'以他们的训练方式能跳这么起 只能说 小蓝终于发明出了 环太平洋中的生物同步技术 而且这舞台抽象的跟台观一样 \u001b[0m\n",
       "\u001b[32m不知道的还以为是给安倍复活赛的赛前电场演出呢 几家欢喜几家愁 里拉在庆祝进入了地区决赛 未免冠军撒尼帕居然抱了个大拢 \u001b[0m\n",
       "\u001b[32m输给了此前的初三小哥王 意思是新人拉满不坑当C 突发网瘾的晋级了 兢兢业业的未免冠军冤死于堂 拉不赖五 \u001b[0m\n",
       "\u001b[32m不愧是无法预测的命运之舞台啊 虽然赢了 但居安思危 千妈仔细研究demo后 发现一年级四个人 多少还是有点拉了 \u001b[0m\n",
       "\u001b[32m这地区决赛不包赢啊 一年级一看 没关系 我们什么都会做的 比如呢 把对手的疯狂星际四换成华莱士 在微博大字报带对手节奏 \u001b[0m\n",
       "\u001b[32m不是这真的是正面人物吗'\u001b[0m,\n",
       "    \u001b[32m'不是这真的是正面人物吗 听起来他们要对付的敌人叫白雪公主啊 还是紧惦念着可可不夺冠就要被迫回国 直接扮演白脸 \u001b[0m\n",
       "\u001b[32m下一场 亚军员班人马上 一年级一听肯定不服 我们会努力的 我们什么都会做的 我们有我们的觉悟啊 来大声说出你们的觉悟 啊 \u001b[0m\n",
       "\u001b[32m我 我X的 那你们前面八级班都在演牛魔大仇宾啊 真的纯纯的逆天 景也是心软了 再被赶来的可可一催 两人直接抱头痛哭 \u001b[0m\n",
       "\u001b[32m这俩的关系直接当场倒退一年 崩城西的人设也是重新被反向夺社会了 但就这么感人的环境下 大乡老师还惦记K头 \u001b[0m\n",
       "\u001b[32m还好前妈一个抢手猎卢给他屌了下来 不然封神榜要改叫耻辱路子 太棒了 现在终于三军用命一心向前了 再经历了何处的锤炼 \u001b[0m\n",
       "\u001b[32m地区决赛终于上演'\u001b[0m,\n",
       "    \u001b[32m'再经历了何处的锤炼 地区决赛终于上演 而小歌神英雄池缺点暴露无遗 直接被列拉两季巅峰之作 力中暴力 \u001b[0m\n",
       "\u001b[32m时间来到了第11集 如果说前两集的剧情终于有所还扬 然而全是回光返 剧情刚挣扎着从三途川爬上岸 就被一脚踹了回去 \u001b[0m\n",
       "\u001b[32m本着人文主义关怀的角度 大乡老师狠狠的拷打了小歌神 终于得知他是维也纳音乐学院落榜生 但家里打点了点关系 \u001b[0m\n",
       "\u001b[32m如果他能赢love live就破格入学 我说拉拉好格局 不然波兰又要有难了 现在比赛打输成了小丑 只能口出狂言 疯狂嘴臭 \u001b[0m\n",
       "\u001b[32m简而言之就是点击笑崩马 五味俱全 而这还不是最屌的 刚赢了地区赛的大乡 直接收到了那所学校 双手奉上的录取通知书 \u001b[0m\n",
       "\u001b[32m我直接黑人问号 突然想到四个大字 幻想世界'\u001b[0m,\n",
       "    \u001b[32m'突然想到四个大字 幻想世界 一个本地高中音乐系的落榜的 直接破格登顶 该专业世界第一学府特招 我都怀疑是不是拼错了 \u001b[0m\n",
       "\u001b[32m不是维也纳 是他妈维也难吧 更抽象的是只要大乡老师入学 小歌神就能作为他的洗脚壁 一起混入其中陪读 我滴个鬼鬼 \u001b[0m\n",
       "\u001b[32m这星团第二季哪是大乡传 这简直就是乡音教派新编的圣经啊 队友挂箭罢了 对手小丑罢了 拉拉玩具罢了 花田奴隶罢了 \u001b[0m\n",
       "\u001b[32m打差评的观众游大罢了 乡门 哦对了 后来千妈了解到大乡为了团队不去留学后 直接拉着大乡老师说 你得去留学 \u001b[0m\n",
       "\u001b[32m这个列拉搞不搞都无所谓了 当场开始拆队 这一集一出 尼口直接狂砍28%的好评率 系列最低 这剧情你说花田百烂我真不信 \u001b[0m\n",
       "\u001b[32m怎么看都像是打击报复'\u001b[0m,\n",
       "    \u001b[32m'怎么看都像是打击报复 整理方向简直是奔着寿娘2去了 都是纯纯的恶心粉丝 当然28%和2%还是有差距的 \u001b[0m\n",
       "\u001b[32m以至于在最终会播出前就可以盖棺定论 他最后拉拉拿不拿冠军还关键吗 不拿离谱 拿了更离谱 我真想象不到他们赢的画面 \u001b[0m\n",
       "\u001b[32m剧情离谱 角色塑造也帮离谱 小千是大乡全肯定爆的 唐可可爆点机器 仅唯一正常人 夜月恋更是三项之力 \u001b[0m\n",
       "\u001b[32m年轻人第一部完整追完的传统偶像版 就落得几个下场了 还是看看隔壁的闪吧 家人们 最后得对花田说 我老精密了 \u001b[0m\n",
       "\u001b[32m惊吹三写好了我们还能和解 不然我带头放飞你妈'\u001b[0m\n",
       "\u001b[1m]\u001b[0m\n"
      ]
     },
     "metadata": {},
     "output_type": "display_data"
    }
   ],
   "source": [
    "pprint(splits)"
   ]
  },
  {
   "cell_type": "markdown",
   "metadata": {
    "id": "6EcqW23cW8vi"
   },
   "source": [
    "這次我們要使用的Meta的`Faiss`作為向量搜尋的程式庫（不然一直算cosine similarity感覺很low）。此程式庫支援gpu。我們一樣將文字檔用`OpenAIEmbeddings`做編碼，接著存放到資料庫裡"
   ]
  },
  {
   "cell_type": "code",
   "execution_count": 12,
   "metadata": {
    "id": "jySoD6G6Fu30"
   },
   "outputs": [],
   "source": [
    "embeddings = OpenAIEmbeddings()\n",
    "db = FAISS.from_texts(splits, embeddings)\n",
    "db.save_local(\"./Ch9/youtube_db\")"
   ]
  },
  {
   "cell_type": "markdown",
   "metadata": {},
   "source": [
    "設定參數`allow_dangerous_deserialization=True`才能夠載入資料檔案"
   ]
  },
  {
   "cell_type": "code",
   "execution_count": 13,
   "metadata": {
    "colab": {
     "base_uri": "https://localhost:8080/",
     "height": 159
    },
    "id": "Y5aRHNLJWZbE",
    "outputId": "5f4629a0-e420-4d5f-bca9-26e435e1cedd"
   },
   "outputs": [
    {
     "data": {
      "text/html": [
       "<pre style=\"white-space:pre;overflow-x:auto;line-height:normal;font-family:Menlo,'DejaVu Sans Mono',consolas,'Courier New',monospace\"><span style=\"color: #800080; text-decoration-color: #800080; font-weight: bold\">Document</span><span style=\"font-weight: bold\">(</span>\n",
       "    <span style=\"color: #808000; text-decoration-color: #808000\">page_content</span>=<span style=\"color: #008000; text-decoration-color: #008000\">'不是这真的是正面人物吗 听起来他们要对付的敌人叫白雪公主啊 还是紧惦念着可可不夺冠就要被迫回国 </span>\n",
       "<span style=\"color: #008000; text-decoration-color: #008000\">直接扮演白脸 下一场 亚军员班人马上 一年级一听肯定不服 我们会努力的 我们什么都会做的 我们有我们的觉悟啊 </span>\n",
       "<span style=\"color: #008000; text-decoration-color: #008000\">来大声说出你们的觉悟 啊 我 我X的 那你们前面八级班都在演牛魔大仇宾啊 真的纯纯的逆天 景也是心软了 再被赶来的可可一催 </span>\n",
       "<span style=\"color: #008000; text-decoration-color: #008000\">两人直接抱头痛哭 这俩的关系直接当场倒退一年 崩城西的人设也是重新被反向夺社会了 但就这么感人的环境下 </span>\n",
       "<span style=\"color: #008000; text-decoration-color: #008000\">大乡老师还惦记K头 还好前妈一个抢手猎卢给他屌了下来 不然封神榜要改叫耻辱路子 太棒了 现在终于三军用命一心向前了 </span>\n",
       "<span style=\"color: #008000; text-decoration-color: #008000\">再经历了何处的锤炼 地区决赛终于上演'</span>\n",
       "<span style=\"font-weight: bold\">)</span>\n",
       "</pre>\n"
      ],
      "text/plain": [
       "\u001b[1;35mDocument\u001b[0m\u001b[1m(\u001b[0m\n",
       "    \u001b[33mpage_content\u001b[0m=\u001b[32m'不是这真的是正面人物吗 听起来他们要对付的敌人叫白雪公主啊 还是紧惦念着可可不夺冠就要被迫回国 \u001b[0m\n",
       "\u001b[32m直接扮演白脸 下一场 亚军员班人马上 一年级一听肯定不服 我们会努力的 我们什么都会做的 我们有我们的觉悟啊 \u001b[0m\n",
       "\u001b[32m来大声说出你们的觉悟 啊 我 我X的 那你们前面八级班都在演牛魔大仇宾啊 真的纯纯的逆天 景也是心软了 再被赶来的可可一催 \u001b[0m\n",
       "\u001b[32m两人直接抱头痛哭 这俩的关系直接当场倒退一年 崩城西的人设也是重新被反向夺社会了 但就这么感人的环境下 \u001b[0m\n",
       "\u001b[32m大乡老师还惦记K头 还好前妈一个抢手猎卢给他屌了下来 不然封神榜要改叫耻辱路子 太棒了 现在终于三军用命一心向前了 \u001b[0m\n",
       "\u001b[32m再经历了何处的锤炼 地区决赛终于上演'\u001b[0m\n",
       "\u001b[1m)\u001b[0m\n"
      ]
     },
     "metadata": {},
     "output_type": "display_data"
    }
   ],
   "source": [
    "new_db = FAISS.load_local(folder_path=\"./Ch9/youtube_db\", embeddings=embeddings, allow_dangerous_deserialization=True)\n",
    "docs = new_db.similarity_search('對這部電影的感受')\n",
    "pprint(docs[0])"
   ]
  },
  {
   "cell_type": "markdown",
   "metadata": {},
   "source": [
    "### 4. 串起Chain\n",
    "都用老方法即可"
   ]
  },
  {
   "cell_type": "code",
   "execution_count": 14,
   "metadata": {
    "id": "UYfB_OreS9UM"
   },
   "outputs": [],
   "source": [
    "chat_model = ChatOpenAI()\n",
    "str_parser = StrOutputParser()\n",
    "template = (\"\"\"\n",
    "    請根據以下內容加上自身判斷使用繁體中文回答問題:\\n\n",
    "    {context}\\n\n",
    "    問題: {question}\n",
    "    \"\"\")\n",
    "prompt = ChatPromptTemplate.from_template(template)\n",
    "retriever=new_db.as_retriever()"
   ]
  },
  {
   "cell_type": "code",
   "execution_count": 15,
   "metadata": {
    "id": "mJnlCNNPS-v8"
   },
   "outputs": [],
   "source": [
    "chain = {\"context\": retriever, \"question\": RunnablePassthrough()} | prompt | chat_model | str_parser"
   ]
  },
  {
   "cell_type": "code",
   "execution_count": 16,
   "metadata": {
    "colab": {
     "base_uri": "https://localhost:8080/"
    },
    "id": "eXamqWIdUCDq",
    "outputId": "bef0b6a0-8873-474d-cf0c-2968ba087063"
   },
   "outputs": [
    {
     "name": "stdout",
     "output_type": "stream",
     "text": [
      "根據這些文件內容，影評對這部動畫的感受似乎非常負面。影評者提到劇情充滿回光返照，挣扎卻又被踹回去，角色塑造離譜，情節離譜，並且對主要角色和劇情發展進行了批評。影評者也表達了對劇情走向和角色命運的擔憂，並提到了對該動畫第二季的失望。整體來說，影評者對這部動畫持有非常批評和負面的態度，認為劇情和角色塑造都存在問題，導致觀眾無法接受和理解。\n"
     ]
    }
   ],
   "source": [
    "query = \"影評對這部動畫的感受為何?請詳細說明\"\n",
    "print(chain.invoke(query))"
   ]
  },
  {
   "cell_type": "code",
   "execution_count": 17,
   "metadata": {
    "colab": {
     "base_uri": "https://localhost:8080/"
    },
    "id": "NIfiG95FjlcZ",
    "outputId": "b496b041-8af5-4954-c5a9-13b79e450463"
   },
   "outputs": [
    {
     "name": "stdout",
     "output_type": "stream",
     "text": [
      "根據影評中的描述，香音這個角色被形容為一個有著蓄意報復的美感，有著獨特的個性和態度。她在劇中展現出對於成為school idol的熱情和堅持，同時也展現出對於團隊的貢獻和影響力。她的行為和決定常常讓其他角色感到驚訝和困惑，但同時也帶給整個團隊活力和挑戰。\n"
     ]
    }
   ],
   "source": [
    "query = \"總結影評中對於香音這個角色的描述？\"\n",
    "print(chain.invoke(query))"
   ]
  },
  {
   "cell_type": "markdown",
   "metadata": {
    "id": "YuDoyjGbUZCW"
   },
   "source": [
    "### 5. 建立能持續對話的程式\n",
    "以下的程式碼用以建立一個聊天機器人，以使用者的詢問作為input，並以模型的回答作為output。完整的前後端程式可參考這份專案[Replit 專案](https://replit.com/@flagtech/Youtubechatbot)"
   ]
  },
  {
   "cell_type": "code",
   "execution_count": 18,
   "metadata": {
    "id": "uA05oUAPUkS3"
   },
   "outputs": [],
   "source": [
    "def search_url(query):\n",
    "    result = tool.invoke(query + \",1\")\n",
    "    urls = eval(result)\n",
    "    urls = [url.split('&')[0] for url in urls]\n",
    "    return urls"
   ]
  },
  {
   "cell_type": "code",
   "execution_count": 19,
   "metadata": {
    "id": "wmRtvT9Vctq9"
   },
   "outputs": [],
   "source": [
    "def rag(text):\n",
    "    splits = text_splitter.split_text(text)\n",
    "    db = FAISS.from_texts(splits, embeddings)\n",
    "    db.save_local(\"/content/drive/MyDrive/youtube_db\")\n",
    "    new_db = FAISS.load_local(folder_path=\"/content/drive/MyDrive/youtube_db\",\n",
    "                              embeddings=embeddings,\n",
    "                              allow_dangerous_deserialization=True)\n",
    "    retriever=new_db.as_retriever()\n",
    "    chain = {\"context\": retriever, \"question\": RunnablePassthrough()} | prompt | chat_model | str_parser\n",
    "    \n",
    "    return chain"
   ]
  },
  {
   "cell_type": "code",
   "execution_count": 20,
   "metadata": {
    "colab": {
     "base_uri": "https://localhost:8080/"
    },
    "id": "88det51Abfgb",
    "outputId": "952e24bf-8935-48c3-b0fa-732a2ff1c2b6"
   },
   "outputs": [
    {
     "name": "stdin",
     "output_type": "stream",
     "text": [
      "您要查詢的影片關鍵字是？： \n"
     ]
    }
   ],
   "source": [
    "while True:\n",
    "    msg = input(\"您要查詢的影片關鍵字是？：\")\n",
    "    if not msg.strip():\n",
    "        break\n",
    "    urls = search_url(msg)\n",
    "    url_download(urls)\n",
    "    print('處理中...')\n",
    "    text=audio_to_text('/content/audio.mp3')\n",
    "    print('處理完畢, 可開始問答')\n",
    "    chain = rag(text)\n",
    "    while True:\n",
    "        msg = input(\"我說:\")\n",
    "        if not msg.strip():\n",
    "            break\n",
    "        response = chain.invoke(msg)\n",
    "        print(response)"
   ]
  },
  {
   "cell_type": "markdown",
   "metadata": {
    "id": "00XNvutkU1CM"
   },
   "source": [
    "## 9-2 辦公室常見檔案問答機器人\n",
    "將常見的Word，Excel，PowerPoint檔案匯入，並建立公司內部的聊天機器人。這些檔案的匯入可以用`UnstructuredFileLoader`來實現。包含前後端的完整專案可參考[Replit 專案](https://replit.com/@flagtech/Officefilebot)以及[GitHub 可讀圖片 PDF 的 Source code](https://github.com/FlagTech/F4763)"
   ]
  },
  {
   "cell_type": "code",
   "execution_count": 21,
   "metadata": {
    "id": "pcyHjPNNYDKg"
   },
   "outputs": [],
   "source": [
    "def office_file(file_path):\n",
    "    loader = UnstructuredFileLoader(file_path)\n",
    "    docs = loader.load()\n",
    "    return docs"
   ]
  },
  {
   "cell_type": "markdown",
   "metadata": {
    "id": "8S7kJK3t9i2j"
   },
   "source": [
    "### 1. PowerPoint文件的處理\n",
    "先使用指令`pip install python-magic-bin==0.4.14`下載需要的包"
   ]
  },
  {
   "cell_type": "code",
   "execution_count": 22,
   "metadata": {
    "colab": {
     "base_uri": "https://localhost:8080/",
     "height": 1000
    },
    "id": "otDjnMAhYERR",
    "outputId": "bf29fbf5-2075-4a12-a078-068d1baa20b3"
   },
   "outputs": [],
   "source": [
    "ppt_docs = office_file('./Ch9/example_ppt.pptx')"
   ]
  },
  {
   "cell_type": "code",
   "execution_count": 23,
   "metadata": {
    "colab": {
     "base_uri": "https://localhost:8080/"
    },
    "id": "QKq1MZJaahbL",
    "outputId": "01da8e08-9c45-4ccb-e5d5-b3791382ddf5"
   },
   "outputs": [
    {
     "name": "stdout",
     "output_type": "stream",
     "text": [
      "立法院第10屆第3會期經濟委員會\n",
      "\n",
      "國家發展委員會\u000b",
      "業務報告\n",
      "\n",
      "國家發展委員會\n",
      "\n",
      "主任委員 龔明鑫\n",
      "\n",
      "全球經濟恢復成長\n",
      "\n",
      "國際機構全球經濟成長率預測\n",
      "\n",
      "單位：%\n",
      "\n",
      "2021年1月預測\n",
      "\n",
      "2021年2月預測\n",
      "\n",
      "2021年3月預測\n",
      "__________\n",
      "經濟風險仍高：疫情尚難緩和、美中衝突長期化、全球債務\u000b",
      "攀升金融風險升高、不均衡復甦\n",
      "\n",
      "2021年展望\n",
      "\n",
      "實質輸出成長+5.05%\n",
      "\n",
      "全球貿易量回升\n",
      "\n",
      "數位轉型商機\n",
      "\n",
      "新興科技應用需求仍殷\n",
      "\n",
      "2021年(f)  (+4.64%)\n",
      "\n",
      "單位：%\n",
      "\n",
      "近7年新高!!\n",
      "\n",
      "實質民間消費成長+3.74%\n",
      "__________\n"
     ]
    }
   ],
   "source": [
    "text_splitter = RecursiveCharacterTextSplitter(separators=[\"\\n\\n\"], chunk_size=150, chunk_overlap=0)\n",
    "splits = text_splitter.split_documents(ppt_docs)\n",
    "for i in splits[:2]:\n",
    "    print(i.page_content)\n",
    "    print('_'*10)"
   ]
  },
  {
   "cell_type": "code",
   "execution_count": 24,
   "metadata": {
    "id": "kcT_RwMf_-3s"
   },
   "outputs": [],
   "source": [
    "def rag(splits, name):\n",
    "    db = FAISS.from_documents(splits, embeddings)\n",
    "    db.save_local(folder_path=\"/content/drive/MyDrive/office_db\", index_name=name)\n",
    "    new_db = FAISS.load_local(folder_path=\"/content/drive/MyDrive/office_db\", \n",
    "                              index_name=name,\n",
    "                              embeddings=embeddings,\n",
    "                              allow_dangerous_deserialization=True)\n",
    "    retriever=new_db.as_retriever()\n",
    "    chain = {\"context\": retriever, \"question\": RunnablePassthrough()} | prompt | chat_model | str_parser\n",
    "    \n",
    "    return chain"
   ]
  },
  {
   "cell_type": "code",
   "execution_count": 25,
   "metadata": {
    "id": "prhVEoBqWrJb"
   },
   "outputs": [],
   "source": [
    "ppt_chain = rag(splits, 'ppt')"
   ]
  },
  {
   "cell_type": "code",
   "execution_count": 26,
   "metadata": {
    "colab": {
     "base_uri": "https://localhost:8080/"
    },
    "id": "6-C-tlZLWuVQ",
    "outputId": "14b070fe-6eb8-46d5-98e8-370340e48bb3"
   },
   "outputs": [
    {
     "name": "stdout",
     "output_type": "stream",
     "text": [
      "根據提供的資料，台灣的創新產業發展策略包括擴大投融資加速新創成長、形塑國家新創品牌強化商機拓展、深化物聯網國際夥伴關係、打造國際級亞矽創新聚落等。台灣已經在吸引國際大廠創新研發資源、推動智慧城鄉服務、活絡人才和法規調適等方面取得一定成就。根據世界經濟論壇的評比，台灣被評為全球4大超級創新國之一，並且物聯網已成為兆元產業。台灣也已通過多家企業的投資，帶動了相當大的資金流動。整體來說，台灣的創新產業發展走在一個積極的方向上，希望能成為全球經濟的關鍵力量。\n"
     ]
    }
   ],
   "source": [
    "print(ppt_chain.invoke(\"台灣的創新產業如何?\"))"
   ]
  },
  {
   "cell_type": "markdown",
   "metadata": {
    "id": "eAxW7mPY9brE"
   },
   "source": [
    "### 2. Word文件的處理"
   ]
  },
  {
   "cell_type": "code",
   "execution_count": 27,
   "metadata": {
    "colab": {
     "base_uri": "https://localhost:8080/",
     "height": 1000
    },
    "id": "kEbcc3yFhh-5",
    "outputId": "62490d10-bb13-475d-b788-46c0a3c66edb"
   },
   "outputs": [],
   "source": [
    "word_docs = office_file('./Ch9/example_word.docx')"
   ]
  },
  {
   "cell_type": "code",
   "execution_count": 28,
   "metadata": {
    "colab": {
     "base_uri": "https://localhost:8080/"
    },
    "id": "DZBumbo8A952",
    "outputId": "ac11986e-4d3b-4d30-c457-b61ffff9ed06"
   },
   "outputs": [
    {
     "name": "stdout",
     "output_type": "stream",
     "text": [
      "常見詐騙手法話術解析與預防策略\n",
      "__________\n",
      "第一章　假網拍詐騙\n",
      "\n",
      "手法及話術解析：\n",
      "\n",
      "民眾透過臉書、LINE或知名拍賣網站從事網路購物，詐騙集團便利用當前最新款的3C產品、限量球鞋、名牌包或熱門演唱會門票等，以明顯低於市價之價格誘引民眾下單並要求以LINE或Messenger私下交易。等被害人匯款後卻不出貨，且失去聯繫；或以貨到付款方式取貨開箱後，才發現是劣質商品。\n",
      "\n",
      "預防策略\n",
      "\n",
      "網購商品應慎選優良有信用之網路商家，透過面交方式或選擇提供第三方支付之網購平臺，以保障雙方權益並減少消費糾紛。\n",
      "\n",
      "避免透過LINE、Messenger等通訊軟體與賣家私下聯繫交易，以免求助無門。\n",
      "\n",
      "應加強查核網路商家的真實性，如粉絲專頁成立時間短、粉絲或追蹤人數過少等，可立即至經濟部網站查詢公司名稱、地址等基本資料。\n",
      "\n",
      "\n",
      "__________\n"
     ]
    }
   ],
   "source": [
    "text_splitter = RecursiveCharacterTextSplitter(separators=[\"第[一二三四五六七八九十]+章\"],\n",
    "                                               is_separator_regex=True,\n",
    "                                               chunk_size=200,\n",
    "                                               chunk_overlap=10)\n",
    "splits = text_splitter.split_documents(word_docs)\n",
    "for i in splits[:2]:\n",
    "    print(i.page_content)\n",
    "    print('_'*10)"
   ]
  },
  {
   "cell_type": "code",
   "execution_count": 29,
   "metadata": {
    "id": "CxCKGm9lBAcj"
   },
   "outputs": [],
   "source": [
    "word_chain = rag(splits, 'word')"
   ]
  },
  {
   "cell_type": "code",
   "execution_count": 30,
   "metadata": {
    "colab": {
     "base_uri": "https://localhost:8080/"
    },
    "id": "OYFZrjadLe7I",
    "outputId": "a66d0953-3a0f-4495-809f-529213d27fdc"
   },
   "outputs": [
    {
     "name": "stdout",
     "output_type": "stream",
     "text": [
      "根據提供的資訊，防治詐騙電話的方法包括：\n",
      "\n",
      "1. 接獲陌生來電告知涉入刑案或收到疑為政府機關公文書時，應先小心求證，詢問對方單位、職稱、姓名等，掛斷電話後再向對方單位求證。\n",
      "\n",
      "2. 警察機關不會在電話中做筆錄，檢警調等單位處理司法案件，會以通知書通知涉案人到案說明或至指定機關繳交款項。\n",
      "\n",
      "3. 當接到以親友名義來電借錢時，務必以舊有電話向當事人親自確認，切勿貿然前往銀行匯款，以免遭詐騙。\n",
      "\n",
      "4. 如果訊息中帶有不明連結，請先向發送訊息的朋友確認，避免點擊可能是詐騙的連結。\n",
      "\n",
      "這些方法可以幫助人們在接到可疑的詐騙電話時，提高警覺並避免成為詐騙集團的受害者。\n"
     ]
    }
   ],
   "source": [
    "print(word_chain.invoke(\"如何防治詐騙電話?\"))"
   ]
  },
  {
   "cell_type": "markdown",
   "metadata": {
    "id": "lUtbY4JxD7G1"
   },
   "source": [
    "### 3. Excel"
   ]
  },
  {
   "cell_type": "code",
   "execution_count": 31,
   "metadata": {
    "colab": {
     "base_uri": "https://localhost:8080/",
     "height": 1000
    },
    "id": "8V4vZqVSyQMM",
    "outputId": "d3dd86a9-c16e-4304-c554-3045d90518f5"
   },
   "outputs": [],
   "source": [
    "excel_docs = office_file('./Ch9/example_excel.xlsx')"
   ]
  },
  {
   "cell_type": "code",
   "execution_count": 32,
   "metadata": {
    "colab": {
     "base_uri": "https://localhost:8080/"
    },
    "id": "TQY4inJ7yWaJ",
    "outputId": "37e6a47f-35a6-401f-c288-8da2a2d9b4aa"
   },
   "outputs": [
    {
     "name": "stdout",
     "output_type": "stream",
     "text": [
      "項次\n",
      "項目\n",
      "詳細說明\n",
      "\n",
      "\n",
      "1\n",
      "營運時間\n",
      "1.週二至過五09:00~17:00。2.寒暑假期間及連續假期(收假日除外)延長營運至20:00。3.週六、週日或收假日延長營運至18:00。4.週一(寒暑假期及連續假期除外)及農曆除夕為休園日不對外開放。5.營運時間如有調整將另行公告。\n",
      "__________\n",
      "\n",
      "\n",
      "\n",
      "2\n",
      "門票資訊\n",
      "全票：30元、優待票：15元、團體票：30人以上按票價打7折;◎全票：一般民眾◎優待票：1.年滿7歲而未滿12歲之兒童(出示身分證件);2.持有效學生證之在學學生(外國在學學生須持有效期之國際數位學生證);3.持有臺北市政府核發之低收入戶證明;◎免費入園：1.6歲(含)以下兒童;2.設籍臺北市之55歲(含)以上原住民;3.65歲(含)以上長者;4.臺北市退休公教人員持退休證者;5.身心障礙者及其必要之陪伴者1人;6.持志願服務榮譽卡之志工;7.持臺北市國小數位學生證者(私立學校為一般學生證);8.週六及連續假期(連續假期最後一天除外)16:00後入園;9.平常日凡30人(含)以上之團體，依現行團體預約方式，於前1日17:00前完成預約作業;10.設籍臺北市之市民，於週三入園;11.持有臺北市之義勇人員(含交通、警察、消防)及民防人員身分證明。\n",
      "__________\n"
     ]
    }
   ],
   "source": [
    "text_splitter = RecursiveCharacterTextSplitter(separators=[\"\\n\\n\\n\"], chunk_size=150, chunk_overlap=0)\n",
    "splits = text_splitter.split_documents(excel_docs)\n",
    "for i in splits[:2]:\n",
    "    print(i.page_content)\n",
    "    print('_'*10)"
   ]
  },
  {
   "cell_type": "code",
   "execution_count": 33,
   "metadata": {
    "id": "SzfZeguvKBtD"
   },
   "outputs": [],
   "source": [
    "excel_chain = rag(splits, 'excel')"
   ]
  },
  {
   "cell_type": "code",
   "execution_count": 34,
   "metadata": {
    "colab": {
     "base_uri": "https://localhost:8080/"
    },
    "id": "LUS5k-HmLi9t",
    "outputId": "64c8f86d-782f-444d-8a78-b7e48dba43f7"
   },
   "outputs": [
    {
     "name": "stdout",
     "output_type": "stream",
     "text": [
      "根據提供的資料，您身高超過120公分的話，可以玩以下遊樂設施：\n",
      "1. 水果摩天輪\n",
      "2. 魔法星際飛車\n"
     ]
    }
   ],
   "source": [
    "print(excel_chain.invoke(\"我身高超過 120 公分, 我可玩那些遊樂設施?\"))"
   ]
  },
  {
   "cell_type": "markdown",
   "metadata": {
    "id": "OvxPO7ikOji3"
   },
   "source": [
    "### 4. CSV文件的處理\n",
    "注意`create_pandas_dataframe_agent`的版本仍不穩定，因此運作起來可能會有危險。在此先全部comment掉。"
   ]
  },
  {
   "cell_type": "code",
   "execution_count": 35,
   "metadata": {},
   "outputs": [],
   "source": [
    "df = pd.read_csv(\"./Ch9/example_csv.csv\", skiprows=1)"
   ]
  },
  {
   "cell_type": "code",
   "execution_count": 36,
   "metadata": {
    "id": "QG76hZTdP7TD"
   },
   "outputs": [],
   "source": [
    "# from langchain_experimental.agents import create_pandas_dataframe_agent\n",
    "\n",
    "# agent = create_pandas_dataframe_agent(llm=chat_model,\n",
    "#                                       df=df,\n",
    "#                                       prefix='回答請使用繁體中文',\n",
    "#                                       agent_type=\"openai-tools\",\n",
    "#                                       verbose=True)"
   ]
  },
  {
   "cell_type": "code",
   "execution_count": 37,
   "metadata": {
    "colab": {
     "base_uri": "https://localhost:8080/"
    },
    "id": "yWq-iw73R4Dh",
    "outputId": "265e35af-582e-4664-8d1b-06101e2ec648"
   },
   "outputs": [],
   "source": [
    "# result = agent.invoke({\"3月收盤價的平均值是?\"})\n",
    "# print(result['output'])\n",
    "# print(df['收盤價'].mean())"
   ]
  }
 ],
 "metadata": {
  "colab": {
   "provenance": []
  },
  "kernelspec": {
   "display_name": "Python 3 (ipykernel)",
   "language": "python",
   "name": "python3"
  },
  "language_info": {
   "codemirror_mode": {
    "name": "ipython",
    "version": 3
   },
   "file_extension": ".py",
   "mimetype": "text/x-python",
   "name": "python",
   "nbconvert_exporter": "python",
   "pygments_lexer": "ipython3",
   "version": "3.12.3"
  }
 },
 "nbformat": 4,
 "nbformat_minor": 4
}

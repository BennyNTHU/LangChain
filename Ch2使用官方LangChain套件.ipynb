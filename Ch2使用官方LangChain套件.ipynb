{
 "cells": [
  {
   "cell_type": "markdown",
   "metadata": {
    "id": "ajMK6c91tkRb"
   },
   "source": [
    "# 第 2 章 使用官方 LangChain 套件"
   ]
  },
  {
   "cell_type": "code",
   "execution_count": 1,
   "metadata": {},
   "outputs": [],
   "source": [
    "import os\n",
    "import pytz\n",
    "\n",
    "from typing import List\n",
    "from openai import OpenAI\n",
    "from datetime import datetime\n",
    "from rich import print as pprint\n",
    "\n",
    "from langchain_openai import ChatOpenAI\n",
    "from langchain.cache import InMemoryCache\n",
    "from langchain.globals import set_llm_cache\n",
    "from langchain.prompts import PromptTemplate\n",
    "from langchain.callbacks import get_openai_callback\n",
    "from langchain_core.prompts import ChatPromptTemplate\n",
    "from langchain_core.pydantic_v1 import BaseModel, Field\n",
    "from langchain.schema import AIMessage, HumanMessage, SystemMessage\n",
    "from langchain.output_parsers import ResponseSchema, StructuredOutputParser\n",
    "from langchain_core.output_parsers import StrOutputParser, CommaSeparatedListOutputParser, PydanticOutputParser, JsonOutputParser\n",
    "from langchain.prompts import MessagesPlaceholder, SystemMessagePromptTemplate, HumanMessagePromptTemplate, AIMessagePromptTemplate"
   ]
  },
  {
   "cell_type": "code",
   "execution_count": 2,
   "metadata": {},
   "outputs": [],
   "source": [
    "os.environ['OPENAI_API_KEY'] = \"sk-None-vowLahS2p4mOq6FP56VCT3BlbkFJTY1umKuhsfu61iHTNVDc\"\n",
    "timezone = pytz.timezone('Asia/Taipei')"
   ]
  },
  {
   "cell_type": "markdown",
   "metadata": {
    "id": "kGmfhHiOtrbw"
   },
   "source": [
    "## 2-1 安裝與使用 langchain 套件"
   ]
  },
  {
   "cell_type": "markdown",
   "metadata": {
    "id": "Sql-PUW1twxB"
   },
   "source": [
    "### 1. 建立與使用 OpenAI 物件"
   ]
  },
  {
   "cell_type": "code",
   "execution_count": 3,
   "metadata": {},
   "outputs": [
    {
     "data": {
      "text/html": [
       "<pre style=\"white-space:pre;overflow-x:auto;line-height:normal;font-family:Menlo,'DejaVu Sans Mono',consolas,'Courier New',monospace\">SyncPage<span style=\"font-weight: bold\">[</span>Model<span style=\"font-weight: bold\">](</span>\n",
       "    <span style=\"color: #808000; text-decoration-color: #808000\">data</span>=<span style=\"font-weight: bold\">[</span>\n",
       "        <span style=\"color: #800080; text-decoration-color: #800080; font-weight: bold\">Model</span><span style=\"font-weight: bold\">(</span><span style=\"color: #808000; text-decoration-color: #808000\">id</span>=<span style=\"color: #008000; text-decoration-color: #008000\">'dall-e-3'</span>, <span style=\"color: #808000; text-decoration-color: #808000\">created</span>=<span style=\"color: #008080; text-decoration-color: #008080; font-weight: bold\">1698785189</span>, <span style=\"color: #808000; text-decoration-color: #808000\">object</span>=<span style=\"color: #008000; text-decoration-color: #008000\">'model'</span>, <span style=\"color: #808000; text-decoration-color: #808000\">owned_by</span>=<span style=\"color: #008000; text-decoration-color: #008000\">'system'</span><span style=\"font-weight: bold\">)</span>,\n",
       "        <span style=\"color: #800080; text-decoration-color: #800080; font-weight: bold\">Model</span><span style=\"font-weight: bold\">(</span><span style=\"color: #808000; text-decoration-color: #808000\">id</span>=<span style=\"color: #008000; text-decoration-color: #008000\">'gpt-4-1106-preview'</span>, <span style=\"color: #808000; text-decoration-color: #808000\">created</span>=<span style=\"color: #008080; text-decoration-color: #008080; font-weight: bold\">1698957206</span>, <span style=\"color: #808000; text-decoration-color: #808000\">object</span>=<span style=\"color: #008000; text-decoration-color: #008000\">'model'</span>, <span style=\"color: #808000; text-decoration-color: #808000\">owned_by</span>=<span style=\"color: #008000; text-decoration-color: #008000\">'system'</span><span style=\"font-weight: bold\">)</span>,\n",
       "        <span style=\"color: #800080; text-decoration-color: #800080; font-weight: bold\">Model</span><span style=\"font-weight: bold\">(</span><span style=\"color: #808000; text-decoration-color: #808000\">id</span>=<span style=\"color: #008000; text-decoration-color: #008000\">'dall-e-2'</span>, <span style=\"color: #808000; text-decoration-color: #808000\">created</span>=<span style=\"color: #008080; text-decoration-color: #008080; font-weight: bold\">1698798177</span>, <span style=\"color: #808000; text-decoration-color: #808000\">object</span>=<span style=\"color: #008000; text-decoration-color: #008000\">'model'</span>, <span style=\"color: #808000; text-decoration-color: #808000\">owned_by</span>=<span style=\"color: #008000; text-decoration-color: #008000\">'system'</span><span style=\"font-weight: bold\">)</span>,\n",
       "        <span style=\"color: #800080; text-decoration-color: #800080; font-weight: bold\">Model</span><span style=\"font-weight: bold\">(</span><span style=\"color: #808000; text-decoration-color: #808000\">id</span>=<span style=\"color: #008000; text-decoration-color: #008000\">'tts-1-hd-1106'</span>, <span style=\"color: #808000; text-decoration-color: #808000\">created</span>=<span style=\"color: #008080; text-decoration-color: #008080; font-weight: bold\">1699053533</span>, <span style=\"color: #808000; text-decoration-color: #808000\">object</span>=<span style=\"color: #008000; text-decoration-color: #008000\">'model'</span>, <span style=\"color: #808000; text-decoration-color: #808000\">owned_by</span>=<span style=\"color: #008000; text-decoration-color: #008000\">'system'</span><span style=\"font-weight: bold\">)</span>,\n",
       "        <span style=\"color: #800080; text-decoration-color: #800080; font-weight: bold\">Model</span><span style=\"font-weight: bold\">(</span><span style=\"color: #808000; text-decoration-color: #808000\">id</span>=<span style=\"color: #008000; text-decoration-color: #008000\">'tts-1-hd'</span>, <span style=\"color: #808000; text-decoration-color: #808000\">created</span>=<span style=\"color: #008080; text-decoration-color: #008080; font-weight: bold\">1699046015</span>, <span style=\"color: #808000; text-decoration-color: #808000\">object</span>=<span style=\"color: #008000; text-decoration-color: #008000\">'model'</span>, <span style=\"color: #808000; text-decoration-color: #808000\">owned_by</span>=<span style=\"color: #008000; text-decoration-color: #008000\">'system'</span><span style=\"font-weight: bold\">)</span>,\n",
       "        <span style=\"color: #800080; text-decoration-color: #800080; font-weight: bold\">Model</span><span style=\"font-weight: bold\">(</span><span style=\"color: #808000; text-decoration-color: #808000\">id</span>=<span style=\"color: #008000; text-decoration-color: #008000\">'gpt-4o-mini-2024-07-18'</span>, <span style=\"color: #808000; text-decoration-color: #808000\">created</span>=<span style=\"color: #008080; text-decoration-color: #008080; font-weight: bold\">1721172717</span>, <span style=\"color: #808000; text-decoration-color: #808000\">object</span>=<span style=\"color: #008000; text-decoration-color: #008000\">'model'</span>, <span style=\"color: #808000; text-decoration-color: #808000\">owned_by</span>=<span style=\"color: #008000; text-decoration-color: #008000\">'system'</span><span style=\"font-weight: bold\">)</span>,\n",
       "        <span style=\"color: #800080; text-decoration-color: #800080; font-weight: bold\">Model</span><span style=\"font-weight: bold\">(</span><span style=\"color: #808000; text-decoration-color: #808000\">id</span>=<span style=\"color: #008000; text-decoration-color: #008000\">'gpt-4-0125-preview'</span>, <span style=\"color: #808000; text-decoration-color: #808000\">created</span>=<span style=\"color: #008080; text-decoration-color: #008080; font-weight: bold\">1706037612</span>, <span style=\"color: #808000; text-decoration-color: #808000\">object</span>=<span style=\"color: #008000; text-decoration-color: #008000\">'model'</span>, <span style=\"color: #808000; text-decoration-color: #808000\">owned_by</span>=<span style=\"color: #008000; text-decoration-color: #008000\">'system'</span><span style=\"font-weight: bold\">)</span>,\n",
       "        <span style=\"color: #800080; text-decoration-color: #800080; font-weight: bold\">Model</span><span style=\"font-weight: bold\">(</span><span style=\"color: #808000; text-decoration-color: #808000\">id</span>=<span style=\"color: #008000; text-decoration-color: #008000\">'babbage-002'</span>, <span style=\"color: #808000; text-decoration-color: #808000\">created</span>=<span style=\"color: #008080; text-decoration-color: #008080; font-weight: bold\">1692634615</span>, <span style=\"color: #808000; text-decoration-color: #808000\">object</span>=<span style=\"color: #008000; text-decoration-color: #008000\">'model'</span>, <span style=\"color: #808000; text-decoration-color: #808000\">owned_by</span>=<span style=\"color: #008000; text-decoration-color: #008000\">'system'</span><span style=\"font-weight: bold\">)</span>,\n",
       "        <span style=\"color: #800080; text-decoration-color: #800080; font-weight: bold\">Model</span><span style=\"font-weight: bold\">(</span><span style=\"color: #808000; text-decoration-color: #808000\">id</span>=<span style=\"color: #008000; text-decoration-color: #008000\">'gpt-4-turbo-preview'</span>, <span style=\"color: #808000; text-decoration-color: #808000\">created</span>=<span style=\"color: #008080; text-decoration-color: #008080; font-weight: bold\">1706037777</span>, <span style=\"color: #808000; text-decoration-color: #808000\">object</span>=<span style=\"color: #008000; text-decoration-color: #008000\">'model'</span>, <span style=\"color: #808000; text-decoration-color: #808000\">owned_by</span>=<span style=\"color: #008000; text-decoration-color: #008000\">'system'</span><span style=\"font-weight: bold\">)</span>,\n",
       "        <span style=\"color: #800080; text-decoration-color: #800080; font-weight: bold\">Model</span><span style=\"font-weight: bold\">(</span><span style=\"color: #808000; text-decoration-color: #808000\">id</span>=<span style=\"color: #008000; text-decoration-color: #008000\">'text-embedding-3-small'</span>, <span style=\"color: #808000; text-decoration-color: #808000\">created</span>=<span style=\"color: #008080; text-decoration-color: #008080; font-weight: bold\">1705948997</span>, <span style=\"color: #808000; text-decoration-color: #808000\">object</span>=<span style=\"color: #008000; text-decoration-color: #008000\">'model'</span>, <span style=\"color: #808000; text-decoration-color: #808000\">owned_by</span>=<span style=\"color: #008000; text-decoration-color: #008000\">'system'</span><span style=\"font-weight: bold\">)</span>,\n",
       "        <span style=\"color: #800080; text-decoration-color: #800080; font-weight: bold\">Model</span><span style=\"font-weight: bold\">(</span><span style=\"color: #808000; text-decoration-color: #808000\">id</span>=<span style=\"color: #008000; text-decoration-color: #008000\">'text-embedding-3-large'</span>, <span style=\"color: #808000; text-decoration-color: #808000\">created</span>=<span style=\"color: #008080; text-decoration-color: #008080; font-weight: bold\">1705953180</span>, <span style=\"color: #808000; text-decoration-color: #808000\">object</span>=<span style=\"color: #008000; text-decoration-color: #008000\">'model'</span>, <span style=\"color: #808000; text-decoration-color: #808000\">owned_by</span>=<span style=\"color: #008000; text-decoration-color: #008000\">'system'</span><span style=\"font-weight: bold\">)</span>,\n",
       "        <span style=\"color: #800080; text-decoration-color: #800080; font-weight: bold\">Model</span><span style=\"font-weight: bold\">(</span><span style=\"color: #808000; text-decoration-color: #808000\">id</span>=<span style=\"color: #008000; text-decoration-color: #008000\">'tts-1'</span>, <span style=\"color: #808000; text-decoration-color: #808000\">created</span>=<span style=\"color: #008080; text-decoration-color: #008080; font-weight: bold\">1681940951</span>, <span style=\"color: #808000; text-decoration-color: #808000\">object</span>=<span style=\"color: #008000; text-decoration-color: #008000\">'model'</span>, <span style=\"color: #808000; text-decoration-color: #808000\">owned_by</span>=<span style=\"color: #008000; text-decoration-color: #008000\">'openai-internal'</span><span style=\"font-weight: bold\">)</span>,\n",
       "        <span style=\"color: #800080; text-decoration-color: #800080; font-weight: bold\">Model</span><span style=\"font-weight: bold\">(</span><span style=\"color: #808000; text-decoration-color: #808000\">id</span>=<span style=\"color: #008000; text-decoration-color: #008000\">'gpt-3.5-turbo'</span>, <span style=\"color: #808000; text-decoration-color: #808000\">created</span>=<span style=\"color: #008080; text-decoration-color: #008080; font-weight: bold\">1677610602</span>, <span style=\"color: #808000; text-decoration-color: #808000\">object</span>=<span style=\"color: #008000; text-decoration-color: #008000\">'model'</span>, <span style=\"color: #808000; text-decoration-color: #808000\">owned_by</span>=<span style=\"color: #008000; text-decoration-color: #008000\">'openai'</span><span style=\"font-weight: bold\">)</span>,\n",
       "        <span style=\"color: #800080; text-decoration-color: #800080; font-weight: bold\">Model</span><span style=\"font-weight: bold\">(</span><span style=\"color: #808000; text-decoration-color: #808000\">id</span>=<span style=\"color: #008000; text-decoration-color: #008000\">'whisper-1'</span>, <span style=\"color: #808000; text-decoration-color: #808000\">created</span>=<span style=\"color: #008080; text-decoration-color: #008080; font-weight: bold\">1677532384</span>, <span style=\"color: #808000; text-decoration-color: #808000\">object</span>=<span style=\"color: #008000; text-decoration-color: #008000\">'model'</span>, <span style=\"color: #808000; text-decoration-color: #808000\">owned_by</span>=<span style=\"color: #008000; text-decoration-color: #008000\">'openai-internal'</span><span style=\"font-weight: bold\">)</span>,\n",
       "        <span style=\"color: #800080; text-decoration-color: #800080; font-weight: bold\">Model</span><span style=\"font-weight: bold\">(</span><span style=\"color: #808000; text-decoration-color: #808000\">id</span>=<span style=\"color: #008000; text-decoration-color: #008000\">'gpt-4o-2024-05-13'</span>, <span style=\"color: #808000; text-decoration-color: #808000\">created</span>=<span style=\"color: #008080; text-decoration-color: #008080; font-weight: bold\">1715368132</span>, <span style=\"color: #808000; text-decoration-color: #808000\">object</span>=<span style=\"color: #008000; text-decoration-color: #008000\">'model'</span>, <span style=\"color: #808000; text-decoration-color: #808000\">owned_by</span>=<span style=\"color: #008000; text-decoration-color: #008000\">'system'</span><span style=\"font-weight: bold\">)</span>,\n",
       "        <span style=\"color: #800080; text-decoration-color: #800080; font-weight: bold\">Model</span><span style=\"font-weight: bold\">(</span><span style=\"color: #808000; text-decoration-color: #808000\">id</span>=<span style=\"color: #008000; text-decoration-color: #008000\">'text-embedding-ada-002'</span>, <span style=\"color: #808000; text-decoration-color: #808000\">created</span>=<span style=\"color: #008080; text-decoration-color: #008080; font-weight: bold\">1671217299</span>, <span style=\"color: #808000; text-decoration-color: #808000\">object</span>=<span style=\"color: #008000; text-decoration-color: #008000\">'model'</span>, <span style=\"color: #808000; text-decoration-color: #808000\">owned_by</span>=<span style=\"color: #008000; text-decoration-color: #008000\">'openai-internal'</span><span style=\"font-weight: bold\">)</span>,\n",
       "        <span style=\"color: #800080; text-decoration-color: #800080; font-weight: bold\">Model</span><span style=\"font-weight: bold\">(</span><span style=\"color: #808000; text-decoration-color: #808000\">id</span>=<span style=\"color: #008000; text-decoration-color: #008000\">'gpt-3.5-turbo-16k'</span>, <span style=\"color: #808000; text-decoration-color: #808000\">created</span>=<span style=\"color: #008080; text-decoration-color: #008080; font-weight: bold\">1683758102</span>, <span style=\"color: #808000; text-decoration-color: #808000\">object</span>=<span style=\"color: #008000; text-decoration-color: #008000\">'model'</span>, <span style=\"color: #808000; text-decoration-color: #808000\">owned_by</span>=<span style=\"color: #008000; text-decoration-color: #008000\">'openai-internal'</span><span style=\"font-weight: bold\">)</span>,\n",
       "        <span style=\"color: #800080; text-decoration-color: #800080; font-weight: bold\">Model</span><span style=\"font-weight: bold\">(</span><span style=\"color: #808000; text-decoration-color: #808000\">id</span>=<span style=\"color: #008000; text-decoration-color: #008000\">'davinci-002'</span>, <span style=\"color: #808000; text-decoration-color: #808000\">created</span>=<span style=\"color: #008080; text-decoration-color: #008080; font-weight: bold\">1692634301</span>, <span style=\"color: #808000; text-decoration-color: #808000\">object</span>=<span style=\"color: #008000; text-decoration-color: #008000\">'model'</span>, <span style=\"color: #808000; text-decoration-color: #808000\">owned_by</span>=<span style=\"color: #008000; text-decoration-color: #008000\">'system'</span><span style=\"font-weight: bold\">)</span>,\n",
       "        <span style=\"color: #800080; text-decoration-color: #800080; font-weight: bold\">Model</span><span style=\"font-weight: bold\">(</span><span style=\"color: #808000; text-decoration-color: #808000\">id</span>=<span style=\"color: #008000; text-decoration-color: #008000\">'gpt-4-turbo-2024-04-09'</span>, <span style=\"color: #808000; text-decoration-color: #808000\">created</span>=<span style=\"color: #008080; text-decoration-color: #008080; font-weight: bold\">1712601677</span>, <span style=\"color: #808000; text-decoration-color: #808000\">object</span>=<span style=\"color: #008000; text-decoration-color: #008000\">'model'</span>, <span style=\"color: #808000; text-decoration-color: #808000\">owned_by</span>=<span style=\"color: #008000; text-decoration-color: #008000\">'system'</span><span style=\"font-weight: bold\">)</span>,\n",
       "        <span style=\"color: #800080; text-decoration-color: #800080; font-weight: bold\">Model</span><span style=\"font-weight: bold\">(</span><span style=\"color: #808000; text-decoration-color: #808000\">id</span>=<span style=\"color: #008000; text-decoration-color: #008000\">'tts-1-1106'</span>, <span style=\"color: #808000; text-decoration-color: #808000\">created</span>=<span style=\"color: #008080; text-decoration-color: #008080; font-weight: bold\">1699053241</span>, <span style=\"color: #808000; text-decoration-color: #808000\">object</span>=<span style=\"color: #008000; text-decoration-color: #008000\">'model'</span>, <span style=\"color: #808000; text-decoration-color: #808000\">owned_by</span>=<span style=\"color: #008000; text-decoration-color: #008000\">'system'</span><span style=\"font-weight: bold\">)</span>,\n",
       "        <span style=\"color: #800080; text-decoration-color: #800080; font-weight: bold\">Model</span><span style=\"font-weight: bold\">(</span><span style=\"color: #808000; text-decoration-color: #808000\">id</span>=<span style=\"color: #008000; text-decoration-color: #008000\">'gpt-3.5-turbo-0125'</span>, <span style=\"color: #808000; text-decoration-color: #808000\">created</span>=<span style=\"color: #008080; text-decoration-color: #008080; font-weight: bold\">1706048358</span>, <span style=\"color: #808000; text-decoration-color: #808000\">object</span>=<span style=\"color: #008000; text-decoration-color: #008000\">'model'</span>, <span style=\"color: #808000; text-decoration-color: #808000\">owned_by</span>=<span style=\"color: #008000; text-decoration-color: #008000\">'system'</span><span style=\"font-weight: bold\">)</span>,\n",
       "        <span style=\"color: #800080; text-decoration-color: #800080; font-weight: bold\">Model</span><span style=\"font-weight: bold\">(</span><span style=\"color: #808000; text-decoration-color: #808000\">id</span>=<span style=\"color: #008000; text-decoration-color: #008000\">'gpt-4-turbo'</span>, <span style=\"color: #808000; text-decoration-color: #808000\">created</span>=<span style=\"color: #008080; text-decoration-color: #008080; font-weight: bold\">1712361441</span>, <span style=\"color: #808000; text-decoration-color: #808000\">object</span>=<span style=\"color: #008000; text-decoration-color: #008000\">'model'</span>, <span style=\"color: #808000; text-decoration-color: #808000\">owned_by</span>=<span style=\"color: #008000; text-decoration-color: #008000\">'system'</span><span style=\"font-weight: bold\">)</span>,\n",
       "        <span style=\"color: #800080; text-decoration-color: #800080; font-weight: bold\">Model</span><span style=\"font-weight: bold\">(</span><span style=\"color: #808000; text-decoration-color: #808000\">id</span>=<span style=\"color: #008000; text-decoration-color: #008000\">'gpt-3.5-turbo-1106'</span>, <span style=\"color: #808000; text-decoration-color: #808000\">created</span>=<span style=\"color: #008080; text-decoration-color: #008080; font-weight: bold\">1698959748</span>, <span style=\"color: #808000; text-decoration-color: #808000\">object</span>=<span style=\"color: #008000; text-decoration-color: #008000\">'model'</span>, <span style=\"color: #808000; text-decoration-color: #808000\">owned_by</span>=<span style=\"color: #008000; text-decoration-color: #008000\">'system'</span><span style=\"font-weight: bold\">)</span>,\n",
       "        <span style=\"color: #800080; text-decoration-color: #800080; font-weight: bold\">Model</span><span style=\"font-weight: bold\">(</span><span style=\"color: #808000; text-decoration-color: #808000\">id</span>=<span style=\"color: #008000; text-decoration-color: #008000\">'gpt-4o-mini'</span>, <span style=\"color: #808000; text-decoration-color: #808000\">created</span>=<span style=\"color: #008080; text-decoration-color: #008080; font-weight: bold\">1721172741</span>, <span style=\"color: #808000; text-decoration-color: #808000\">object</span>=<span style=\"color: #008000; text-decoration-color: #008000\">'model'</span>, <span style=\"color: #808000; text-decoration-color: #808000\">owned_by</span>=<span style=\"color: #008000; text-decoration-color: #008000\">'system'</span><span style=\"font-weight: bold\">)</span>,\n",
       "        <span style=\"color: #800080; text-decoration-color: #800080; font-weight: bold\">Model</span><span style=\"font-weight: bold\">(</span><span style=\"color: #808000; text-decoration-color: #808000\">id</span>=<span style=\"color: #008000; text-decoration-color: #008000\">'gpt-4o'</span>, <span style=\"color: #808000; text-decoration-color: #808000\">created</span>=<span style=\"color: #008080; text-decoration-color: #008080; font-weight: bold\">1715367049</span>, <span style=\"color: #808000; text-decoration-color: #808000\">object</span>=<span style=\"color: #008000; text-decoration-color: #008000\">'model'</span>, <span style=\"color: #808000; text-decoration-color: #808000\">owned_by</span>=<span style=\"color: #008000; text-decoration-color: #008000\">'system'</span><span style=\"font-weight: bold\">)</span>,\n",
       "        <span style=\"color: #800080; text-decoration-color: #800080; font-weight: bold\">Model</span><span style=\"font-weight: bold\">(</span><span style=\"color: #808000; text-decoration-color: #808000\">id</span>=<span style=\"color: #008000; text-decoration-color: #008000\">'gpt-3.5-turbo-instruct-0914'</span>, <span style=\"color: #808000; text-decoration-color: #808000\">created</span>=<span style=\"color: #008080; text-decoration-color: #008080; font-weight: bold\">1694122472</span>, <span style=\"color: #808000; text-decoration-color: #808000\">object</span>=<span style=\"color: #008000; text-decoration-color: #008000\">'model'</span>, <span style=\"color: #808000; text-decoration-color: #808000\">owned_by</span>=<span style=\"color: #008000; text-decoration-color: #008000\">'system'</span><span style=\"font-weight: bold\">)</span>,\n",
       "        <span style=\"color: #800080; text-decoration-color: #800080; font-weight: bold\">Model</span><span style=\"font-weight: bold\">(</span><span style=\"color: #808000; text-decoration-color: #808000\">id</span>=<span style=\"color: #008000; text-decoration-color: #008000\">'gpt-4-0613'</span>, <span style=\"color: #808000; text-decoration-color: #808000\">created</span>=<span style=\"color: #008080; text-decoration-color: #008080; font-weight: bold\">1686588896</span>, <span style=\"color: #808000; text-decoration-color: #808000\">object</span>=<span style=\"color: #008000; text-decoration-color: #008000\">'model'</span>, <span style=\"color: #808000; text-decoration-color: #808000\">owned_by</span>=<span style=\"color: #008000; text-decoration-color: #008000\">'openai'</span><span style=\"font-weight: bold\">)</span>,\n",
       "        <span style=\"color: #800080; text-decoration-color: #800080; font-weight: bold\">Model</span><span style=\"font-weight: bold\">(</span><span style=\"color: #808000; text-decoration-color: #808000\">id</span>=<span style=\"color: #008000; text-decoration-color: #008000\">'gpt-4'</span>, <span style=\"color: #808000; text-decoration-color: #808000\">created</span>=<span style=\"color: #008080; text-decoration-color: #008080; font-weight: bold\">1687882411</span>, <span style=\"color: #808000; text-decoration-color: #808000\">object</span>=<span style=\"color: #008000; text-decoration-color: #008000\">'model'</span>, <span style=\"color: #808000; text-decoration-color: #808000\">owned_by</span>=<span style=\"color: #008000; text-decoration-color: #008000\">'openai'</span><span style=\"font-weight: bold\">)</span>,\n",
       "        <span style=\"color: #800080; text-decoration-color: #800080; font-weight: bold\">Model</span><span style=\"font-weight: bold\">(</span><span style=\"color: #808000; text-decoration-color: #808000\">id</span>=<span style=\"color: #008000; text-decoration-color: #008000\">'gpt-3.5-turbo-instruct'</span>, <span style=\"color: #808000; text-decoration-color: #808000\">created</span>=<span style=\"color: #008080; text-decoration-color: #008080; font-weight: bold\">1692901427</span>, <span style=\"color: #808000; text-decoration-color: #808000\">object</span>=<span style=\"color: #008000; text-decoration-color: #008000\">'model'</span>, <span style=\"color: #808000; text-decoration-color: #808000\">owned_by</span>=<span style=\"color: #008000; text-decoration-color: #008000\">'system'</span><span style=\"font-weight: bold\">)</span>\n",
       "    <span style=\"font-weight: bold\">]</span>,\n",
       "    <span style=\"color: #808000; text-decoration-color: #808000\">object</span>=<span style=\"color: #008000; text-decoration-color: #008000\">'list'</span>\n",
       "<span style=\"font-weight: bold\">)</span>\n",
       "</pre>\n"
      ],
      "text/plain": [
       "SyncPage\u001b[1m[\u001b[0mModel\u001b[1m]\u001b[0m\u001b[1m(\u001b[0m\n",
       "    \u001b[33mdata\u001b[0m=\u001b[1m[\u001b[0m\n",
       "        \u001b[1;35mModel\u001b[0m\u001b[1m(\u001b[0m\u001b[33mid\u001b[0m=\u001b[32m'dall-e-3'\u001b[0m, \u001b[33mcreated\u001b[0m=\u001b[1;36m1698785189\u001b[0m, \u001b[33mobject\u001b[0m=\u001b[32m'model'\u001b[0m, \u001b[33mowned_by\u001b[0m=\u001b[32m'system'\u001b[0m\u001b[1m)\u001b[0m,\n",
       "        \u001b[1;35mModel\u001b[0m\u001b[1m(\u001b[0m\u001b[33mid\u001b[0m=\u001b[32m'gpt-4-1106-preview'\u001b[0m, \u001b[33mcreated\u001b[0m=\u001b[1;36m1698957206\u001b[0m, \u001b[33mobject\u001b[0m=\u001b[32m'model'\u001b[0m, \u001b[33mowned_by\u001b[0m=\u001b[32m'system'\u001b[0m\u001b[1m)\u001b[0m,\n",
       "        \u001b[1;35mModel\u001b[0m\u001b[1m(\u001b[0m\u001b[33mid\u001b[0m=\u001b[32m'dall-e-2'\u001b[0m, \u001b[33mcreated\u001b[0m=\u001b[1;36m1698798177\u001b[0m, \u001b[33mobject\u001b[0m=\u001b[32m'model'\u001b[0m, \u001b[33mowned_by\u001b[0m=\u001b[32m'system'\u001b[0m\u001b[1m)\u001b[0m,\n",
       "        \u001b[1;35mModel\u001b[0m\u001b[1m(\u001b[0m\u001b[33mid\u001b[0m=\u001b[32m'tts-1-hd-1106'\u001b[0m, \u001b[33mcreated\u001b[0m=\u001b[1;36m1699053533\u001b[0m, \u001b[33mobject\u001b[0m=\u001b[32m'model'\u001b[0m, \u001b[33mowned_by\u001b[0m=\u001b[32m'system'\u001b[0m\u001b[1m)\u001b[0m,\n",
       "        \u001b[1;35mModel\u001b[0m\u001b[1m(\u001b[0m\u001b[33mid\u001b[0m=\u001b[32m'tts-1-hd'\u001b[0m, \u001b[33mcreated\u001b[0m=\u001b[1;36m1699046015\u001b[0m, \u001b[33mobject\u001b[0m=\u001b[32m'model'\u001b[0m, \u001b[33mowned_by\u001b[0m=\u001b[32m'system'\u001b[0m\u001b[1m)\u001b[0m,\n",
       "        \u001b[1;35mModel\u001b[0m\u001b[1m(\u001b[0m\u001b[33mid\u001b[0m=\u001b[32m'gpt-4o-mini-2024-07-18'\u001b[0m, \u001b[33mcreated\u001b[0m=\u001b[1;36m1721172717\u001b[0m, \u001b[33mobject\u001b[0m=\u001b[32m'model'\u001b[0m, \u001b[33mowned_by\u001b[0m=\u001b[32m'system'\u001b[0m\u001b[1m)\u001b[0m,\n",
       "        \u001b[1;35mModel\u001b[0m\u001b[1m(\u001b[0m\u001b[33mid\u001b[0m=\u001b[32m'gpt-4-0125-preview'\u001b[0m, \u001b[33mcreated\u001b[0m=\u001b[1;36m1706037612\u001b[0m, \u001b[33mobject\u001b[0m=\u001b[32m'model'\u001b[0m, \u001b[33mowned_by\u001b[0m=\u001b[32m'system'\u001b[0m\u001b[1m)\u001b[0m,\n",
       "        \u001b[1;35mModel\u001b[0m\u001b[1m(\u001b[0m\u001b[33mid\u001b[0m=\u001b[32m'babbage-002'\u001b[0m, \u001b[33mcreated\u001b[0m=\u001b[1;36m1692634615\u001b[0m, \u001b[33mobject\u001b[0m=\u001b[32m'model'\u001b[0m, \u001b[33mowned_by\u001b[0m=\u001b[32m'system'\u001b[0m\u001b[1m)\u001b[0m,\n",
       "        \u001b[1;35mModel\u001b[0m\u001b[1m(\u001b[0m\u001b[33mid\u001b[0m=\u001b[32m'gpt-4-turbo-preview'\u001b[0m, \u001b[33mcreated\u001b[0m=\u001b[1;36m1706037777\u001b[0m, \u001b[33mobject\u001b[0m=\u001b[32m'model'\u001b[0m, \u001b[33mowned_by\u001b[0m=\u001b[32m'system'\u001b[0m\u001b[1m)\u001b[0m,\n",
       "        \u001b[1;35mModel\u001b[0m\u001b[1m(\u001b[0m\u001b[33mid\u001b[0m=\u001b[32m'text-embedding-3-small'\u001b[0m, \u001b[33mcreated\u001b[0m=\u001b[1;36m1705948997\u001b[0m, \u001b[33mobject\u001b[0m=\u001b[32m'model'\u001b[0m, \u001b[33mowned_by\u001b[0m=\u001b[32m'system'\u001b[0m\u001b[1m)\u001b[0m,\n",
       "        \u001b[1;35mModel\u001b[0m\u001b[1m(\u001b[0m\u001b[33mid\u001b[0m=\u001b[32m'text-embedding-3-large'\u001b[0m, \u001b[33mcreated\u001b[0m=\u001b[1;36m1705953180\u001b[0m, \u001b[33mobject\u001b[0m=\u001b[32m'model'\u001b[0m, \u001b[33mowned_by\u001b[0m=\u001b[32m'system'\u001b[0m\u001b[1m)\u001b[0m,\n",
       "        \u001b[1;35mModel\u001b[0m\u001b[1m(\u001b[0m\u001b[33mid\u001b[0m=\u001b[32m'tts-1'\u001b[0m, \u001b[33mcreated\u001b[0m=\u001b[1;36m1681940951\u001b[0m, \u001b[33mobject\u001b[0m=\u001b[32m'model'\u001b[0m, \u001b[33mowned_by\u001b[0m=\u001b[32m'openai-internal'\u001b[0m\u001b[1m)\u001b[0m,\n",
       "        \u001b[1;35mModel\u001b[0m\u001b[1m(\u001b[0m\u001b[33mid\u001b[0m=\u001b[32m'gpt-3.5-turbo'\u001b[0m, \u001b[33mcreated\u001b[0m=\u001b[1;36m1677610602\u001b[0m, \u001b[33mobject\u001b[0m=\u001b[32m'model'\u001b[0m, \u001b[33mowned_by\u001b[0m=\u001b[32m'openai'\u001b[0m\u001b[1m)\u001b[0m,\n",
       "        \u001b[1;35mModel\u001b[0m\u001b[1m(\u001b[0m\u001b[33mid\u001b[0m=\u001b[32m'whisper-1'\u001b[0m, \u001b[33mcreated\u001b[0m=\u001b[1;36m1677532384\u001b[0m, \u001b[33mobject\u001b[0m=\u001b[32m'model'\u001b[0m, \u001b[33mowned_by\u001b[0m=\u001b[32m'openai-internal'\u001b[0m\u001b[1m)\u001b[0m,\n",
       "        \u001b[1;35mModel\u001b[0m\u001b[1m(\u001b[0m\u001b[33mid\u001b[0m=\u001b[32m'gpt-4o-2024-05-13'\u001b[0m, \u001b[33mcreated\u001b[0m=\u001b[1;36m1715368132\u001b[0m, \u001b[33mobject\u001b[0m=\u001b[32m'model'\u001b[0m, \u001b[33mowned_by\u001b[0m=\u001b[32m'system'\u001b[0m\u001b[1m)\u001b[0m,\n",
       "        \u001b[1;35mModel\u001b[0m\u001b[1m(\u001b[0m\u001b[33mid\u001b[0m=\u001b[32m'text-embedding-ada-002'\u001b[0m, \u001b[33mcreated\u001b[0m=\u001b[1;36m1671217299\u001b[0m, \u001b[33mobject\u001b[0m=\u001b[32m'model'\u001b[0m, \u001b[33mowned_by\u001b[0m=\u001b[32m'openai-internal'\u001b[0m\u001b[1m)\u001b[0m,\n",
       "        \u001b[1;35mModel\u001b[0m\u001b[1m(\u001b[0m\u001b[33mid\u001b[0m=\u001b[32m'gpt-3.5-turbo-16k'\u001b[0m, \u001b[33mcreated\u001b[0m=\u001b[1;36m1683758102\u001b[0m, \u001b[33mobject\u001b[0m=\u001b[32m'model'\u001b[0m, \u001b[33mowned_by\u001b[0m=\u001b[32m'openai-internal'\u001b[0m\u001b[1m)\u001b[0m,\n",
       "        \u001b[1;35mModel\u001b[0m\u001b[1m(\u001b[0m\u001b[33mid\u001b[0m=\u001b[32m'davinci-002'\u001b[0m, \u001b[33mcreated\u001b[0m=\u001b[1;36m1692634301\u001b[0m, \u001b[33mobject\u001b[0m=\u001b[32m'model'\u001b[0m, \u001b[33mowned_by\u001b[0m=\u001b[32m'system'\u001b[0m\u001b[1m)\u001b[0m,\n",
       "        \u001b[1;35mModel\u001b[0m\u001b[1m(\u001b[0m\u001b[33mid\u001b[0m=\u001b[32m'gpt-4-turbo-2024-04-09'\u001b[0m, \u001b[33mcreated\u001b[0m=\u001b[1;36m1712601677\u001b[0m, \u001b[33mobject\u001b[0m=\u001b[32m'model'\u001b[0m, \u001b[33mowned_by\u001b[0m=\u001b[32m'system'\u001b[0m\u001b[1m)\u001b[0m,\n",
       "        \u001b[1;35mModel\u001b[0m\u001b[1m(\u001b[0m\u001b[33mid\u001b[0m=\u001b[32m'tts-1-1106'\u001b[0m, \u001b[33mcreated\u001b[0m=\u001b[1;36m1699053241\u001b[0m, \u001b[33mobject\u001b[0m=\u001b[32m'model'\u001b[0m, \u001b[33mowned_by\u001b[0m=\u001b[32m'system'\u001b[0m\u001b[1m)\u001b[0m,\n",
       "        \u001b[1;35mModel\u001b[0m\u001b[1m(\u001b[0m\u001b[33mid\u001b[0m=\u001b[32m'gpt-3.5-turbo-0125'\u001b[0m, \u001b[33mcreated\u001b[0m=\u001b[1;36m1706048358\u001b[0m, \u001b[33mobject\u001b[0m=\u001b[32m'model'\u001b[0m, \u001b[33mowned_by\u001b[0m=\u001b[32m'system'\u001b[0m\u001b[1m)\u001b[0m,\n",
       "        \u001b[1;35mModel\u001b[0m\u001b[1m(\u001b[0m\u001b[33mid\u001b[0m=\u001b[32m'gpt-4-turbo'\u001b[0m, \u001b[33mcreated\u001b[0m=\u001b[1;36m1712361441\u001b[0m, \u001b[33mobject\u001b[0m=\u001b[32m'model'\u001b[0m, \u001b[33mowned_by\u001b[0m=\u001b[32m'system'\u001b[0m\u001b[1m)\u001b[0m,\n",
       "        \u001b[1;35mModel\u001b[0m\u001b[1m(\u001b[0m\u001b[33mid\u001b[0m=\u001b[32m'gpt-3.5-turbo-1106'\u001b[0m, \u001b[33mcreated\u001b[0m=\u001b[1;36m1698959748\u001b[0m, \u001b[33mobject\u001b[0m=\u001b[32m'model'\u001b[0m, \u001b[33mowned_by\u001b[0m=\u001b[32m'system'\u001b[0m\u001b[1m)\u001b[0m,\n",
       "        \u001b[1;35mModel\u001b[0m\u001b[1m(\u001b[0m\u001b[33mid\u001b[0m=\u001b[32m'gpt-4o-mini'\u001b[0m, \u001b[33mcreated\u001b[0m=\u001b[1;36m1721172741\u001b[0m, \u001b[33mobject\u001b[0m=\u001b[32m'model'\u001b[0m, \u001b[33mowned_by\u001b[0m=\u001b[32m'system'\u001b[0m\u001b[1m)\u001b[0m,\n",
       "        \u001b[1;35mModel\u001b[0m\u001b[1m(\u001b[0m\u001b[33mid\u001b[0m=\u001b[32m'gpt-4o'\u001b[0m, \u001b[33mcreated\u001b[0m=\u001b[1;36m1715367049\u001b[0m, \u001b[33mobject\u001b[0m=\u001b[32m'model'\u001b[0m, \u001b[33mowned_by\u001b[0m=\u001b[32m'system'\u001b[0m\u001b[1m)\u001b[0m,\n",
       "        \u001b[1;35mModel\u001b[0m\u001b[1m(\u001b[0m\u001b[33mid\u001b[0m=\u001b[32m'gpt-3.5-turbo-instruct-0914'\u001b[0m, \u001b[33mcreated\u001b[0m=\u001b[1;36m1694122472\u001b[0m, \u001b[33mobject\u001b[0m=\u001b[32m'model'\u001b[0m, \u001b[33mowned_by\u001b[0m=\u001b[32m'system'\u001b[0m\u001b[1m)\u001b[0m,\n",
       "        \u001b[1;35mModel\u001b[0m\u001b[1m(\u001b[0m\u001b[33mid\u001b[0m=\u001b[32m'gpt-4-0613'\u001b[0m, \u001b[33mcreated\u001b[0m=\u001b[1;36m1686588896\u001b[0m, \u001b[33mobject\u001b[0m=\u001b[32m'model'\u001b[0m, \u001b[33mowned_by\u001b[0m=\u001b[32m'openai'\u001b[0m\u001b[1m)\u001b[0m,\n",
       "        \u001b[1;35mModel\u001b[0m\u001b[1m(\u001b[0m\u001b[33mid\u001b[0m=\u001b[32m'gpt-4'\u001b[0m, \u001b[33mcreated\u001b[0m=\u001b[1;36m1687882411\u001b[0m, \u001b[33mobject\u001b[0m=\u001b[32m'model'\u001b[0m, \u001b[33mowned_by\u001b[0m=\u001b[32m'openai'\u001b[0m\u001b[1m)\u001b[0m,\n",
       "        \u001b[1;35mModel\u001b[0m\u001b[1m(\u001b[0m\u001b[33mid\u001b[0m=\u001b[32m'gpt-3.5-turbo-instruct'\u001b[0m, \u001b[33mcreated\u001b[0m=\u001b[1;36m1692901427\u001b[0m, \u001b[33mobject\u001b[0m=\u001b[32m'model'\u001b[0m, \u001b[33mowned_by\u001b[0m=\u001b[32m'system'\u001b[0m\u001b[1m)\u001b[0m\n",
       "    \u001b[1m]\u001b[0m,\n",
       "    \u001b[33mobject\u001b[0m=\u001b[32m'list'\u001b[0m\n",
       "\u001b[1m)\u001b[0m\n"
      ]
     },
     "metadata": {},
     "output_type": "display_data"
    }
   ],
   "source": [
    "client = OpenAI(api_key = os.getenv('OPENAI_API_KEY'))\n",
    "models = client.models.list()\n",
    "pprint(models)"
   ]
  },
  {
   "cell_type": "markdown",
   "metadata": {},
   "source": [
    "使用`ChatOpenAI`物件並引入想要使用的模型，並使用`invoke`得到模型的回覆"
   ]
  },
  {
   "cell_type": "code",
   "execution_count": 4,
   "metadata": {
    "id": "s2RPpoEYW5s3"
   },
   "outputs": [
    {
     "name": "stdout",
     "output_type": "stream",
     "text": [
      "content='您好！有什麼可以幫助您的嗎？' response_metadata={'token_usage': {'completion_tokens': 20, 'prompt_tokens': 19, 'total_tokens': 39}, 'model_name': 'gpt-3.5-turbo-0125', 'system_fingerprint': None, 'finish_reason': 'stop', 'logprobs': None} id='run-d3790913-f41b-47f9-9330-99c19c7579e5-0' usage_metadata={'input_tokens': 19, 'output_tokens': 20, 'total_tokens': 39}\n"
     ]
    }
   ],
   "source": [
    "chat_model = ChatOpenAI(model='gpt-3.5-turbo', api_key=os.environ['OPENAI_API_KEY'], cache=False)\n",
    "response = chat_model.invoke(\"你好, 使用繁體中文\")\n",
    "print(response)"
   ]
  },
  {
   "cell_type": "markdown",
   "metadata": {},
   "source": [
    "除了`print`之外，還可以使用`pretty_print`和`pprint`來得到美觀的輸出"
   ]
  },
  {
   "cell_type": "code",
   "execution_count": 5,
   "metadata": {
    "colab": {
     "base_uri": "https://localhost:8080/"
    },
    "id": "OAQxs71oNxhJ",
    "outputId": "6817c68c-3ecc-408b-efaa-6211907a8cc4"
   },
   "outputs": [
    {
     "name": "stdout",
     "output_type": "stream",
     "text": [
      "==================================\u001b[1m Ai Message \u001b[0m==================================\n",
      "\n",
      "您好！有什麼可以幫助您的嗎？\n"
     ]
    }
   ],
   "source": [
    "response.pretty_print()"
   ]
  },
  {
   "cell_type": "code",
   "execution_count": 6,
   "metadata": {
    "colab": {
     "base_uri": "https://localhost:8080/",
     "height": 202
    },
    "id": "R_k8Uf47juUs",
    "outputId": "a81e2424-edd9-4770-99c8-a02c816c801a"
   },
   "outputs": [
    {
     "data": {
      "text/html": [
       "<pre style=\"white-space:pre;overflow-x:auto;line-height:normal;font-family:Menlo,'DejaVu Sans Mono',consolas,'Courier New',monospace\"><span style=\"color: #800080; text-decoration-color: #800080; font-weight: bold\">AIMessage</span><span style=\"font-weight: bold\">(</span>\n",
       "    <span style=\"color: #808000; text-decoration-color: #808000\">content</span>=<span style=\"color: #008000; text-decoration-color: #008000\">'您好！有什麼可以幫助您的嗎？'</span>,\n",
       "    <span style=\"color: #808000; text-decoration-color: #808000\">response_metadata</span>=<span style=\"font-weight: bold\">{</span>\n",
       "        <span style=\"color: #008000; text-decoration-color: #008000\">'token_usage'</span>: <span style=\"font-weight: bold\">{</span><span style=\"color: #008000; text-decoration-color: #008000\">'completion_tokens'</span>: <span style=\"color: #008080; text-decoration-color: #008080; font-weight: bold\">20</span>, <span style=\"color: #008000; text-decoration-color: #008000\">'prompt_tokens'</span>: <span style=\"color: #008080; text-decoration-color: #008080; font-weight: bold\">19</span>, <span style=\"color: #008000; text-decoration-color: #008000\">'total_tokens'</span>: <span style=\"color: #008080; text-decoration-color: #008080; font-weight: bold\">39</span><span style=\"font-weight: bold\">}</span>,\n",
       "        <span style=\"color: #008000; text-decoration-color: #008000\">'model_name'</span>: <span style=\"color: #008000; text-decoration-color: #008000\">'gpt-3.5-turbo-0125'</span>,\n",
       "        <span style=\"color: #008000; text-decoration-color: #008000\">'system_fingerprint'</span>: <span style=\"color: #800080; text-decoration-color: #800080; font-style: italic\">None</span>,\n",
       "        <span style=\"color: #008000; text-decoration-color: #008000\">'finish_reason'</span>: <span style=\"color: #008000; text-decoration-color: #008000\">'stop'</span>,\n",
       "        <span style=\"color: #008000; text-decoration-color: #008000\">'logprobs'</span>: <span style=\"color: #800080; text-decoration-color: #800080; font-style: italic\">None</span>\n",
       "    <span style=\"font-weight: bold\">}</span>,\n",
       "    <span style=\"color: #808000; text-decoration-color: #808000\">id</span>=<span style=\"color: #008000; text-decoration-color: #008000\">'run-d3790913-f41b-47f9-9330-99c19c7579e5-0'</span>,\n",
       "    <span style=\"color: #808000; text-decoration-color: #808000\">usage_metadata</span>=<span style=\"font-weight: bold\">{</span><span style=\"color: #008000; text-decoration-color: #008000\">'input_tokens'</span>: <span style=\"color: #008080; text-decoration-color: #008080; font-weight: bold\">19</span>, <span style=\"color: #008000; text-decoration-color: #008000\">'output_tokens'</span>: <span style=\"color: #008080; text-decoration-color: #008080; font-weight: bold\">20</span>, <span style=\"color: #008000; text-decoration-color: #008000\">'total_tokens'</span>: <span style=\"color: #008080; text-decoration-color: #008080; font-weight: bold\">39</span><span style=\"font-weight: bold\">}</span>\n",
       "<span style=\"font-weight: bold\">)</span>\n",
       "</pre>\n"
      ],
      "text/plain": [
       "\u001b[1;35mAIMessage\u001b[0m\u001b[1m(\u001b[0m\n",
       "    \u001b[33mcontent\u001b[0m=\u001b[32m'您好！有什麼可以幫助您的嗎？'\u001b[0m,\n",
       "    \u001b[33mresponse_metadata\u001b[0m=\u001b[1m{\u001b[0m\n",
       "        \u001b[32m'token_usage'\u001b[0m: \u001b[1m{\u001b[0m\u001b[32m'completion_tokens'\u001b[0m: \u001b[1;36m20\u001b[0m, \u001b[32m'prompt_tokens'\u001b[0m: \u001b[1;36m19\u001b[0m, \u001b[32m'total_tokens'\u001b[0m: \u001b[1;36m39\u001b[0m\u001b[1m}\u001b[0m,\n",
       "        \u001b[32m'model_name'\u001b[0m: \u001b[32m'gpt-3.5-turbo-0125'\u001b[0m,\n",
       "        \u001b[32m'system_fingerprint'\u001b[0m: \u001b[3;35mNone\u001b[0m,\n",
       "        \u001b[32m'finish_reason'\u001b[0m: \u001b[32m'stop'\u001b[0m,\n",
       "        \u001b[32m'logprobs'\u001b[0m: \u001b[3;35mNone\u001b[0m\n",
       "    \u001b[1m}\u001b[0m,\n",
       "    \u001b[33mid\u001b[0m=\u001b[32m'run-d3790913-f41b-47f9-9330-99c19c7579e5-0'\u001b[0m,\n",
       "    \u001b[33musage_metadata\u001b[0m=\u001b[1m{\u001b[0m\u001b[32m'input_tokens'\u001b[0m: \u001b[1;36m19\u001b[0m, \u001b[32m'output_tokens'\u001b[0m: \u001b[1;36m20\u001b[0m, \u001b[32m'total_tokens'\u001b[0m: \u001b[1;36m39\u001b[0m\u001b[1m}\u001b[0m\n",
       "\u001b[1m)\u001b[0m\n"
      ]
     },
     "metadata": {},
     "output_type": "display_data"
    }
   ],
   "source": [
    "pprint(response)"
   ]
  },
  {
   "cell_type": "markdown",
   "metadata": {},
   "source": [
    "### 2. 模型的功能"
   ]
  },
  {
   "cell_type": "markdown",
   "metadata": {
    "id": "J6qCKWrWXMPU"
   },
   "source": [
    "#### (1) 多筆訊息\n",
    "可以使用`batch`一次讓模型讀取多筆訊息。從以下的例子也可以知道模型不像ChatGPT一樣有記憶的功能"
   ]
  },
  {
   "cell_type": "code",
   "execution_count": 7,
   "metadata": {
    "colab": {
     "base_uri": "https://localhost:8080/",
     "height": 454
    },
    "id": "u48kyRht-1nz",
    "outputId": "93ed3349-4346-4117-a524-3c0cb92d3b1c"
   },
   "outputs": [
    {
     "data": {
      "text/html": [
       "<pre style=\"white-space:pre;overflow-x:auto;line-height:normal;font-family:Menlo,'DejaVu Sans Mono',consolas,'Courier New',monospace\"><span style=\"font-weight: bold\">[</span>\n",
       "    <span style=\"color: #800080; text-decoration-color: #800080; font-weight: bold\">AIMessage</span><span style=\"font-weight: bold\">(</span>\n",
       "        <span style=\"color: #808000; text-decoration-color: #808000\">content</span>=<span style=\"color: #008000; text-decoration-color: #008000\">'，是一只非常可爱的小狗。它有着一身柔软的毛发和大大的眼睛，总是让人忍不住想要抱抱它。千早愛音非常聪</span>\n",
       "<span style=\"color: #008000; text-decoration-color: #008000\">明，学东西也很快，是我们家的得力助手。它喜欢跟着我一起散步，还喜欢跟我一起玩耍。无论我心情好坏，只要看到千早愛音，</span>\n",
       "<span style=\"color: #008000; text-decoration-color: #008000\">就会感到幸福和快乐。我真的很爱我的小狗千早愛音。'</span>,\n",
       "        <span style=\"color: #808000; text-decoration-color: #808000\">response_metadata</span>=<span style=\"font-weight: bold\">{</span>\n",
       "            <span style=\"color: #008000; text-decoration-color: #008000\">'token_usage'</span>: <span style=\"font-weight: bold\">{</span><span style=\"color: #008000; text-decoration-color: #008000\">'completion_tokens'</span>: <span style=\"color: #008080; text-decoration-color: #008080; font-weight: bold\">177</span>, <span style=\"color: #008000; text-decoration-color: #008000\">'prompt_tokens'</span>: <span style=\"color: #008080; text-decoration-color: #008080; font-weight: bold\">22</span>, <span style=\"color: #008000; text-decoration-color: #008000\">'total_tokens'</span>: <span style=\"color: #008080; text-decoration-color: #008080; font-weight: bold\">199</span><span style=\"font-weight: bold\">}</span>,\n",
       "            <span style=\"color: #008000; text-decoration-color: #008000\">'model_name'</span>: <span style=\"color: #008000; text-decoration-color: #008000\">'gpt-3.5-turbo-0125'</span>,\n",
       "            <span style=\"color: #008000; text-decoration-color: #008000\">'system_fingerprint'</span>: <span style=\"color: #800080; text-decoration-color: #800080; font-style: italic\">None</span>,\n",
       "            <span style=\"color: #008000; text-decoration-color: #008000\">'finish_reason'</span>: <span style=\"color: #008000; text-decoration-color: #008000\">'stop'</span>,\n",
       "            <span style=\"color: #008000; text-decoration-color: #008000\">'logprobs'</span>: <span style=\"color: #800080; text-decoration-color: #800080; font-style: italic\">None</span>\n",
       "        <span style=\"font-weight: bold\">}</span>,\n",
       "        <span style=\"color: #808000; text-decoration-color: #808000\">id</span>=<span style=\"color: #008000; text-decoration-color: #008000\">'run-9f45bf17-06b4-45b2-a34a-99a773d88cd8-0'</span>,\n",
       "        <span style=\"color: #808000; text-decoration-color: #808000\">usage_metadata</span>=<span style=\"font-weight: bold\">{</span><span style=\"color: #008000; text-decoration-color: #008000\">'input_tokens'</span>: <span style=\"color: #008080; text-decoration-color: #008080; font-weight: bold\">22</span>, <span style=\"color: #008000; text-decoration-color: #008000\">'output_tokens'</span>: <span style=\"color: #008080; text-decoration-color: #008080; font-weight: bold\">177</span>, <span style=\"color: #008000; text-decoration-color: #008000\">'total_tokens'</span>: <span style=\"color: #008080; text-decoration-color: #008080; font-weight: bold\">199</span><span style=\"font-weight: bold\">}</span>\n",
       "    <span style=\"font-weight: bold\">)</span>,\n",
       "    <span style=\"color: #800080; text-decoration-color: #800080; font-weight: bold\">AIMessage</span><span style=\"font-weight: bold\">(</span>\n",
       "        <span style=\"color: #808000; text-decoration-color: #808000\">content</span>=<span style=\"color: #008000; text-decoration-color: #008000\">'抱歉，我無法回答這個問題，因為我不知道你家小狗叫什麼。你可以告訴我牠的名字嗎？我可以幫你記住。'</span>,\n",
       "        <span style=\"color: #808000; text-decoration-color: #808000\">response_metadata</span>=<span style=\"font-weight: bold\">{</span>\n",
       "            <span style=\"color: #008000; text-decoration-color: #008000\">'token_usage'</span>: <span style=\"font-weight: bold\">{</span><span style=\"color: #008000; text-decoration-color: #008000\">'completion_tokens'</span>: <span style=\"color: #008080; text-decoration-color: #008080; font-weight: bold\">65</span>, <span style=\"color: #008000; text-decoration-color: #008000\">'prompt_tokens'</span>: <span style=\"color: #008080; text-decoration-color: #008080; font-weight: bold\">34</span>, <span style=\"color: #008000; text-decoration-color: #008000\">'total_tokens'</span>: <span style=\"color: #008080; text-decoration-color: #008080; font-weight: bold\">99</span><span style=\"font-weight: bold\">}</span>,\n",
       "            <span style=\"color: #008000; text-decoration-color: #008000\">'model_name'</span>: <span style=\"color: #008000; text-decoration-color: #008000\">'gpt-3.5-turbo-0125'</span>,\n",
       "            <span style=\"color: #008000; text-decoration-color: #008000\">'system_fingerprint'</span>: <span style=\"color: #800080; text-decoration-color: #800080; font-style: italic\">None</span>,\n",
       "            <span style=\"color: #008000; text-decoration-color: #008000\">'finish_reason'</span>: <span style=\"color: #008000; text-decoration-color: #008000\">'stop'</span>,\n",
       "            <span style=\"color: #008000; text-decoration-color: #008000\">'logprobs'</span>: <span style=\"color: #800080; text-decoration-color: #800080; font-style: italic\">None</span>\n",
       "        <span style=\"font-weight: bold\">}</span>,\n",
       "        <span style=\"color: #808000; text-decoration-color: #808000\">id</span>=<span style=\"color: #008000; text-decoration-color: #008000\">'run-beb0aaeb-f8fb-41e5-8b19-81ed20ea9da9-0'</span>,\n",
       "        <span style=\"color: #808000; text-decoration-color: #808000\">usage_metadata</span>=<span style=\"font-weight: bold\">{</span><span style=\"color: #008000; text-decoration-color: #008000\">'input_tokens'</span>: <span style=\"color: #008080; text-decoration-color: #008080; font-weight: bold\">34</span>, <span style=\"color: #008000; text-decoration-color: #008000\">'output_tokens'</span>: <span style=\"color: #008080; text-decoration-color: #008080; font-weight: bold\">65</span>, <span style=\"color: #008000; text-decoration-color: #008000\">'total_tokens'</span>: <span style=\"color: #008080; text-decoration-color: #008080; font-weight: bold\">99</span><span style=\"font-weight: bold\">}</span>\n",
       "    <span style=\"font-weight: bold\">)</span>\n",
       "<span style=\"font-weight: bold\">]</span>\n",
       "</pre>\n"
      ],
      "text/plain": [
       "\u001b[1m[\u001b[0m\n",
       "    \u001b[1;35mAIMessage\u001b[0m\u001b[1m(\u001b[0m\n",
       "        \u001b[33mcontent\u001b[0m=\u001b[32m'，是一只非常可爱的小狗。它有着一身柔软的毛发和大大的眼睛，总是让人忍不住想要抱抱它。千早愛音非常聪\u001b[0m\n",
       "\u001b[32m明，学东西也很快，是我们家的得力助手。它喜欢跟着我一起散步，还喜欢跟我一起玩耍。无论我心情好坏，只要看到千早愛音，\u001b[0m\n",
       "\u001b[32m就会感到幸福和快乐。我真的很爱我的小狗千早愛音。'\u001b[0m,\n",
       "        \u001b[33mresponse_metadata\u001b[0m=\u001b[1m{\u001b[0m\n",
       "            \u001b[32m'token_usage'\u001b[0m: \u001b[1m{\u001b[0m\u001b[32m'completion_tokens'\u001b[0m: \u001b[1;36m177\u001b[0m, \u001b[32m'prompt_tokens'\u001b[0m: \u001b[1;36m22\u001b[0m, \u001b[32m'total_tokens'\u001b[0m: \u001b[1;36m199\u001b[0m\u001b[1m}\u001b[0m,\n",
       "            \u001b[32m'model_name'\u001b[0m: \u001b[32m'gpt-3.5-turbo-0125'\u001b[0m,\n",
       "            \u001b[32m'system_fingerprint'\u001b[0m: \u001b[3;35mNone\u001b[0m,\n",
       "            \u001b[32m'finish_reason'\u001b[0m: \u001b[32m'stop'\u001b[0m,\n",
       "            \u001b[32m'logprobs'\u001b[0m: \u001b[3;35mNone\u001b[0m\n",
       "        \u001b[1m}\u001b[0m,\n",
       "        \u001b[33mid\u001b[0m=\u001b[32m'run-9f45bf17-06b4-45b2-a34a-99a773d88cd8-0'\u001b[0m,\n",
       "        \u001b[33musage_metadata\u001b[0m=\u001b[1m{\u001b[0m\u001b[32m'input_tokens'\u001b[0m: \u001b[1;36m22\u001b[0m, \u001b[32m'output_tokens'\u001b[0m: \u001b[1;36m177\u001b[0m, \u001b[32m'total_tokens'\u001b[0m: \u001b[1;36m199\u001b[0m\u001b[1m}\u001b[0m\n",
       "    \u001b[1m)\u001b[0m,\n",
       "    \u001b[1;35mAIMessage\u001b[0m\u001b[1m(\u001b[0m\n",
       "        \u001b[33mcontent\u001b[0m=\u001b[32m'抱歉，我無法回答這個問題，因為我不知道你家小狗叫什麼。你可以告訴我牠的名字嗎？我可以幫你記住。'\u001b[0m,\n",
       "        \u001b[33mresponse_metadata\u001b[0m=\u001b[1m{\u001b[0m\n",
       "            \u001b[32m'token_usage'\u001b[0m: \u001b[1m{\u001b[0m\u001b[32m'completion_tokens'\u001b[0m: \u001b[1;36m65\u001b[0m, \u001b[32m'prompt_tokens'\u001b[0m: \u001b[1;36m34\u001b[0m, \u001b[32m'total_tokens'\u001b[0m: \u001b[1;36m99\u001b[0m\u001b[1m}\u001b[0m,\n",
       "            \u001b[32m'model_name'\u001b[0m: \u001b[32m'gpt-3.5-turbo-0125'\u001b[0m,\n",
       "            \u001b[32m'system_fingerprint'\u001b[0m: \u001b[3;35mNone\u001b[0m,\n",
       "            \u001b[32m'finish_reason'\u001b[0m: \u001b[32m'stop'\u001b[0m,\n",
       "            \u001b[32m'logprobs'\u001b[0m: \u001b[3;35mNone\u001b[0m\n",
       "        \u001b[1m}\u001b[0m,\n",
       "        \u001b[33mid\u001b[0m=\u001b[32m'run-beb0aaeb-f8fb-41e5-8b19-81ed20ea9da9-0'\u001b[0m,\n",
       "        \u001b[33musage_metadata\u001b[0m=\u001b[1m{\u001b[0m\u001b[32m'input_tokens'\u001b[0m: \u001b[1;36m34\u001b[0m, \u001b[32m'output_tokens'\u001b[0m: \u001b[1;36m65\u001b[0m, \u001b[32m'total_tokens'\u001b[0m: \u001b[1;36m99\u001b[0m\u001b[1m}\u001b[0m\n",
       "    \u001b[1m)\u001b[0m\n",
       "\u001b[1m]\u001b[0m\n"
      ]
     },
     "metadata": {},
     "output_type": "display_data"
    }
   ],
   "source": [
    "pprint(chat_model.batch([\"我家小狗叫千早愛音\", \"我家小狗叫什麼？, 使用繁體中文回答\"])) # 一次回答兩筆訊息"
   ]
  },
  {
   "cell_type": "markdown",
   "metadata": {
    "id": "4p_CBoeCiYuI"
   },
   "source": [
    "#### (2) 串流\n",
    "串流功能可以還原語言模型進行文字接龍的過程"
   ]
  },
  {
   "cell_type": "code",
   "execution_count": 8,
   "metadata": {
    "colab": {
     "base_uri": "https://localhost:8080/"
    },
    "id": "4xHG_g62cFjA",
    "outputId": "864fc2c4-7af2-4642-c4d8-46fa24843d8a"
   },
   "outputs": [
    {
     "name": "stdout",
     "output_type": "stream",
     "text": [
      "<generator object BaseChatModel.stream at 0x761053f47290>\n"
     ]
    }
   ],
   "source": [
    "chunks = chat_model.stream(\"你好\")\n",
    "print(chunks)"
   ]
  },
  {
   "cell_type": "code",
   "execution_count": 9,
   "metadata": {
    "colab": {
     "base_uri": "https://localhost:8080/"
    },
    "id": "TIa968NJcYCV",
    "outputId": "e31086ec-f4b0-4c9f-9464-815ea4ce0e03"
   },
   "outputs": [
    {
     "data": {
      "text/html": [
       "<pre style=\"white-space:pre;overflow-x:auto;line-height:normal;font-family:Menlo,'DejaVu Sans Mono',consolas,'Courier New',monospace\"><span style=\"color: #800080; text-decoration-color: #800080; font-weight: bold\">AIMessageChunk</span><span style=\"font-weight: bold\">(</span><span style=\"color: #808000; text-decoration-color: #808000\">content</span>=<span style=\"color: #008000; text-decoration-color: #008000\">''</span>, <span style=\"color: #808000; text-decoration-color: #808000\">id</span>=<span style=\"color: #008000; text-decoration-color: #008000\">'run-26efe557-4a0f-4932-83aa-78da1d20a448'</span><span style=\"font-weight: bold\">)</span>\n",
       "</pre>\n"
      ],
      "text/plain": [
       "\u001b[1;35mAIMessageChunk\u001b[0m\u001b[1m(\u001b[0m\u001b[33mcontent\u001b[0m=\u001b[32m''\u001b[0m, \u001b[33mid\u001b[0m=\u001b[32m'run-26efe557-4a0f-4932-83aa-78da1d20a448'\u001b[0m\u001b[1m)\u001b[0m\n"
      ]
     },
     "metadata": {},
     "output_type": "display_data"
    },
    {
     "data": {
      "text/html": [
       "<pre style=\"white-space:pre;overflow-x:auto;line-height:normal;font-family:Menlo,'DejaVu Sans Mono',consolas,'Courier New',monospace\"><span style=\"color: #800080; text-decoration-color: #800080; font-weight: bold\">AIMessageChunk</span><span style=\"font-weight: bold\">(</span><span style=\"color: #808000; text-decoration-color: #808000\">content</span>=<span style=\"color: #008000; text-decoration-color: #008000\">'你'</span>, <span style=\"color: #808000; text-decoration-color: #808000\">id</span>=<span style=\"color: #008000; text-decoration-color: #008000\">'run-26efe557-4a0f-4932-83aa-78da1d20a448'</span><span style=\"font-weight: bold\">)</span>\n",
       "</pre>\n"
      ],
      "text/plain": [
       "\u001b[1;35mAIMessageChunk\u001b[0m\u001b[1m(\u001b[0m\u001b[33mcontent\u001b[0m=\u001b[32m'你'\u001b[0m, \u001b[33mid\u001b[0m=\u001b[32m'run-26efe557-4a0f-4932-83aa-78da1d20a448'\u001b[0m\u001b[1m)\u001b[0m\n"
      ]
     },
     "metadata": {},
     "output_type": "display_data"
    },
    {
     "data": {
      "text/html": [
       "<pre style=\"white-space:pre;overflow-x:auto;line-height:normal;font-family:Menlo,'DejaVu Sans Mono',consolas,'Courier New',monospace\"><span style=\"color: #800080; text-decoration-color: #800080; font-weight: bold\">AIMessageChunk</span><span style=\"font-weight: bold\">(</span><span style=\"color: #808000; text-decoration-color: #808000\">content</span>=<span style=\"color: #008000; text-decoration-color: #008000\">'好'</span>, <span style=\"color: #808000; text-decoration-color: #808000\">id</span>=<span style=\"color: #008000; text-decoration-color: #008000\">'run-26efe557-4a0f-4932-83aa-78da1d20a448'</span><span style=\"font-weight: bold\">)</span>\n",
       "</pre>\n"
      ],
      "text/plain": [
       "\u001b[1;35mAIMessageChunk\u001b[0m\u001b[1m(\u001b[0m\u001b[33mcontent\u001b[0m=\u001b[32m'好'\u001b[0m, \u001b[33mid\u001b[0m=\u001b[32m'run-26efe557-4a0f-4932-83aa-78da1d20a448'\u001b[0m\u001b[1m)\u001b[0m\n"
      ]
     },
     "metadata": {},
     "output_type": "display_data"
    },
    {
     "data": {
      "text/html": [
       "<pre style=\"white-space:pre;overflow-x:auto;line-height:normal;font-family:Menlo,'DejaVu Sans Mono',consolas,'Courier New',monospace\"><span style=\"color: #800080; text-decoration-color: #800080; font-weight: bold\">AIMessageChunk</span><span style=\"font-weight: bold\">(</span><span style=\"color: #808000; text-decoration-color: #808000\">content</span>=<span style=\"color: #008000; text-decoration-color: #008000\">'！'</span>, <span style=\"color: #808000; text-decoration-color: #808000\">id</span>=<span style=\"color: #008000; text-decoration-color: #008000\">'run-26efe557-4a0f-4932-83aa-78da1d20a448'</span><span style=\"font-weight: bold\">)</span>\n",
       "</pre>\n"
      ],
      "text/plain": [
       "\u001b[1;35mAIMessageChunk\u001b[0m\u001b[1m(\u001b[0m\u001b[33mcontent\u001b[0m=\u001b[32m'！'\u001b[0m, \u001b[33mid\u001b[0m=\u001b[32m'run-26efe557-4a0f-4932-83aa-78da1d20a448'\u001b[0m\u001b[1m)\u001b[0m\n"
      ]
     },
     "metadata": {},
     "output_type": "display_data"
    },
    {
     "data": {
      "text/html": [
       "<pre style=\"white-space:pre;overflow-x:auto;line-height:normal;font-family:Menlo,'DejaVu Sans Mono',consolas,'Courier New',monospace\"><span style=\"color: #800080; text-decoration-color: #800080; font-weight: bold\">AIMessageChunk</span><span style=\"font-weight: bold\">(</span><span style=\"color: #808000; text-decoration-color: #808000\">content</span>=<span style=\"color: #008000; text-decoration-color: #008000\">'有'</span>, <span style=\"color: #808000; text-decoration-color: #808000\">id</span>=<span style=\"color: #008000; text-decoration-color: #008000\">'run-26efe557-4a0f-4932-83aa-78da1d20a448'</span><span style=\"font-weight: bold\">)</span>\n",
       "</pre>\n"
      ],
      "text/plain": [
       "\u001b[1;35mAIMessageChunk\u001b[0m\u001b[1m(\u001b[0m\u001b[33mcontent\u001b[0m=\u001b[32m'有'\u001b[0m, \u001b[33mid\u001b[0m=\u001b[32m'run-26efe557-4a0f-4932-83aa-78da1d20a448'\u001b[0m\u001b[1m)\u001b[0m\n"
      ]
     },
     "metadata": {},
     "output_type": "display_data"
    },
    {
     "data": {
      "text/html": [
       "<pre style=\"white-space:pre;overflow-x:auto;line-height:normal;font-family:Menlo,'DejaVu Sans Mono',consolas,'Courier New',monospace\"><span style=\"color: #800080; text-decoration-color: #800080; font-weight: bold\">AIMessageChunk</span><span style=\"font-weight: bold\">(</span><span style=\"color: #808000; text-decoration-color: #808000\">content</span>=<span style=\"color: #008000; text-decoration-color: #008000\">'什'</span>, <span style=\"color: #808000; text-decoration-color: #808000\">id</span>=<span style=\"color: #008000; text-decoration-color: #008000\">'run-26efe557-4a0f-4932-83aa-78da1d20a448'</span><span style=\"font-weight: bold\">)</span>\n",
       "</pre>\n"
      ],
      "text/plain": [
       "\u001b[1;35mAIMessageChunk\u001b[0m\u001b[1m(\u001b[0m\u001b[33mcontent\u001b[0m=\u001b[32m'什'\u001b[0m, \u001b[33mid\u001b[0m=\u001b[32m'run-26efe557-4a0f-4932-83aa-78da1d20a448'\u001b[0m\u001b[1m)\u001b[0m\n"
      ]
     },
     "metadata": {},
     "output_type": "display_data"
    },
    {
     "data": {
      "text/html": [
       "<pre style=\"white-space:pre;overflow-x:auto;line-height:normal;font-family:Menlo,'DejaVu Sans Mono',consolas,'Courier New',monospace\"><span style=\"color: #800080; text-decoration-color: #800080; font-weight: bold\">AIMessageChunk</span><span style=\"font-weight: bold\">(</span><span style=\"color: #808000; text-decoration-color: #808000\">content</span>=<span style=\"color: #008000; text-decoration-color: #008000\">'么'</span>, <span style=\"color: #808000; text-decoration-color: #808000\">id</span>=<span style=\"color: #008000; text-decoration-color: #008000\">'run-26efe557-4a0f-4932-83aa-78da1d20a448'</span><span style=\"font-weight: bold\">)</span>\n",
       "</pre>\n"
      ],
      "text/plain": [
       "\u001b[1;35mAIMessageChunk\u001b[0m\u001b[1m(\u001b[0m\u001b[33mcontent\u001b[0m=\u001b[32m'么'\u001b[0m, \u001b[33mid\u001b[0m=\u001b[32m'run-26efe557-4a0f-4932-83aa-78da1d20a448'\u001b[0m\u001b[1m)\u001b[0m\n"
      ]
     },
     "metadata": {},
     "output_type": "display_data"
    },
    {
     "data": {
      "text/html": [
       "<pre style=\"white-space:pre;overflow-x:auto;line-height:normal;font-family:Menlo,'DejaVu Sans Mono',consolas,'Courier New',monospace\"><span style=\"color: #800080; text-decoration-color: #800080; font-weight: bold\">AIMessageChunk</span><span style=\"font-weight: bold\">(</span><span style=\"color: #808000; text-decoration-color: #808000\">content</span>=<span style=\"color: #008000; text-decoration-color: #008000\">'可以'</span>, <span style=\"color: #808000; text-decoration-color: #808000\">id</span>=<span style=\"color: #008000; text-decoration-color: #008000\">'run-26efe557-4a0f-4932-83aa-78da1d20a448'</span><span style=\"font-weight: bold\">)</span>\n",
       "</pre>\n"
      ],
      "text/plain": [
       "\u001b[1;35mAIMessageChunk\u001b[0m\u001b[1m(\u001b[0m\u001b[33mcontent\u001b[0m=\u001b[32m'可以'\u001b[0m, \u001b[33mid\u001b[0m=\u001b[32m'run-26efe557-4a0f-4932-83aa-78da1d20a448'\u001b[0m\u001b[1m)\u001b[0m\n"
      ]
     },
     "metadata": {},
     "output_type": "display_data"
    },
    {
     "data": {
      "text/html": [
       "<pre style=\"white-space:pre;overflow-x:auto;line-height:normal;font-family:Menlo,'DejaVu Sans Mono',consolas,'Courier New',monospace\"><span style=\"color: #800080; text-decoration-color: #800080; font-weight: bold\">AIMessageChunk</span><span style=\"font-weight: bold\">(</span><span style=\"color: #808000; text-decoration-color: #808000\">content</span>=<span style=\"color: #008000; text-decoration-color: #008000\">'帮'</span>, <span style=\"color: #808000; text-decoration-color: #808000\">id</span>=<span style=\"color: #008000; text-decoration-color: #008000\">'run-26efe557-4a0f-4932-83aa-78da1d20a448'</span><span style=\"font-weight: bold\">)</span>\n",
       "</pre>\n"
      ],
      "text/plain": [
       "\u001b[1;35mAIMessageChunk\u001b[0m\u001b[1m(\u001b[0m\u001b[33mcontent\u001b[0m=\u001b[32m'帮'\u001b[0m, \u001b[33mid\u001b[0m=\u001b[32m'run-26efe557-4a0f-4932-83aa-78da1d20a448'\u001b[0m\u001b[1m)\u001b[0m\n"
      ]
     },
     "metadata": {},
     "output_type": "display_data"
    },
    {
     "data": {
      "text/html": [
       "<pre style=\"white-space:pre;overflow-x:auto;line-height:normal;font-family:Menlo,'DejaVu Sans Mono',consolas,'Courier New',monospace\"><span style=\"color: #800080; text-decoration-color: #800080; font-weight: bold\">AIMessageChunk</span><span style=\"font-weight: bold\">(</span><span style=\"color: #808000; text-decoration-color: #808000\">content</span>=<span style=\"color: #008000; text-decoration-color: #008000\">'助'</span>, <span style=\"color: #808000; text-decoration-color: #808000\">id</span>=<span style=\"color: #008000; text-decoration-color: #008000\">'run-26efe557-4a0f-4932-83aa-78da1d20a448'</span><span style=\"font-weight: bold\">)</span>\n",
       "</pre>\n"
      ],
      "text/plain": [
       "\u001b[1;35mAIMessageChunk\u001b[0m\u001b[1m(\u001b[0m\u001b[33mcontent\u001b[0m=\u001b[32m'助'\u001b[0m, \u001b[33mid\u001b[0m=\u001b[32m'run-26efe557-4a0f-4932-83aa-78da1d20a448'\u001b[0m\u001b[1m)\u001b[0m\n"
      ]
     },
     "metadata": {},
     "output_type": "display_data"
    },
    {
     "data": {
      "text/html": [
       "<pre style=\"white-space:pre;overflow-x:auto;line-height:normal;font-family:Menlo,'DejaVu Sans Mono',consolas,'Courier New',monospace\"><span style=\"color: #800080; text-decoration-color: #800080; font-weight: bold\">AIMessageChunk</span><span style=\"font-weight: bold\">(</span><span style=\"color: #808000; text-decoration-color: #808000\">content</span>=<span style=\"color: #008000; text-decoration-color: #008000\">'你'</span>, <span style=\"color: #808000; text-decoration-color: #808000\">id</span>=<span style=\"color: #008000; text-decoration-color: #008000\">'run-26efe557-4a0f-4932-83aa-78da1d20a448'</span><span style=\"font-weight: bold\">)</span>\n",
       "</pre>\n"
      ],
      "text/plain": [
       "\u001b[1;35mAIMessageChunk\u001b[0m\u001b[1m(\u001b[0m\u001b[33mcontent\u001b[0m=\u001b[32m'你'\u001b[0m, \u001b[33mid\u001b[0m=\u001b[32m'run-26efe557-4a0f-4932-83aa-78da1d20a448'\u001b[0m\u001b[1m)\u001b[0m\n"
      ]
     },
     "metadata": {},
     "output_type": "display_data"
    },
    {
     "data": {
      "text/html": [
       "<pre style=\"white-space:pre;overflow-x:auto;line-height:normal;font-family:Menlo,'DejaVu Sans Mono',consolas,'Courier New',monospace\"><span style=\"color: #800080; text-decoration-color: #800080; font-weight: bold\">AIMessageChunk</span><span style=\"font-weight: bold\">(</span><span style=\"color: #808000; text-decoration-color: #808000\">content</span>=<span style=\"color: #008000; text-decoration-color: #008000\">'的'</span>, <span style=\"color: #808000; text-decoration-color: #808000\">id</span>=<span style=\"color: #008000; text-decoration-color: #008000\">'run-26efe557-4a0f-4932-83aa-78da1d20a448'</span><span style=\"font-weight: bold\">)</span>\n",
       "</pre>\n"
      ],
      "text/plain": [
       "\u001b[1;35mAIMessageChunk\u001b[0m\u001b[1m(\u001b[0m\u001b[33mcontent\u001b[0m=\u001b[32m'的'\u001b[0m, \u001b[33mid\u001b[0m=\u001b[32m'run-26efe557-4a0f-4932-83aa-78da1d20a448'\u001b[0m\u001b[1m)\u001b[0m\n"
      ]
     },
     "metadata": {},
     "output_type": "display_data"
    },
    {
     "data": {
      "text/html": [
       "<pre style=\"white-space:pre;overflow-x:auto;line-height:normal;font-family:Menlo,'DejaVu Sans Mono',consolas,'Courier New',monospace\"><span style=\"color: #800080; text-decoration-color: #800080; font-weight: bold\">AIMessageChunk</span><span style=\"font-weight: bold\">(</span><span style=\"color: #808000; text-decoration-color: #808000\">content</span>=<span style=\"color: #008000; text-decoration-color: #008000\">'吗'</span>, <span style=\"color: #808000; text-decoration-color: #808000\">id</span>=<span style=\"color: #008000; text-decoration-color: #008000\">'run-26efe557-4a0f-4932-83aa-78da1d20a448'</span><span style=\"font-weight: bold\">)</span>\n",
       "</pre>\n"
      ],
      "text/plain": [
       "\u001b[1;35mAIMessageChunk\u001b[0m\u001b[1m(\u001b[0m\u001b[33mcontent\u001b[0m=\u001b[32m'吗'\u001b[0m, \u001b[33mid\u001b[0m=\u001b[32m'run-26efe557-4a0f-4932-83aa-78da1d20a448'\u001b[0m\u001b[1m)\u001b[0m\n"
      ]
     },
     "metadata": {},
     "output_type": "display_data"
    },
    {
     "data": {
      "text/html": [
       "<pre style=\"white-space:pre;overflow-x:auto;line-height:normal;font-family:Menlo,'DejaVu Sans Mono',consolas,'Courier New',monospace\"><span style=\"color: #800080; text-decoration-color: #800080; font-weight: bold\">AIMessageChunk</span><span style=\"font-weight: bold\">(</span><span style=\"color: #808000; text-decoration-color: #808000\">content</span>=<span style=\"color: #008000; text-decoration-color: #008000\">'？'</span>, <span style=\"color: #808000; text-decoration-color: #808000\">id</span>=<span style=\"color: #008000; text-decoration-color: #008000\">'run-26efe557-4a0f-4932-83aa-78da1d20a448'</span><span style=\"font-weight: bold\">)</span>\n",
       "</pre>\n"
      ],
      "text/plain": [
       "\u001b[1;35mAIMessageChunk\u001b[0m\u001b[1m(\u001b[0m\u001b[33mcontent\u001b[0m=\u001b[32m'？'\u001b[0m, \u001b[33mid\u001b[0m=\u001b[32m'run-26efe557-4a0f-4932-83aa-78da1d20a448'\u001b[0m\u001b[1m)\u001b[0m\n"
      ]
     },
     "metadata": {},
     "output_type": "display_data"
    },
    {
     "data": {
      "text/html": [
       "<pre style=\"white-space:pre;overflow-x:auto;line-height:normal;font-family:Menlo,'DejaVu Sans Mono',consolas,'Courier New',monospace\"><span style=\"color: #800080; text-decoration-color: #800080; font-weight: bold\">AIMessageChunk</span><span style=\"font-weight: bold\">(</span>\n",
       "    <span style=\"color: #808000; text-decoration-color: #808000\">content</span>=<span style=\"color: #008000; text-decoration-color: #008000\">''</span>,\n",
       "    <span style=\"color: #808000; text-decoration-color: #808000\">response_metadata</span>=<span style=\"font-weight: bold\">{</span><span style=\"color: #008000; text-decoration-color: #008000\">'finish_reason'</span>: <span style=\"color: #008000; text-decoration-color: #008000\">'stop'</span>, <span style=\"color: #008000; text-decoration-color: #008000\">'model_name'</span>: <span style=\"color: #008000; text-decoration-color: #008000\">'gpt-3.5-turbo-0125'</span><span style=\"font-weight: bold\">}</span>,\n",
       "    <span style=\"color: #808000; text-decoration-color: #808000\">id</span>=<span style=\"color: #008000; text-decoration-color: #008000\">'run-26efe557-4a0f-4932-83aa-78da1d20a448'</span>\n",
       "<span style=\"font-weight: bold\">)</span>\n",
       "</pre>\n"
      ],
      "text/plain": [
       "\u001b[1;35mAIMessageChunk\u001b[0m\u001b[1m(\u001b[0m\n",
       "    \u001b[33mcontent\u001b[0m=\u001b[32m''\u001b[0m,\n",
       "    \u001b[33mresponse_metadata\u001b[0m=\u001b[1m{\u001b[0m\u001b[32m'finish_reason'\u001b[0m: \u001b[32m'stop'\u001b[0m, \u001b[32m'model_name'\u001b[0m: \u001b[32m'gpt-3.5-turbo-0125'\u001b[0m\u001b[1m}\u001b[0m,\n",
       "    \u001b[33mid\u001b[0m=\u001b[32m'run-26efe557-4a0f-4932-83aa-78da1d20a448'\u001b[0m\n",
       "\u001b[1m)\u001b[0m\n"
      ]
     },
     "metadata": {},
     "output_type": "display_data"
    }
   ],
   "source": [
    "for chunk in chunks:\n",
    "    pprint(chunk, end=\"\", flush=True)"
   ]
  },
  {
   "cell_type": "markdown",
   "metadata": {},
   "source": [
    "設定`flush`為`True`來看到跟ChatGPT一樣文字一個一個一個生成的過程"
   ]
  },
  {
   "cell_type": "code",
   "execution_count": 10,
   "metadata": {
    "colab": {
     "base_uri": "https://localhost:8080/"
    },
    "id": "EiBga82Mrm3y",
    "outputId": "e04f3051-64cd-4693-bd0d-4d53aa9c242f"
   },
   "outputs": [],
   "source": [
    "for chunk in chunks:\n",
    "    print(chunk.content, end=\"\", flush=True)"
   ]
  },
  {
   "cell_type": "markdown",
   "metadata": {
    "id": "abmpgMgMiSiF"
   },
   "source": [
    "#### (3) 暫存\n",
    "設定`cache=True`讓模型使用快取,這樣對模型要求相同內容時就會取回相同結果,可以省錢"
   ]
  },
  {
   "cell_type": "code",
   "execution_count": 11,
   "metadata": {
    "id": "ZFcjDQHQYw2x"
   },
   "outputs": [],
   "source": [
    "chat_model2 = ChatOpenAI(model='gpt-3.5-turbo', api_key=os.getenv('OPENAI_API_KEY'), cache=True)"
   ]
  },
  {
   "cell_type": "markdown",
   "metadata": {},
   "source": [
    "使用`%%time`計算時間，並且讀取`invoke`出來的回應的id"
   ]
  },
  {
   "cell_type": "code",
   "execution_count": 12,
   "metadata": {
    "colab": {
     "base_uri": "https://localhost:8080/"
    },
    "id": "567b3X8Hddn3",
    "outputId": "3c82dfa1-4af7-4cb8-ce59-a1dd588ce1ee"
   },
   "outputs": [
    {
     "name": "stdout",
     "output_type": "stream",
     "text": [
      "run-1df27554-1734-4f34-b2a3-1f42d77909e4-0\n",
      "CPU times: user 4.74 ms, sys: 5.1 ms, total: 9.85 ms\n",
      "Wall time: 981 ms\n"
     ]
    }
   ],
   "source": [
    "%%time\n",
    "set_llm_cache(InMemoryCache())\n",
    "print(chat_model2.invoke(\"你好, 使用繁體中文\").id)"
   ]
  },
  {
   "cell_type": "markdown",
   "metadata": {},
   "source": [
    "再次使用一樣的prompt，發現id一樣，且執行時間變很快。這就是讀取暫存的結果。"
   ]
  },
  {
   "cell_type": "code",
   "execution_count": 13,
   "metadata": {
    "colab": {
     "base_uri": "https://localhost:8080/"
    },
    "id": "FZ_OsWfbhNG-",
    "outputId": "a97b0e51-8333-4934-b3ba-c12d9f36cc3e"
   },
   "outputs": [
    {
     "name": "stdout",
     "output_type": "stream",
     "text": [
      "run-1df27554-1734-4f34-b2a3-1f42d77909e4-0\n",
      "CPU times: user 937 μs, sys: 1.37 ms, total: 2.31 ms\n",
      "Wall time: 2.37 ms\n"
     ]
    }
   ],
   "source": [
    "%%time\n",
    "print(chat_model2.invoke(\"你好, 使用繁體中文\").id)"
   ]
  },
  {
   "cell_type": "code",
   "execution_count": 14,
   "metadata": {},
   "outputs": [],
   "source": [
    "del chat_model2"
   ]
  },
  {
   "cell_type": "markdown",
   "metadata": {
    "id": "e2psnuMBibHc"
   },
   "source": [
    "#### (4) 計算費用與tokens\n",
    "單一prompt的示例"
   ]
  },
  {
   "cell_type": "code",
   "execution_count": 15,
   "metadata": {
    "colab": {
     "base_uri": "https://localhost:8080/",
     "height": 137
    },
    "id": "gqkTNrklb4rz",
    "outputId": "4e5bf74f-3662-4a0e-99a3-312121cc9f5b"
   },
   "outputs": [
    {
     "data": {
      "text/html": [
       "<pre style=\"white-space:pre;overflow-x:auto;line-height:normal;font-family:Menlo,'DejaVu Sans Mono',consolas,'Courier New',monospace\">您好，有什麼我可以幫助您的嗎？\n",
       "</pre>\n"
      ],
      "text/plain": [
       "您好，有什麼我可以幫助您的嗎？\n"
      ]
     },
     "metadata": {},
     "output_type": "display_data"
    },
    {
     "data": {
      "text/html": [
       "<pre style=\"white-space:pre;overflow-x:auto;line-height:normal;font-family:Menlo,'DejaVu Sans Mono',consolas,'Courier New',monospace\"><span style=\"font-weight: bold\">{</span><span style=\"color: #008000; text-decoration-color: #008000\">'completion_tokens'</span>: <span style=\"color: #008080; text-decoration-color: #008080; font-weight: bold\">21</span>, <span style=\"color: #008000; text-decoration-color: #008000\">'prompt_tokens'</span>: <span style=\"color: #008080; text-decoration-color: #008080; font-weight: bold\">23</span>, <span style=\"color: #008000; text-decoration-color: #008000\">'total_tokens'</span>: <span style=\"color: #008080; text-decoration-color: #008080; font-weight: bold\">44</span><span style=\"font-weight: bold\">}</span>\n",
       "</pre>\n"
      ],
      "text/plain": [
       "\u001b[1m{\u001b[0m\u001b[32m'completion_tokens'\u001b[0m: \u001b[1;36m21\u001b[0m, \u001b[32m'prompt_tokens'\u001b[0m: \u001b[1;36m23\u001b[0m, \u001b[32m'total_tokens'\u001b[0m: \u001b[1;36m44\u001b[0m\u001b[1m}\u001b[0m\n"
      ]
     },
     "metadata": {},
     "output_type": "display_data"
    },
    {
     "data": {
      "text/html": [
       "<pre style=\"white-space:pre;overflow-x:auto;line-height:normal;font-family:Menlo,'DejaVu Sans Mono',consolas,'Courier New',monospace\">Tokens Used: <span style=\"color: #008080; text-decoration-color: #008080; font-weight: bold\">44</span>\n",
       "        Prompt Tokens: <span style=\"color: #008080; text-decoration-color: #008080; font-weight: bold\">23</span>\n",
       "        Completion Tokens: <span style=\"color: #008080; text-decoration-color: #008080; font-weight: bold\">21</span>\n",
       "Successful Requests: <span style=\"color: #008080; text-decoration-color: #008080; font-weight: bold\">1</span>\n",
       "Total Cost <span style=\"font-weight: bold\">(</span>USD<span style=\"font-weight: bold\">)</span>: $<span style=\"color: #008080; text-decoration-color: #008080; font-weight: bold\">4.3e-05</span>\n",
       "</pre>\n"
      ],
      "text/plain": [
       "Tokens Used: \u001b[1;36m44\u001b[0m\n",
       "        Prompt Tokens: \u001b[1;36m23\u001b[0m\n",
       "        Completion Tokens: \u001b[1;36m21\u001b[0m\n",
       "Successful Requests: \u001b[1;36m1\u001b[0m\n",
       "Total Cost \u001b[1m(\u001b[0mUSD\u001b[1m)\u001b[0m: $\u001b[1;36m4.3e-05\u001b[0m\n"
      ]
     },
     "metadata": {},
     "output_type": "display_data"
    }
   ],
   "source": [
    "with get_openai_callback() as cb:\n",
    "    result = chat_model.invoke(\"貴安，使用繁體中文回答\")\n",
    "    pprint(result.content)\n",
    "    pprint(result.response_metadata['token_usage']) # 計算token數\n",
    "    pprint(cb) # 計算花費"
   ]
  },
  {
   "cell_type": "markdown",
   "metadata": {},
   "source": [
    "多個prompt的示例"
   ]
  },
  {
   "cell_type": "code",
   "execution_count": 16,
   "metadata": {
    "colab": {
     "base_uri": "https://localhost:8080/",
     "height": 137
    },
    "id": "LMdErJBZHg0m",
    "outputId": "4adb1548-fe10-4689-e337-4306f60837ab"
   },
   "outputs": [
    {
     "name": "stdout",
     "output_type": "stream",
     "text": [
      "Soyorin是一隻非常可愛的小狗，非常調皮活潑。它喜歡追逐球玩耍，也喜歡跟其他狗狗一起玩耍。它非常聰明，學東西也很快。我們一家人都非常愛Soyorin，它已經成為我們家的一員。希望Soyorin可以健康快樂的成長，陪伴我們度過每一天。\n",
      "很抱歉，我不清楚您家小狗叫什麼名字。您可以告訴我它的名字嗎？我很樂意和您聊聊您家可愛的小狗。\n"
     ]
    },
    {
     "data": {
      "text/html": [
       "<pre style=\"white-space:pre;overflow-x:auto;line-height:normal;font-family:Menlo,'DejaVu Sans Mono',consolas,'Courier New',monospace\">Tokens Used: <span style=\"color: #008080; text-decoration-color: #008080; font-weight: bold\">285</span>\n",
       "        Prompt Tokens: <span style=\"color: #008080; text-decoration-color: #008080; font-weight: bold\">60</span>\n",
       "        Completion Tokens: <span style=\"color: #008080; text-decoration-color: #008080; font-weight: bold\">225</span>\n",
       "Successful Requests: <span style=\"color: #008080; text-decoration-color: #008080; font-weight: bold\">2</span>\n",
       "Total Cost <span style=\"font-weight: bold\">(</span>USD<span style=\"font-weight: bold\">)</span>: $<span style=\"color: #008080; text-decoration-color: #008080; font-weight: bold\">0.00036750000000000004</span>\n",
       "</pre>\n"
      ],
      "text/plain": [
       "Tokens Used: \u001b[1;36m285\u001b[0m\n",
       "        Prompt Tokens: \u001b[1;36m60\u001b[0m\n",
       "        Completion Tokens: \u001b[1;36m225\u001b[0m\n",
       "Successful Requests: \u001b[1;36m2\u001b[0m\n",
       "Total Cost \u001b[1m(\u001b[0mUSD\u001b[1m)\u001b[0m: $\u001b[1;36m0.00036750000000000004\u001b[0m\n"
      ]
     },
     "metadata": {},
     "output_type": "display_data"
    }
   ],
   "source": [
    "with get_openai_callback() as cb:\n",
    "    for content in chat_model.batch([\"我家小狗叫Soyorin, 使用繁體中文\", \"我家小狗叫什麼？, 使用繁體中文\"]):\n",
    "        print(content.content)\n",
    "    pprint(cb)"
   ]
  },
  {
   "cell_type": "markdown",
   "metadata": {},
   "source": [
    "不同模型花費會不一樣"
   ]
  },
  {
   "cell_type": "code",
   "execution_count": 17,
   "metadata": {
    "colab": {
     "base_uri": "https://localhost:8080/",
     "height": 119
    },
    "id": "ygRzxeFfh2l4",
    "outputId": "89dccf06-8869-4515-fb43-31f9c35ec4ee"
   },
   "outputs": [
    {
     "name": "stdout",
     "output_type": "stream",
     "text": [
      "您好！有什麼我可以幫助您的呢？\n"
     ]
    },
    {
     "data": {
      "text/html": [
       "<pre style=\"white-space:pre;overflow-x:auto;line-height:normal;font-family:Menlo,'DejaVu Sans Mono',consolas,'Courier New',monospace\">Tokens Used: <span style=\"color: #008080; text-decoration-color: #008080; font-weight: bold\">43</span>\n",
       "        Prompt Tokens: <span style=\"color: #008080; text-decoration-color: #008080; font-weight: bold\">23</span>\n",
       "        Completion Tokens: <span style=\"color: #008080; text-decoration-color: #008080; font-weight: bold\">20</span>\n",
       "Successful Requests: <span style=\"color: #008080; text-decoration-color: #008080; font-weight: bold\">1</span>\n",
       "Total Cost <span style=\"font-weight: bold\">(</span>USD<span style=\"font-weight: bold\">)</span>: $<span style=\"color: #008080; text-decoration-color: #008080; font-weight: bold\">0.00083</span>\n",
       "</pre>\n"
      ],
      "text/plain": [
       "Tokens Used: \u001b[1;36m43\u001b[0m\n",
       "        Prompt Tokens: \u001b[1;36m23\u001b[0m\n",
       "        Completion Tokens: \u001b[1;36m20\u001b[0m\n",
       "Successful Requests: \u001b[1;36m1\u001b[0m\n",
       "Total Cost \u001b[1m(\u001b[0mUSD\u001b[1m)\u001b[0m: $\u001b[1;36m0.00083\u001b[0m\n"
      ]
     },
     "metadata": {},
     "output_type": "display_data"
    }
   ],
   "source": [
    "chat_model.model_name='gpt-4-turbo'\n",
    "with get_openai_callback() as cb:\n",
    "    print(chat_model.invoke(\"貴安，使用繁體中文回答\").content)\n",
    "    pprint(cb)"
   ]
  },
  {
   "cell_type": "markdown",
   "metadata": {
    "id": "Dc17McZPuq2A"
   },
   "source": [
    "### 3. 設定與隱藏金鑰的方法\n",
    "\n",
    "Colab 提供有 Secret, 可以依帳戶儲存機密資料, 並設定是否允許必記本存取。機密資料不會隨筆記本分享出去, 只有帳戶擁有者才能讀取。"
   ]
  },
  {
   "cell_type": "code",
   "execution_count": 18,
   "metadata": {
    "id": "ZXYmiJGWz0qM"
   },
   "outputs": [],
   "source": [
    "# # 匯入套件\n",
    "# from google.colab import userdata"
   ]
  },
  {
   "cell_type": "code",
   "execution_count": 19,
   "metadata": {
    "colab": {
     "base_uri": "https://localhost:8080/"
    },
    "id": "Y0F3ZvhFNsPK",
    "outputId": "b1156030-e061-4701-b9c2-642cf1f6cc5d"
   },
   "outputs": [],
   "source": [
    "# from langchain_openai import ChatOpenAI\n",
    "# chat_model = ChatOpenAI(model='gpt-3.5-turbo',\n",
    "#                         api_key=userdata.get('OPENAI_API_KEY'))\n",
    "# print(chat_model.invoke(\"你好, 使用繁體中文\").content)"
   ]
  },
  {
   "cell_type": "markdown",
   "metadata": {
    "id": "GpBGp__hEXbJ"
   },
   "source": [
    "## 2-2 與語言模型溝通的藝術 – 提示模板 (PromptTemplate)"
   ]
  },
  {
   "cell_type": "markdown",
   "metadata": {
    "id": "CUVmThogNcTq"
   },
   "source": [
    "### 1. 字串提示模板"
   ]
  },
  {
   "cell_type": "markdown",
   "metadata": {
    "id": "PNm5PbbQtrxv"
   },
   "source": [
    "字串提示模板主要用於單一對話中的設定。藉由設定提示模板中的參數，下問問類似的問題時只需要指定這些參數就可以了。"
   ]
  },
  {
   "cell_type": "code",
   "execution_count": 20,
   "metadata": {
    "colab": {
     "base_uri": "https://localhost:8080/",
     "height": 34
    },
    "id": "8XKhEw__fuwi",
    "outputId": "7e42acb3-37c3-4e9f-ba01-c605ea76d789"
   },
   "outputs": [
    {
     "data": {
      "text/html": [
       "<pre style=\"white-space:pre;overflow-x:auto;line-height:normal;font-family:Menlo,'DejaVu Sans Mono',consolas,'Courier New',monospace\"><span style=\"color: #800080; text-decoration-color: #800080; font-weight: bold\">PromptTemplate</span><span style=\"font-weight: bold\">(</span><span style=\"color: #808000; text-decoration-color: #808000\">input_variables</span>=<span style=\"font-weight: bold\">[</span><span style=\"color: #008000; text-decoration-color: #008000\">'topic'</span><span style=\"font-weight: bold\">]</span>, <span style=\"color: #808000; text-decoration-color: #808000\">template</span>=<span style=\"color: #008000; text-decoration-color: #008000\">'請介紹{topic}的知識，使用繁體中文回答'</span><span style=\"font-weight: bold\">)</span>\n",
       "</pre>\n"
      ],
      "text/plain": [
       "\u001b[1;35mPromptTemplate\u001b[0m\u001b[1m(\u001b[0m\u001b[33minput_variables\u001b[0m=\u001b[1m[\u001b[0m\u001b[32m'topic'\u001b[0m\u001b[1m]\u001b[0m, \u001b[33mtemplate\u001b[0m=\u001b[32m'請介紹\u001b[0m\u001b[32m{\u001b[0m\u001b[32mtopic\u001b[0m\u001b[32m}\u001b[0m\u001b[32m的知識，使用繁體中文回答'\u001b[0m\u001b[1m)\u001b[0m\n"
      ]
     },
     "metadata": {},
     "output_type": "display_data"
    }
   ],
   "source": [
    "prompt_template = PromptTemplate(\n",
    "    template=\"請介紹{topic}的知識，使用繁體中文回答\",\n",
    "    input_variables=[\"topic\"])\n",
    "pprint(prompt_template)"
   ]
  },
  {
   "cell_type": "markdown",
   "metadata": {},
   "source": [
    "利用`format`代入字串的方法如下："
   ]
  },
  {
   "cell_type": "code",
   "execution_count": 21,
   "metadata": {
    "colab": {
     "base_uri": "https://localhost:8080/"
    },
    "id": "HQMYuTyRiHR8",
    "outputId": "e52f0378-e3e6-4e25-8a28-494bd96f560d"
   },
   "outputs": [
    {
     "name": "stdout",
     "output_type": "stream",
     "text": [
      "請介紹GPT2的知識，使用繁體中文回答\n"
     ]
    }
   ],
   "source": [
    "prompt_string = prompt_template.format(topic=\"GPT2\")\n",
    "print(prompt_string)"
   ]
  },
  {
   "cell_type": "markdown",
   "metadata": {},
   "source": [
    "利用`invoke`代入字串的方式如下。"
   ]
  },
  {
   "cell_type": "code",
   "execution_count": 22,
   "metadata": {},
   "outputs": [
    {
     "data": {
      "text/html": [
       "<pre style=\"white-space:pre;overflow-x:auto;line-height:normal;font-family:Menlo,'DejaVu Sans Mono',consolas,'Courier New',monospace\"><span style=\"color: #800080; text-decoration-color: #800080; font-weight: bold\">StringPromptValue</span><span style=\"font-weight: bold\">(</span><span style=\"color: #808000; text-decoration-color: #808000\">text</span>=<span style=\"color: #008000; text-decoration-color: #008000\">'請介紹GPT2的知識，使用繁體中文回答'</span><span style=\"font-weight: bold\">)</span>\n",
       "</pre>\n"
      ],
      "text/plain": [
       "\u001b[1;35mStringPromptValue\u001b[0m\u001b[1m(\u001b[0m\u001b[33mtext\u001b[0m=\u001b[32m'請介紹GPT2的知識，使用繁體中文回答'\u001b[0m\u001b[1m)\u001b[0m\n"
      ]
     },
     "metadata": {},
     "output_type": "display_data"
    }
   ],
   "source": [
    "prompt_value = prompt_template.invoke({\"topic\":\"GPT2\"})\n",
    "pprint(prompt_value)"
   ]
  },
  {
   "cell_type": "markdown",
   "metadata": {},
   "source": [
    "兩種方法一個回傳字串，另一個則是回傳`StringPromptValue`物件"
   ]
  },
  {
   "cell_type": "code",
   "execution_count": 23,
   "metadata": {
    "colab": {
     "base_uri": "https://localhost:8080/",
     "height": 71
    },
    "id": "_UszgpM5VfUG",
    "outputId": "bbaa1c8b-85d2-4551-b203-a3a8a8ba1985"
   },
   "outputs": [
    {
     "name": "stdout",
     "output_type": "stream",
     "text": [
      "prompt_string： <class 'str'>, \n",
      "prompt_value： <class 'langchain_core.prompt_values.StringPromptValue'>\n"
     ]
    }
   ],
   "source": [
    "print(f\"prompt_string： {type(prompt_string)}, \\n\"\n",
    "      f\"prompt_value： {type(prompt_value)}\")"
   ]
  },
  {
   "cell_type": "code",
   "execution_count": 24,
   "metadata": {
    "colab": {
     "base_uri": "https://localhost:8080/"
    },
    "id": "ui-C2G6QIDka",
    "outputId": "985a63fe-adba-4de7-a68f-eb8d3f73dd82"
   },
   "outputs": [
    {
     "name": "stdout",
     "output_type": "stream",
     "text": [
      "GPT-2（Generative Pre-trained Transformer 2）是由OpenAI於2019年開發的一種自然語言處理和生成模型。它是基於Transformer架構的改進版，主要用於處理和生成人類語言。GPT-2的設計目的是透過大量的文本數據進行無監督學習，從而能夠生成連貫且有語境的文本。\n",
      "\n",
      "### 主要特點\n",
      "\n",
      "1. **自注意力機制（Self-Attention Mechanism）**：\n",
      "   GPT-2採用的Transformer模型基於自注意力機制，這使得模型在處理每個詞時能夠關注到整個句子中的所有其他詞。這種機制幫助模型更好地理解語言的上下文關系。\n",
      "\n",
      "2. **大量的參數**：\n",
      "   GPT-2擁有多個版本，參數數從1.17億到15.4億不等。這些龐大的參數使得GPT-2擁有強大的語言理解和生成能力。\n",
      "\n",
      "3. **廣泛的預訓練**：\n",
      "   在訓練過程中，GPT-2被預訓練在一個非常廣泛的Web文本數據集上（稱為WebText），這包括了從互聯網上抓取的8百萬網頁的文本。這種預訓練幫助模型學習到豐富的語言模式和知識。\n",
      "\n",
      "4. **無監督學習**：\n",
      "   GPT-2的訓練過程不依賴於特定的任務導向訓練數據，而是通過預測下一個詞的方式來進行訓練，這屬於一種無監督學習。\n",
      "\n",
      "### 應用範圍\n",
      "\n",
      "GPT-2可用於多種自然語言處理任務，如文本生成、機器翻譯、文本摘要、對話系統等。由於其強大的語言生成能力，它在創造看似真實的文本方面表現尤其突出，可以用於創建新聞文章、撰寫故事、生成對話等。\n",
      "\n",
      "### 安全和倫理考量\n",
      "\n",
      "由於GPT-2的強大文本生成能力，OpenAI最初選擇不完全公開最大版本的訓練細節和模型數據，以防止潛在的濫用，如生成假新聞或進行社會工程攻擊。這也引發了關於AI技術的倫理和安全的廣泛討論。\n",
      "\n",
      "總而言之，GPT-2是一個在自然語言處理領域具有重要影響的模型，它的開發不僅推動了語言模型的技術進步，也對AI的倫理和政策制定提出了新的挑戰和考量。\n"
     ]
    }
   ],
   "source": [
    "print(chat_model.invoke(prompt_value).content)"
   ]
  },
  {
   "cell_type": "markdown",
   "metadata": {},
   "source": [
    "使用`PromptTemplate.from_template`方法來解析字串，就可以直接得到含模板參數的prompt，比較方便"
   ]
  },
  {
   "cell_type": "code",
   "execution_count": 25,
   "metadata": {
    "colab": {
     "base_uri": "https://localhost:8080/",
     "height": 34
    },
    "id": "7vUwpHoS3ERr",
    "outputId": "6b9ea555-5fec-4ffc-f1a3-94b210b2ec59"
   },
   "outputs": [
    {
     "data": {
      "text/html": [
       "<pre style=\"white-space:pre;overflow-x:auto;line-height:normal;font-family:Menlo,'DejaVu Sans Mono',consolas,'Courier New',monospace\"><span style=\"color: #800080; text-decoration-color: #800080; font-weight: bold\">PromptTemplate</span><span style=\"font-weight: bold\">(</span><span style=\"color: #808000; text-decoration-color: #808000\">input_variables</span>=<span style=\"font-weight: bold\">[</span><span style=\"color: #008000; text-decoration-color: #008000\">'topic'</span><span style=\"font-weight: bold\">]</span>, <span style=\"color: #808000; text-decoration-color: #808000\">template</span>=<span style=\"color: #008000; text-decoration-color: #008000\">'請介紹{topic}的知識，使用繁體中文回答'</span><span style=\"font-weight: bold\">)</span>\n",
       "</pre>\n"
      ],
      "text/plain": [
       "\u001b[1;35mPromptTemplate\u001b[0m\u001b[1m(\u001b[0m\u001b[33minput_variables\u001b[0m=\u001b[1m[\u001b[0m\u001b[32m'topic'\u001b[0m\u001b[1m]\u001b[0m, \u001b[33mtemplate\u001b[0m=\u001b[32m'請介紹\u001b[0m\u001b[32m{\u001b[0m\u001b[32mtopic\u001b[0m\u001b[32m}\u001b[0m\u001b[32m的知識，使用繁體中文回答'\u001b[0m\u001b[1m)\u001b[0m\n"
      ]
     },
     "metadata": {},
     "output_type": "display_data"
    }
   ],
   "source": [
    "prompt = PromptTemplate.from_template(\"請介紹{topic}的知識，使用繁體中文回答\")\n",
    "pprint(prompt)"
   ]
  },
  {
   "cell_type": "markdown",
   "metadata": {},
   "source": [
    "甚至可以用`+`號連接`PromptTemplate`物件以及含大括號的字串"
   ]
  },
  {
   "cell_type": "code",
   "execution_count": 26,
   "metadata": {
    "colab": {
     "base_uri": "https://localhost:8080/",
     "height": 34
    },
    "id": "PtyYPfKkHstF",
    "outputId": "9a8a1afc-5b98-497a-b482-62e341c968ad"
   },
   "outputs": [
    {
     "data": {
      "text/html": [
       "<pre style=\"white-space:pre;overflow-x:auto;line-height:normal;font-family:Menlo,'DejaVu Sans Mono',consolas,'Courier New',monospace\"><span style=\"color: #800080; text-decoration-color: #800080; font-weight: bold\">PromptTemplate</span><span style=\"font-weight: bold\">(</span>\n",
       "    <span style=\"color: #808000; text-decoration-color: #808000\">input_variables</span>=<span style=\"font-weight: bold\">[</span><span style=\"color: #008000; text-decoration-color: #008000\">'role'</span>, <span style=\"color: #008000; text-decoration-color: #008000\">'topic'</span><span style=\"font-weight: bold\">]</span>,\n",
       "    <span style=\"color: #808000; text-decoration-color: #808000\">template</span>=<span style=\"color: #008000; text-decoration-color: #008000\">'請介紹{topic}的知識，使用繁體中文回答, 並以{role}的角度說明'</span>\n",
       "<span style=\"font-weight: bold\">)</span>\n",
       "</pre>\n"
      ],
      "text/plain": [
       "\u001b[1;35mPromptTemplate\u001b[0m\u001b[1m(\u001b[0m\n",
       "    \u001b[33minput_variables\u001b[0m=\u001b[1m[\u001b[0m\u001b[32m'role'\u001b[0m, \u001b[32m'topic'\u001b[0m\u001b[1m]\u001b[0m,\n",
       "    \u001b[33mtemplate\u001b[0m=\u001b[32m'請介紹\u001b[0m\u001b[32m{\u001b[0m\u001b[32mtopic\u001b[0m\u001b[32m}\u001b[0m\u001b[32m的知識，使用繁體中文回答, 並以\u001b[0m\u001b[32m{\u001b[0m\u001b[32mrole\u001b[0m\u001b[32m}\u001b[0m\u001b[32m的角度說明'\u001b[0m\n",
       "\u001b[1m)\u001b[0m\n"
      ]
     },
     "metadata": {},
     "output_type": "display_data"
    },
    {
     "name": "stdout",
     "output_type": "stream",
     "text": [
      "好的，小朋友們，今天我們要來認識一個叫做GPT-2的東西。GPT-2是一種很聰明的電腦程式，它可以幫助我們寫文章、回答問題，甚至創造故事哦！\n",
      "\n",
      "首先，GPT-2的全名是「Generative Pre-trained Transformer 2」，我們可以叫它「生成預訓練轉換器2」。它是由一個叫做OpenAI的公司創造的。這個名字看起來有點複雜，對吧？其實我們可以把它想像成一個很善於學習的機器小助手。\n",
      "\n",
      "GPT-2非常擅長理解和生成語言，就像是它學過很多書籍、文章，從中學到了如何使用語言。當我們向GPT-2提問或要求它幫忙寫點什麼時，它會根據它所學到的知識來給我們答案或寫出文字。\n",
      "\n",
      "這個程式是通過一種特別的訓練方式訓練出來的，這種訓練方式叫做「預訓練」。這就像是在學校里，老師會先教我們很多知識，然後我們再用這些知識去做作業或考試。GPT-2也是先學習了大量的文字資料，然後才能幫助我們解決問題。\n",
      "\n",
      "最後，我們要知道的是，雖然GPT-2很聰明，但它畢竟是機器，有時候也會犯錯，所以我們使用它的時候還是要仔細檢查它給我們的答案是否正確哦！\n",
      "\n",
      "希望你們對GPT-2有了一點了解。它就像是一個有點超能力的電腦朋友，可以幫助我們學習和完成很多有趣的任務呢！\n"
     ]
    }
   ],
   "source": [
    "prompt = PromptTemplate.from_template(\"請介紹{topic}的知識，使用繁體中文回答\") + \", 並以{role}的角度說明\"\n",
    "pprint(prompt)\n",
    "prompt_value = prompt.invoke({\"topic\":\"GPT2\", \"role\":\"國小老師對國小小朋友\"})\n",
    "print(chat_model.invoke(prompt_value).content)"
   ]
  },
  {
   "cell_type": "markdown",
   "metadata": {
    "id": "HrSpUJkSNhiY"
   },
   "source": [
    "### 2. 對話提示模板"
   ]
  },
  {
   "cell_type": "markdown",
   "metadata": {
    "id": "dHckaYD2H2g8"
   },
   "source": [
    "對話提示模板（`ChatPromptTemplate`）使用於聊天對話。其由三種prompt構成，分別是`SystemMessagePromptTemplate`，`HumanMessagePromptTemplate`，`HumanMessagePromptTemplate`。後續會在介紹這三種prompt是什麼。以下是建立`ChatPromptTemplate`物件的方法"
   ]
  },
  {
   "cell_type": "code",
   "execution_count": 27,
   "metadata": {
    "colab": {
     "base_uri": "https://localhost:8080/",
     "height": 203
    },
    "id": "ZfUdJwBveIKh",
    "outputId": "cf2b56f0-89a8-40e0-d139-5e25e3fe3a16"
   },
   "outputs": [
    {
     "data": {
      "text/html": [
       "<pre style=\"white-space:pre;overflow-x:auto;line-height:normal;font-family:Menlo,'DejaVu Sans Mono',consolas,'Courier New',monospace\"><span style=\"color: #800080; text-decoration-color: #800080; font-weight: bold\">ChatPromptTemplate</span><span style=\"font-weight: bold\">(</span>\n",
       "    <span style=\"color: #808000; text-decoration-color: #808000\">input_variables</span>=<span style=\"font-weight: bold\">[</span><span style=\"color: #008000; text-decoration-color: #008000\">'input'</span>, <span style=\"color: #008000; text-decoration-color: #008000\">'topic'</span><span style=\"font-weight: bold\">]</span>,\n",
       "    <span style=\"color: #808000; text-decoration-color: #808000\">messages</span>=<span style=\"font-weight: bold\">[</span>\n",
       "        <span style=\"color: #800080; text-decoration-color: #800080; font-weight: bold\">SystemMessagePromptTemplate</span><span style=\"font-weight: bold\">(</span>\n",
       "            <span style=\"color: #808000; text-decoration-color: #808000\">prompt</span>=<span style=\"color: #800080; text-decoration-color: #800080; font-weight: bold\">PromptTemplate</span><span style=\"font-weight: bold\">(</span><span style=\"color: #808000; text-decoration-color: #808000\">input_variables</span>=<span style=\"font-weight: bold\">[</span><span style=\"color: #008000; text-decoration-color: #008000\">'topic'</span><span style=\"font-weight: bold\">]</span>, <span style=\"color: #808000; text-decoration-color: #808000\">template</span>=<span style=\"color: #008000; text-decoration-color: #008000\">'你是一位老師很會教{topic}.'</span><span style=\"font-weight: bold\">)</span>\n",
       "        <span style=\"font-weight: bold\">)</span>,\n",
       "        <span style=\"color: #800080; text-decoration-color: #800080; font-weight: bold\">HumanMessagePromptTemplate</span><span style=\"font-weight: bold\">(</span><span style=\"color: #808000; text-decoration-color: #808000\">prompt</span>=<span style=\"color: #800080; text-decoration-color: #800080; font-weight: bold\">PromptTemplate</span><span style=\"font-weight: bold\">(</span><span style=\"color: #808000; text-decoration-color: #808000\">input_variables</span>=<span style=\"font-weight: bold\">[]</span>, <span style=\"color: #808000; text-decoration-color: #808000\">template</span>=<span style=\"color: #008000; text-decoration-color: #008000\">'可以再說一次嗎？'</span><span style=\"font-weight: bold\">))</span>,\n",
       "        <span style=\"color: #800080; text-decoration-color: #800080; font-weight: bold\">AIMessagePromptTemplate</span><span style=\"font-weight: bold\">(</span><span style=\"color: #808000; text-decoration-color: #808000\">prompt</span>=<span style=\"color: #800080; text-decoration-color: #800080; font-weight: bold\">PromptTemplate</span><span style=\"font-weight: bold\">(</span><span style=\"color: #808000; text-decoration-color: #808000\">input_variables</span>=<span style=\"font-weight: bold\">[]</span>, <span style=\"color: #808000; text-decoration-color: #808000\">template</span>=<span style=\"color: #008000; text-decoration-color: #008000\">'好的, 我再講解一次'</span><span style=\"font-weight: bold\">))</span>,\n",
       "        <span style=\"color: #800080; text-decoration-color: #800080; font-weight: bold\">HumanMessagePromptTemplate</span><span style=\"font-weight: bold\">(</span><span style=\"color: #808000; text-decoration-color: #808000\">prompt</span>=<span style=\"color: #800080; text-decoration-color: #800080; font-weight: bold\">PromptTemplate</span><span style=\"font-weight: bold\">(</span><span style=\"color: #808000; text-decoration-color: #808000\">input_variables</span>=<span style=\"font-weight: bold\">[</span><span style=\"color: #008000; text-decoration-color: #008000\">'input'</span><span style=\"font-weight: bold\">]</span>, <span style=\"color: #808000; text-decoration-color: #808000\">template</span>=<span style=\"color: #008000; text-decoration-color: #008000\">'{input}'</span><span style=\"font-weight: bold\">))</span>\n",
       "    <span style=\"font-weight: bold\">]</span>\n",
       "<span style=\"font-weight: bold\">)</span>\n",
       "</pre>\n"
      ],
      "text/plain": [
       "\u001b[1;35mChatPromptTemplate\u001b[0m\u001b[1m(\u001b[0m\n",
       "    \u001b[33minput_variables\u001b[0m=\u001b[1m[\u001b[0m\u001b[32m'input'\u001b[0m, \u001b[32m'topic'\u001b[0m\u001b[1m]\u001b[0m,\n",
       "    \u001b[33mmessages\u001b[0m=\u001b[1m[\u001b[0m\n",
       "        \u001b[1;35mSystemMessagePromptTemplate\u001b[0m\u001b[1m(\u001b[0m\n",
       "            \u001b[33mprompt\u001b[0m=\u001b[1;35mPromptTemplate\u001b[0m\u001b[1m(\u001b[0m\u001b[33minput_variables\u001b[0m=\u001b[1m[\u001b[0m\u001b[32m'topic'\u001b[0m\u001b[1m]\u001b[0m, \u001b[33mtemplate\u001b[0m=\u001b[32m'你是一位老師很會教\u001b[0m\u001b[32m{\u001b[0m\u001b[32mtopic\u001b[0m\u001b[32m}\u001b[0m\u001b[32m.'\u001b[0m\u001b[1m)\u001b[0m\n",
       "        \u001b[1m)\u001b[0m,\n",
       "        \u001b[1;35mHumanMessagePromptTemplate\u001b[0m\u001b[1m(\u001b[0m\u001b[33mprompt\u001b[0m=\u001b[1;35mPromptTemplate\u001b[0m\u001b[1m(\u001b[0m\u001b[33minput_variables\u001b[0m=\u001b[1m[\u001b[0m\u001b[1m]\u001b[0m, \u001b[33mtemplate\u001b[0m=\u001b[32m'可以再說一次嗎？'\u001b[0m\u001b[1m)\u001b[0m\u001b[1m)\u001b[0m,\n",
       "        \u001b[1;35mAIMessagePromptTemplate\u001b[0m\u001b[1m(\u001b[0m\u001b[33mprompt\u001b[0m=\u001b[1;35mPromptTemplate\u001b[0m\u001b[1m(\u001b[0m\u001b[33minput_variables\u001b[0m=\u001b[1m[\u001b[0m\u001b[1m]\u001b[0m, \u001b[33mtemplate\u001b[0m=\u001b[32m'好的, 我再講解一次'\u001b[0m\u001b[1m)\u001b[0m\u001b[1m)\u001b[0m,\n",
       "        \u001b[1;35mHumanMessagePromptTemplate\u001b[0m\u001b[1m(\u001b[0m\u001b[33mprompt\u001b[0m=\u001b[1;35mPromptTemplate\u001b[0m\u001b[1m(\u001b[0m\u001b[33minput_variables\u001b[0m=\u001b[1m[\u001b[0m\u001b[32m'input'\u001b[0m\u001b[1m]\u001b[0m, \u001b[33mtemplate\u001b[0m=\u001b[32m'\u001b[0m\u001b[32m{\u001b[0m\u001b[32minput\u001b[0m\u001b[32m}\u001b[0m\u001b[32m'\u001b[0m\u001b[1m)\u001b[0m\u001b[1m)\u001b[0m\n",
       "    \u001b[1m]\u001b[0m\n",
       "\u001b[1m)\u001b[0m\n"
      ]
     },
     "metadata": {},
     "output_type": "display_data"
    }
   ],
   "source": [
    "chat_template = ChatPromptTemplate.from_messages(\n",
    "    [\n",
    "        (\"system\", \"你是一位老師很會教{topic}.\"),\n",
    "        (\"human\", \"可以再說一次嗎？\"),\n",
    "        (\"ai\", \"好的, 我再講解一次\"),\n",
    "        (\"human\", \"{input}\"),\n",
    "    ]\n",
    ")\n",
    "pprint(chat_template)"
   ]
  },
  {
   "cell_type": "markdown",
   "metadata": {},
   "source": [
    "代入參數的方式同樣也可以使用`format_messages`以及`invole`兩種方法"
   ]
  },
  {
   "cell_type": "code",
   "execution_count": 28,
   "metadata": {
    "colab": {
     "base_uri": "https://localhost:8080/",
     "height": 120
    },
    "id": "EY6GTg0cx-DD",
    "outputId": "b7442732-1bbd-488b-ff03-9e51c40faa16"
   },
   "outputs": [
    {
     "data": {
      "text/html": [
       "<pre style=\"white-space:pre;overflow-x:auto;line-height:normal;font-family:Menlo,'DejaVu Sans Mono',consolas,'Courier New',monospace\"><span style=\"font-weight: bold\">[</span>\n",
       "    <span style=\"color: #800080; text-decoration-color: #800080; font-weight: bold\">SystemMessage</span><span style=\"font-weight: bold\">(</span><span style=\"color: #808000; text-decoration-color: #808000\">content</span>=<span style=\"color: #008000; text-decoration-color: #008000\">'你是一位老師很會教數學.'</span><span style=\"font-weight: bold\">)</span>,\n",
       "    <span style=\"color: #800080; text-decoration-color: #800080; font-weight: bold\">HumanMessage</span><span style=\"font-weight: bold\">(</span><span style=\"color: #808000; text-decoration-color: #808000\">content</span>=<span style=\"color: #008000; text-decoration-color: #008000\">'可以再說一次嗎？'</span><span style=\"font-weight: bold\">)</span>,\n",
       "    <span style=\"color: #800080; text-decoration-color: #800080; font-weight: bold\">AIMessage</span><span style=\"font-weight: bold\">(</span><span style=\"color: #808000; text-decoration-color: #808000\">content</span>=<span style=\"color: #008000; text-decoration-color: #008000\">'好的, 我再講解一次'</span><span style=\"font-weight: bold\">)</span>,\n",
       "    <span style=\"color: #800080; text-decoration-color: #800080; font-weight: bold\">HumanMessage</span><span style=\"font-weight: bold\">(</span><span style=\"color: #808000; text-decoration-color: #808000\">content</span>=<span style=\"color: #008000; text-decoration-color: #008000\">'什麼是三角函數？'</span><span style=\"font-weight: bold\">)</span>\n",
       "<span style=\"font-weight: bold\">]</span>\n",
       "</pre>\n"
      ],
      "text/plain": [
       "\u001b[1m[\u001b[0m\n",
       "    \u001b[1;35mSystemMessage\u001b[0m\u001b[1m(\u001b[0m\u001b[33mcontent\u001b[0m=\u001b[32m'你是一位老師很會教數學.'\u001b[0m\u001b[1m)\u001b[0m,\n",
       "    \u001b[1;35mHumanMessage\u001b[0m\u001b[1m(\u001b[0m\u001b[33mcontent\u001b[0m=\u001b[32m'可以再說一次嗎？'\u001b[0m\u001b[1m)\u001b[0m,\n",
       "    \u001b[1;35mAIMessage\u001b[0m\u001b[1m(\u001b[0m\u001b[33mcontent\u001b[0m=\u001b[32m'好的, 我再講解一次'\u001b[0m\u001b[1m)\u001b[0m,\n",
       "    \u001b[1;35mHumanMessage\u001b[0m\u001b[1m(\u001b[0m\u001b[33mcontent\u001b[0m=\u001b[32m'什麼是三角函數？'\u001b[0m\u001b[1m)\u001b[0m\n",
       "\u001b[1m]\u001b[0m\n"
      ]
     },
     "metadata": {},
     "output_type": "display_data"
    }
   ],
   "source": [
    "messages_list = chat_template.format_messages(topic=\"數學\", input=\"什麼是三角函數？\")\n",
    "pprint(messages_list)"
   ]
  },
  {
   "cell_type": "code",
   "execution_count": 29,
   "metadata": {},
   "outputs": [
    {
     "data": {
      "text/html": [
       "<pre style=\"white-space:pre;overflow-x:auto;line-height:normal;font-family:Menlo,'DejaVu Sans Mono',consolas,'Courier New',monospace\"><span style=\"color: #800080; text-decoration-color: #800080; font-weight: bold\">ChatPromptValue</span><span style=\"font-weight: bold\">(</span>\n",
       "    <span style=\"color: #808000; text-decoration-color: #808000\">messages</span>=<span style=\"font-weight: bold\">[</span>\n",
       "        <span style=\"color: #800080; text-decoration-color: #800080; font-weight: bold\">SystemMessage</span><span style=\"font-weight: bold\">(</span><span style=\"color: #808000; text-decoration-color: #808000\">content</span>=<span style=\"color: #008000; text-decoration-color: #008000\">'你是一位老師很會教數學.'</span><span style=\"font-weight: bold\">)</span>,\n",
       "        <span style=\"color: #800080; text-decoration-color: #800080; font-weight: bold\">HumanMessage</span><span style=\"font-weight: bold\">(</span><span style=\"color: #808000; text-decoration-color: #808000\">content</span>=<span style=\"color: #008000; text-decoration-color: #008000\">'可以再說一次嗎？'</span><span style=\"font-weight: bold\">)</span>,\n",
       "        <span style=\"color: #800080; text-decoration-color: #800080; font-weight: bold\">AIMessage</span><span style=\"font-weight: bold\">(</span><span style=\"color: #808000; text-decoration-color: #808000\">content</span>=<span style=\"color: #008000; text-decoration-color: #008000\">'好的, 我再講解一次'</span><span style=\"font-weight: bold\">)</span>,\n",
       "        <span style=\"color: #800080; text-decoration-color: #800080; font-weight: bold\">HumanMessage</span><span style=\"font-weight: bold\">(</span><span style=\"color: #808000; text-decoration-color: #808000\">content</span>=<span style=\"color: #008000; text-decoration-color: #008000\">'可以再說一次嗎'</span><span style=\"font-weight: bold\">)</span>\n",
       "    <span style=\"font-weight: bold\">]</span>\n",
       "<span style=\"font-weight: bold\">)</span>\n",
       "</pre>\n"
      ],
      "text/plain": [
       "\u001b[1;35mChatPromptValue\u001b[0m\u001b[1m(\u001b[0m\n",
       "    \u001b[33mmessages\u001b[0m=\u001b[1m[\u001b[0m\n",
       "        \u001b[1;35mSystemMessage\u001b[0m\u001b[1m(\u001b[0m\u001b[33mcontent\u001b[0m=\u001b[32m'你是一位老師很會教數學.'\u001b[0m\u001b[1m)\u001b[0m,\n",
       "        \u001b[1;35mHumanMessage\u001b[0m\u001b[1m(\u001b[0m\u001b[33mcontent\u001b[0m=\u001b[32m'可以再說一次嗎？'\u001b[0m\u001b[1m)\u001b[0m,\n",
       "        \u001b[1;35mAIMessage\u001b[0m\u001b[1m(\u001b[0m\u001b[33mcontent\u001b[0m=\u001b[32m'好的, 我再講解一次'\u001b[0m\u001b[1m)\u001b[0m,\n",
       "        \u001b[1;35mHumanMessage\u001b[0m\u001b[1m(\u001b[0m\u001b[33mcontent\u001b[0m=\u001b[32m'可以再說一次嗎'\u001b[0m\u001b[1m)\u001b[0m\n",
       "    \u001b[1m]\u001b[0m\n",
       "\u001b[1m)\u001b[0m\n"
      ]
     },
     "metadata": {},
     "output_type": "display_data"
    }
   ],
   "source": [
    "messages_value = chat_template.invoke({\"topic\":\"數學\", \"input\":\"可以再說一次嗎\"})\n",
    "pprint(messages_value)"
   ]
  },
  {
   "cell_type": "markdown",
   "metadata": {},
   "source": [
    "兩者回傳的資料型別也不同，一種是Python的串列，另一種是`ChatPromptValue`物件。"
   ]
  },
  {
   "cell_type": "code",
   "execution_count": 30,
   "metadata": {
    "colab": {
     "base_uri": "https://localhost:8080/",
     "height": 190
    },
    "id": "8Ryre-_mzz_0",
    "outputId": "4524ec58-67db-4079-deef-04eed49c4bf7"
   },
   "outputs": [
    {
     "name": "stdout",
     "output_type": "stream",
     "text": [
      "messages_string： <class 'list'>, \n",
      "messages_value： <class 'langchain_core.prompt_values.ChatPromptValue'>\n"
     ]
    }
   ],
   "source": [
    "print(f\"messages_string： {type(messages_list)}, \\n\"\n",
    "      f\"messages_value： {type(messages_value)}\")"
   ]
  },
  {
   "cell_type": "markdown",
   "metadata": {},
   "source": [
    "不過兩者都可以傳入`invoke`方法得到語言模型的回答"
   ]
  },
  {
   "cell_type": "code",
   "execution_count": 31,
   "metadata": {},
   "outputs": [
    {
     "name": "stdout",
     "output_type": "stream",
     "text": [
      "三角函數是數學中一類重要的函數，主要用於描述與角度相關的比例關係。它們在幾何、三角學、工程、物理學和許多其他科學領域中都非常重要。三角函數通常定義在直角三角形和單位圓上。\n",
      "\n",
      "在直角三角形中，三角函數定義如下：\n",
      "1. 正弦函數（sine, 縮寫為 sin）：對於一個角度，正弦值等於該角的對邊長除以斜邊長。\n",
      "2. 餘弦函數（cosine, 縮寫為 cos）：對於一個角度，餘弦值等於該角的鄰邊長除以斜邊長。\n",
      "3. 正切函數（tangent, 縮寫為 tan）：對於一個角度，正切值等於該角的對邊長除以鄰邊長。\n",
      "\n",
      "除此之外，還有割函數（secant, sec）、餘割函數（cosecant, csc）和餘切函數（cotangent, cot），這些是正弦、餘弦和正切的倒數。\n",
      "\n",
      "三角函數也可以在單位圓上定義。單位圓是一個半徑為1的圓，圓心位於坐標系的原點。在單位圓上，任一角度的正弦值是該角終邊與y軸的交點的y坐標，餘弦值是x坐標，而正切值則是y坐標除以x坐標。\n",
      "\n",
      "這些函數的圖形是周期性的，意味著它們會重複其形狀。例如，正弦和餘弦函數的周期是360度或2π弧度，正切和餘切函數的周期是180度或π弧度。\n",
      "當然可以！請問您需要我重複哪部分的內容或解釋哪個數學概念？\n"
     ]
    }
   ],
   "source": [
    "result1 = chat_model.invoke(messages_list).content\n",
    "result2 = chat_model.invoke(messages_value).content\n",
    "print(result1)\n",
    "print(result2)"
   ]
  },
  {
   "cell_type": "markdown",
   "metadata": {
    "id": "eQi8_E8wmB4A"
   },
   "source": [
    "### 3. 角色訊息"
   ]
  },
  {
   "cell_type": "markdown",
   "metadata": {},
   "source": [
    "`SystemMessagePromptTemplate`，`HumanMessagePromptTemplate`，`HumanMessagePromptTemplate`在代入對話提示模板後會轉化成`SystemMessage`，`HumanMessage`以及`AIMessage`物件。因此也可以用直接指定的方式來建立`ChatPromptTemplate`物件，如以下兩種方法"
   ]
  },
  {
   "cell_type": "code",
   "execution_count": 32,
   "metadata": {
    "colab": {
     "base_uri": "https://localhost:8080/",
     "height": 153
    },
    "id": "MrZM5DWTNApz",
    "outputId": "b8f8bb51-13d8-45c8-bef2-8331a594ec14"
   },
   "outputs": [
    {
     "data": {
      "text/html": [
       "<pre style=\"white-space:pre;overflow-x:auto;line-height:normal;font-family:Menlo,'DejaVu Sans Mono',consolas,'Courier New',monospace\"><span style=\"color: #800080; text-decoration-color: #800080; font-weight: bold\">ChatPromptTemplate</span><span style=\"font-weight: bold\">(</span>\n",
       "    <span style=\"color: #808000; text-decoration-color: #808000\">input_variables</span>=<span style=\"font-weight: bold\">[]</span>,\n",
       "    <span style=\"color: #808000; text-decoration-color: #808000\">messages</span>=<span style=\"font-weight: bold\">[</span>\n",
       "        <span style=\"color: #800080; text-decoration-color: #800080; font-weight: bold\">SystemMessage</span><span style=\"font-weight: bold\">(</span><span style=\"color: #808000; text-decoration-color: #808000\">content</span>=<span style=\"color: #008000; text-decoration-color: #008000\">'你是一名醫生'</span><span style=\"font-weight: bold\">)</span>,\n",
       "        <span style=\"color: #800080; text-decoration-color: #800080; font-weight: bold\">HumanMessage</span><span style=\"font-weight: bold\">(</span><span style=\"color: #808000; text-decoration-color: #808000\">content</span>=<span style=\"color: #008000; text-decoration-color: #008000\">'我生病了'</span><span style=\"font-weight: bold\">)</span>,\n",
       "        <span style=\"color: #800080; text-decoration-color: #800080; font-weight: bold\">AIMessage</span><span style=\"font-weight: bold\">(</span><span style=\"color: #808000; text-decoration-color: #808000\">content</span>=<span style=\"color: #008000; text-decoration-color: #008000\">'哪裡不舒服'</span><span style=\"font-weight: bold\">)</span>\n",
       "    <span style=\"font-weight: bold\">]</span>\n",
       "<span style=\"font-weight: bold\">)</span>\n",
       "</pre>\n"
      ],
      "text/plain": [
       "\u001b[1;35mChatPromptTemplate\u001b[0m\u001b[1m(\u001b[0m\n",
       "    \u001b[33minput_variables\u001b[0m=\u001b[1m[\u001b[0m\u001b[1m]\u001b[0m,\n",
       "    \u001b[33mmessages\u001b[0m=\u001b[1m[\u001b[0m\n",
       "        \u001b[1;35mSystemMessage\u001b[0m\u001b[1m(\u001b[0m\u001b[33mcontent\u001b[0m=\u001b[32m'你是一名醫生'\u001b[0m\u001b[1m)\u001b[0m,\n",
       "        \u001b[1;35mHumanMessage\u001b[0m\u001b[1m(\u001b[0m\u001b[33mcontent\u001b[0m=\u001b[32m'我生病了'\u001b[0m\u001b[1m)\u001b[0m,\n",
       "        \u001b[1;35mAIMessage\u001b[0m\u001b[1m(\u001b[0m\u001b[33mcontent\u001b[0m=\u001b[32m'哪裡不舒服'\u001b[0m\u001b[1m)\u001b[0m\n",
       "    \u001b[1m]\u001b[0m\n",
       "\u001b[1m)\u001b[0m\n"
      ]
     },
     "metadata": {},
     "output_type": "display_data"
    }
   ],
   "source": [
    "prompt1 = ChatPromptTemplate(messages=[SystemMessage(content=\"你是一名醫生\"), \n",
    "                                       HumanMessage(content=\"我生病了\"),\n",
    "                                       AIMessage(content=\"哪裡不舒服\")])\n",
    "pprint(prompt1)"
   ]
  },
  {
   "cell_type": "code",
   "execution_count": 33,
   "metadata": {
    "colab": {
     "base_uri": "https://localhost:8080/",
     "height": 153
    },
    "id": "YvfScDZ1N9k4",
    "outputId": "900f3301-1749-4f40-b61c-2764f4c2575f"
   },
   "outputs": [
    {
     "data": {
      "text/html": [
       "<pre style=\"white-space:pre;overflow-x:auto;line-height:normal;font-family:Menlo,'DejaVu Sans Mono',consolas,'Courier New',monospace\"><span style=\"color: #800080; text-decoration-color: #800080; font-weight: bold\">ChatPromptTemplate</span><span style=\"font-weight: bold\">(</span>\n",
       "    <span style=\"color: #808000; text-decoration-color: #808000\">input_variables</span>=<span style=\"font-weight: bold\">[]</span>,\n",
       "    <span style=\"color: #808000; text-decoration-color: #808000\">messages</span>=<span style=\"font-weight: bold\">[</span>\n",
       "        <span style=\"color: #800080; text-decoration-color: #800080; font-weight: bold\">SystemMessage</span><span style=\"font-weight: bold\">(</span><span style=\"color: #808000; text-decoration-color: #808000\">content</span>=<span style=\"color: #008000; text-decoration-color: #008000\">'你是一名醫生'</span><span style=\"font-weight: bold\">)</span>,\n",
       "        <span style=\"color: #800080; text-decoration-color: #800080; font-weight: bold\">HumanMessage</span><span style=\"font-weight: bold\">(</span><span style=\"color: #808000; text-decoration-color: #808000\">content</span>=<span style=\"color: #008000; text-decoration-color: #008000\">'我生病了'</span><span style=\"font-weight: bold\">)</span>,\n",
       "        <span style=\"color: #800080; text-decoration-color: #800080; font-weight: bold\">AIMessage</span><span style=\"font-weight: bold\">(</span><span style=\"color: #808000; text-decoration-color: #808000\">content</span>=<span style=\"color: #008000; text-decoration-color: #008000\">'哪裡不舒服'</span><span style=\"font-weight: bold\">)</span>\n",
       "    <span style=\"font-weight: bold\">]</span>\n",
       "<span style=\"font-weight: bold\">)</span>\n",
       "</pre>\n"
      ],
      "text/plain": [
       "\u001b[1;35mChatPromptTemplate\u001b[0m\u001b[1m(\u001b[0m\n",
       "    \u001b[33minput_variables\u001b[0m=\u001b[1m[\u001b[0m\u001b[1m]\u001b[0m,\n",
       "    \u001b[33mmessages\u001b[0m=\u001b[1m[\u001b[0m\n",
       "        \u001b[1;35mSystemMessage\u001b[0m\u001b[1m(\u001b[0m\u001b[33mcontent\u001b[0m=\u001b[32m'你是一名醫生'\u001b[0m\u001b[1m)\u001b[0m,\n",
       "        \u001b[1;35mHumanMessage\u001b[0m\u001b[1m(\u001b[0m\u001b[33mcontent\u001b[0m=\u001b[32m'我生病了'\u001b[0m\u001b[1m)\u001b[0m,\n",
       "        \u001b[1;35mAIMessage\u001b[0m\u001b[1m(\u001b[0m\u001b[33mcontent\u001b[0m=\u001b[32m'哪裡不舒服'\u001b[0m\u001b[1m)\u001b[0m\n",
       "    \u001b[1m]\u001b[0m\n",
       "\u001b[1m)\u001b[0m\n"
      ]
     },
     "metadata": {},
     "output_type": "display_data"
    }
   ],
   "source": [
    "prompt2 = SystemMessage(content=\"你是一名醫生\") + HumanMessage(content=\"我生病了\") + AIMessage(content=\"哪裡不舒服\")\n",
    "pprint(prompt2)"
   ]
  },
  {
   "cell_type": "code",
   "execution_count": 34,
   "metadata": {
    "colab": {
     "base_uri": "https://localhost:8080/"
    },
    "id": "KSSN5skph0Ig",
    "outputId": "7561eb23-7879-4bba-b3e2-a49b6c69ebd2"
   },
   "outputs": [
    {
     "name": "stdout",
     "output_type": "stream",
     "text": [
      "我很抱歉聽到你生病了。請描述一下你的症狀，這樣我才能更好地了解你的情況。如果你的症狀嚴重或持續存在，我建議你盡快就醫。\n",
      "我很抱歉聽到你生病了。請問你有哪些症狀？這樣我才能更好地為你提供一些建議。如果症狀嚴重，我強烈建議你立即就醫。\n"
     ]
    }
   ],
   "source": [
    "result1 = chat_model.invoke(prompt1.format_messages()).content\n",
    "result2 = chat_model.invoke(prompt2.format_messages()).content\n",
    "print(result1)\n",
    "print(result2)"
   ]
  },
  {
   "cell_type": "markdown",
   "metadata": {
    "id": "dIr6UuLSrG_E"
   },
   "source": [
    "用指定`SystemMessage`，`HumanMessage`以及`AIMessage`物件建立的`ChatPromptTemplate`物件當然也可以指定模板參數。"
   ]
  },
  {
   "cell_type": "code",
   "execution_count": 35,
   "metadata": {
    "colab": {
     "base_uri": "https://localhost:8080/",
     "height": 170
    },
    "id": "EMVxFyEl5gQB",
    "outputId": "f6cfd473-35ac-4ec5-ac86-25da05607a4d"
   },
   "outputs": [
    {
     "data": {
      "text/html": [
       "<pre style=\"white-space:pre;overflow-x:auto;line-height:normal;font-family:Menlo,'DejaVu Sans Mono',consolas,'Courier New',monospace\"><span style=\"color: #800080; text-decoration-color: #800080; font-weight: bold\">ChatPromptTemplate</span><span style=\"font-weight: bold\">(</span>\n",
       "    <span style=\"color: #808000; text-decoration-color: #808000\">input_variables</span>=<span style=\"font-weight: bold\">[</span><span style=\"color: #008000; text-decoration-color: #008000\">'input'</span><span style=\"font-weight: bold\">]</span>,\n",
       "    <span style=\"color: #808000; text-decoration-color: #808000\">messages</span>=<span style=\"font-weight: bold\">[</span>\n",
       "        <span style=\"color: #800080; text-decoration-color: #800080; font-weight: bold\">SystemMessage</span><span style=\"font-weight: bold\">(</span><span style=\"color: #808000; text-decoration-color: #808000\">content</span>=<span style=\"color: #008000; text-decoration-color: #008000\">'你是一名醫生'</span><span style=\"font-weight: bold\">)</span>,\n",
       "        <span style=\"color: #800080; text-decoration-color: #800080; font-weight: bold\">HumanMessage</span><span style=\"font-weight: bold\">(</span><span style=\"color: #808000; text-decoration-color: #808000\">content</span>=<span style=\"color: #008000; text-decoration-color: #008000\">'我生病了'</span><span style=\"font-weight: bold\">)</span>,\n",
       "        <span style=\"color: #800080; text-decoration-color: #800080; font-weight: bold\">AIMessage</span><span style=\"font-weight: bold\">(</span><span style=\"color: #808000; text-decoration-color: #808000\">content</span>=<span style=\"color: #008000; text-decoration-color: #008000\">'哪裡不舒服'</span><span style=\"font-weight: bold\">)</span>,\n",
       "        <span style=\"color: #800080; text-decoration-color: #800080; font-weight: bold\">HumanMessagePromptTemplate</span><span style=\"font-weight: bold\">(</span><span style=\"color: #808000; text-decoration-color: #808000\">prompt</span>=<span style=\"color: #800080; text-decoration-color: #800080; font-weight: bold\">PromptTemplate</span><span style=\"font-weight: bold\">(</span><span style=\"color: #808000; text-decoration-color: #808000\">input_variables</span>=<span style=\"font-weight: bold\">[</span><span style=\"color: #008000; text-decoration-color: #008000\">'input'</span><span style=\"font-weight: bold\">]</span>, <span style=\"color: #808000; text-decoration-color: #808000\">template</span>=<span style=\"color: #008000; text-decoration-color: #008000\">'{input}'</span><span style=\"font-weight: bold\">))</span>\n",
       "    <span style=\"font-weight: bold\">]</span>\n",
       "<span style=\"font-weight: bold\">)</span>\n",
       "</pre>\n"
      ],
      "text/plain": [
       "\u001b[1;35mChatPromptTemplate\u001b[0m\u001b[1m(\u001b[0m\n",
       "    \u001b[33minput_variables\u001b[0m=\u001b[1m[\u001b[0m\u001b[32m'input'\u001b[0m\u001b[1m]\u001b[0m,\n",
       "    \u001b[33mmessages\u001b[0m=\u001b[1m[\u001b[0m\n",
       "        \u001b[1;35mSystemMessage\u001b[0m\u001b[1m(\u001b[0m\u001b[33mcontent\u001b[0m=\u001b[32m'你是一名醫生'\u001b[0m\u001b[1m)\u001b[0m,\n",
       "        \u001b[1;35mHumanMessage\u001b[0m\u001b[1m(\u001b[0m\u001b[33mcontent\u001b[0m=\u001b[32m'我生病了'\u001b[0m\u001b[1m)\u001b[0m,\n",
       "        \u001b[1;35mAIMessage\u001b[0m\u001b[1m(\u001b[0m\u001b[33mcontent\u001b[0m=\u001b[32m'哪裡不舒服'\u001b[0m\u001b[1m)\u001b[0m,\n",
       "        \u001b[1;35mHumanMessagePromptTemplate\u001b[0m\u001b[1m(\u001b[0m\u001b[33mprompt\u001b[0m=\u001b[1;35mPromptTemplate\u001b[0m\u001b[1m(\u001b[0m\u001b[33minput_variables\u001b[0m=\u001b[1m[\u001b[0m\u001b[32m'input'\u001b[0m\u001b[1m]\u001b[0m, \u001b[33mtemplate\u001b[0m=\u001b[32m'\u001b[0m\u001b[32m{\u001b[0m\u001b[32minput\u001b[0m\u001b[32m}\u001b[0m\u001b[32m'\u001b[0m\u001b[1m)\u001b[0m\u001b[1m)\u001b[0m\n",
       "    \u001b[1m]\u001b[0m\n",
       "\u001b[1m)\u001b[0m\n"
      ]
     },
     "metadata": {},
     "output_type": "display_data"
    }
   ],
   "source": [
    "prompt = SystemMessage(content=\"你是一名醫生\") +\\\n",
    "         HumanMessage(content=\"我生病了\") +\\\n",
    "         AIMessage(content=\"哪裡不舒服\") +\\\n",
    "         HumanMessagePromptTemplate.from_template(\"{input}\")\n",
    "pprint(prompt)"
   ]
  },
  {
   "cell_type": "markdown",
   "metadata": {},
   "source": [
    "`HumanMessagePromptTemplate`可以直接省略成字串"
   ]
  },
  {
   "cell_type": "code",
   "execution_count": 36,
   "metadata": {
    "colab": {
     "base_uri": "https://localhost:8080/",
     "height": 170
    },
    "id": "iCDRftPR60ve",
    "outputId": "a9efb7fd-fe11-45d8-fa31-3834e0d3094b"
   },
   "outputs": [
    {
     "data": {
      "text/html": [
       "<pre style=\"white-space:pre;overflow-x:auto;line-height:normal;font-family:Menlo,'DejaVu Sans Mono',consolas,'Courier New',monospace\"><span style=\"color: #800080; text-decoration-color: #800080; font-weight: bold\">ChatPromptTemplate</span><span style=\"font-weight: bold\">(</span>\n",
       "    <span style=\"color: #808000; text-decoration-color: #808000\">input_variables</span>=<span style=\"font-weight: bold\">[</span><span style=\"color: #008000; text-decoration-color: #008000\">'input'</span><span style=\"font-weight: bold\">]</span>,\n",
       "    <span style=\"color: #808000; text-decoration-color: #808000\">messages</span>=<span style=\"font-weight: bold\">[</span>\n",
       "        <span style=\"color: #800080; text-decoration-color: #800080; font-weight: bold\">SystemMessage</span><span style=\"font-weight: bold\">(</span><span style=\"color: #808000; text-decoration-color: #808000\">content</span>=<span style=\"color: #008000; text-decoration-color: #008000\">'你是一名醫生'</span><span style=\"font-weight: bold\">)</span>,\n",
       "        <span style=\"color: #800080; text-decoration-color: #800080; font-weight: bold\">HumanMessage</span><span style=\"font-weight: bold\">(</span><span style=\"color: #808000; text-decoration-color: #808000\">content</span>=<span style=\"color: #008000; text-decoration-color: #008000\">'我生病了'</span><span style=\"font-weight: bold\">)</span>,\n",
       "        <span style=\"color: #800080; text-decoration-color: #800080; font-weight: bold\">AIMessage</span><span style=\"font-weight: bold\">(</span><span style=\"color: #808000; text-decoration-color: #808000\">content</span>=<span style=\"color: #008000; text-decoration-color: #008000\">'哪裡不舒服'</span><span style=\"font-weight: bold\">)</span>,\n",
       "        <span style=\"color: #800080; text-decoration-color: #800080; font-weight: bold\">HumanMessagePromptTemplate</span><span style=\"font-weight: bold\">(</span><span style=\"color: #808000; text-decoration-color: #808000\">prompt</span>=<span style=\"color: #800080; text-decoration-color: #800080; font-weight: bold\">PromptTemplate</span><span style=\"font-weight: bold\">(</span><span style=\"color: #808000; text-decoration-color: #808000\">input_variables</span>=<span style=\"font-weight: bold\">[</span><span style=\"color: #008000; text-decoration-color: #008000\">'input'</span><span style=\"font-weight: bold\">]</span>, <span style=\"color: #808000; text-decoration-color: #808000\">template</span>=<span style=\"color: #008000; text-decoration-color: #008000\">'{input}'</span><span style=\"font-weight: bold\">))</span>\n",
       "    <span style=\"font-weight: bold\">]</span>\n",
       "<span style=\"font-weight: bold\">)</span>\n",
       "</pre>\n"
      ],
      "text/plain": [
       "\u001b[1;35mChatPromptTemplate\u001b[0m\u001b[1m(\u001b[0m\n",
       "    \u001b[33minput_variables\u001b[0m=\u001b[1m[\u001b[0m\u001b[32m'input'\u001b[0m\u001b[1m]\u001b[0m,\n",
       "    \u001b[33mmessages\u001b[0m=\u001b[1m[\u001b[0m\n",
       "        \u001b[1;35mSystemMessage\u001b[0m\u001b[1m(\u001b[0m\u001b[33mcontent\u001b[0m=\u001b[32m'你是一名醫生'\u001b[0m\u001b[1m)\u001b[0m,\n",
       "        \u001b[1;35mHumanMessage\u001b[0m\u001b[1m(\u001b[0m\u001b[33mcontent\u001b[0m=\u001b[32m'我生病了'\u001b[0m\u001b[1m)\u001b[0m,\n",
       "        \u001b[1;35mAIMessage\u001b[0m\u001b[1m(\u001b[0m\u001b[33mcontent\u001b[0m=\u001b[32m'哪裡不舒服'\u001b[0m\u001b[1m)\u001b[0m,\n",
       "        \u001b[1;35mHumanMessagePromptTemplate\u001b[0m\u001b[1m(\u001b[0m\u001b[33mprompt\u001b[0m=\u001b[1;35mPromptTemplate\u001b[0m\u001b[1m(\u001b[0m\u001b[33minput_variables\u001b[0m=\u001b[1m[\u001b[0m\u001b[32m'input'\u001b[0m\u001b[1m]\u001b[0m, \u001b[33mtemplate\u001b[0m=\u001b[32m'\u001b[0m\u001b[32m{\u001b[0m\u001b[32minput\u001b[0m\u001b[32m}\u001b[0m\u001b[32m'\u001b[0m\u001b[1m)\u001b[0m\u001b[1m)\u001b[0m\n",
       "    \u001b[1m]\u001b[0m\n",
       "\u001b[1m)\u001b[0m\n"
      ]
     },
     "metadata": {},
     "output_type": "display_data"
    }
   ],
   "source": [
    "prompt = SystemMessage(content=\"你是一名醫生\") +\\\n",
    "         HumanMessage(content=\"我生病了\") +\\\n",
    "         AIMessage(content=\"哪裡不舒服\") +\\\n",
    "         \"{input}\"\n",
    "pprint(prompt)"
   ]
  },
  {
   "cell_type": "markdown",
   "metadata": {},
   "source": [
    "代入模板參數的方式也是使用`format_messages`方法"
   ]
  },
  {
   "cell_type": "code",
   "execution_count": 37,
   "metadata": {
    "colab": {
     "base_uri": "https://localhost:8080/",
     "height": 120
    },
    "id": "D4VR7mgx6isY",
    "outputId": "a1b52249-b7b7-4020-cb32-5de085787ac4"
   },
   "outputs": [
    {
     "data": {
      "text/html": [
       "<pre style=\"white-space:pre;overflow-x:auto;line-height:normal;font-family:Menlo,'DejaVu Sans Mono',consolas,'Courier New',monospace\"><span style=\"font-weight: bold\">[</span>\n",
       "    <span style=\"color: #800080; text-decoration-color: #800080; font-weight: bold\">SystemMessage</span><span style=\"font-weight: bold\">(</span><span style=\"color: #808000; text-decoration-color: #808000\">content</span>=<span style=\"color: #008000; text-decoration-color: #008000\">'你是一名醫生'</span><span style=\"font-weight: bold\">)</span>,\n",
       "    <span style=\"color: #800080; text-decoration-color: #800080; font-weight: bold\">HumanMessage</span><span style=\"font-weight: bold\">(</span><span style=\"color: #808000; text-decoration-color: #808000\">content</span>=<span style=\"color: #008000; text-decoration-color: #008000\">'我生病了'</span><span style=\"font-weight: bold\">)</span>,\n",
       "    <span style=\"color: #800080; text-decoration-color: #800080; font-weight: bold\">AIMessage</span><span style=\"font-weight: bold\">(</span><span style=\"color: #808000; text-decoration-color: #808000\">content</span>=<span style=\"color: #008000; text-decoration-color: #008000\">'哪裡不舒服'</span><span style=\"font-weight: bold\">)</span>,\n",
       "    <span style=\"color: #800080; text-decoration-color: #800080; font-weight: bold\">HumanMessage</span><span style=\"font-weight: bold\">(</span><span style=\"color: #808000; text-decoration-color: #808000\">content</span>=<span style=\"color: #008000; text-decoration-color: #008000\">'我烙賽'</span><span style=\"font-weight: bold\">)</span>\n",
       "<span style=\"font-weight: bold\">]</span>\n",
       "</pre>\n"
      ],
      "text/plain": [
       "\u001b[1m[\u001b[0m\n",
       "    \u001b[1;35mSystemMessage\u001b[0m\u001b[1m(\u001b[0m\u001b[33mcontent\u001b[0m=\u001b[32m'你是一名醫生'\u001b[0m\u001b[1m)\u001b[0m,\n",
       "    \u001b[1;35mHumanMessage\u001b[0m\u001b[1m(\u001b[0m\u001b[33mcontent\u001b[0m=\u001b[32m'我生病了'\u001b[0m\u001b[1m)\u001b[0m,\n",
       "    \u001b[1;35mAIMessage\u001b[0m\u001b[1m(\u001b[0m\u001b[33mcontent\u001b[0m=\u001b[32m'哪裡不舒服'\u001b[0m\u001b[1m)\u001b[0m,\n",
       "    \u001b[1;35mHumanMessage\u001b[0m\u001b[1m(\u001b[0m\u001b[33mcontent\u001b[0m=\u001b[32m'我烙賽'\u001b[0m\u001b[1m)\u001b[0m\n",
       "\u001b[1m]\u001b[0m\n"
      ]
     },
     "metadata": {},
     "output_type": "display_data"
    },
    {
     "name": "stdout",
     "output_type": "stream",
     "text": [
      "您說的「烙賽」可能是指感到非常累或不適吧？如果您能具體描述一下您的症狀，比如頭痛、發熱、肌肉疼痛、呼吸困難等，我可以提供一些基本的建議。不過，請記得最好是直接咨詢醫生進行面對面的診斷和治療。\n"
     ]
    }
   ],
   "source": [
    "input_prompt = prompt.format_messages(input=\"我烙賽\")\n",
    "pprint(input_prompt)\n",
    "print(chat_model.invoke(input_prompt).content)"
   ]
  },
  {
   "cell_type": "markdown",
   "metadata": {
    "id": "X8vR8403Edbs"
   },
   "source": [
    "## 2-3 提示模板的進階變化"
   ]
  },
  {
   "cell_type": "markdown",
   "metadata": {
    "id": "wRWdkcyhw_3l"
   },
   "source": [
    "### 1. 提示模板參數部分固定\n",
    "先建立一個有雙參數的prompt"
   ]
  },
  {
   "cell_type": "code",
   "execution_count": 38,
   "metadata": {
    "colab": {
     "base_uri": "https://localhost:8080/",
     "height": 34
    },
    "id": "QYbaHqwkHf1R",
    "outputId": "09e0b562-844b-496f-fd2e-992738f6a12e"
   },
   "outputs": [
    {
     "data": {
      "text/html": [
       "<pre style=\"white-space:pre;overflow-x:auto;line-height:normal;font-family:Menlo,'DejaVu Sans Mono',consolas,'Courier New',monospace\"><span style=\"color: #800080; text-decoration-color: #800080; font-weight: bold\">PromptTemplate</span><span style=\"font-weight: bold\">(</span><span style=\"color: #808000; text-decoration-color: #808000\">input_variables</span>=<span style=\"font-weight: bold\">[</span><span style=\"color: #008000; text-decoration-color: #008000\">'role'</span>, <span style=\"color: #008000; text-decoration-color: #008000\">'topic'</span><span style=\"font-weight: bold\">]</span>, <span style=\"color: #808000; text-decoration-color: #808000\">template</span>=<span style=\"color: #008000; text-decoration-color: #008000\">'試著以{role}的角度, 告訴我一個關於{topic}的知識'</span><span style=\"font-weight: bold\">)</span>\n",
       "</pre>\n"
      ],
      "text/plain": [
       "\u001b[1;35mPromptTemplate\u001b[0m\u001b[1m(\u001b[0m\u001b[33minput_variables\u001b[0m=\u001b[1m[\u001b[0m\u001b[32m'role'\u001b[0m, \u001b[32m'topic'\u001b[0m\u001b[1m]\u001b[0m, \u001b[33mtemplate\u001b[0m=\u001b[32m'試著以\u001b[0m\u001b[32m{\u001b[0m\u001b[32mrole\u001b[0m\u001b[32m}\u001b[0m\u001b[32m的角度, 告訴我一個關於\u001b[0m\u001b[32m{\u001b[0m\u001b[32mtopic\u001b[0m\u001b[32m}\u001b[0m\u001b[32m的知識'\u001b[0m\u001b[1m)\u001b[0m\n"
      ]
     },
     "metadata": {},
     "output_type": "display_data"
    }
   ],
   "source": [
    "prompt = PromptTemplate(template=\"試著以{role}的角度, 告訴我一個關於{topic}的知識\",\n",
    "                        input_variables=[\"role\", \"topic\"])\n",
    "pprint(prompt)"
   ]
  },
  {
   "cell_type": "markdown",
   "metadata": {},
   "source": [
    "使用`prompt.partial`可以產生其中一個參數固定的prompt"
   ]
  },
  {
   "cell_type": "code",
   "execution_count": 39,
   "metadata": {
    "colab": {
     "base_uri": "https://localhost:8080/",
     "height": 102
    },
    "id": "eKdWO8jAOH2q",
    "outputId": "cba84b24-c05d-44ec-9681-202a233c782d"
   },
   "outputs": [
    {
     "data": {
      "text/html": [
       "<pre style=\"white-space:pre;overflow-x:auto;line-height:normal;font-family:Menlo,'DejaVu Sans Mono',consolas,'Courier New',monospace\"><span style=\"color: #800080; text-decoration-color: #800080; font-weight: bold\">PromptTemplate</span><span style=\"font-weight: bold\">(</span>\n",
       "    <span style=\"color: #808000; text-decoration-color: #808000\">input_variables</span>=<span style=\"font-weight: bold\">[</span><span style=\"color: #008000; text-decoration-color: #008000\">'role'</span><span style=\"font-weight: bold\">]</span>,\n",
       "    <span style=\"color: #808000; text-decoration-color: #808000\">partial_variables</span>=<span style=\"font-weight: bold\">{</span><span style=\"color: #008000; text-decoration-color: #008000\">'topic'</span>: <span style=\"color: #008000; text-decoration-color: #008000\">'GPT2'</span><span style=\"font-weight: bold\">}</span>,\n",
       "    <span style=\"color: #808000; text-decoration-color: #808000\">template</span>=<span style=\"color: #008000; text-decoration-color: #008000\">'試著以{role}的角度, 告訴我一個關於{topic}的知識'</span>\n",
       "<span style=\"font-weight: bold\">)</span>\n",
       "</pre>\n"
      ],
      "text/plain": [
       "\u001b[1;35mPromptTemplate\u001b[0m\u001b[1m(\u001b[0m\n",
       "    \u001b[33minput_variables\u001b[0m=\u001b[1m[\u001b[0m\u001b[32m'role'\u001b[0m\u001b[1m]\u001b[0m,\n",
       "    \u001b[33mpartial_variables\u001b[0m=\u001b[1m{\u001b[0m\u001b[32m'topic'\u001b[0m: \u001b[32m'GPT2'\u001b[0m\u001b[1m}\u001b[0m,\n",
       "    \u001b[33mtemplate\u001b[0m=\u001b[32m'試著以\u001b[0m\u001b[32m{\u001b[0m\u001b[32mrole\u001b[0m\u001b[32m}\u001b[0m\u001b[32m的角度, 告訴我一個關於\u001b[0m\u001b[32m{\u001b[0m\u001b[32mtopic\u001b[0m\u001b[32m}\u001b[0m\u001b[32m的知識'\u001b[0m\n",
       "\u001b[1m)\u001b[0m\n"
      ]
     },
     "metadata": {},
     "output_type": "display_data"
    }
   ],
   "source": [
    "partial_prompt1 = prompt.partial(topic=\"GPT2\")\n",
    "pprint(partial_prompt1)"
   ]
  },
  {
   "cell_type": "markdown",
   "metadata": {},
   "source": [
    "也可以使用`PromptTemplate`產生partial prompt"
   ]
  },
  {
   "cell_type": "code",
   "execution_count": 40,
   "metadata": {
    "colab": {
     "base_uri": "https://localhost:8080/",
     "height": 102
    },
    "id": "ckso4xOe0rx-",
    "outputId": "35b74421-57f0-475d-b93b-a3f0e2fe45c2"
   },
   "outputs": [
    {
     "data": {
      "text/html": [
       "<pre style=\"white-space:pre;overflow-x:auto;line-height:normal;font-family:Menlo,'DejaVu Sans Mono',consolas,'Courier New',monospace\"><span style=\"color: #800080; text-decoration-color: #800080; font-weight: bold\">PromptTemplate</span><span style=\"font-weight: bold\">(</span>\n",
       "    <span style=\"color: #808000; text-decoration-color: #808000\">input_variables</span>=<span style=\"font-weight: bold\">[</span><span style=\"color: #008000; text-decoration-color: #008000\">'role'</span><span style=\"font-weight: bold\">]</span>,\n",
       "    <span style=\"color: #808000; text-decoration-color: #808000\">partial_variables</span>=<span style=\"font-weight: bold\">{</span><span style=\"color: #008000; text-decoration-color: #008000\">'topic'</span>: <span style=\"color: #008000; text-decoration-color: #008000\">'GPT2'</span><span style=\"font-weight: bold\">}</span>,\n",
       "    <span style=\"color: #808000; text-decoration-color: #808000\">template</span>=<span style=\"color: #008000; text-decoration-color: #008000\">'試著以{role}的角度, 告訴我一個關於{topic}的知識'</span>\n",
       "<span style=\"font-weight: bold\">)</span>\n",
       "</pre>\n"
      ],
      "text/plain": [
       "\u001b[1;35mPromptTemplate\u001b[0m\u001b[1m(\u001b[0m\n",
       "    \u001b[33minput_variables\u001b[0m=\u001b[1m[\u001b[0m\u001b[32m'role'\u001b[0m\u001b[1m]\u001b[0m,\n",
       "    \u001b[33mpartial_variables\u001b[0m=\u001b[1m{\u001b[0m\u001b[32m'topic'\u001b[0m: \u001b[32m'GPT2'\u001b[0m\u001b[1m}\u001b[0m,\n",
       "    \u001b[33mtemplate\u001b[0m=\u001b[32m'試著以\u001b[0m\u001b[32m{\u001b[0m\u001b[32mrole\u001b[0m\u001b[32m}\u001b[0m\u001b[32m的角度, 告訴我一個關於\u001b[0m\u001b[32m{\u001b[0m\u001b[32mtopic\u001b[0m\u001b[32m}\u001b[0m\u001b[32m的知識'\u001b[0m\n",
       "\u001b[1m)\u001b[0m\n"
      ]
     },
     "metadata": {},
     "output_type": "display_data"
    }
   ],
   "source": [
    "partial_prompt2 = PromptTemplate(template=\"試著以{role}的角度, 告訴我一個關於{topic}的知識\",\n",
    "                                 input_variables=[\"role\"],\n",
    "                                 partial_variables={\"topic\":\"GPT2\"})\n",
    "pprint(partial_prompt2)"
   ]
  },
  {
   "cell_type": "markdown",
   "metadata": {},
   "source": [
    "同樣利用`format`傳入參數"
   ]
  },
  {
   "cell_type": "code",
   "execution_count": 41,
   "metadata": {
    "colab": {
     "base_uri": "https://localhost:8080/"
    },
    "id": "85bXy2EjOGRH",
    "outputId": "ed9422e2-3213-4344-bbb8-9ef9855c5276"
   },
   "outputs": [
    {
     "name": "stdout",
     "output_type": "stream",
     "text": [
      "試著以國中老師對國中學生的角度, 告訴我一個關於GPT2的知識\n"
     ]
    }
   ],
   "source": [
    "print(partial_prompt2.format(role=\"國中老師對國中學生\"))"
   ]
  },
  {
   "cell_type": "markdown",
   "metadata": {},
   "source": [
    "來看看兩者的差異"
   ]
  },
  {
   "cell_type": "markdown",
   "metadata": {
    "id": "VT9igfbOuO7E"
   },
   "source": [
    "### 2. `ChatPromptTemplate`模板參數部分固定\n",
    "先建立一個`ChatPromptTemplate`物件"
   ]
  },
  {
   "cell_type": "code",
   "execution_count": 42,
   "metadata": {
    "colab": {
     "base_uri": "https://localhost:8080/",
     "height": 202
    },
    "id": "U_BPuiueGoGp",
    "outputId": "345473f3-f58d-4253-c367-f9ebf2bc5df9"
   },
   "outputs": [
    {
     "data": {
      "text/html": [
       "<pre style=\"white-space:pre;overflow-x:auto;line-height:normal;font-family:Menlo,'DejaVu Sans Mono',consolas,'Courier New',monospace\"><span style=\"color: #800080; text-decoration-color: #800080; font-weight: bold\">ChatPromptTemplate</span><span style=\"font-weight: bold\">(</span>\n",
       "    <span style=\"color: #808000; text-decoration-color: #808000\">input_variables</span>=<span style=\"font-weight: bold\">[</span><span style=\"color: #008000; text-decoration-color: #008000\">'role'</span>, <span style=\"color: #008000; text-decoration-color: #008000\">'topic'</span><span style=\"font-weight: bold\">]</span>,\n",
       "    <span style=\"color: #808000; text-decoration-color: #808000\">messages</span>=<span style=\"font-weight: bold\">[</span>\n",
       "        <span style=\"color: #800080; text-decoration-color: #800080; font-weight: bold\">SystemMessagePromptTemplate</span><span style=\"font-weight: bold\">(</span>\n",
       "            <span style=\"color: #808000; text-decoration-color: #808000\">prompt</span>=<span style=\"color: #800080; text-decoration-color: #800080; font-weight: bold\">PromptTemplate</span><span style=\"font-weight: bold\">(</span><span style=\"color: #808000; text-decoration-color: #808000\">input_variables</span>=<span style=\"font-weight: bold\">[</span><span style=\"color: #008000; text-decoration-color: #008000\">'role'</span><span style=\"font-weight: bold\">]</span>, <span style=\"color: #808000; text-decoration-color: #808000\">template</span>=<span style=\"color: #008000; text-decoration-color: #008000\">'試著以{role}的角度說明'</span><span style=\"font-weight: bold\">)</span>\n",
       "        <span style=\"font-weight: bold\">)</span>,\n",
       "        <span style=\"color: #800080; text-decoration-color: #800080; font-weight: bold\">HumanMessagePromptTemplate</span><span style=\"font-weight: bold\">(</span>\n",
       "            <span style=\"color: #808000; text-decoration-color: #808000\">prompt</span>=<span style=\"color: #800080; text-decoration-color: #800080; font-weight: bold\">PromptTemplate</span><span style=\"font-weight: bold\">(</span><span style=\"color: #808000; text-decoration-color: #808000\">input_variables</span>=<span style=\"font-weight: bold\">[</span><span style=\"color: #008000; text-decoration-color: #008000\">'topic'</span><span style=\"font-weight: bold\">]</span>, <span style=\"color: #808000; text-decoration-color: #808000\">template</span>=<span style=\"color: #008000; text-decoration-color: #008000\">'告訴我一個關於{topic}的知識'</span><span style=\"font-weight: bold\">)</span>\n",
       "        <span style=\"font-weight: bold\">)</span>\n",
       "    <span style=\"font-weight: bold\">]</span>\n",
       "<span style=\"font-weight: bold\">)</span>\n",
       "</pre>\n"
      ],
      "text/plain": [
       "\u001b[1;35mChatPromptTemplate\u001b[0m\u001b[1m(\u001b[0m\n",
       "    \u001b[33minput_variables\u001b[0m=\u001b[1m[\u001b[0m\u001b[32m'role'\u001b[0m, \u001b[32m'topic'\u001b[0m\u001b[1m]\u001b[0m,\n",
       "    \u001b[33mmessages\u001b[0m=\u001b[1m[\u001b[0m\n",
       "        \u001b[1;35mSystemMessagePromptTemplate\u001b[0m\u001b[1m(\u001b[0m\n",
       "            \u001b[33mprompt\u001b[0m=\u001b[1;35mPromptTemplate\u001b[0m\u001b[1m(\u001b[0m\u001b[33minput_variables\u001b[0m=\u001b[1m[\u001b[0m\u001b[32m'role'\u001b[0m\u001b[1m]\u001b[0m, \u001b[33mtemplate\u001b[0m=\u001b[32m'試著以\u001b[0m\u001b[32m{\u001b[0m\u001b[32mrole\u001b[0m\u001b[32m}\u001b[0m\u001b[32m的角度說明'\u001b[0m\u001b[1m)\u001b[0m\n",
       "        \u001b[1m)\u001b[0m,\n",
       "        \u001b[1;35mHumanMessagePromptTemplate\u001b[0m\u001b[1m(\u001b[0m\n",
       "            \u001b[33mprompt\u001b[0m=\u001b[1;35mPromptTemplate\u001b[0m\u001b[1m(\u001b[0m\u001b[33minput_variables\u001b[0m=\u001b[1m[\u001b[0m\u001b[32m'topic'\u001b[0m\u001b[1m]\u001b[0m, \u001b[33mtemplate\u001b[0m=\u001b[32m'告訴我一個關於\u001b[0m\u001b[32m{\u001b[0m\u001b[32mtopic\u001b[0m\u001b[32m}\u001b[0m\u001b[32m的知識'\u001b[0m\u001b[1m)\u001b[0m\n",
       "        \u001b[1m)\u001b[0m\n",
       "    \u001b[1m]\u001b[0m\n",
       "\u001b[1m)\u001b[0m\n"
      ]
     },
     "metadata": {},
     "output_type": "display_data"
    }
   ],
   "source": [
    "chat_template = ChatPromptTemplate.from_messages([(\"system\", \"試著以{role}的角度說明\"),\n",
    "                                                  (\"human\", \"告訴我一個關於{topic}的知識\")])\n",
    "pprint(chat_template)"
   ]
  },
  {
   "cell_type": "markdown",
   "metadata": {},
   "source": [
    "使用`partial`固定其中一個變數，再用`format_messages`傳入另一個變數"
   ]
  },
  {
   "cell_type": "code",
   "execution_count": 43,
   "metadata": {
    "colab": {
     "base_uri": "https://localhost:8080/",
     "height": 220
    },
    "id": "HpWN1VKqf5zc",
    "outputId": "a8721953-45e7-47f2-fbbe-7e09b0b5445d"
   },
   "outputs": [
    {
     "data": {
      "text/html": [
       "<pre style=\"white-space:pre;overflow-x:auto;line-height:normal;font-family:Menlo,'DejaVu Sans Mono',consolas,'Courier New',monospace\"><span style=\"color: #800080; text-decoration-color: #800080; font-weight: bold\">ChatPromptTemplate</span><span style=\"font-weight: bold\">(</span>\n",
       "    <span style=\"color: #808000; text-decoration-color: #808000\">input_variables</span>=<span style=\"font-weight: bold\">[</span><span style=\"color: #008000; text-decoration-color: #008000\">'role'</span><span style=\"font-weight: bold\">]</span>,\n",
       "    <span style=\"color: #808000; text-decoration-color: #808000\">partial_variables</span>=<span style=\"font-weight: bold\">{</span><span style=\"color: #008000; text-decoration-color: #008000\">'topic'</span>: <span style=\"color: #008000; text-decoration-color: #008000\">'GPT2'</span><span style=\"font-weight: bold\">}</span>,\n",
       "    <span style=\"color: #808000; text-decoration-color: #808000\">messages</span>=<span style=\"font-weight: bold\">[</span>\n",
       "        <span style=\"color: #800080; text-decoration-color: #800080; font-weight: bold\">SystemMessagePromptTemplate</span><span style=\"font-weight: bold\">(</span>\n",
       "            <span style=\"color: #808000; text-decoration-color: #808000\">prompt</span>=<span style=\"color: #800080; text-decoration-color: #800080; font-weight: bold\">PromptTemplate</span><span style=\"font-weight: bold\">(</span><span style=\"color: #808000; text-decoration-color: #808000\">input_variables</span>=<span style=\"font-weight: bold\">[</span><span style=\"color: #008000; text-decoration-color: #008000\">'role'</span><span style=\"font-weight: bold\">]</span>, <span style=\"color: #808000; text-decoration-color: #808000\">template</span>=<span style=\"color: #008000; text-decoration-color: #008000\">'試著以{role}的角度說明'</span><span style=\"font-weight: bold\">)</span>\n",
       "        <span style=\"font-weight: bold\">)</span>,\n",
       "        <span style=\"color: #800080; text-decoration-color: #800080; font-weight: bold\">HumanMessagePromptTemplate</span><span style=\"font-weight: bold\">(</span>\n",
       "            <span style=\"color: #808000; text-decoration-color: #808000\">prompt</span>=<span style=\"color: #800080; text-decoration-color: #800080; font-weight: bold\">PromptTemplate</span><span style=\"font-weight: bold\">(</span><span style=\"color: #808000; text-decoration-color: #808000\">input_variables</span>=<span style=\"font-weight: bold\">[</span><span style=\"color: #008000; text-decoration-color: #008000\">'topic'</span><span style=\"font-weight: bold\">]</span>, <span style=\"color: #808000; text-decoration-color: #808000\">template</span>=<span style=\"color: #008000; text-decoration-color: #008000\">'告訴我一個關於{topic}的知識'</span><span style=\"font-weight: bold\">)</span>\n",
       "        <span style=\"font-weight: bold\">)</span>\n",
       "    <span style=\"font-weight: bold\">]</span>\n",
       "<span style=\"font-weight: bold\">)</span>\n",
       "</pre>\n"
      ],
      "text/plain": [
       "\u001b[1;35mChatPromptTemplate\u001b[0m\u001b[1m(\u001b[0m\n",
       "    \u001b[33minput_variables\u001b[0m=\u001b[1m[\u001b[0m\u001b[32m'role'\u001b[0m\u001b[1m]\u001b[0m,\n",
       "    \u001b[33mpartial_variables\u001b[0m=\u001b[1m{\u001b[0m\u001b[32m'topic'\u001b[0m: \u001b[32m'GPT2'\u001b[0m\u001b[1m}\u001b[0m,\n",
       "    \u001b[33mmessages\u001b[0m=\u001b[1m[\u001b[0m\n",
       "        \u001b[1;35mSystemMessagePromptTemplate\u001b[0m\u001b[1m(\u001b[0m\n",
       "            \u001b[33mprompt\u001b[0m=\u001b[1;35mPromptTemplate\u001b[0m\u001b[1m(\u001b[0m\u001b[33minput_variables\u001b[0m=\u001b[1m[\u001b[0m\u001b[32m'role'\u001b[0m\u001b[1m]\u001b[0m, \u001b[33mtemplate\u001b[0m=\u001b[32m'試著以\u001b[0m\u001b[32m{\u001b[0m\u001b[32mrole\u001b[0m\u001b[32m}\u001b[0m\u001b[32m的角度說明'\u001b[0m\u001b[1m)\u001b[0m\n",
       "        \u001b[1m)\u001b[0m,\n",
       "        \u001b[1;35mHumanMessagePromptTemplate\u001b[0m\u001b[1m(\u001b[0m\n",
       "            \u001b[33mprompt\u001b[0m=\u001b[1;35mPromptTemplate\u001b[0m\u001b[1m(\u001b[0m\u001b[33minput_variables\u001b[0m=\u001b[1m[\u001b[0m\u001b[32m'topic'\u001b[0m\u001b[1m]\u001b[0m, \u001b[33mtemplate\u001b[0m=\u001b[32m'告訴我一個關於\u001b[0m\u001b[32m{\u001b[0m\u001b[32mtopic\u001b[0m\u001b[32m}\u001b[0m\u001b[32m的知識'\u001b[0m\u001b[1m)\u001b[0m\n",
       "        \u001b[1m)\u001b[0m\n",
       "    \u001b[1m]\u001b[0m\n",
       "\u001b[1m)\u001b[0m\n"
      ]
     },
     "metadata": {},
     "output_type": "display_data"
    }
   ],
   "source": [
    "chat_partial_prompt = chat_template.partial(topic=\"GPT2\")\n",
    "pprint(chat_partial_prompt)"
   ]
  },
  {
   "cell_type": "code",
   "execution_count": 44,
   "metadata": {
    "colab": {
     "base_uri": "https://localhost:8080/",
     "height": 34
    },
    "id": "hKmJ6yU-gP2a",
    "outputId": "9518734a-d7a1-43e0-9dcf-44d92dd242a5"
   },
   "outputs": [
    {
     "data": {
      "text/html": [
       "<pre style=\"white-space:pre;overflow-x:auto;line-height:normal;font-family:Menlo,'DejaVu Sans Mono',consolas,'Courier New',monospace\"><span style=\"font-weight: bold\">[</span><span style=\"color: #800080; text-decoration-color: #800080; font-weight: bold\">SystemMessage</span><span style=\"font-weight: bold\">(</span><span style=\"color: #808000; text-decoration-color: #808000\">content</span>=<span style=\"color: #008000; text-decoration-color: #008000\">'試著以國中老師對國中學生的角度說明'</span><span style=\"font-weight: bold\">)</span>, <span style=\"color: #800080; text-decoration-color: #800080; font-weight: bold\">HumanMessage</span><span style=\"font-weight: bold\">(</span><span style=\"color: #808000; text-decoration-color: #808000\">content</span>=<span style=\"color: #008000; text-decoration-color: #008000\">'告訴我一個關於GPT2的知識'</span><span style=\"font-weight: bold\">)]</span>\n",
       "</pre>\n"
      ],
      "text/plain": [
       "\u001b[1m[\u001b[0m\u001b[1;35mSystemMessage\u001b[0m\u001b[1m(\u001b[0m\u001b[33mcontent\u001b[0m=\u001b[32m'試著以國中老師對國中學生的角度說明'\u001b[0m\u001b[1m)\u001b[0m, \u001b[1;35mHumanMessage\u001b[0m\u001b[1m(\u001b[0m\u001b[33mcontent\u001b[0m=\u001b[32m'告訴我一個關於GPT2的知識'\u001b[0m\u001b[1m)\u001b[0m\u001b[1m]\u001b[0m\n"
      ]
     },
     "metadata": {},
     "output_type": "display_data"
    }
   ],
   "source": [
    "pprint(chat_partial_prompt.format_messages(role=\"國中老師對國中學生\"))"
   ]
  },
  {
   "cell_type": "markdown",
   "metadata": {
    "id": "heWd7IOyxBiu"
   },
   "source": [
    "### 3. 提示模板加上函式\n",
    "如果prompt中的參數是另一個（比方說用Python寫的）函式的回傳值，要怎麼辦呢？此處以問LLM現在時間為例"
   ]
  },
  {
   "cell_type": "code",
   "execution_count": 45,
   "metadata": {
    "colab": {
     "base_uri": "https://localhost:8080/"
    },
    "id": "CgPH0sukOJLM",
    "outputId": "ecf0c9e1-963a-4a6c-a4dd-9abfe79f95bc"
   },
   "outputs": [
    {
     "name": "stdout",
     "output_type": "stream",
     "text": [
      "2024/08/02, 23:08:41\n"
     ]
    }
   ],
   "source": [
    "def get_datetime():\n",
    "    now = datetime.now(timezone)\n",
    "    return now.strftime(\"%Y/%m/%d, %H:%M:%S\")\n",
    "print(get_datetime())"
   ]
  },
  {
   "cell_type": "markdown",
   "metadata": {},
   "source": [
    "我們可以使用`partial`方法將`date`固定為`get_datetime`的回傳值"
   ]
  },
  {
   "cell_type": "code",
   "execution_count": 46,
   "metadata": {
    "colab": {
     "base_uri": "https://localhost:8080/",
     "height": 101
    },
    "id": "cNMFhVkkONkL",
    "outputId": "38a8f858-7035-4e6f-ad2d-a5c7f19a7d8b"
   },
   "outputs": [
    {
     "data": {
      "text/html": [
       "<pre style=\"white-space:pre;overflow-x:auto;line-height:normal;font-family:Menlo,'DejaVu Sans Mono',consolas,'Courier New',monospace\"><span style=\"color: #800080; text-decoration-color: #800080; font-weight: bold\">PromptTemplate</span><span style=\"font-weight: bold\">(</span>\n",
       "    <span style=\"color: #808000; text-decoration-color: #808000\">input_variables</span>=<span style=\"font-weight: bold\">[]</span>,\n",
       "    <span style=\"color: #808000; text-decoration-color: #808000\">partial_variables</span>=<span style=\"font-weight: bold\">{</span><span style=\"color: #008000; text-decoration-color: #008000\">'date'</span>: <span style=\"font-weight: bold\">&lt;</span><span style=\"color: #ff00ff; text-decoration-color: #ff00ff; font-weight: bold\">function</span><span style=\"color: #000000; text-decoration-color: #000000\"> get_datetime at </span><span style=\"color: #008080; text-decoration-color: #008080; font-weight: bold\">0x7610504da700</span><span style=\"font-weight: bold\">&gt;}</span>,\n",
       "    <span style=\"color: #808000; text-decoration-color: #808000\">template</span>=<span style=\"color: #008000; text-decoration-color: #008000\">'現在時間是：{date}'</span>\n",
       "<span style=\"font-weight: bold\">)</span>\n",
       "</pre>\n"
      ],
      "text/plain": [
       "\u001b[1;35mPromptTemplate\u001b[0m\u001b[1m(\u001b[0m\n",
       "    \u001b[33minput_variables\u001b[0m=\u001b[1m[\u001b[0m\u001b[1m]\u001b[0m,\n",
       "    \u001b[33mpartial_variables\u001b[0m=\u001b[1m{\u001b[0m\u001b[32m'date'\u001b[0m: \u001b[1m<\u001b[0m\u001b[1;95mfunction\u001b[0m\u001b[39m get_datetime at \u001b[0m\u001b[1;36m0x7610504da700\u001b[0m\u001b[1m>\u001b[0m\u001b[1m}\u001b[0m,\n",
       "    \u001b[33mtemplate\u001b[0m=\u001b[32m'現在時間是：\u001b[0m\u001b[32m{\u001b[0m\u001b[32mdate\u001b[0m\u001b[32m}\u001b[0m\u001b[32m'\u001b[0m\n",
       "\u001b[1m)\u001b[0m\n"
      ]
     },
     "metadata": {},
     "output_type": "display_data"
    }
   ],
   "source": [
    "prompt = PromptTemplate.from_template(\"現在時間是：{date}\")\n",
    "partial_prompt = prompt.partial(date=get_datetime)\n",
    "pprint(partial_prompt)"
   ]
  },
  {
   "cell_type": "code",
   "execution_count": 47,
   "metadata": {
    "colab": {
     "base_uri": "https://localhost:8080/",
     "height": 34
    },
    "id": "U_J50FQAyxyJ",
    "outputId": "612eb20f-0364-4ba4-86e4-8e7c0b64c27b"
   },
   "outputs": [
    {
     "data": {
      "text/html": [
       "<pre style=\"white-space:pre;overflow-x:auto;line-height:normal;font-family:Menlo,'DejaVu Sans Mono',consolas,'Courier New',monospace\">現在時間是：<span style=\"color: #008080; text-decoration-color: #008080; font-weight: bold\">2024</span>/<span style=\"color: #008080; text-decoration-color: #008080; font-weight: bold\">08</span>/<span style=\"color: #008080; text-decoration-color: #008080; font-weight: bold\">02</span>, <span style=\"color: #00ff00; text-decoration-color: #00ff00; font-weight: bold\">23:08:41</span>\n",
       "</pre>\n"
      ],
      "text/plain": [
       "現在時間是：\u001b[1;36m2024\u001b[0m/\u001b[1;36m08\u001b[0m/\u001b[1;36m02\u001b[0m, \u001b[1;92m23:08:41\u001b[0m\n"
      ]
     },
     "metadata": {},
     "output_type": "display_data"
    }
   ],
   "source": [
    "pprint(partial_prompt.format())"
   ]
  },
  {
   "cell_type": "markdown",
   "metadata": {
    "id": "1JLa4mGVdfb5"
   },
   "source": [
    "### 4. 提示模板插入訊息\n",
    "使用`MessagesPlaceholder`物件，我們可以在`ChatPromptTemplate`中建立「內容是一串對話」的變數。例如下列例子中，在`chat_prompt`除了有用之前的方法定義的變數`word_count`外，我們還使用`MessagesPlaceholder`建立了`conversation`變數。之後這個`conversation`變數可以代入一串由`AIMessage`, `HumanMessage`, `SystemMessage`等形成的串列。"
   ]
  },
  {
   "cell_type": "code",
   "execution_count": 48,
   "metadata": {
    "colab": {
     "base_uri": "https://localhost:8080/",
     "height": 319
    },
    "id": "N4_doMxx5-CR",
    "outputId": "e0c871fa-89a0-49da-9a66-a9aff8b710ba"
   },
   "outputs": [
    {
     "data": {
      "text/html": [
       "<pre style=\"white-space:pre;overflow-x:auto;line-height:normal;font-family:Menlo,'DejaVu Sans Mono',consolas,'Courier New',monospace\"><span style=\"color: #800080; text-decoration-color: #800080; font-weight: bold\">ChatPromptTemplate</span><span style=\"font-weight: bold\">(</span>\n",
       "    <span style=\"color: #808000; text-decoration-color: #808000\">input_variables</span>=<span style=\"font-weight: bold\">[</span><span style=\"color: #008000; text-decoration-color: #008000\">'conversation'</span>, <span style=\"color: #008000; text-decoration-color: #008000\">'word_count'</span><span style=\"font-weight: bold\">]</span>,\n",
       "    <span style=\"color: #808000; text-decoration-color: #808000\">input_types</span>=<span style=\"font-weight: bold\">{</span>\n",
       "        <span style=\"color: #008000; text-decoration-color: #008000\">'conversation'</span>: typing.List<span style=\"font-weight: bold\">[</span>typing.Union<span style=\"font-weight: bold\">[</span>langchain_core.messages.ai.AIMessage, \n",
       "langchain_core.messages.human.HumanMessage, langchain_core.messages.chat.ChatMessage, \n",
       "langchain_core.messages.system.SystemMessage, langchain_core.messages.function.FunctionMessage, \n",
       "langchain_core.messages.tool.ToolMessage<span style=\"font-weight: bold\">]]</span>\n",
       "    <span style=\"font-weight: bold\">}</span>,\n",
       "    <span style=\"color: #808000; text-decoration-color: #808000\">messages</span>=<span style=\"font-weight: bold\">[</span>\n",
       "        <span style=\"color: #800080; text-decoration-color: #800080; font-weight: bold\">MessagesPlaceholder</span><span style=\"font-weight: bold\">(</span><span style=\"color: #808000; text-decoration-color: #808000\">variable_name</span>=<span style=\"color: #008000; text-decoration-color: #008000\">'conversation'</span><span style=\"font-weight: bold\">)</span>,\n",
       "        <span style=\"color: #800080; text-decoration-color: #800080; font-weight: bold\">HumanMessagePromptTemplate</span><span style=\"font-weight: bold\">(</span>\n",
       "            <span style=\"color: #808000; text-decoration-color: #808000\">prompt</span>=<span style=\"color: #800080; text-decoration-color: #800080; font-weight: bold\">PromptTemplate</span><span style=\"font-weight: bold\">(</span>\n",
       "                <span style=\"color: #808000; text-decoration-color: #808000\">input_variables</span>=<span style=\"font-weight: bold\">[</span><span style=\"color: #008000; text-decoration-color: #008000\">'word_count'</span><span style=\"font-weight: bold\">]</span>,\n",
       "                <span style=\"color: #808000; text-decoration-color: #808000\">template</span>=<span style=\"color: #008000; text-decoration-color: #008000\">'用 {word_count} 個字總結我們迄今為止的對話'</span>\n",
       "            <span style=\"font-weight: bold\">)</span>\n",
       "        <span style=\"font-weight: bold\">)</span>\n",
       "    <span style=\"font-weight: bold\">]</span>\n",
       "<span style=\"font-weight: bold\">)</span>\n",
       "</pre>\n"
      ],
      "text/plain": [
       "\u001b[1;35mChatPromptTemplate\u001b[0m\u001b[1m(\u001b[0m\n",
       "    \u001b[33minput_variables\u001b[0m=\u001b[1m[\u001b[0m\u001b[32m'conversation'\u001b[0m, \u001b[32m'word_count'\u001b[0m\u001b[1m]\u001b[0m,\n",
       "    \u001b[33minput_types\u001b[0m=\u001b[1m{\u001b[0m\n",
       "        \u001b[32m'conversation'\u001b[0m: typing.List\u001b[1m[\u001b[0mtyping.Union\u001b[1m[\u001b[0mlangchain_core.messages.ai.AIMessage, \n",
       "langchain_core.messages.human.HumanMessage, langchain_core.messages.chat.ChatMessage, \n",
       "langchain_core.messages.system.SystemMessage, langchain_core.messages.function.FunctionMessage, \n",
       "langchain_core.messages.tool.ToolMessage\u001b[1m]\u001b[0m\u001b[1m]\u001b[0m\n",
       "    \u001b[1m}\u001b[0m,\n",
       "    \u001b[33mmessages\u001b[0m=\u001b[1m[\u001b[0m\n",
       "        \u001b[1;35mMessagesPlaceholder\u001b[0m\u001b[1m(\u001b[0m\u001b[33mvariable_name\u001b[0m=\u001b[32m'conversation'\u001b[0m\u001b[1m)\u001b[0m,\n",
       "        \u001b[1;35mHumanMessagePromptTemplate\u001b[0m\u001b[1m(\u001b[0m\n",
       "            \u001b[33mprompt\u001b[0m=\u001b[1;35mPromptTemplate\u001b[0m\u001b[1m(\u001b[0m\n",
       "                \u001b[33minput_variables\u001b[0m=\u001b[1m[\u001b[0m\u001b[32m'word_count'\u001b[0m\u001b[1m]\u001b[0m,\n",
       "                \u001b[33mtemplate\u001b[0m=\u001b[32m'用 \u001b[0m\u001b[32m{\u001b[0m\u001b[32mword_count\u001b[0m\u001b[32m}\u001b[0m\u001b[32m 個字總結我們迄今為止的對話'\u001b[0m\n",
       "            \u001b[1m)\u001b[0m\n",
       "        \u001b[1m)\u001b[0m\n",
       "    \u001b[1m]\u001b[0m\n",
       "\u001b[1m)\u001b[0m\n"
      ]
     },
     "metadata": {},
     "output_type": "display_data"
    }
   ],
   "source": [
    "human_prompt = \"用 {word_count} 個字總結我們迄今為止的對話\"\n",
    "human_message_template = HumanMessagePromptTemplate.from_template(human_prompt)\n",
    "chat_prompt = ChatPromptTemplate.from_messages([MessagesPlaceholder(variable_name=\"conversation\"),\n",
    "                                                human_message_template])\n",
    "pprint(chat_prompt)"
   ]
  },
  {
   "cell_type": "code",
   "execution_count": 49,
   "metadata": {},
   "outputs": [],
   "source": [
    "text = \"\"\"\n",
    "真是會虛情假意呢\n",
    "想演奏是你們的自由，你們就請便吧\n",
    "到現在都還執著於過去，真難看\n",
    "你也差不多該忘記了吧\n",
    "那麼那個樂團算什麼\n",
    "你講的話和做的事全都互相矛盾\n",
    "CRYCHIC已經毀了\n",
    "絕對不可能再復活了\n",
    "我已經親手將它結束了\n",
    "沒有人那樣拜托你\n",
    "這是最後的警告\n",
    "今後不要再和我扯上關係了\n",
    "你是抱著多大的覺悟說出這種話的\n",
    "你只不過是一個學生，有辦法背負其他人的人生嗎\n",
    "“什麼都願意做”就是這麼沉重的話\n",
    "做不來的事就別輕易說出口\n",
    "你這個人，滿腦子都只想到自己呢\n",
    "\"\"\""
   ]
  },
  {
   "cell_type": "markdown",
   "metadata": {},
   "source": [
    "使用`format_prompt`代入參數"
   ]
  },
  {
   "cell_type": "code",
   "execution_count": 50,
   "metadata": {
    "colab": {
     "base_uri": "https://localhost:8080/",
     "height": 205
    },
    "id": "sWNVyX83KG3A",
    "outputId": "a2c2b7aa-3e0e-40ae-e5e0-5d26a63ecaff"
   },
   "outputs": [
    {
     "data": {
      "text/html": [
       "<pre style=\"white-space:pre;overflow-x:auto;line-height:normal;font-family:Menlo,'DejaVu Sans Mono',consolas,'Courier New',monospace\"><span style=\"color: #800080; text-decoration-color: #800080; font-weight: bold\">ChatPromptValue</span><span style=\"font-weight: bold\">(</span>\n",
       "    <span style=\"color: #808000; text-decoration-color: #808000\">messages</span>=<span style=\"font-weight: bold\">[</span>\n",
       "        <span style=\"color: #800080; text-decoration-color: #800080; font-weight: bold\">HumanMessage</span><span style=\"font-weight: bold\">(</span><span style=\"color: #808000; text-decoration-color: #808000\">content</span>=<span style=\"color: #008000; text-decoration-color: #008000\">'請模仿豐川祥子講話'</span><span style=\"font-weight: bold\">)</span>,\n",
       "        <span style=\"color: #800080; text-decoration-color: #800080; font-weight: bold\">AIMessage</span><span style=\"font-weight: bold\">(</span>\n",
       "            <span style=\"color: #808000; text-decoration-color: #808000\">content</span>=<span style=\"color: #008000; text-decoration-color: #008000\">'\\n真是會虛情假意呢\\n想演奏是你們的自由，你們就請便吧\\n到現在都還執著於過去，真難看\\n你也差不多</span>\n",
       "<span style=\"color: #008000; text-decoration-color: #008000\">該忘記了吧\\n那麼那個樂團算什麼\\n你講的話和做的事全都互相矛盾\\nCRYCHIC已經毀了\\n絕對不可能再復活了\\n我已經親手將它結</span>\n",
       "<span style=\"color: #008000; text-decoration-color: #008000\">束了\\n沒有人那樣拜托你\\n這是最後的警告\\n今後不要再和我扯上關係了\\n你是抱著多大的覺悟說出這種話的\\n你只不過是一個學</span>\n",
       "<span style=\"color: #008000; text-decoration-color: #008000\">生，有辦法背負其他人的人生嗎\\n“什麼都願意做”就是這麼沉重的話\\n做不來的事就別輕易說出口\\n你這個人，滿腦子都只想到自</span>\n",
       "<span style=\"color: #008000; text-decoration-color: #008000\">己呢\\n'</span>\n",
       "        <span style=\"font-weight: bold\">)</span>,\n",
       "        <span style=\"color: #800080; text-decoration-color: #800080; font-weight: bold\">HumanMessage</span><span style=\"font-weight: bold\">(</span><span style=\"color: #808000; text-decoration-color: #808000\">content</span>=<span style=\"color: #008000; text-decoration-color: #008000\">'用 20 個字總結我們迄今為止的對話'</span><span style=\"font-weight: bold\">)</span>\n",
       "    <span style=\"font-weight: bold\">]</span>\n",
       "<span style=\"font-weight: bold\">)</span>\n",
       "</pre>\n"
      ],
      "text/plain": [
       "\u001b[1;35mChatPromptValue\u001b[0m\u001b[1m(\u001b[0m\n",
       "    \u001b[33mmessages\u001b[0m=\u001b[1m[\u001b[0m\n",
       "        \u001b[1;35mHumanMessage\u001b[0m\u001b[1m(\u001b[0m\u001b[33mcontent\u001b[0m=\u001b[32m'請模仿豐川祥子講話'\u001b[0m\u001b[1m)\u001b[0m,\n",
       "        \u001b[1;35mAIMessage\u001b[0m\u001b[1m(\u001b[0m\n",
       "            \u001b[33mcontent\u001b[0m=\u001b[32m'\\n真是會虛情假意呢\\n想演奏是你們的自由，你們就請便吧\\n到現在都還執著於過去，真難看\\n你也差不多\u001b[0m\n",
       "\u001b[32m該忘記了吧\\n那麼那個樂團算什麼\\n你講的話和做的事全都互相矛盾\\nCRYCHIC已經毀了\\n絕對不可能再復活了\\n我已經親手將它結\u001b[0m\n",
       "\u001b[32m束了\\n沒有人那樣拜托你\\n這是最後的警告\\n今後不要再和我扯上關係了\\n你是抱著多大的覺悟說出這種話的\\n你只不過是一個學\u001b[0m\n",
       "\u001b[32m生，有辦法背負其他人的人生嗎\\n“什麼都願意做”就是這麼沉重的話\\n做不來的事就別輕易說出口\\n你這個人，滿腦子都只想到自\u001b[0m\n",
       "\u001b[32m己呢\\n'\u001b[0m\n",
       "        \u001b[1m)\u001b[0m,\n",
       "        \u001b[1;35mHumanMessage\u001b[0m\u001b[1m(\u001b[0m\u001b[33mcontent\u001b[0m=\u001b[32m'用 20 個字總結我們迄今為止的對話'\u001b[0m\u001b[1m)\u001b[0m\n",
       "    \u001b[1m]\u001b[0m\n",
       "\u001b[1m)\u001b[0m\n"
      ]
     },
     "metadata": {},
     "output_type": "display_data"
    }
   ],
   "source": [
    "human_message = HumanMessage(content=\"請模仿豐川祥子講話\")\n",
    "ai_message = AIMessage(content = text)\n",
    "new_chat_prompt = chat_prompt.format_prompt(conversation=[human_message, ai_message], word_count=\"20\")\n",
    "pprint(new_chat_prompt)"
   ]
  },
  {
   "cell_type": "markdown",
   "metadata": {},
   "source": [
    "看看LLM的回答"
   ]
  },
  {
   "cell_type": "code",
   "execution_count": 51,
   "metadata": {
    "colab": {
     "base_uri": "https://localhost:8080/"
    },
    "id": "fA0FQTwnJBtI",
    "outputId": "6e76852c-4f00-49e2-b15c-03aa9e039f3f"
   },
   "outputs": [
    {
     "name": "stdout",
     "output_type": "stream",
     "text": [
      "您請求我模仿豐川祥子的說話風格，我提供了符合其角色的對話範例。\n"
     ]
    }
   ],
   "source": [
    "print(chat_model.invoke(new_chat_prompt).content)"
   ]
  },
  {
   "cell_type": "markdown",
   "metadata": {
    "id": "VNXAYnWWJFBv"
   },
   "source": [
    "## 2-4 認識輸出內容解析器 (Output Parsers)"
   ]
  },
  {
   "cell_type": "markdown",
   "metadata": {
    "id": "o6XQwZNEJceQ"
   },
   "source": [
    "### 1. 輸出文字格式的回覆內容\n",
    "`StrOutputParser`是一個可以將LLM回傳物件的`content`內容取出的物件"
   ]
  },
  {
   "cell_type": "code",
   "execution_count": 52,
   "metadata": {
    "id": "V-43SNlnJI5x"
   },
   "outputs": [],
   "source": [
    "str_parser = StrOutputParser()"
   ]
  },
  {
   "cell_type": "code",
   "execution_count": 53,
   "metadata": {
    "colab": {
     "base_uri": "https://localhost:8080/"
    },
    "id": "zzmC4HNvJt-K",
    "outputId": "bb7b287e-51cc-406d-f2e9-7e8aab394239"
   },
   "outputs": [
    {
     "name": "stdout",
     "output_type": "stream",
     "text": [
      "message.content的輸出： 國家的名稱是台灣，首都是台北。\n",
      "使用StrOutputParser： 國家的名稱是台灣，首都是台北。\n"
     ]
    }
   ],
   "source": [
    "message = chat_model.invoke(\"請提供一個國家的名稱和首都, 使用台灣語言\")\n",
    "print(\"message.content的輸出：\", message.content)\n",
    "print(\"使用StrOutputParser：\", str_parser.invoke(message))"
   ]
  },
  {
   "cell_type": "markdown",
   "metadata": {
    "id": "0TOqAhc0Jfkh"
   },
   "source": [
    "### 2. 輸出 JSON 格式的內容\n",
    "使用`JsonOutputParser`物件將回傳值寫成json格式"
   ]
  },
  {
   "cell_type": "code",
   "execution_count": 54,
   "metadata": {
    "colab": {
     "base_uri": "https://localhost:8080/"
    },
    "id": "uHdZuO03Jxsa",
    "outputId": "cb5ed61c-90bd-4ec4-cca8-c23a1e732567"
   },
   "outputs": [
    {
     "name": "stdout",
     "output_type": "stream",
     "text": [
      "Return a JSON object.\n"
     ]
    }
   ],
   "source": [
    "json_parser = JsonOutputParser()\n",
    "format_instructions = json_parser.get_format_instructions()\n",
    "print(format_instructions)"
   ]
  },
  {
   "cell_type": "code",
   "execution_count": 55,
   "metadata": {
    "colab": {
     "base_uri": "https://localhost:8080/"
    },
    "id": "2JUbTkkvJzN5",
    "outputId": "c22c776c-3126-45d0-fa6e-1bf1e6667a8d"
   },
   "outputs": [
    {
     "name": "stdout",
     "output_type": "stream",
     "text": [
      "```json\n",
      "{\n",
      "  \"國家\": \"台灣\",\n",
      "  \"首都\": \"台北\"\n",
      "}\n",
      "```\n"
     ]
    }
   ],
   "source": [
    "message = chat_model.invoke(\"請提供一個國家的名稱和首都,\"\n",
    "                    f\"{format_instructions}, 使用台灣語言\")\n",
    "print(message.content)"
   ]
  },
  {
   "cell_type": "code",
   "execution_count": 56,
   "metadata": {
    "colab": {
     "base_uri": "https://localhost:8080/"
    },
    "id": "1qCS3Q1TJ0Si",
    "outputId": "875a5871-0f22-4f86-c530-4e21e1e013d5"
   },
   "outputs": [
    {
     "name": "stdout",
     "output_type": "stream",
     "text": [
      "{'國家': '台灣', '首都': '台北'}\n"
     ]
    }
   ],
   "source": [
    "json_output = json_parser.invoke(message)\n",
    "print(json_output)"
   ]
  },
  {
   "cell_type": "markdown",
   "metadata": {
    "id": "QLeOYW5uJ2y5"
   },
   "source": [
    "在一般的`PromptTemplate`中，可以直接在prompt指定回傳值的格式，LLM看得懂。"
   ]
  },
  {
   "cell_type": "code",
   "execution_count": 57,
   "metadata": {
    "id": "kGZIhCvHJ1pz"
   },
   "outputs": [],
   "source": [
    "prompt = PromptTemplate.from_template(\"請提供一個國家的名稱、首都和{feature}, {format_instructions}, 使用台灣語言\")\n",
    "prompt = prompt.partial(format_instructions=format_instructions)"
   ]
  },
  {
   "cell_type": "code",
   "execution_count": 58,
   "metadata": {
    "colab": {
     "base_uri": "https://localhost:8080/"
    },
    "id": "LRKgg02gJ4Lj",
    "outputId": "201b54c7-e6db-431f-ca18-994a84879dc4"
   },
   "outputs": [
    {
     "name": "stdout",
     "output_type": "stream",
     "text": [
      "```json\n",
      "{\n",
      "  \"國家\": \"台灣\",\n",
      "  \"首都\": \"台北\",\n",
      "  \"知名景點\": \"台北101\"\n",
      "}\n",
      "```\n"
     ]
    }
   ],
   "source": [
    "message = chat_model.invoke(prompt.invoke({\"feature\":\"知名景點\"}))\n",
    "print(message.content)"
   ]
  },
  {
   "cell_type": "markdown",
   "metadata": {},
   "source": [
    "不過考慮倒回傳值本身仍然是字串，還是得使用`JsonOutputParser`物件的`invoke`方法改成Python中的`dict`物件"
   ]
  },
  {
   "cell_type": "code",
   "execution_count": 59,
   "metadata": {
    "colab": {
     "base_uri": "https://localhost:8080/"
    },
    "id": "k6WaSqLoJ5bq",
    "outputId": "e1e712f3-fafe-4002-b910-4023e06cc982"
   },
   "outputs": [
    {
     "name": "stdout",
     "output_type": "stream",
     "text": [
      "{'國家': '台灣', '首都': '台北', '知名景點': '台北101'}\n",
      "<class 'dict'>\n"
     ]
    }
   ],
   "source": [
    "json_output = json_parser.invoke(message)\n",
    "print(json_output)\n",
    "print(type(json_output))"
   ]
  },
  {
   "cell_type": "markdown",
   "metadata": {
    "id": "DwTduaS1Jgl6"
   },
   "source": [
    "### 3. 輸出 CSV 格式的內容"
   ]
  },
  {
   "cell_type": "markdown",
   "metadata": {
    "id": "xMbM1biWJ-yr"
   },
   "source": [
    "使用`CommaSeparatedListOutputParser`物件可以將回傳字串以逗點分開形成list，這可以用來產生csv格式的輸出"
   ]
  },
  {
   "cell_type": "code",
   "execution_count": 60,
   "metadata": {
    "colab": {
     "base_uri": "https://localhost:8080/"
    },
    "id": "yYFxuTSrJ_2M",
    "outputId": "e1d0aaef-3e26-4614-97fd-c5b03b7ae5dc"
   },
   "outputs": [
    {
     "name": "stdout",
     "output_type": "stream",
     "text": [
      "Your response should be a list of comma separated values, eg: `foo, bar, baz` or `foo,bar,baz`\n"
     ]
    }
   ],
   "source": [
    "list_parser = CommaSeparatedListOutputParser()\n",
    "print(list_parser.get_format_instructions())"
   ]
  },
  {
   "cell_type": "code",
   "execution_count": 61,
   "metadata": {
    "colab": {
     "base_uri": "https://localhost:8080/"
    },
    "id": "hP-cKW1sKBSm",
    "outputId": "de74a510-44bd-4600-9f86-ac47ef959643"
   },
   "outputs": [
    {
     "name": "stdout",
     "output_type": "stream",
     "text": [
      "深海水族館,清水町海岸,沼津港,三津浜公園,沼津城址公園,千本松原,富士山ビュースポット\n"
     ]
    }
   ],
   "source": [
    "# 建立提示模板\n",
    "prompt = PromptTemplate.from_template(\"請說出{city}的知名景點\\n{instructions}\")\\\n",
    "                       .partial(instructions=list_parser.get_format_instructions())\n",
    "response = chat_model.invoke(prompt.format(city='沼津'))\n",
    "print(response.content)"
   ]
  },
  {
   "cell_type": "code",
   "execution_count": 62,
   "metadata": {
    "colab": {
     "base_uri": "https://localhost:8080/",
     "height": 225
    },
    "id": "qf_txMpIKF2F",
    "outputId": "6989a414-9f7a-4874-a656-c35dd50e78fe"
   },
   "outputs": [
    {
     "data": {
      "text/html": [
       "<pre style=\"white-space:pre;overflow-x:auto;line-height:normal;font-family:Menlo,'DejaVu Sans Mono',consolas,'Courier New',monospace\"><span style=\"font-weight: bold\">[</span><span style=\"color: #008000; text-decoration-color: #008000\">'深海水族館'</span>, <span style=\"color: #008000; text-decoration-color: #008000\">'清水町海岸'</span>, <span style=\"color: #008000; text-decoration-color: #008000\">'沼津港'</span>, <span style=\"color: #008000; text-decoration-color: #008000\">'三津浜公園'</span>, <span style=\"color: #008000; text-decoration-color: #008000\">'沼津城址公園'</span>, <span style=\"color: #008000; text-decoration-color: #008000\">'千本松原'</span>, <span style=\"color: #008000; text-decoration-color: #008000\">'富士山ビュースポット'</span><span style=\"font-weight: bold\">]</span>\n",
       "</pre>\n"
      ],
      "text/plain": [
       "\u001b[1m[\u001b[0m\u001b[32m'深海水族館'\u001b[0m, \u001b[32m'清水町海岸'\u001b[0m, \u001b[32m'沼津港'\u001b[0m, \u001b[32m'三津浜公園'\u001b[0m, \u001b[32m'沼津城址公園'\u001b[0m, \u001b[32m'千本松原'\u001b[0m, \u001b[32m'富士山ビュースポット'\u001b[0m\u001b[1m]\u001b[0m\n"
      ]
     },
     "metadata": {},
     "output_type": "display_data"
    }
   ],
   "source": [
    "pprint(list_parser.invoke(response))"
   ]
  },
  {
   "cell_type": "markdown",
   "metadata": {
    "id": "N1P-XEP5JjwI"
   },
   "source": [
    "### 4. 自訂輸出格式\n",
    "利用`langchain_core`模組中的`Pydantic`模組，可以自訂輸出的parser。用`BaseModel`類別可以指定parser的格式。比方說以下的例子，可以使output都以\n",
    "```\n",
    "{\n",
    "    \"destination\": ...\n",
    "    \"activities\": ...\n",
    "    \"budget\": ...\n",
    "    \"accommodation\": ...\n",
    "}\n",
    "```\n",
    "的格式輸出。宣告時，需要指定裡面每一個屬性的資料型態，並以`Field`說明（給LLM看）這個屬性是要什麼資訊"
   ]
  },
  {
   "cell_type": "code",
   "execution_count": 63,
   "metadata": {
    "id": "HlkHzynMKIz5"
   },
   "outputs": [],
   "source": [
    "class TravelPlan(BaseModel):\n",
    "    destination: str = Field(description=\"旅遊目的地, 如日本北海道\")\n",
    "    activities: List[str] = Field(description=\"推薦的活動\")\n",
    "    budget: float = Field(description=\"預算範圍,單位新台幣\")\n",
    "    accommodation: List[str] = Field(description=\"住宿選項\")"
   ]
  },
  {
   "cell_type": "code",
   "execution_count": 64,
   "metadata": {
    "colab": {
     "base_uri": "https://localhost:8080/",
     "height": 285
    },
    "id": "uzD1Otg_KKPb",
    "outputId": "1a482d17-8bd4-44d1-fa41-264d49a2b02e"
   },
   "outputs": [
    {
     "data": {
      "text/html": [
       "<pre style=\"white-space:pre;overflow-x:auto;line-height:normal;font-family:Menlo,'DejaVu Sans Mono',consolas,'Courier New',monospace\">The output should be formatted as a JSON instance that conforms to the JSON schema below.\n",
       "\n",
       "As an example, for the schema <span style=\"font-weight: bold\">{</span><span style=\"color: #008000; text-decoration-color: #008000\">\"properties\"</span>: <span style=\"font-weight: bold\">{</span><span style=\"color: #008000; text-decoration-color: #008000\">\"foo\"</span>: <span style=\"font-weight: bold\">{</span><span style=\"color: #008000; text-decoration-color: #008000\">\"title\"</span>: <span style=\"color: #008000; text-decoration-color: #008000\">\"Foo\"</span>, <span style=\"color: #008000; text-decoration-color: #008000\">\"description\"</span>: <span style=\"color: #008000; text-decoration-color: #008000\">\"a list of strings\"</span>, <span style=\"color: #008000; text-decoration-color: #008000\">\"type\"</span>: \n",
       "<span style=\"color: #008000; text-decoration-color: #008000\">\"array\"</span>, <span style=\"color: #008000; text-decoration-color: #008000\">\"items\"</span>: <span style=\"font-weight: bold\">{</span><span style=\"color: #008000; text-decoration-color: #008000\">\"type\"</span>: <span style=\"color: #008000; text-decoration-color: #008000\">\"string\"</span><span style=\"font-weight: bold\">}}}</span>, <span style=\"color: #008000; text-decoration-color: #008000\">\"required\"</span>: <span style=\"font-weight: bold\">[</span><span style=\"color: #008000; text-decoration-color: #008000\">\"foo\"</span><span style=\"font-weight: bold\">]}</span>\n",
       "the object <span style=\"font-weight: bold\">{</span><span style=\"color: #008000; text-decoration-color: #008000\">\"foo\"</span>: <span style=\"font-weight: bold\">[</span><span style=\"color: #008000; text-decoration-color: #008000\">\"bar\"</span>, <span style=\"color: #008000; text-decoration-color: #008000\">\"baz\"</span><span style=\"font-weight: bold\">]}</span> is a well-formatted instance of the schema. The object <span style=\"font-weight: bold\">{</span><span style=\"color: #008000; text-decoration-color: #008000\">\"properties\"</span>: <span style=\"font-weight: bold\">{</span><span style=\"color: #008000; text-decoration-color: #008000\">\"foo\"</span>: \n",
       "<span style=\"font-weight: bold\">[</span><span style=\"color: #008000; text-decoration-color: #008000\">\"bar\"</span>, <span style=\"color: #008000; text-decoration-color: #008000\">\"baz\"</span><span style=\"font-weight: bold\">]}}</span> is not well-formatted.\n",
       "\n",
       "Here is the output schema:\n",
       "```\n",
       "<span style=\"font-weight: bold\">{</span><span style=\"color: #008000; text-decoration-color: #008000\">\"properties\"</span>: <span style=\"font-weight: bold\">{</span><span style=\"color: #008000; text-decoration-color: #008000\">\"destination\"</span>: <span style=\"font-weight: bold\">{</span><span style=\"color: #008000; text-decoration-color: #008000\">\"title\"</span>: <span style=\"color: #008000; text-decoration-color: #008000\">\"Destination\"</span>, <span style=\"color: #008000; text-decoration-color: #008000\">\"description\"</span>: <span style=\"color: #008000; text-decoration-color: #008000\">\"\\u65c5\\u904a\\u76ee\\u7684\\u5730, </span>\n",
       "<span style=\"color: #008000; text-decoration-color: #008000\">\\u5982\\u65e5\\u672c\\u5317\\u6d77\\u9053\"</span>, <span style=\"color: #008000; text-decoration-color: #008000\">\"type\"</span>: <span style=\"color: #008000; text-decoration-color: #008000\">\"string\"</span><span style=\"font-weight: bold\">}</span>, <span style=\"color: #008000; text-decoration-color: #008000\">\"activities\"</span>: <span style=\"font-weight: bold\">{</span><span style=\"color: #008000; text-decoration-color: #008000\">\"title\"</span>: <span style=\"color: #008000; text-decoration-color: #008000\">\"Activities\"</span>, <span style=\"color: #008000; text-decoration-color: #008000\">\"description\"</span>: \n",
       "<span style=\"color: #008000; text-decoration-color: #008000\">\"\\u63a8\\u85a6\\u7684\\u6d3b\\u52d5\"</span>, <span style=\"color: #008000; text-decoration-color: #008000\">\"type\"</span>: <span style=\"color: #008000; text-decoration-color: #008000\">\"array\"</span>, <span style=\"color: #008000; text-decoration-color: #008000\">\"items\"</span>: <span style=\"font-weight: bold\">{</span><span style=\"color: #008000; text-decoration-color: #008000\">\"type\"</span>: <span style=\"color: #008000; text-decoration-color: #008000\">\"string\"</span><span style=\"font-weight: bold\">}}</span>, <span style=\"color: #008000; text-decoration-color: #008000\">\"budget\"</span>: <span style=\"font-weight: bold\">{</span><span style=\"color: #008000; text-decoration-color: #008000\">\"title\"</span>: <span style=\"color: #008000; text-decoration-color: #008000\">\"Budget\"</span>, \n",
       "<span style=\"color: #008000; text-decoration-color: #008000\">\"description\"</span>: <span style=\"color: #008000; text-decoration-color: #008000\">\"\\u9810\\u7b97\\u7bc4\\u570d,\\u55ae\\u4f4d\\u65b0\\u53f0\\u5e63\"</span>, <span style=\"color: #008000; text-decoration-color: #008000\">\"type\"</span>: <span style=\"color: #008000; text-decoration-color: #008000\">\"number\"</span><span style=\"font-weight: bold\">}</span>, <span style=\"color: #008000; text-decoration-color: #008000\">\"accommodation\"</span>: \n",
       "<span style=\"font-weight: bold\">{</span><span style=\"color: #008000; text-decoration-color: #008000\">\"title\"</span>: <span style=\"color: #008000; text-decoration-color: #008000\">\"Accommodation\"</span>, <span style=\"color: #008000; text-decoration-color: #008000\">\"description\"</span>: <span style=\"color: #008000; text-decoration-color: #008000\">\"\\u4f4f\\u5bbf\\u9078\\u9805\"</span>, <span style=\"color: #008000; text-decoration-color: #008000\">\"type\"</span>: <span style=\"color: #008000; text-decoration-color: #008000\">\"array\"</span>, <span style=\"color: #008000; text-decoration-color: #008000\">\"items\"</span>: <span style=\"font-weight: bold\">{</span><span style=\"color: #008000; text-decoration-color: #008000\">\"type\"</span>: \n",
       "<span style=\"color: #008000; text-decoration-color: #008000\">\"string\"</span><span style=\"font-weight: bold\">}}}</span>, <span style=\"color: #008000; text-decoration-color: #008000\">\"required\"</span>: <span style=\"font-weight: bold\">[</span><span style=\"color: #008000; text-decoration-color: #008000\">\"destination\"</span>, <span style=\"color: #008000; text-decoration-color: #008000\">\"activities\"</span>, <span style=\"color: #008000; text-decoration-color: #008000\">\"budget\"</span>, <span style=\"color: #008000; text-decoration-color: #008000\">\"accommodation\"</span><span style=\"font-weight: bold\">]}</span>\n",
       "```\n",
       "</pre>\n"
      ],
      "text/plain": [
       "The output should be formatted as a JSON instance that conforms to the JSON schema below.\n",
       "\n",
       "As an example, for the schema \u001b[1m{\u001b[0m\u001b[32m\"properties\"\u001b[0m: \u001b[1m{\u001b[0m\u001b[32m\"foo\"\u001b[0m: \u001b[1m{\u001b[0m\u001b[32m\"title\"\u001b[0m: \u001b[32m\"Foo\"\u001b[0m, \u001b[32m\"description\"\u001b[0m: \u001b[32m\"a list of strings\"\u001b[0m, \u001b[32m\"type\"\u001b[0m: \n",
       "\u001b[32m\"array\"\u001b[0m, \u001b[32m\"items\"\u001b[0m: \u001b[1m{\u001b[0m\u001b[32m\"type\"\u001b[0m: \u001b[32m\"string\"\u001b[0m\u001b[1m}\u001b[0m\u001b[1m}\u001b[0m\u001b[1m}\u001b[0m, \u001b[32m\"required\"\u001b[0m: \u001b[1m[\u001b[0m\u001b[32m\"foo\"\u001b[0m\u001b[1m]\u001b[0m\u001b[1m}\u001b[0m\n",
       "the object \u001b[1m{\u001b[0m\u001b[32m\"foo\"\u001b[0m: \u001b[1m[\u001b[0m\u001b[32m\"bar\"\u001b[0m, \u001b[32m\"baz\"\u001b[0m\u001b[1m]\u001b[0m\u001b[1m}\u001b[0m is a well-formatted instance of the schema. The object \u001b[1m{\u001b[0m\u001b[32m\"properties\"\u001b[0m: \u001b[1m{\u001b[0m\u001b[32m\"foo\"\u001b[0m: \n",
       "\u001b[1m[\u001b[0m\u001b[32m\"bar\"\u001b[0m, \u001b[32m\"baz\"\u001b[0m\u001b[1m]\u001b[0m\u001b[1m}\u001b[0m\u001b[1m}\u001b[0m is not well-formatted.\n",
       "\n",
       "Here is the output schema:\n",
       "```\n",
       "\u001b[1m{\u001b[0m\u001b[32m\"properties\"\u001b[0m: \u001b[1m{\u001b[0m\u001b[32m\"destination\"\u001b[0m: \u001b[1m{\u001b[0m\u001b[32m\"title\"\u001b[0m: \u001b[32m\"Destination\"\u001b[0m, \u001b[32m\"description\"\u001b[0m: \u001b[32m\"\\u65c5\\u904a\\u76ee\\u7684\\u5730, \u001b[0m\n",
       "\u001b[32m\\u5982\\u65e5\\u672c\\u5317\\u6d77\\u9053\"\u001b[0m, \u001b[32m\"type\"\u001b[0m: \u001b[32m\"string\"\u001b[0m\u001b[1m}\u001b[0m, \u001b[32m\"activities\"\u001b[0m: \u001b[1m{\u001b[0m\u001b[32m\"title\"\u001b[0m: \u001b[32m\"Activities\"\u001b[0m, \u001b[32m\"description\"\u001b[0m: \n",
       "\u001b[32m\"\\u63a8\\u85a6\\u7684\\u6d3b\\u52d5\"\u001b[0m, \u001b[32m\"type\"\u001b[0m: \u001b[32m\"array\"\u001b[0m, \u001b[32m\"items\"\u001b[0m: \u001b[1m{\u001b[0m\u001b[32m\"type\"\u001b[0m: \u001b[32m\"string\"\u001b[0m\u001b[1m}\u001b[0m\u001b[1m}\u001b[0m, \u001b[32m\"budget\"\u001b[0m: \u001b[1m{\u001b[0m\u001b[32m\"title\"\u001b[0m: \u001b[32m\"Budget\"\u001b[0m, \n",
       "\u001b[32m\"description\"\u001b[0m: \u001b[32m\"\\u9810\\u7b97\\u7bc4\\u570d,\\u55ae\\u4f4d\\u65b0\\u53f0\\u5e63\"\u001b[0m, \u001b[32m\"type\"\u001b[0m: \u001b[32m\"number\"\u001b[0m\u001b[1m}\u001b[0m, \u001b[32m\"accommodation\"\u001b[0m: \n",
       "\u001b[1m{\u001b[0m\u001b[32m\"title\"\u001b[0m: \u001b[32m\"Accommodation\"\u001b[0m, \u001b[32m\"description\"\u001b[0m: \u001b[32m\"\\u4f4f\\u5bbf\\u9078\\u9805\"\u001b[0m, \u001b[32m\"type\"\u001b[0m: \u001b[32m\"array\"\u001b[0m, \u001b[32m\"items\"\u001b[0m: \u001b[1m{\u001b[0m\u001b[32m\"type\"\u001b[0m: \n",
       "\u001b[32m\"string\"\u001b[0m\u001b[1m}\u001b[0m\u001b[1m}\u001b[0m\u001b[1m}\u001b[0m, \u001b[32m\"required\"\u001b[0m: \u001b[1m[\u001b[0m\u001b[32m\"destination\"\u001b[0m, \u001b[32m\"activities\"\u001b[0m, \u001b[32m\"budget\"\u001b[0m, \u001b[32m\"accommodation\"\u001b[0m\u001b[1m]\u001b[0m\u001b[1m}\u001b[0m\n",
       "```\n"
      ]
     },
     "metadata": {},
     "output_type": "display_data"
    }
   ],
   "source": [
    "parser = PydanticOutputParser(pydantic_object=TravelPlan)\n",
    "format_instructions = parser.get_format_instructions()\n",
    "pprint(format_instructions)"
   ]
  },
  {
   "cell_type": "markdown",
   "metadata": {},
   "source": [
    "在prompt中包含進這個格式的說明"
   ]
  },
  {
   "cell_type": "code",
   "execution_count": 65,
   "metadata": {
    "id": "IF3mD0KMKMTy"
   },
   "outputs": [],
   "source": [
    "prompt = ChatPromptTemplate.from_messages([(\"system\",\"使用繁體中文並根據使用者要求推薦出適合的旅遊計劃, {format_instructions}\"),\n",
    "                                           (\"human\",\"{query}\")])\n",
    "new_prompt = prompt.partial(format_instructions=format_instructions)"
   ]
  },
  {
   "cell_type": "code",
   "execution_count": 66,
   "metadata": {
    "colab": {
     "base_uri": "https://localhost:8080/",
     "height": 239
    },
    "id": "EwFIW210KNx_",
    "outputId": "06ec6649-4614-4eed-b43c-2e8a512fcd8c"
   },
   "outputs": [
    {
     "data": {
      "text/html": [
       "<pre style=\"white-space:pre;overflow-x:auto;line-height:normal;font-family:Menlo,'DejaVu Sans Mono',consolas,'Courier New',monospace\"><span style=\"font-weight: bold\">{</span>\n",
       "  <span style=\"color: #008000; text-decoration-color: #008000\">\"destination\"</span>: <span style=\"color: #008000; text-decoration-color: #008000\">\"沼津\"</span>,\n",
       "  <span style=\"color: #008000; text-decoration-color: #008000\">\"activities\"</span>: <span style=\"font-weight: bold\">[</span>\n",
       "    <span style=\"color: #008000; text-decoration-color: #008000\">\"參觀沼津港深海水族館\"</span>,\n",
       "    <span style=\"color: #008000; text-decoration-color: #008000\">\"漫步於三津浜海灘\"</span>,\n",
       "    <span style=\"color: #008000; text-decoration-color: #008000\">\"享受當地海鮮市場\"</span>,\n",
       "    <span style=\"color: #008000; text-decoration-color: #008000\">\"探訪沼津皇家別墅公園\"</span>\n",
       "  <span style=\"font-weight: bold\">]</span>,\n",
       "  <span style=\"color: #008000; text-decoration-color: #008000\">\"budget\"</span>: <span style=\"color: #008080; text-decoration-color: #008080; font-weight: bold\">15000</span>,\n",
       "  <span style=\"color: #008000; text-decoration-color: #008000\">\"accommodation\"</span>: <span style=\"font-weight: bold\">[</span>\n",
       "    <span style=\"color: #008000; text-decoration-color: #008000\">\"沼津港觀光酒店\"</span>,\n",
       "    <span style=\"color: #008000; text-decoration-color: #008000\">\"沼津市中心商業酒店\"</span>\n",
       "  <span style=\"font-weight: bold\">]</span>\n",
       "<span style=\"font-weight: bold\">}</span>\n",
       "</pre>\n"
      ],
      "text/plain": [
       "\u001b[1m{\u001b[0m\n",
       "  \u001b[32m\"destination\"\u001b[0m: \u001b[32m\"沼津\"\u001b[0m,\n",
       "  \u001b[32m\"activities\"\u001b[0m: \u001b[1m[\u001b[0m\n",
       "    \u001b[32m\"參觀沼津港深海水族館\"\u001b[0m,\n",
       "    \u001b[32m\"漫步於三津浜海灘\"\u001b[0m,\n",
       "    \u001b[32m\"享受當地海鮮市場\"\u001b[0m,\n",
       "    \u001b[32m\"探訪沼津皇家別墅公園\"\u001b[0m\n",
       "  \u001b[1m]\u001b[0m,\n",
       "  \u001b[32m\"budget\"\u001b[0m: \u001b[1;36m15000\u001b[0m,\n",
       "  \u001b[32m\"accommodation\"\u001b[0m: \u001b[1m[\u001b[0m\n",
       "    \u001b[32m\"沼津港觀光酒店\"\u001b[0m,\n",
       "    \u001b[32m\"沼津市中心商業酒店\"\u001b[0m\n",
       "  \u001b[1m]\u001b[0m\n",
       "\u001b[1m}\u001b[0m\n"
      ]
     },
     "metadata": {},
     "output_type": "display_data"
    }
   ],
   "source": [
    "user_query = \"請幫我安排一個沼津旅遊計畫\"\n",
    "user_prompt = new_prompt.invoke({\"query\": user_query})\n",
    "response = chat_model.invoke(user_prompt)\n",
    "pprint(response.content)"
   ]
  },
  {
   "cell_type": "markdown",
   "metadata": {},
   "source": [
    "使用`invoke`方法將輸出改成`TravelPlan`物件"
   ]
  },
  {
   "cell_type": "code",
   "execution_count": 67,
   "metadata": {
    "colab": {
     "base_uri": "https://localhost:8080/",
     "height": 120
    },
    "id": "22384OVbKPP7",
    "outputId": "25d9a735-8b31-49eb-db71-6d6b83938fd3"
   },
   "outputs": [
    {
     "data": {
      "text/html": [
       "<pre style=\"white-space:pre;overflow-x:auto;line-height:normal;font-family:Menlo,'DejaVu Sans Mono',consolas,'Courier New',monospace\"><span style=\"color: #800080; text-decoration-color: #800080; font-weight: bold\">TravelPlan</span><span style=\"font-weight: bold\">(</span>\n",
       "    <span style=\"color: #808000; text-decoration-color: #808000\">destination</span>=<span style=\"color: #008000; text-decoration-color: #008000\">'沼津'</span>,\n",
       "    <span style=\"color: #808000; text-decoration-color: #808000\">activities</span>=<span style=\"font-weight: bold\">[</span><span style=\"color: #008000; text-decoration-color: #008000\">'參觀沼津港深海水族館'</span>, <span style=\"color: #008000; text-decoration-color: #008000\">'漫步於三津浜海灘'</span>, <span style=\"color: #008000; text-decoration-color: #008000\">'享受當地海鮮市場'</span>, <span style=\"color: #008000; text-decoration-color: #008000\">'探訪沼津皇家別墅公園'</span><span style=\"font-weight: bold\">]</span>,\n",
       "    <span style=\"color: #808000; text-decoration-color: #808000\">budget</span>=<span style=\"color: #008080; text-decoration-color: #008080; font-weight: bold\">15000.0</span>,\n",
       "    <span style=\"color: #808000; text-decoration-color: #808000\">accommodation</span>=<span style=\"font-weight: bold\">[</span><span style=\"color: #008000; text-decoration-color: #008000\">'沼津港觀光酒店'</span>, <span style=\"color: #008000; text-decoration-color: #008000\">'沼津市中心商業酒店'</span><span style=\"font-weight: bold\">]</span>\n",
       "<span style=\"font-weight: bold\">)</span>\n",
       "</pre>\n"
      ],
      "text/plain": [
       "\u001b[1;35mTravelPlan\u001b[0m\u001b[1m(\u001b[0m\n",
       "    \u001b[33mdestination\u001b[0m=\u001b[32m'沼津'\u001b[0m,\n",
       "    \u001b[33mactivities\u001b[0m=\u001b[1m[\u001b[0m\u001b[32m'參觀沼津港深海水族館'\u001b[0m, \u001b[32m'漫步於三津浜海灘'\u001b[0m, \u001b[32m'享受當地海鮮市場'\u001b[0m, \u001b[32m'探訪沼津皇家別墅公園'\u001b[0m\u001b[1m]\u001b[0m,\n",
       "    \u001b[33mbudget\u001b[0m=\u001b[1;36m15000\u001b[0m\u001b[1;36m.0\u001b[0m,\n",
       "    \u001b[33maccommodation\u001b[0m=\u001b[1m[\u001b[0m\u001b[32m'沼津港觀光酒店'\u001b[0m, \u001b[32m'沼津市中心商業酒店'\u001b[0m\u001b[1m]\u001b[0m\n",
       "\u001b[1m)\u001b[0m\n"
      ]
     },
     "metadata": {},
     "output_type": "display_data"
    },
    {
     "name": "stdout",
     "output_type": "stream",
     "text": [
      "<class '__main__.TravelPlan'>\n"
     ]
    }
   ],
   "source": [
    "parser_output = parser.invoke(response)\n",
    "pprint(parser_output)\n",
    "print(type(parser_output))"
   ]
  },
  {
   "cell_type": "markdown",
   "metadata": {
    "id": "aXoDPFzDJmDW"
   },
   "source": [
    "### 5. 結構化輸出格式\n",
    "將LLM的回答轉為key-value（Python的字典）也可以用`ResponseSchema`和`StructuredOutputParser`達成。方法是先使用`ResponseSchema`指定輸出格式，再依此建立`StructuredOutputParser`物件。"
   ]
  },
  {
   "cell_type": "code",
   "execution_count": 68,
   "metadata": {
    "colab": {
     "base_uri": "https://localhost:8080/",
     "height": 186
    },
    "id": "fqN7uu5MKSJ5",
    "outputId": "1f49432d-1f84-4ff6-a4d7-efa86303a9a0"
   },
   "outputs": [
    {
     "data": {
      "text/html": [
       "<pre style=\"white-space:pre;overflow-x:auto;line-height:normal;font-family:Menlo,'DejaVu Sans Mono',consolas,'Courier New',monospace\">The output should be a markdown code snippet formatted in the following schema, including the leading and trailing \n",
       "<span style=\"color: #008000; text-decoration-color: #008000\">\"```json\"</span> and <span style=\"color: #008000; text-decoration-color: #008000\">\"```\"</span>:\n",
       "\n",
       "```json\n",
       "<span style=\"font-weight: bold\">{</span>\n",
       "        <span style=\"color: #008000; text-decoration-color: #008000\">\"country_data\"</span>: string  <span style=\"color: #800080; text-decoration-color: #800080\">//</span> 請提供包含國家的首都和知名景點的 JSON 物件\n",
       "        <span style=\"color: #008000; text-decoration-color: #008000\">\"source\"</span>: list  <span style=\"color: #800080; text-decoration-color: #800080\">//</span> 回答答案的根據來源, 例如：來源網站網址\n",
       "        <span style=\"color: #008000; text-decoration-color: #008000\">\"time\"</span>: YYYY-MM-DD  <span style=\"color: #800080; text-decoration-color: #800080\">//</span> 國家建國的時間\n",
       "<span style=\"font-weight: bold\">}</span>\n",
       "```\n",
       "</pre>\n"
      ],
      "text/plain": [
       "The output should be a markdown code snippet formatted in the following schema, including the leading and trailing \n",
       "\u001b[32m\"```json\"\u001b[0m and \u001b[32m\"```\"\u001b[0m:\n",
       "\n",
       "```json\n",
       "\u001b[1m{\u001b[0m\n",
       "        \u001b[32m\"country_data\"\u001b[0m: string  \u001b[35m/\u001b[0m\u001b[35m/\u001b[0m 請提供包含國家的首都和知名景點的 JSON 物件\n",
       "        \u001b[32m\"source\"\u001b[0m: list  \u001b[35m/\u001b[0m\u001b[35m/\u001b[0m 回答答案的根據來源, 例如：來源網站網址\n",
       "        \u001b[32m\"time\"\u001b[0m: YYYY-MM-DD  \u001b[35m/\u001b[0m\u001b[35m/\u001b[0m 國家建國的時間\n",
       "\u001b[1m}\u001b[0m\n",
       "```\n"
      ]
     },
     "metadata": {},
     "output_type": "display_data"
    }
   ],
   "source": [
    "response_schemas = [ResponseSchema(name=\"country_data\", \n",
    "                                   description=\"請提供包含國家的首都和知名景點的 JSON 物件\"),\n",
    "                    ResponseSchema(name=\"source\",\n",
    "                                   description=\"回答答案的根據來源, 例如：來源網站網址\",\n",
    "                                   type=\"list\"),\n",
    "                    ResponseSchema(name=\"time\",\n",
    "                                   description=\"國家建國的時間\",\n",
    "                                   type=\"YYYY-MM-DD\")]\n",
    "output_parser = StructuredOutputParser(response_schemas=response_schemas)\n",
    "pprint(output_parser.get_format_instructions())"
   ]
  },
  {
   "cell_type": "markdown",
   "metadata": {},
   "source": [
    "傳入LLM的方法跟之前一樣"
   ]
  },
  {
   "cell_type": "code",
   "execution_count": 69,
   "metadata": {
    "id": "lIHJ6yboKSyC"
   },
   "outputs": [],
   "source": [
    "format_instructions = output_parser.get_format_instructions()\n",
    "prompt = ChatPromptTemplate.from_messages([(\"system\",\"使用台灣語言並回答問題,{format_instructions}\"),\n",
    "                                           (\"human\",\"{question}\")])\n",
    "prompt = prompt.partial(format_instructions=format_instructions)"
   ]
  },
  {
   "cell_type": "code",
   "execution_count": 70,
   "metadata": {
    "colab": {
     "base_uri": "https://localhost:8080/",
     "height": 102
    },
    "id": "QPZuZsfaKVEr",
    "outputId": "e2dd925e-2ba6-4bf6-80e2-58c116ae46b4"
   },
   "outputs": [
    {
     "data": {
      "text/html": [
       "<pre style=\"white-space:pre;overflow-x:auto;line-height:normal;font-family:Menlo,'DejaVu Sans Mono',consolas,'Courier New',monospace\"><span style=\"font-weight: bold\">{</span>\n",
       "    <span style=\"color: #008000; text-decoration-color: #008000\">'country_data'</span>: <span style=\"font-weight: bold\">{</span><span style=\"color: #008000; text-decoration-color: #008000\">'首都'</span>: <span style=\"color: #008000; text-decoration-color: #008000\">'台北'</span>, <span style=\"color: #008000; text-decoration-color: #008000\">'知名景點'</span>: <span style=\"font-weight: bold\">[</span><span style=\"color: #008000; text-decoration-color: #008000\">'台北101'</span>, <span style=\"color: #008000; text-decoration-color: #008000\">'國立故宮博物院'</span>, <span style=\"color: #008000; text-decoration-color: #008000\">'日月潭'</span><span style=\"font-weight: bold\">]}</span>,\n",
       "    <span style=\"color: #008000; text-decoration-color: #008000\">'source'</span>: <span style=\"font-weight: bold\">[</span><span style=\"color: #008000; text-decoration-color: #008000\">'https://zh.wikipedia.org/wiki/%E5%8F%B0%E7%81%A3'</span><span style=\"font-weight: bold\">]</span>,\n",
       "    <span style=\"color: #008000; text-decoration-color: #008000\">'time'</span>: <span style=\"color: #008000; text-decoration-color: #008000\">'1912-01-01'</span>\n",
       "<span style=\"font-weight: bold\">}</span>\n",
       "</pre>\n"
      ],
      "text/plain": [
       "\u001b[1m{\u001b[0m\n",
       "    \u001b[32m'country_data'\u001b[0m: \u001b[1m{\u001b[0m\u001b[32m'首都'\u001b[0m: \u001b[32m'台北'\u001b[0m, \u001b[32m'知名景點'\u001b[0m: \u001b[1m[\u001b[0m\u001b[32m'台北101'\u001b[0m, \u001b[32m'國立故宮博物院'\u001b[0m, \u001b[32m'日月潭'\u001b[0m\u001b[1m]\u001b[0m\u001b[1m}\u001b[0m,\n",
       "    \u001b[32m'source'\u001b[0m: \u001b[1m[\u001b[0m\u001b[32m'https://zh.wikipedia.org/wiki/%E5%8F%B0%E7%81%A3'\u001b[0m\u001b[1m]\u001b[0m,\n",
       "    \u001b[32m'time'\u001b[0m: \u001b[32m'1912-01-01'\u001b[0m\n",
       "\u001b[1m}\u001b[0m\n"
      ]
     },
     "metadata": {},
     "output_type": "display_data"
    }
   ],
   "source": [
    "response = chat_model.invoke(prompt.format(question=\"台灣\"))\n",
    "pprint(output_parser.invoke(response))"
   ]
  },
  {
   "cell_type": "markdown",
   "metadata": {},
   "source": [
    "既然是字典當然可以用key去查詢value"
   ]
  },
  {
   "cell_type": "code",
   "execution_count": 71,
   "metadata": {
    "colab": {
     "base_uri": "https://localhost:8080/",
     "height": 34
    },
    "id": "ge8n1MDQKWeh",
    "outputId": "349240ef-0bb3-4f3a-a10b-35281febc73b"
   },
   "outputs": [
    {
     "data": {
      "text/html": [
       "<pre style=\"white-space:pre;overflow-x:auto;line-height:normal;font-family:Menlo,'DejaVu Sans Mono',consolas,'Courier New',monospace\"><span style=\"font-weight: bold\">{</span><span style=\"color: #008000; text-decoration-color: #008000\">'首都'</span>: <span style=\"color: #008000; text-decoration-color: #008000\">'台北'</span>, <span style=\"color: #008000; text-decoration-color: #008000\">'知名景點'</span>: <span style=\"font-weight: bold\">[</span><span style=\"color: #008000; text-decoration-color: #008000\">'台北101'</span>, <span style=\"color: #008000; text-decoration-color: #008000\">'國立故宮博物院'</span>, <span style=\"color: #008000; text-decoration-color: #008000\">'日月潭'</span><span style=\"font-weight: bold\">]}</span>\n",
       "</pre>\n"
      ],
      "text/plain": [
       "\u001b[1m{\u001b[0m\u001b[32m'首都'\u001b[0m: \u001b[32m'台北'\u001b[0m, \u001b[32m'知名景點'\u001b[0m: \u001b[1m[\u001b[0m\u001b[32m'台北101'\u001b[0m, \u001b[32m'國立故宮博物院'\u001b[0m, \u001b[32m'日月潭'\u001b[0m\u001b[1m]\u001b[0m\u001b[1m}\u001b[0m\n"
      ]
     },
     "metadata": {},
     "output_type": "display_data"
    }
   ],
   "source": [
    "pprint(output_parser.invoke(response)['country_data'])"
   ]
  }
 ],
 "metadata": {
  "colab": {
   "provenance": []
  },
  "kernelspec": {
   "display_name": "Python 3 (ipykernel)",
   "language": "python",
   "name": "python3"
  },
  "language_info": {
   "codemirror_mode": {
    "name": "ipython",
    "version": 3
   },
   "file_extension": ".py",
   "mimetype": "text/x-python",
   "name": "python",
   "nbconvert_exporter": "python",
   "pygments_lexer": "ipython3",
   "version": "3.12.3"
  }
 },
 "nbformat": 4,
 "nbformat_minor": 4
}
